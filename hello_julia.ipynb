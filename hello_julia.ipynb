{
 "cells": [
  {
   "cell_type": "markdown",
   "metadata": {},
   "source": [
    "# Learning Julia\n",
    "\n",
    "This is me, thinking out loud, after/while watching a few Julia videos.\n",
    "\n",
    "Julia looks a lot like Python. In fact, there might be a competition somewhere about who can write the longest program executable in both languages. Nah, a few colons and details might give it away though."
   ]
  },
  {
   "cell_type": "markdown",
   "metadata": {},
   "source": [
    "Before we get going, we need to install some stuff. Not a lot of fun, but we have to do it sooner or later. Funnily enough, there is a package for installing packages. Luckily, this comes pre-installed so we can just load it using the `using` keyword. Very similar to Python's `import`, but a different word because... cool."
   ]
  },
  {
   "cell_type": "code",
   "execution_count": 1,
   "metadata": {},
   "outputs": [],
   "source": [
    "using Pkg"
   ]
  },
  {
   "cell_type": "markdown",
   "metadata": {},
   "source": [
    "So far so good. We'll get back to what these packages are, so far it's just some fairly random stuff I picked up in the videos."
   ]
  },
  {
   "cell_type": "code",
   "execution_count": 2,
   "metadata": {},
   "outputs": [
    {
     "name": "stderr",
     "output_type": "stream",
     "text": [
      "\u001b[32m\u001b[1m   Updating\u001b[22m\u001b[39m registry at `/opt/julia/registries/General`\n"
     ]
    },
    {
     "name": "stdout",
     "output_type": "stream",
     "text": [
      "\u001b[?25l    "
     ]
    },
    {
     "name": "stderr",
     "output_type": "stream",
     "text": [
      "\u001b[32m\u001b[1m   Updating\u001b[22m\u001b[39m git-repo `https://github.com/JuliaRegistries/General.git`\n"
     ]
    },
    {
     "name": "stdout",
     "output_type": "stream",
     "text": [
      "\u001b[36m\u001b[1mFetching:\u001b[22m\u001b[39m [>                                        ]  0.0 %\r",
      "    \u001b[36m\u001b[1mFetching:\u001b[22m\u001b[39m [=>                                       ]  0.3 %\r",
      "    \u001b[36m\u001b[1mFetching:\u001b[22m\u001b[39m [=>                                       ]  0.5 %\r",
      "    \u001b[36m\u001b[1mFetching:\u001b[22m\u001b[39m [=>                                       ]  0.8 %\r",
      "    \u001b[36m\u001b[1mFetching:\u001b[22m\u001b[39m [=>                                       ]  1.0 %\r",
      "    \u001b[36m\u001b[1mFetching:\u001b[22m\u001b[39m [=>                                       ]  1.3 %\r",
      "    \u001b[36m\u001b[1mFetching:\u001b[22m\u001b[39m [=>                                       ]  1.5 %\r",
      "    \u001b[36m\u001b[1mFetching:\u001b[22m\u001b[39m [=>                                       ]  1.8 %\r",
      "    \u001b[36m\u001b[1mFetching:\u001b[22m\u001b[39m [=>                                       ]  2.0 %\r",
      "    \u001b[36m\u001b[1mFetching:\u001b[22m\u001b[39m [=>                                       ]  2.3 %\r",
      "    \u001b[36m\u001b[1mFetching:\u001b[22m\u001b[39m [==>                                      ]  2.5 %\r",
      "    \u001b[36m\u001b[1mFetching:\u001b[22m\u001b[39m [==>                                      ]  2.8 %\r",
      "    \u001b[36m\u001b[1mFetching:\u001b[22m\u001b[39m [==>                                      ]  3.0 %\r",
      "    \u001b[36m\u001b[1mFetching:\u001b[22m\u001b[39m [==>                                      ]  3.3 %\r",
      "    \u001b[36m\u001b[1mFetching:\u001b[22m\u001b[39m [==>                                      ]  3.5 %\r",
      "    \u001b[36m\u001b[1mFetching:\u001b[22m\u001b[39m [==>                                      ]  3.8 %\r",
      "    \u001b[36m\u001b[1mFetching:\u001b[22m\u001b[39m [==>                                      ]  4.0 %\r",
      "    \u001b[36m\u001b[1mFetching:\u001b[22m\u001b[39m [==>                                      ]  4.3 %\r",
      "    \u001b[36m\u001b[1mFetching:\u001b[22m\u001b[39m [==>                                      ]  4.5 %\r",
      "    \u001b[36m\u001b[1mFetching:\u001b[22m\u001b[39m [==>                                      ]  4.8 %\r",
      "    \u001b[36m\u001b[1mFetching:\u001b[22m\u001b[39m [===>                                     ]  5.0 %\r",
      "    \u001b[36m\u001b[1mFetching:\u001b[22m\u001b[39m [===>                                     ]  5.3 %\r",
      "    \u001b[36m\u001b[1mFetching:\u001b[22m\u001b[39m [===>                                     ]  5.5 %\r",
      "    \u001b[36m\u001b[1mFetching:\u001b[22m\u001b[39m [===>                                     ]  5.8 %\r",
      "    \u001b[36m\u001b[1mFetching:\u001b[22m\u001b[39m [===>                                     ]  6.0 %\r",
      "    \u001b[36m\u001b[1mFetching:\u001b[22m\u001b[39m [===>                                     ]  6.3 %\r",
      "    \u001b[36m\u001b[1mFetching:\u001b[22m\u001b[39m [===>                                     ]  6.5 %\r",
      "    \u001b[36m\u001b[1mFetching:\u001b[22m\u001b[39m [===>                                     ]  6.8 %\r",
      "    \u001b[36m\u001b[1mFetching:\u001b[22m\u001b[39m [===>                                     ]  7.0 %\r",
      "    \u001b[36m\u001b[1mFetching:\u001b[22m\u001b[39m [===>                                     ]  7.3 %\r",
      "    \u001b[36m\u001b[1mFetching:\u001b[22m\u001b[39m [====>                                    ]  7.5 %\r",
      "    \u001b[36m\u001b[1mFetching:\u001b[22m\u001b[39m [====>                                    ]  7.8 %\r",
      "    \u001b[36m\u001b[1mFetching:\u001b[22m\u001b[39m [====>                                    ]  8.0 %\r",
      "    \u001b[36m\u001b[1mFetching:\u001b[22m\u001b[39m [====>                                    ]  8.3 %\r",
      "    \u001b[36m\u001b[1mFetching:\u001b[22m\u001b[39m [====>                                    ]  8.5 %\r",
      "    \u001b[36m\u001b[1mFetching:\u001b[22m\u001b[39m [====>                                    ]  8.8 %\r",
      "    \u001b[36m\u001b[1mFetching:\u001b[22m\u001b[39m [====>                                    ]  9.0 %\r",
      "    \u001b[36m\u001b[1mFetching:\u001b[22m\u001b[39m [====>                                    ]  9.3 %\r",
      "    \u001b[36m\u001b[1mFetching:\u001b[22m\u001b[39m [====>                                    ]  9.5 %\r",
      "    \u001b[36m\u001b[1mFetching:\u001b[22m\u001b[39m [====>                                    ]  9.8 %\r",
      "    \u001b[36m\u001b[1mFetching:\u001b[22m\u001b[39m [=====>                                   ]  10.0 %\r",
      "    \u001b[36m\u001b[1mFetching:\u001b[22m\u001b[39m [=====>                                   ]  10.3 %\r",
      "    \u001b[36m\u001b[1mFetching:\u001b[22m\u001b[39m [=====>                                   ]  10.5 %\r",
      "    \u001b[36m\u001b[1mFetching:\u001b[22m\u001b[39m [=====>                                   ]  10.8 %\r",
      "    \u001b[36m\u001b[1mFetching:\u001b[22m\u001b[39m [=====>                                   ]  11.0 %\r",
      "    \u001b[36m\u001b[1mFetching:\u001b[22m\u001b[39m [=====>                                   ]  11.3 %\r",
      "    \u001b[36m\u001b[1mFetching:\u001b[22m\u001b[39m [=====>                                   ]  11.5 %\r",
      "    \u001b[36m\u001b[1mFetching:\u001b[22m\u001b[39m [=====>                                   ]  11.8 %\r",
      "    \u001b[36m\u001b[1mFetching:\u001b[22m\u001b[39m [=====>                                   ]  12.0 %\r",
      "    \u001b[36m\u001b[1mFetching:\u001b[22m\u001b[39m [=====>                                   ]  12.3 %\r",
      "    \u001b[36m\u001b[1mFetching:\u001b[22m\u001b[39m [======>                                  ]  12.5 %\r",
      "    \u001b[36m\u001b[1mFetching:\u001b[22m\u001b[39m [======>                                  ]  12.8 %\r",
      "    \u001b[36m\u001b[1mFetching:\u001b[22m\u001b[39m [======>                                  ]  13.0 %\r",
      "    \u001b[36m\u001b[1mFetching:\u001b[22m\u001b[39m [======>                                  ]  13.3 %\r",
      "    \u001b[36m\u001b[1mFetching:\u001b[22m\u001b[39m [======>                                  ]  13.5 %\r",
      "    \u001b[36m\u001b[1mFetching:\u001b[22m\u001b[39m [======>                                  ]  13.8 %\r",
      "    \u001b[36m\u001b[1mFetching:\u001b[22m\u001b[39m [======>                                  ]  14.0 %\r",
      "    \u001b[36m\u001b[1mFetching:\u001b[22m\u001b[39m [======>                                  ]  14.3 %\r",
      "    \u001b[36m\u001b[1mFetching:\u001b[22m\u001b[39m [======>                                  ]  14.5 %\r",
      "    \u001b[36m\u001b[1mFetching:\u001b[22m\u001b[39m [======>                                  ]  14.8 %\r",
      "    \u001b[36m\u001b[1mFetching:\u001b[22m\u001b[39m [=======>                                 ]  15.0 %\r",
      "    \u001b[36m\u001b[1mFetching:\u001b[22m\u001b[39m [=======>                                 ]  15.3 %\r",
      "    \u001b[36m\u001b[1mFetching:\u001b[22m\u001b[39m [=======>                                 ]  15.5 %\r",
      "    \u001b[36m\u001b[1mFetching:\u001b[22m\u001b[39m [=======>                                 ]  15.8 %\r",
      "    \u001b[36m\u001b[1mFetching:\u001b[22m\u001b[39m [=======>                                 ]  16.0 %\r",
      "    \u001b[36m\u001b[1mFetching:\u001b[22m\u001b[39m [=======>                                 ]  16.3 %\r",
      "    \u001b[36m\u001b[1mFetching:\u001b[22m\u001b[39m [=======>                                 ]  16.5 %\r",
      "    \u001b[36m\u001b[1mFetching:\u001b[22m\u001b[39m [=======>                                 ]  16.8 %\r",
      "    \u001b[36m\u001b[1mFetching:\u001b[22m\u001b[39m [=======>                                 ]  17.0 %\r",
      "    \u001b[36m\u001b[1mFetching:\u001b[22m\u001b[39m [=======>                                 ]  17.3 %\r",
      "    \u001b[36m\u001b[1mFetching:\u001b[22m\u001b[39m [========>                                ]  17.5 %\r",
      "    \u001b[36m\u001b[1mFetching:\u001b[22m\u001b[39m [========>                                ]  17.8 %\r",
      "    \u001b[36m\u001b[1mFetching:\u001b[22m\u001b[39m [========>                                ]  18.0 %\r",
      "    \u001b[36m\u001b[1mFetching:\u001b[22m\u001b[39m [========>                                ]  18.3 %\r",
      "    \u001b[36m\u001b[1mFetching:\u001b[22m\u001b[39m [========>                                ]  18.5 %\r",
      "    \u001b[36m\u001b[1mFetching:\u001b[22m\u001b[39m [========>                                ]  18.8 %\r",
      "    \u001b[36m\u001b[1mFetching:\u001b[22m\u001b[39m [========>                                ]  19.0 %\r",
      "    \u001b[36m\u001b[1mFetching:\u001b[22m\u001b[39m [========>                                ]  19.3 %\r",
      "    \u001b[36m\u001b[1mFetching:\u001b[22m\u001b[39m [========>                                ]  19.5 %\r",
      "    \u001b[36m\u001b[1mFetching:\u001b[22m\u001b[39m [========>                                ]  19.8 %\r",
      "    \u001b[36m\u001b[1mFetching:\u001b[22m\u001b[39m [=========>                               ]  20.1 %\r",
      "    \u001b[36m\u001b[1mFetching:\u001b[22m\u001b[39m [=========>                               ]  20.3 %\r",
      "    \u001b[36m\u001b[1mFetching:\u001b[22m\u001b[39m [=========>                               ]  20.6 %\r",
      "    \u001b[36m\u001b[1mFetching:\u001b[22m\u001b[39m [=========>                               ]  20.8 %\r",
      "    \u001b[36m\u001b[1mFetching:\u001b[22m\u001b[39m [=========>                               ]  21.1 %\r",
      "    \u001b[36m\u001b[1mFetching:\u001b[22m\u001b[39m [=========>                               ]  21.3 %\r",
      "    \u001b[36m\u001b[1mFetching:\u001b[22m\u001b[39m [=========>                               ]  21.6 %\r",
      "    \u001b[36m\u001b[1mFetching:\u001b[22m\u001b[39m [=========>                               ]  21.8 %\r",
      "    \u001b[36m\u001b[1mFetching:\u001b[22m\u001b[39m [=========>                               ]  22.1 %\r",
      "    \u001b[36m\u001b[1mFetching:\u001b[22m\u001b[39m [=========>                               ]  22.3 %\r",
      "    \u001b[36m\u001b[1mFetching:\u001b[22m\u001b[39m [==========>                              ]  22.6 %\r",
      "    \u001b[36m\u001b[1mFetching:\u001b[22m\u001b[39m [==========>                              ]  22.8 %\r",
      "    \u001b[36m\u001b[1mFetching:\u001b[22m\u001b[39m [==========>                              ]  23.1 %\r",
      "    \u001b[36m\u001b[1mFetching:\u001b[22m\u001b[39m [==========>                              ]  23.3 %\r",
      "    \u001b[36m\u001b[1mFetching:\u001b[22m\u001b[39m [==========>                              ]  23.6 %\r",
      "    \u001b[36m\u001b[1mFetching:\u001b[22m\u001b[39m [==========>                              ]  23.8 %\r",
      "    \u001b[36m\u001b[1mFetching:\u001b[22m\u001b[39m [==========>                              ]  24.1 %\r",
      "    \u001b[36m\u001b[1mFetching:\u001b[22m\u001b[39m [==========>                              ]  24.3 %\r",
      "    \u001b[36m\u001b[1mFetching:\u001b[22m\u001b[39m [==========>                              ]  24.6 %\r",
      "    \u001b[36m\u001b[1mFetching:\u001b[22m\u001b[39m [==========>                              ]  24.8 %\r",
      "    \u001b[36m\u001b[1mFetching:\u001b[22m\u001b[39m [===========>                             ]  25.1 %\r",
      "    \u001b[36m\u001b[1mFetching:\u001b[22m\u001b[39m [===========>                             ]  25.3 %\r",
      "    \u001b[36m\u001b[1mFetching:\u001b[22m\u001b[39m [===========>                             ]  25.6 %\r",
      "    \u001b[36m\u001b[1mFetching:\u001b[22m\u001b[39m [===========>                             ]  25.8 %\r",
      "    \u001b[36m\u001b[1mFetching:\u001b[22m\u001b[39m [===========>                             ]  26.1 %\r",
      "    \u001b[36m\u001b[1mFetching:\u001b[22m\u001b[39m [===========>                             ]  26.3 %\r",
      "    \u001b[36m\u001b[1mFetching:\u001b[22m\u001b[39m [===========>                             ]  26.6 %\r",
      "    \u001b[36m\u001b[1mFetching:\u001b[22m\u001b[39m [===========>                             ]  26.8 %\r",
      "    \u001b[36m\u001b[1mFetching:\u001b[22m\u001b[39m [===========>                             ]  27.1 %\r",
      "    \u001b[36m\u001b[1mFetching:\u001b[22m\u001b[39m [===========>                             ]  27.3 %\r",
      "    \u001b[36m\u001b[1mFetching:\u001b[22m\u001b[39m [============>                            ]  27.6 %\r",
      "    \u001b[36m\u001b[1mFetching:\u001b[22m\u001b[39m [============>                            ]  27.8 %\r",
      "    \u001b[36m\u001b[1mFetching:\u001b[22m\u001b[39m [============>                            ]  28.1 %\r",
      "    \u001b[36m\u001b[1mFetching:\u001b[22m\u001b[39m [============>                            ]  28.3 %\r",
      "    \u001b[36m\u001b[1mFetching:\u001b[22m\u001b[39m [============>                            ]  28.6 %\r",
      "    \u001b[36m\u001b[1mFetching:\u001b[22m\u001b[39m [============>                            ]  28.8 %\r",
      "    \u001b[36m\u001b[1mFetching:\u001b[22m\u001b[39m [============>                            ]  29.1 %\r",
      "    \u001b[36m\u001b[1mFetching:\u001b[22m\u001b[39m [============>                            ]  29.3 %\r",
      "    \u001b[36m\u001b[1mFetching:\u001b[22m\u001b[39m [============>                            ]  29.6 %\r",
      "    \u001b[36m\u001b[1mFetching:\u001b[22m\u001b[39m [============>                            ]  29.8 %\r",
      "    \u001b[36m\u001b[1mFetching:\u001b[22m\u001b[39m [=============>                           ]  30.1 %"
     ]
    },
    {
     "name": "stdout",
     "output_type": "stream",
     "text": [
      "\r",
      "    \u001b[36m\u001b[1mFetching:\u001b[22m\u001b[39m [=============>                           ]  30.3 %\r",
      "    \u001b[36m\u001b[1mFetching:\u001b[22m\u001b[39m [=============>                           ]  30.6 %\r",
      "    \u001b[36m\u001b[1mFetching:\u001b[22m\u001b[39m [=============>                           ]  30.8 %\r",
      "    \u001b[36m\u001b[1mFetching:\u001b[22m\u001b[39m [=============>                           ]  31.1 %\r",
      "    \u001b[36m\u001b[1mFetching:\u001b[22m\u001b[39m [=============>                           ]  31.3 %\r",
      "    \u001b[36m\u001b[1mFetching:\u001b[22m\u001b[39m [=============>                           ]  31.6 %\r",
      "    \u001b[36m\u001b[1mFetching:\u001b[22m\u001b[39m [=============>                           ]  31.8 %\r",
      "    \u001b[36m\u001b[1mFetching:\u001b[22m\u001b[39m [=============>                           ]  32.1 %\r",
      "    \u001b[36m\u001b[1mFetching:\u001b[22m\u001b[39m [=============>                           ]  32.3 %\r",
      "    \u001b[36m\u001b[1mFetching:\u001b[22m\u001b[39m [==============>                          ]  32.6 %\r",
      "    \u001b[36m\u001b[1mFetching:\u001b[22m\u001b[39m [==============>                          ]  32.8 %\r",
      "    \u001b[36m\u001b[1mFetching:\u001b[22m\u001b[39m [==============>                          ]  33.1 %\r",
      "    \u001b[36m\u001b[1mFetching:\u001b[22m\u001b[39m [==============>                          ]  33.3 %\r",
      "    \u001b[36m\u001b[1mFetching:\u001b[22m\u001b[39m [==============>                          ]  33.6 %\r",
      "    \u001b[36m\u001b[1mFetching:\u001b[22m\u001b[39m [==============>                          ]  33.8 %\r",
      "    \u001b[36m\u001b[1mFetching:\u001b[22m\u001b[39m [==============>                          ]  34.1 %\r",
      "    \u001b[36m\u001b[1mFetching:\u001b[22m\u001b[39m [==============>                          ]  34.3 %\r",
      "    \u001b[36m\u001b[1mFetching:\u001b[22m\u001b[39m [==============>                          ]  34.6 %\r",
      "    \u001b[36m\u001b[1mFetching:\u001b[22m\u001b[39m [==============>                          ]  34.8 %\r",
      "    \u001b[36m\u001b[1mFetching:\u001b[22m\u001b[39m [===============>                         ]  35.1 %\r",
      "    \u001b[36m\u001b[1mFetching:\u001b[22m\u001b[39m [===============>                         ]  35.3 %\r",
      "    \u001b[36m\u001b[1mFetching:\u001b[22m\u001b[39m [===============>                         ]  35.6 %\r",
      "    \u001b[36m\u001b[1mFetching:\u001b[22m\u001b[39m [===============>                         ]  35.8 %\r",
      "    \u001b[36m\u001b[1mFetching:\u001b[22m\u001b[39m [===============>                         ]  36.1 %\r",
      "    \u001b[36m\u001b[1mFetching:\u001b[22m\u001b[39m [===============>                         ]  36.3 %\r",
      "    \u001b[36m\u001b[1mFetching:\u001b[22m\u001b[39m [===============>                         ]  36.6 %\r",
      "    \u001b[36m\u001b[1mFetching:\u001b[22m\u001b[39m [===============>                         ]  36.8 %\r",
      "    \u001b[36m\u001b[1mFetching:\u001b[22m\u001b[39m [===============>                         ]  37.1 %\r",
      "    \u001b[36m\u001b[1mFetching:\u001b[22m\u001b[39m [===============>                         ]  37.3 %\r",
      "    \u001b[36m\u001b[1mFetching:\u001b[22m\u001b[39m [================>                        ]  37.6 %\r",
      "    \u001b[36m\u001b[1mFetching:\u001b[22m\u001b[39m [================>                        ]  37.8 %\r",
      "    \u001b[36m\u001b[1mFetching:\u001b[22m\u001b[39m [================>                        ]  38.1 %\r",
      "    \u001b[36m\u001b[1mFetching:\u001b[22m\u001b[39m [================>                        ]  38.3 %\r",
      "    \u001b[36m\u001b[1mFetching:\u001b[22m\u001b[39m [================>                        ]  38.6 %\r",
      "    \u001b[36m\u001b[1mFetching:\u001b[22m\u001b[39m [================>                        ]  38.8 %\r",
      "    \u001b[36m\u001b[1mFetching:\u001b[22m\u001b[39m [================>                        ]  39.1 %\r",
      "    \u001b[36m\u001b[1mFetching:\u001b[22m\u001b[39m [================>                        ]  39.3 %\r",
      "    \u001b[36m\u001b[1mFetching:\u001b[22m\u001b[39m [================>                        ]  39.6 %\r",
      "    \u001b[36m\u001b[1mFetching:\u001b[22m\u001b[39m [================>                        ]  39.8 %\r",
      "    \u001b[36m\u001b[1mFetching:\u001b[22m\u001b[39m [=================>                       ]  40.1 %\r",
      "    \u001b[36m\u001b[1mFetching:\u001b[22m\u001b[39m [=================>                       ]  40.4 %\r",
      "    \u001b[36m\u001b[1mFetching:\u001b[22m\u001b[39m [=================>                       ]  40.6 %\r",
      "    \u001b[36m\u001b[1mFetching:\u001b[22m\u001b[39m [=================>                       ]  40.9 %\r",
      "    \u001b[36m\u001b[1mFetching:\u001b[22m\u001b[39m [=================>                       ]  41.1 %\r",
      "    \u001b[36m\u001b[1mFetching:\u001b[22m\u001b[39m [=================>                       ]  41.4 %\r",
      "    \u001b[36m\u001b[1mFetching:\u001b[22m\u001b[39m [=================>                       ]  41.6 %\r",
      "    \u001b[36m\u001b[1mFetching:\u001b[22m\u001b[39m [=================>                       ]  41.9 %\r",
      "    \u001b[36m\u001b[1mFetching:\u001b[22m\u001b[39m [=================>                       ]  42.1 %\r",
      "    \u001b[36m\u001b[1mFetching:\u001b[22m\u001b[39m [=================>                       ]  42.4 %\r",
      "    \u001b[36m\u001b[1mFetching:\u001b[22m\u001b[39m [==================>                      ]  42.6 %\r",
      "    \u001b[36m\u001b[1mFetching:\u001b[22m\u001b[39m [==================>                      ]  42.9 %\r",
      "    \u001b[36m\u001b[1mFetching:\u001b[22m\u001b[39m [==================>                      ]  43.1 %\r",
      "    \u001b[36m\u001b[1mFetching:\u001b[22m\u001b[39m [==================>                      ]  43.4 %\r",
      "    \u001b[36m\u001b[1mFetching:\u001b[22m\u001b[39m [==================>                      ]  43.6 %\r",
      "    \u001b[36m\u001b[1mFetching:\u001b[22m\u001b[39m [==================>                      ]  43.9 %\r",
      "    \u001b[36m\u001b[1mFetching:\u001b[22m\u001b[39m [==================>                      ]  44.1 %\r",
      "    \u001b[36m\u001b[1mFetching:\u001b[22m\u001b[39m [==================>                      ]  44.4 %\r",
      "    \u001b[36m\u001b[1mFetching:\u001b[22m\u001b[39m [==================>                      ]  44.6 %\r",
      "    \u001b[36m\u001b[1mFetching:\u001b[22m\u001b[39m [==================>                      ]  44.9 %\r",
      "    \u001b[36m\u001b[1mFetching:\u001b[22m\u001b[39m [===================>                     ]  45.1 %\r",
      "    \u001b[36m\u001b[1mFetching:\u001b[22m\u001b[39m [===================>                     ]  45.4 %\r",
      "    \u001b[36m\u001b[1mFetching:\u001b[22m\u001b[39m [===================>                     ]  45.6 %\r",
      "    \u001b[36m\u001b[1mFetching:\u001b[22m\u001b[39m [===================>                     ]  45.9 %\r",
      "    \u001b[36m\u001b[1mFetching:\u001b[22m\u001b[39m [===================>                     ]  46.1 %\r",
      "    \u001b[36m\u001b[1mFetching:\u001b[22m\u001b[39m [===================>                     ]  46.4 %\r",
      "    \u001b[36m\u001b[1mFetching:\u001b[22m\u001b[39m [===================>                     ]  46.6 %\r",
      "    \u001b[36m\u001b[1mFetching:\u001b[22m\u001b[39m [===================>                     ]  46.9 %\r",
      "    \u001b[36m\u001b[1mFetching:\u001b[22m\u001b[39m [===================>                     ]  47.1 %\r",
      "    \u001b[36m\u001b[1mFetching:\u001b[22m\u001b[39m [===================>                     ]  47.4 %\r",
      "    \u001b[36m\u001b[1mFetching:\u001b[22m\u001b[39m [====================>                    ]  47.6 %\r",
      "    \u001b[36m\u001b[1mFetching:\u001b[22m\u001b[39m [====================>                    ]  47.9 %\r",
      "    \u001b[36m\u001b[1mFetching:\u001b[22m\u001b[39m [====================>                    ]  48.1 %\r",
      "    \u001b[36m\u001b[1mFetching:\u001b[22m\u001b[39m [====================>                    ]  48.4 %\r",
      "    \u001b[36m\u001b[1mFetching:\u001b[22m\u001b[39m [====================>                    ]  48.6 %\r",
      "    \u001b[36m\u001b[1mFetching:\u001b[22m\u001b[39m [====================>                    ]  48.9 %\r",
      "    \u001b[36m\u001b[1mFetching:\u001b[22m\u001b[39m [====================>                    ]  49.1 %\r",
      "    \u001b[36m\u001b[1mFetching:\u001b[22m\u001b[39m [====================>                    ]  49.4 %\r",
      "    \u001b[36m\u001b[1mFetching:\u001b[22m\u001b[39m [====================>                    ]  49.6 %\r",
      "    \u001b[36m\u001b[1mFetching:\u001b[22m\u001b[39m [====================>                    ]  49.9 %\r",
      "    \u001b[36m\u001b[1mFetching:\u001b[22m\u001b[39m [=====================>                   ]  50.1 %\r",
      "    \u001b[36m\u001b[1mFetching:\u001b[22m\u001b[39m [=====================>                   ]  50.4 %\r",
      "    \u001b[36m\u001b[1mFetching:\u001b[22m\u001b[39m [=====================>                   ]  50.6 %\r",
      "    \u001b[36m\u001b[1mFetching:\u001b[22m\u001b[39m [=====================>                   ]  50.9 %\r",
      "    \u001b[36m\u001b[1mFetching:\u001b[22m\u001b[39m [=====================>                   ]  51.1 %\r",
      "    \u001b[36m\u001b[1mFetching:\u001b[22m\u001b[39m [=====================>                   ]  51.4 %\r",
      "    \u001b[36m\u001b[1mFetching:\u001b[22m\u001b[39m [=====================>                   ]  51.6 %\r",
      "    \u001b[36m\u001b[1mFetching:\u001b[22m\u001b[39m [=====================>                   ]  51.9 %\r",
      "    \u001b[36m\u001b[1mFetching:\u001b[22m\u001b[39m [=====================>                   ]  52.1 %\r",
      "    \u001b[36m\u001b[1mFetching:\u001b[22m\u001b[39m [=====================>                   ]  52.4 %\r",
      "    \u001b[36m\u001b[1mFetching:\u001b[22m\u001b[39m [======================>                  ]  52.6 %\r",
      "    \u001b[36m\u001b[1mFetching:\u001b[22m\u001b[39m [======================>                  ]  52.9 %\r",
      "    \u001b[36m\u001b[1mFetching:\u001b[22m\u001b[39m [======================>                  ]  53.1 %\r",
      "    \u001b[36m\u001b[1mFetching:\u001b[22m\u001b[39m [======================>                  ]  53.4 %\r",
      "    \u001b[36m\u001b[1mFetching:\u001b[22m\u001b[39m [======================>                  ]  53.6 %\r",
      "    \u001b[36m\u001b[1mFetching:\u001b[22m\u001b[39m [======================>                  ]  53.9 %\r",
      "    \u001b[36m\u001b[1mFetching:\u001b[22m\u001b[39m [======================>                  ]  54.1 %\r",
      "    \u001b[36m\u001b[1mFetching:\u001b[22m\u001b[39m [======================>                  ]  54.4 %\r",
      "    \u001b[36m\u001b[1mFetching:\u001b[22m\u001b[39m [======================>                  ]  54.6 %\r",
      "    \u001b[36m\u001b[1mFetching:\u001b[22m\u001b[39m [======================>                  ]  54.9 %\r",
      "    \u001b[36m\u001b[1mFetching:\u001b[22m\u001b[39m [=======================>                 ]  55.1 %\r",
      "    \u001b[36m\u001b[1mFetching:\u001b[22m\u001b[39m [=======================>                 ]  55.4 %\r",
      "    \u001b[36m\u001b[1mFetching:\u001b[22m\u001b[39m [=======================>                 ]  55.6 %\r",
      "    \u001b[36m\u001b[1mFetching:\u001b[22m\u001b[39m [=======================>                 ]  55.9 %\r",
      "    \u001b[36m\u001b[1mFetching:\u001b[22m\u001b[39m [=======================>                 ]  56.1 %\r",
      "    \u001b[36m\u001b[1mFetching:\u001b[22m\u001b[39m [=======================>                 ]  56.4 %\r",
      "    \u001b[36m\u001b[1mFetching:\u001b[22m\u001b[39m [=======================>                 ]  56.6 %\r",
      "    \u001b[36m\u001b[1mFetching:\u001b[22m\u001b[39m [=======================>                 ]  56.9 %\r",
      "    \u001b[36m\u001b[1mFetching:\u001b[22m\u001b[39m [=======================>                 ]  57.1 %\r",
      "    \u001b[36m\u001b[1mFetching:\u001b[22m\u001b[39m [=======================>                 ]  57.4 %\r",
      "    \u001b[36m\u001b[1mFetching:\u001b[22m\u001b[39m [========================>                ]  57.6 %\r",
      "    \u001b[36m\u001b[1mFetching:\u001b[22m\u001b[39m [========================>                ]  57.9 %\r",
      "    \u001b[36m\u001b[1mFetching:\u001b[22m\u001b[39m [========================>                ]  58.1 %\r",
      "    \u001b[36m\u001b[1mFetching:\u001b[22m\u001b[39m [========================>                ]  58.4 %\r",
      "    \u001b[36m\u001b[1mFetching:\u001b[22m\u001b[39m [========================>                ]  58.6 %\r",
      "    \u001b[36m\u001b[1mFetching:\u001b[22m\u001b[39m [========================>                ]  58.9 %\r",
      "    \u001b[36m\u001b[1mFetching:\u001b[22m\u001b[39m [========================>                ]  59.1 %\r",
      "    \u001b[36m\u001b[1mFetching:\u001b[22m\u001b[39m [========================>                ]  59.4 %\r",
      "    \u001b[36m\u001b[1mFetching:\u001b[22m\u001b[39m [========================>                ]  59.6 %\r",
      "    \u001b[36m\u001b[1mFetching:\u001b[22m\u001b[39m [========================>                ]  59.9 %\r",
      "    \u001b[36m\u001b[1mFetching:\u001b[22m\u001b[39m [=========================>               ]  60.2 %\r",
      "    \u001b[36m\u001b[1mFetching:\u001b[22m\u001b[39m [=========================>"
     ]
    },
    {
     "name": "stdout",
     "output_type": "stream",
     "text": [
      "\u001b[2K\u001b[?25h[1mFetching:\u001b[22m\u001b[39m [========================================>]  100.0 %"
     ]
    },
    {
     "name": "stderr",
     "output_type": "stream",
     "text": [
      "\u001b[32m\u001b[1m  Resolving\u001b[22m\u001b[39m package versions...\n",
      "\u001b[32m\u001b[1m   Updating\u001b[22m\u001b[39m `/opt/julia/environments/v1.4/Project.toml`\n",
      "\u001b[90m [no changes]\u001b[39m\n",
      "\u001b[32m\u001b[1m   Updating\u001b[22m\u001b[39m `/opt/julia/environments/v1.4/Manifest.toml`\n",
      "\u001b[90m [no changes]\u001b[39m\n",
      "\u001b[32m\u001b[1m  Resolving\u001b[22m\u001b[39m package versions...\n",
      "\u001b[32m\u001b[1m   Updating\u001b[22m\u001b[39m `/opt/julia/environments/v1.4/Project.toml`\n",
      "\u001b[90m [no changes]\u001b[39m\n",
      "\u001b[32m\u001b[1m   Updating\u001b[22m\u001b[39m `/opt/julia/environments/v1.4/Manifest.toml`\n",
      "\u001b[90m [no changes]\u001b[39m\n",
      "\u001b[32m\u001b[1m  Resolving\u001b[22m\u001b[39m package versions...\n",
      "\u001b[32m\u001b[1m   Updating\u001b[22m\u001b[39m `/opt/julia/environments/v1.4/Project.toml`\n",
      "\u001b[90m [no changes]\u001b[39m\n",
      "\u001b[32m\u001b[1m   Updating\u001b[22m\u001b[39m `/opt/julia/environments/v1.4/Manifest.toml`\n",
      "\u001b[90m [no changes]\u001b[39m\n",
      "\u001b[32m\u001b[1m  Resolving\u001b[22m\u001b[39m package versions...\n",
      "\u001b[32m\u001b[1m   Updating\u001b[22m\u001b[39m `/opt/julia/environments/v1.4/Project.toml`\n",
      "\u001b[90m [no changes]\u001b[39m\n",
      "\u001b[32m\u001b[1m   Updating\u001b[22m\u001b[39m `/opt/julia/environments/v1.4/Manifest.toml`\n",
      "\u001b[90m [no changes]\u001b[39m\n",
      "\u001b[32m\u001b[1m  Resolving\u001b[22m\u001b[39m package versions...\n",
      "\u001b[32m\u001b[1m   Updating\u001b[22m\u001b[39m `/opt/julia/environments/v1.4/Project.toml`\n",
      "\u001b[90m [no changes]\u001b[39m\n",
      "\u001b[32m\u001b[1m   Updating\u001b[22m\u001b[39m `/opt/julia/environments/v1.4/Manifest.toml`\n",
      "\u001b[90m [no changes]\u001b[39m\n"
     ]
    }
   ],
   "source": [
    "Pkg.add(\"Plots\")\n",
    "Pkg.add(\"DataFrames\")\n",
    "Pkg.add(\"CSV\")\n",
    "Pkg.add(\"Statistics\")\n",
    "Pkg.add(\"Pipe\")"
   ]
  },
  {
   "cell_type": "code",
   "execution_count": 3,
   "metadata": {},
   "outputs": [],
   "source": [
    "using Plots, DataFrames, CSV, Statistics, Pipe"
   ]
  },
  {
   "cell_type": "markdown",
   "metadata": {},
   "source": [
    "Before we get going, lets do some warm-up exercises."
   ]
  },
  {
   "cell_type": "code",
   "execution_count": 4,
   "metadata": {},
   "outputs": [
    {
     "data": {
      "text/plain": [
       "42"
      ]
     },
     "execution_count": 4,
     "metadata": {},
     "output_type": "execute_result"
    }
   ],
   "source": [
    "a = 42"
   ]
  },
  {
   "cell_type": "code",
   "execution_count": 5,
   "metadata": {},
   "outputs": [
    {
     "data": {
      "text/plain": [
       "1764"
      ]
     },
     "execution_count": 5,
     "metadata": {},
     "output_type": "execute_result"
    }
   ],
   "source": [
    "a*a"
   ]
  },
  {
   "cell_type": "code",
   "execution_count": 6,
   "metadata": {},
   "outputs": [
    {
     "data": {
      "text/plain": [
       "1764"
      ]
     },
     "execution_count": 6,
     "metadata": {},
     "output_type": "execute_result"
    }
   ],
   "source": [
    "a^2"
   ]
  },
  {
   "cell_type": "code",
   "execution_count": 7,
   "metadata": {},
   "outputs": [
    {
     "data": {
      "text/plain": [
       "\"Hello world\""
      ]
     },
     "execution_count": 7,
     "metadata": {},
     "output_type": "execute_result"
    }
   ],
   "source": [
    "b = \"Hello world\""
   ]
  },
  {
   "cell_type": "code",
   "execution_count": 8,
   "metadata": {},
   "outputs": [
    {
     "ename": "MethodError",
     "evalue": "MethodError: no method matching +(::String, ::String)\nClosest candidates are:\n  +(::Any, ::Any, !Matched::Any, !Matched::Any...) at operators.jl:529",
     "output_type": "error",
     "traceback": [
      "MethodError: no method matching +(::String, ::String)\nClosest candidates are:\n  +(::Any, ::Any, !Matched::Any, !Matched::Any...) at operators.jl:529",
      "",
      "Stacktrace:",
      " [1] top-level scope at In[8]:1"
     ]
    }
   ],
   "source": [
    "b + b"
   ]
  },
  {
   "cell_type": "code",
   "execution_count": 9,
   "metadata": {},
   "outputs": [
    {
     "ename": "UndefVarError",
     "evalue": "UndefVarError: concat not defined",
     "output_type": "error",
     "traceback": [
      "UndefVarError: concat not defined",
      "",
      "Stacktrace:",
      " [1] top-level scope at In[9]:1"
     ]
    }
   ],
   "source": [
    "concat(b, b)"
   ]
  },
  {
   "cell_type": "code",
   "execution_count": 10,
   "metadata": {},
   "outputs": [
    {
     "ename": "UndefVarError",
     "evalue": "UndefVarError: concatenate not defined",
     "output_type": "error",
     "traceback": [
      "UndefVarError: concatenate not defined",
      "",
      "Stacktrace:",
      " [1] top-level scope at In[10]:1"
     ]
    }
   ],
   "source": [
    "concatenate(b, b)"
   ]
  },
  {
   "cell_type": "markdown",
   "metadata": {},
   "source": [
    "Not as cool as Python, it seems."
   ]
  },
  {
   "cell_type": "markdown",
   "metadata": {},
   "source": [
    "As usual, StackOverflow has the answer. It's like the LEGO of tutorials. Why isn't that a thing yet? A tutorial simply as a lists of stackoverflow posts.\n",
    "\n",
    "https://stackoverflow.com/questions/27827249/julia-concatenate-string-and-integer"
   ]
  },
  {
   "cell_type": "code",
   "execution_count": 11,
   "metadata": {},
   "outputs": [
    {
     "data": {
      "text/plain": [
       "\"Hello worldHello world\""
      ]
     },
     "execution_count": 11,
     "metadata": {},
     "output_type": "execute_result"
    }
   ],
   "source": [
    "string(b, b)"
   ]
  },
  {
   "cell_type": "markdown",
   "metadata": {},
   "source": [
    "By the way, this reminds me: f-strings go home, Julia is like PHP with the added benefit of not being PHP. Remember we defined that `a=42` variable way back when?"
   ]
  },
  {
   "cell_type": "code",
   "execution_count": 12,
   "metadata": {},
   "outputs": [
    {
     "name": "stdout",
     "output_type": "stream",
     "text": [
      "The answer is 42"
     ]
    }
   ],
   "source": [
    "print(\"The answer is $a\")"
   ]
  },
  {
   "cell_type": "markdown",
   "metadata": {},
   "source": [
    "One last thing: do some looping etc."
   ]
  },
  {
   "cell_type": "code",
   "execution_count": 13,
   "metadata": {},
   "outputs": [
    {
     "name": "stdout",
     "output_type": "stream",
     "text": [
      "1\n",
      "2\n",
      "3\n",
      "4\n",
      "5\n",
      "6\n",
      "7\n",
      "8\n",
      "9\n",
      "10\n"
     ]
    }
   ],
   "source": [
    "for a in 1:10\n",
    "    print(a, \"\\n\")\n",
    "end"
   ]
  },
  {
   "cell_type": "markdown",
   "metadata": {},
   "source": [
    "So like python but with `end` and not colon, and range definitions are stolen from R (which is stolen from S which is... whatevz).\n",
    "\n",
    "\n",
    "Also, `str` is too short, but `string` lets you convert to... string!"
   ]
  },
  {
   "cell_type": "code",
   "execution_count": 14,
   "metadata": {},
   "outputs": [
    {
     "data": {
      "text/plain": [
       "\"1\""
      ]
     },
     "execution_count": 14,
     "metadata": {},
     "output_type": "execute_result"
    }
   ],
   "source": [
    "string(1)"
   ]
  },
  {
   "cell_type": "markdown",
   "metadata": {},
   "source": [
    "These oneliner function definitions are so cute I have completely forgotten how to write a more elaborate function."
   ]
  },
  {
   "cell_type": "code",
   "execution_count": 15,
   "metadata": {},
   "outputs": [
    {
     "data": {
      "text/plain": [
       "hello (generic function with 1 method)"
      ]
     },
     "execution_count": 15,
     "metadata": {},
     "output_type": "execute_result"
    }
   ],
   "source": [
    "hello(world) = println(\"Hello $world\")"
   ]
  },
  {
   "cell_type": "code",
   "execution_count": 16,
   "metadata": {},
   "outputs": [
    {
     "name": "stdout",
     "output_type": "stream",
     "text": [
      "Hello it's nice to meet you\n"
     ]
    }
   ],
   "source": [
    "hello(\"it's nice to meet you\")"
   ]
  },
  {
   "cell_type": "markdown",
   "metadata": {},
   "source": [
    "I think this is how:"
   ]
  },
  {
   "cell_type": "code",
   "execution_count": 17,
   "metadata": {},
   "outputs": [
    {
     "data": {
      "text/plain": [
       "whatsup (generic function with 1 method)"
      ]
     },
     "execution_count": 17,
     "metadata": {},
     "output_type": "execute_result"
    }
   ],
   "source": [
    "function whatsup(world)\n",
    "    println(\"Wussup $world\")\n",
    "end"
   ]
  },
  {
   "cell_type": "code",
   "execution_count": 18,
   "metadata": {},
   "outputs": [
    {
     "name": "stdout",
     "output_type": "stream",
     "text": [
      "Wussup y'all\n"
     ]
    }
   ],
   "source": [
    "whatsup(\"y'all\")"
   ]
  },
  {
   "cell_type": "markdown",
   "metadata": {},
   "source": [
    "Lastly, we know these languages love maths, and matrices are built in like in R:"
   ]
  },
  {
   "cell_type": "code",
   "execution_count": 19,
   "metadata": {},
   "outputs": [
    {
     "data": {
      "text/plain": [
       "3×3 Array{Float64,2}:\n",
       " 0.968277  0.237871  0.263883\n",
       " 0.256783  0.53111   0.986637\n",
       " 0.951378  0.909077  0.364488"
      ]
     },
     "execution_count": 19,
     "metadata": {},
     "output_type": "execute_result"
    }
   ],
   "source": [
    "m = rand(3, 3)"
   ]
  },
  {
   "cell_type": "code",
   "execution_count": 20,
   "metadata": {},
   "outputs": [
    {
     "data": {
      "text/plain": [
       "3×3 Array{Float64,2}:\n",
       " 1.24969  0.596551  0.586386\n",
       " 1.32368  1.24009   0.951391\n",
       " 1.5014   1.04047   1.28083"
      ]
     },
     "execution_count": 20,
     "metadata": {},
     "output_type": "execute_result"
    }
   ],
   "source": [
    "m*m"
   ]
  },
  {
   "cell_type": "code",
   "execution_count": 21,
   "metadata": {},
   "outputs": [
    {
     "data": {
      "text/plain": [
       "3×3 Array{Float64,2}:\n",
       " 1.90862   1.23158   0.855629\n",
       " 1.23158   1.16508   0.918131\n",
       " 0.855629  0.918131  1.17594"
      ]
     },
     "execution_count": 21,
     "metadata": {},
     "output_type": "execute_result"
    }
   ],
   "source": [
    "m'*m"
   ]
  },
  {
   "cell_type": "markdown",
   "metadata": {},
   "source": [
    "The transpose (using `'`) is pretty funny. Actually, Julia is also in love with unicode, and can do a lot of strange stuff:"
   ]
  },
  {
   "cell_type": "code",
   "execution_count": 22,
   "metadata": {},
   "outputs": [
    {
     "name": "stdout",
     "output_type": "stream",
     "text": [
      "1\n",
      "2\n",
      "3\n"
     ]
    }
   ],
   "source": [
    "for a ∈ 1:3\n",
    "    println(a)\n",
    "end"
   ]
  },
  {
   "cell_type": "code",
   "execution_count": 23,
   "metadata": {},
   "outputs": [
    {
     "data": {
      "text/plain": [
       "\"coolio\""
      ]
     },
     "execution_count": 23,
     "metadata": {},
     "output_type": "execute_result"
    }
   ],
   "source": [
    "😎 = \"coolio\""
   ]
  },
  {
   "cell_type": "code",
   "execution_count": 24,
   "metadata": {},
   "outputs": [
    {
     "name": "stdout",
     "output_type": "stream",
     "text": [
      "coolio"
     ]
    }
   ],
   "source": [
    "print(😎)"
   ]
  },
  {
   "cell_type": "markdown",
   "metadata": {},
   "source": [
    "The ∈ sign appears when you type `\\in`, so basically brush up on your latex and you are once again the cool kid on the block.\n",
    "\n",
    "But enough now, we want dataframes and more than just stdout and stdin.\n",
    "\n",
    "We have a small file named `Batch_4154922_batch_results.csv` which is the output of an MTurk job, queued up for this."
   ]
  },
  {
   "cell_type": "code",
   "execution_count": 25,
   "metadata": {},
   "outputs": [
    {
     "name": "stderr",
     "output_type": "stream",
     "text": [
      "┌ Warning: `CSV.read(input; kw...)` is deprecated in favor of `using DataFrames; CSV.read(input, DataFrame; kw...)\n",
      "│   caller = read(::String) at CSV.jl:40\n",
      "└ @ CSV /opt/julia/packages/CSV/MKemC/src/CSV.jl:40\n"
     ]
    },
    {
     "name": "stdout",
     "output_type": "stream",
     "text": [
      "thread = 1 warning: only found 29 / 31 columns around data row: 2. Filling remaining columns with `missing`\n",
      "thread = 1 warning: only found 29 / 31 columns around data row: 3. Filling remaining columns with `missing`\n",
      "thread = 1 warning: only found 29 / 31 columns around data row: 4. Filling remaining columns with `missing`\n",
      "thread = 1 warning: only found 29 / 31 columns around data row: 5. Filling remaining columns with `missing`\n",
      "thread = 1 warning: only found 29 / 31 columns around data row: 6. Filling remaining columns with `missing`\n",
      "thread = 1 warning: only found 29 / 31 columns around data row: 7. Filling remaining columns with `missing`\n",
      "thread = 1 warning: only found 29 / 31 columns around data row: 8. Filling remaining columns with `missing`\n",
      "thread = 1 warning: only found 29 / 31 columns around data row: 9. Filling remaining columns with `missing`\n",
      "thread = 1 warning: only found 29 / 31 columns around data row: 10. Filling remaining columns with `missing`\n",
      "thread = 1 warning: only found 29 / 31 columns around data row: 11. Filling remaining columns with `missing`\n",
      "thread = 1 warning: only found 29 / 31 columns around data row: 12. Filling remaining columns with `missing`\n",
      "thread = 1 warning: only found 29 / 31 columns around data row: 13. Filling remaining columns with `missing`\n",
      "thread = 1 warning: only found 29 / 31 columns around data row: 14. Filling remaining columns with `missing`\n",
      "thread = 1 warning: only found 29 / 31 columns around data row: 15. Filling remaining columns with `missing`\n",
      "thread = 1 warning: only found 29 / 31 columns around data row: 16. Filling remaining columns with `missing`\n",
      "thread = 1 warning: only found 29 / 31 columns around data row: 17. Filling remaining columns with `missing`\n",
      "thread = 1 warning: only found 29 / 31 columns around data row: 18. Filling remaining columns with `missing`\n",
      "thread = 1 warning: only found 29 / 31 columns around data row: 19. Filling remaining columns with `missing`\n",
      "thread = 1 warning: only found 29 / 31 columns around data row: 20. Filling remaining columns with `missing`\n",
      "thread = 1 warning: only found 29 / 31 columns around data row: 21. Filling remaining columns with `missing`\n",
      "thread = 1 warning: only found 29 / 31 columns around data row: 22. Filling remaining columns with `missing`\n",
      "thread = 1 warning: only found 29 / 31 columns around data row: 23. Filling remaining columns with `missing`\n",
      "thread = 1 warning: only found 29 / 31 columns around data row: 24. Filling remaining columns with `missing`\n",
      "thread = 1 warning: only found 29 / 31 columns around data row: 25. Filling remaining columns with `missing`\n",
      "thread = 1 warning: only found 29 / 31 columns around data row: 26. Filling remaining columns with `missing`\n",
      "thread = 1 warning: only found 29 / 31 columns around data row: 27. Filling remaining columns with `missing`\n",
      "thread = 1 warning: only found 29 / 31 columns around data row: 28. Filling remaining columns with `missing`\n",
      "thread = 1 warning: only found 29 / 31 columns around data row: 29. Filling remaining columns with `missing`\n",
      "thread = 1 warning: only found 29 / 31 columns around data row: 30. Filling remaining columns with `missing`\n",
      "thread = 1 warning: only found 29 / 31 columns around data row: 31. Filling remaining columns with `missing`\n",
      "thread = 1 warning: only found 29 / 31 columns around data row: 32. Filling remaining columns with `missing`\n",
      "thread = 1 warning: only found 29 / 31 columns around data row: 33. Filling remaining columns with `missing`\n",
      "thread = 1 warning: only found 29 / 31 columns around data row: 34. Filling remaining columns with `missing`\n",
      "thread = 1 warning: only found 29 / 31 columns around data row: 35. Filling remaining columns with `missing`\n",
      "thread = 1 warning: only found 29 / 31 columns around data row: 36. Filling remaining columns with `missing`\n",
      "thread = 1 warning: only found 29 / 31 columns around data row: 37. Filling remaining columns with `missing`\n",
      "thread = 1 warning: only found 29 / 31 columns around data row: 38. Filling remaining columns with `missing`\n",
      "thread = 1 warning: only found 29 / 31 columns around data row: 39. Filling remaining columns with `missing`\n",
      "thread = 1 warning: only found 29 / 31 columns around data row: 40. Filling remaining columns with `missing`\n",
      "thread = 1 warning: only found 29 / 31 columns around data row: 41. Filling remaining columns with `missing`\n",
      "thread = 1 warning: only found 29 / 31 columns around data row: 42. Filling remaining columns with `missing`\n",
      "thread = 1 warning: only found 29 / 31 columns around data row: 43. Filling remaining columns with `missing`\n",
      "thread = 1 warning: only found 29 / 31 columns around data row: 44. Filling remaining columns with `missing`\n",
      "thread = 1 warning: only found 29 / 31 columns around data row: 45. Filling remaining columns with `missing`\n",
      "thread = 1 warning: only found 29 / 31 columns around data row: 46. Filling remaining columns with `missing`\n",
      "thread = 1 warning: only found 29 / 31 columns around data row: 47. Filling remaining columns with `missing`\n",
      "thread = 1 warning: only found 29 / 31 columns around data row: 48. Filling remaining columns with `missing`\n",
      "thread = 1 warning: only found 29 / 31 columns around data row: 49. Filling remaining columns with `missing`\n",
      "thread = 1 warning: only found 29 / 31 columns around data row: 50. Filling remaining columns with `missing`\n",
      "thread = 1 warning: only found 29 / 31 columns around data row: 51. Filling remaining columns with `missing`\n",
      "thread = 1 warning: only found 29 / 31 columns around data row: 52. Filling remaining columns with `missing`\n",
      "thread = 1 warning: only found 29 / 31 columns around data row: 53. Filling remaining columns with `missing`\n",
      "thread = 1 warning: only found 29 / 31 columns around data row: 54. Filling remaining columns with `missing`\n",
      "thread = 1 warning: only found 29 / 31 columns around data row: 55. Filling remaining columns with `missing`\n",
      "thread = 1 warning: only found 29 / 31 columns around data row: 56. Filling remaining columns with `missing`\n",
      "thread = 1 warning: only found 29 / 31 columns around data row: 57. Filling remaining columns with `missing`\n",
      "thread = 1 warning: only found 29 / 31 columns around data row: 58. Filling remaining columns with `missing`\n",
      "thread = 1 warning: only found 29 / 31 columns around data row: 59. Filling remaining columns with `missing`\n",
      "thread = 1 warning: only found 29 / 31 columns around data row: 60. Filling remaining columns with `missing`\n",
      "thread = 1 warning: only found 29 / 31 columns around data row: 61. Filling remaining columns with `missing`\n",
      "thread = 1 warning: only found 29 / 31 columns around data row: 62. Filling remaining columns with `missing`\n",
      "thread = 1 warning: only found 29 / 31 columns around data row: 63. Filling remaining columns with `missing`\n",
      "thread = 1 warning: only found 29 / 31 columns around data row: 64. Filling remaining columns with `missing`\n",
      "thread = 1 warning: only found 29 / 31 columns around data row: 65. Filling remaining columns with `missing`\n",
      "thread = 1 warning: only found 29 / 31 columns around data row: 66. Filling remaining columns with `missing`\n",
      "thread = 1 warning: only found 29 / 31 columns around data row: 67. Filling remaining columns with `missing`\n",
      "thread = 1 warning: only found 29 / 31 columns around data row: 68. Filling remaining columns with `missing`\n",
      "thread = 1 warning: only found 29 / 31 columns around data row: 69. Filling remaining columns with `missing`\n",
      "thread = 1 warning: only found 29 / 31 columns around data row: 70. Filling remaining columns with `missing`\n",
      "thread = 1 warning: only found 29 / 31 columns around data row: 71. Filling remaining columns with `missing`\n",
      "thread = 1 warning: only found 29 / 31 columns around data row: 72. Filling remaining columns with `missing`\n",
      "thread = 1 warning: only found 29 / 31 columns around data row: 73. Filling remaining columns with `missing`\n",
      "thread = 1 warning: only found 29 / 31 columns around data row: 74. Filling remaining columns with `missing`\n",
      "thread = 1 warning: only found 29 / 31 columns around data row: 75. Filling remaining columns with `missing`\n",
      "thread = 1 warning: only found 29 / 31 columns around data row: 76. Filling remaining columns with `missing`\n",
      "thread = 1 warning: only found 29 / 31 columns around data row: 77. Filling remaining columns with `missing`\n",
      "thread = 1 warning: only found 29 / 31 columns around data row: 78. Filling remaining columns with `missing`\n",
      "thread = 1 warning: only found 29 / 31 columns around data row: 79. Filling remaining columns with `missing`\n",
      "thread = 1 warning: only found 29 / 31 columns around data row: 80. Filling remaining columns with `missing`\n",
      "thread = 1 warning: only found 29 / 31 columns around data row: 81. Filling remaining columns with `missing`\n",
      "thread = 1 warning: only found 29 / 31 columns around data row: 82. Filling remaining columns with `missing`\n",
      "thread = 1 warning: only found 29 / 31 columns around data row: 83. Filling remaining columns with `missing`\n",
      "thread = 1 warning: only found 29 / 31 columns around data row: 84. Filling remaining columns with `missing`\n",
      "thread = 1 warning: only found 29 / 31 columns around data row: 85. Filling remaining columns with `missing`\n",
      "thread = 1 warning: only found 29 / 31 columns around data row: 86. Filling remaining columns with `missing`\n",
      "thread = 1 warning: only found 29 / 31 columns around data row: 87. Filling remaining columns with `missing`\n",
      "thread = 1 warning: only found 29 / 31 columns around data row: 88. Filling remaining columns with `missing`\n",
      "thread = 1 warning: only found 29 / 31 columns around data row: 89. Filling remaining columns with `missing`\n",
      "thread = 1 warning: only found 29 / 31 columns around data row: 90. Filling remaining columns with `missing`\n",
      "thread = 1 warning: only found 29 / 31 columns around data row: 91. Filling remaining columns with `missing`\n",
      "thread = 1 warning: only found 29 / 31 columns around data row: 92. Filling remaining columns with `missing`\n",
      "thread = 1 warning: only found 29 / 31 columns around data row: 93. Filling remaining columns with `missing`\n",
      "thread = 1 warning: only found 29 / 31 columns around data row: 94. Filling remaining columns with `missing`\n",
      "thread = 1 warning: only found 29 / 31 columns around data row: 95. Filling remaining columns with `missing`\n",
      "thread = 1 warning: only found 29 / 31 columns around data row: 96. Filling remaining columns with `missing`\n"
     ]
    },
    {
     "name": "stdout",
     "output_type": "stream",
     "text": [
      "thread = 1 warning: only found 29 / 31 columns around data row: 97. Filling remaining columns with `missing`\n",
      "thread = 1 warning: only found 29 / 31 columns around data row: 98. Filling remaining columns with `missing`\n",
      "thread = 1 warning: only found 29 / 31 columns around data row: 99. Filling remaining columns with `missing`\n",
      "thread = 1 warning: only found 29 / 31 columns around data row: 100. Filling remaining columns with `missing`\n",
      "thread = 1 warning: only found 29 / 31 columns around data row: 101. Filling remaining columns with `missing`\n",
      "thread = 1 warning: only found 29 / 31 columns around data row: 102. Filling remaining columns with `missing`\n",
      "thread = 1 warning: only found 29 / 31 columns around data row: 103. Filling remaining columns with `missing`\n",
      "thread = 1 warning: only found 29 / 31 columns around data row: 104. Filling remaining columns with `missing`\n",
      "thread = 1 warning: only found 29 / 31 columns around data row: 105. Filling remaining columns with `missing`\n",
      "thread = 1 warning: only found 29 / 31 columns around data row: 106. Filling remaining columns with `missing`\n",
      "thread = 1 warning: only found 29 / 31 columns around data row: 107. Filling remaining columns with `missing`\n",
      "thread = 1 warning: only found 29 / 31 columns around data row: 108. Filling remaining columns with `missing`\n",
      "thread = 1 warning: only found 29 / 31 columns around data row: 109. Filling remaining columns with `missing`\n",
      "thread = 1 warning: only found 29 / 31 columns around data row: 110. Filling remaining columns with `missing`\n",
      "thread = 1 warning: only found 29 / 31 columns around data row: 111. Filling remaining columns with `missing`\n",
      "thread = 1 warning: only found 29 / 31 columns around data row: 112. Filling remaining columns with `missing`\n",
      "thread = 1 warning: only found 29 / 31 columns around data row: 113. Filling remaining columns with `missing`\n",
      "thread = 1 warning: only found 29 / 31 columns around data row: 114. Filling remaining columns with `missing`\n",
      "thread = 1 warning: only found 29 / 31 columns around data row: 115. Filling remaining columns with `missing`\n",
      "thread = 1 warning: only found 29 / 31 columns around data row: 116. Filling remaining columns with `missing`\n",
      "thread = 1 warning: only found 29 / 31 columns around data row: 117. Filling remaining columns with `missing`\n",
      "thread = 1 warning: only found 29 / 31 columns around data row: 118. Filling remaining columns with `missing`\n",
      "thread = 1 warning: only found 29 / 31 columns around data row: 119. Filling remaining columns with `missing`\n",
      "thread = 1 warning: only found 29 / 31 columns around data row: 120. Filling remaining columns with `missing`\n",
      "thread = 1 warning: only found 29 / 31 columns around data row: 121. Filling remaining columns with `missing`\n",
      "thread = 1 warning: only found 29 / 31 columns around data row: 122. Filling remaining columns with `missing`\n",
      "thread = 1 warning: only found 29 / 31 columns around data row: 123. Filling remaining columns with `missing`\n",
      "thread = 1 warning: only found 29 / 31 columns around data row: 124. Filling remaining columns with `missing`\n",
      "thread = 1 warning: only found 29 / 31 columns around data row: 125. Filling remaining columns with `missing`\n",
      "thread = 1 warning: only found 29 / 31 columns around data row: 126. Filling remaining columns with `missing`\n",
      "thread = 1 warning: only found 29 / 31 columns around data row: 127. Filling remaining columns with `missing`\n",
      "thread = 1 warning: only found 29 / 31 columns around data row: 128. Filling remaining columns with `missing`\n",
      "thread = 1 warning: only found 29 / 31 columns around data row: 129. Filling remaining columns with `missing`\n",
      "thread = 1 warning: only found 29 / 31 columns around data row: 130. Filling remaining columns with `missing`\n",
      "thread = 1 warning: only found 29 / 31 columns around data row: 131. Filling remaining columns with `missing`\n",
      "thread = 1 warning: only found 29 / 31 columns around data row: 132. Filling remaining columns with `missing`\n",
      "thread = 1 warning: only found 29 / 31 columns around data row: 133. Filling remaining columns with `missing`\n",
      "thread = 1 warning: only found 29 / 31 columns around data row: 134. Filling remaining columns with `missing`\n",
      "thread = 1 warning: only found 29 / 31 columns around data row: 135. Filling remaining columns with `missing`\n",
      "thread = 1 warning: only found 29 / 31 columns around data row: 136. Filling remaining columns with `missing`\n",
      "thread = 1 warning: only found 29 / 31 columns around data row: 137. Filling remaining columns with `missing`\n",
      "thread = 1 warning: only found 29 / 31 columns around data row: 138. Filling remaining columns with `missing`\n",
      "thread = 1 warning: only found 29 / 31 columns around data row: 139. Filling remaining columns with `missing`\n",
      "thread = 1 warning: only found 29 / 31 columns around data row: 140. Filling remaining columns with `missing`\n",
      "thread = 1 warning: only found 29 / 31 columns around data row: 141. Filling remaining columns with `missing`\n",
      "thread = 1 warning: only found 29 / 31 columns around data row: 142. Filling remaining columns with `missing`\n",
      "thread = 1 warning: only found 29 / 31 columns around data row: 143. Filling remaining columns with `missing`\n",
      "thread = 1 warning: only found 29 / 31 columns around data row: 144. Filling remaining columns with `missing`\n",
      "thread = 1 warning: only found 29 / 31 columns around data row: 145. Filling remaining columns with `missing`\n",
      "thread = 1 warning: only found 29 / 31 columns around data row: 146. Filling remaining columns with `missing`\n",
      "thread = 1 warning: only found 29 / 31 columns around data row: 147. Filling remaining columns with `missing`\n",
      "thread = 1 warning: only found 29 / 31 columns around data row: 148. Filling remaining columns with `missing`\n",
      "thread = 1 warning: only found 29 / 31 columns around data row: 149. Filling remaining columns with `missing`\n",
      "thread = 1 warning: only found 29 / 31 columns around data row: 150. Filling remaining columns with `missing`\n",
      "thread = 1 warning: only found 29 / 31 columns around data row: 151. Filling remaining columns with `missing`\n",
      "thread = 1 warning: only found 29 / 31 columns around data row: 152. Filling remaining columns with `missing`\n",
      "thread = 1 warning: only found 29 / 31 columns around data row: 153. Filling remaining columns with `missing`\n",
      "thread = 1 warning: only found 29 / 31 columns around data row: 154. Filling remaining columns with `missing`\n",
      "thread = 1 warning: only found 29 / 31 columns around data row: 155. Filling remaining columns with `missing`\n",
      "thread = 1 warning: only found 29 / 31 columns around data row: 156. Filling remaining columns with `missing`\n",
      "thread = 1 warning: only found 29 / 31 columns around data row: 157. Filling remaining columns with `missing`\n",
      "thread = 1 warning: only found 29 / 31 columns around data row: 158. Filling remaining columns with `missing`\n",
      "thread = 1 warning: only found 29 / 31 columns around data row: 159. Filling remaining columns with `missing`\n",
      "thread = 1 warning: only found 29 / 31 columns around data row: 160. Filling remaining columns with `missing`\n",
      "thread = 1 warning: only found 29 / 31 columns around data row: 161. Filling remaining columns with `missing`\n",
      "thread = 1 warning: only found 29 / 31 columns around data row: 162. Filling remaining columns with `missing`\n",
      "thread = 1 warning: only found 29 / 31 columns around data row: 163. Filling remaining columns with `missing`\n",
      "thread = 1 warning: only found 29 / 31 columns around data row: 164. Filling remaining columns with `missing`\n",
      "thread = 1 warning: only found 29 / 31 columns around data row: 165. Filling remaining columns with `missing`\n",
      "thread = 1 warning: only found 29 / 31 columns around data row: 166. Filling remaining columns with `missing`\n",
      "thread = 1 warning: only found 29 / 31 columns around data row: 167. Filling remaining columns with `missing`\n",
      "thread = 1 warning: only found 29 / 31 columns around data row: 168. Filling remaining columns with `missing`\n",
      "thread = 1 warning: only found 29 / 31 columns around data row: 169. Filling remaining columns with `missing`\n",
      "thread = 1 warning: only found 29 / 31 columns around data row: 170. Filling remaining columns with `missing`\n",
      "thread = 1 warning: only found 29 / 31 columns around data row: 171. Filling remaining columns with `missing`\n",
      "thread = 1 warning: only found 29 / 31 columns around data row: 172. Filling remaining columns with `missing`\n",
      "thread = 1 warning: only found 29 / 31 columns around data row: 173. Filling remaining columns with `missing`\n",
      "thread = 1 warning: only found 29 / 31 columns around data row: 174. Filling remaining columns with `missing`\n",
      "thread = 1 warning: only found 29 / 31 columns around data row: 175. Filling remaining columns with `missing`\n",
      "thread = 1 warning: only found 29 / 31 columns around data row: 176. Filling remaining columns with `missing`\n",
      "thread = 1 warning: only found 29 / 31 columns around data row: 177. Filling remaining columns with `missing`\n",
      "thread = 1 warning: only found 29 / 31 columns around data row: 178. Filling remaining columns with `missing`\n",
      "thread = 1 warning: only found 29 / 31 columns around data row: 179. Filling remaining columns with `missing`\n",
      "thread = 1 warning: only found 29 / 31 columns around data row: 180. Filling remaining columns with `missing`\n",
      "thread = 1 warning: only found 29 / 31 columns around data row: 181. Filling remaining columns with `missing`\n",
      "thread = 1 warning: only found 29 / 31 columns around data row: 182. Filling remaining columns with `missing`\n",
      "thread = 1 warning: only found 29 / 31 columns around data row: 183. Filling remaining columns with `missing`\n",
      "thread = 1 warning: only found 29 / 31 columns around data row: 184. Filling remaining columns with `missing`\n",
      "thread = 1 warning: only found 29 / 31 columns around data row: 185. Filling remaining columns with `missing`\n",
      "thread = 1 warning: only found 29 / 31 columns around data row: 186. Filling remaining columns with `missing`\n",
      "thread = 1 warning: only found 29 / 31 columns around data row: 187. Filling remaining columns with `missing`\n",
      "thread = 1 warning: only found 29 / 31 columns around data row: 188. Filling remaining columns with `missing`\n",
      "thread = 1 warning: only found 29 / 31 columns around data row: 189. Filling remaining columns with `missing`\n",
      "thread = 1 warning: only found 29 / 31 columns around data row: 190. Filling remaining columns with `missing`\n"
     ]
    },
    {
     "name": "stdout",
     "output_type": "stream",
     "text": [
      "thread = 1 warning: only found 29 / 31 columns around data row: 191. Filling remaining columns with `missing`\n",
      "thread = 1 warning: only found 29 / 31 columns around data row: 192. Filling remaining columns with `missing`\n",
      "thread = 1 warning: only found 29 / 31 columns around data row: 193. Filling remaining columns with `missing`\n",
      "thread = 1 warning: only found 29 / 31 columns around data row: 194. Filling remaining columns with `missing`\n",
      "thread = 1 warning: only found 29 / 31 columns around data row: 195. Filling remaining columns with `missing`\n",
      "thread = 1 warning: only found 29 / 31 columns around data row: 196. Filling remaining columns with `missing`\n",
      "thread = 1 warning: only found 29 / 31 columns around data row: 197. Filling remaining columns with `missing`\n",
      "thread = 1 warning: only found 29 / 31 columns around data row: 198. Filling remaining columns with `missing`\n",
      "thread = 1 warning: only found 29 / 31 columns around data row: 199. Filling remaining columns with `missing`\n",
      "thread = 1 warning: only found 29 / 31 columns around data row: 200. Filling remaining columns with `missing`\n",
      "thread = 1 warning: only found 29 / 31 columns around data row: 201. Filling remaining columns with `missing`\n",
      "thread = 1 warning: only found 29 / 31 columns around data row: 202. Filling remaining columns with `missing`\n",
      "thread = 1 warning: only found 29 / 31 columns around data row: 203. Filling remaining columns with `missing`\n",
      "thread = 1 warning: only found 29 / 31 columns around data row: 204. Filling remaining columns with `missing`\n",
      "thread = 1 warning: only found 29 / 31 columns around data row: 205. Filling remaining columns with `missing`\n",
      "thread = 1 warning: only found 29 / 31 columns around data row: 206. Filling remaining columns with `missing`\n",
      "thread = 1 warning: only found 29 / 31 columns around data row: 207. Filling remaining columns with `missing`\n",
      "thread = 1 warning: only found 29 / 31 columns around data row: 208. Filling remaining columns with `missing`\n",
      "thread = 1 warning: only found 29 / 31 columns around data row: 209. Filling remaining columns with `missing`\n",
      "thread = 1 warning: only found 29 / 31 columns around data row: 210. Filling remaining columns with `missing`\n",
      "thread = 1 warning: only found 29 / 31 columns around data row: 211. Filling remaining columns with `missing`\n",
      "thread = 1 warning: only found 29 / 31 columns around data row: 212. Filling remaining columns with `missing`\n",
      "thread = 1 warning: only found 29 / 31 columns around data row: 213. Filling remaining columns with `missing`\n",
      "thread = 1 warning: only found 29 / 31 columns around data row: 214. Filling remaining columns with `missing`\n",
      "thread = 1 warning: only found 29 / 31 columns around data row: 215. Filling remaining columns with `missing`\n",
      "thread = 1 warning: only found 29 / 31 columns around data row: 216. Filling remaining columns with `missing`\n",
      "thread = 1 warning: only found 29 / 31 columns around data row: 217. Filling remaining columns with `missing`\n",
      "thread = 1 warning: only found 29 / 31 columns around data row: 218. Filling remaining columns with `missing`\n",
      "thread = 1 warning: only found 29 / 31 columns around data row: 219. Filling remaining columns with `missing`\n",
      "thread = 1 warning: only found 29 / 31 columns around data row: 220. Filling remaining columns with `missing`\n",
      "thread = 1 warning: only found 29 / 31 columns around data row: 221. Filling remaining columns with `missing`\n",
      "thread = 1 warning: only found 29 / 31 columns around data row: 222. Filling remaining columns with `missing`\n",
      "thread = 1 warning: only found 29 / 31 columns around data row: 223. Filling remaining columns with `missing`\n",
      "thread = 1 warning: only found 29 / 31 columns around data row: 224. Filling remaining columns with `missing`\n",
      "thread = 1 warning: only found 29 / 31 columns around data row: 225. Filling remaining columns with `missing`\n",
      "thread = 1 warning: only found 29 / 31 columns around data row: 226. Filling remaining columns with `missing`\n",
      "thread = 1 warning: only found 29 / 31 columns around data row: 227. Filling remaining columns with `missing`\n",
      "thread = 1 warning: only found 29 / 31 columns around data row: 228. Filling remaining columns with `missing`\n",
      "thread = 1 warning: only found 29 / 31 columns around data row: 229. Filling remaining columns with `missing`\n",
      "thread = 1 warning: only found 29 / 31 columns around data row: 230. Filling remaining columns with `missing`\n",
      "thread = 1 warning: only found 29 / 31 columns around data row: 231. Filling remaining columns with `missing`\n",
      "thread = 1 warning: only found 29 / 31 columns around data row: 232. Filling remaining columns with `missing`\n",
      "thread = 1 warning: only found 29 / 31 columns around data row: 233. Filling remaining columns with `missing`\n",
      "thread = 1 warning: only found 29 / 31 columns around data row: 234. Filling remaining columns with `missing`\n",
      "thread = 1 warning: only found 29 / 31 columns around data row: 235. Filling remaining columns with `missing`\n",
      "thread = 1 warning: only found 29 / 31 columns around data row: 236. Filling remaining columns with `missing`\n",
      "thread = 1 warning: only found 29 / 31 columns around data row: 237. Filling remaining columns with `missing`\n",
      "thread = 1 warning: only found 29 / 31 columns around data row: 238. Filling remaining columns with `missing`\n",
      "thread = 1 warning: only found 29 / 31 columns around data row: 239. Filling remaining columns with `missing`\n",
      "thread = 1 warning: only found 29 / 31 columns around data row: 240. Filling remaining columns with `missing`\n",
      "thread = 1 warning: only found 29 / 31 columns around data row: 241. Filling remaining columns with `missing`\n",
      "thread = 1 warning: only found 29 / 31 columns around data row: 242. Filling remaining columns with `missing`\n",
      "thread = 1 warning: only found 29 / 31 columns around data row: 243. Filling remaining columns with `missing`\n",
      "thread = 1 warning: only found 29 / 31 columns around data row: 244. Filling remaining columns with `missing`\n",
      "thread = 1 warning: only found 29 / 31 columns around data row: 245. Filling remaining columns with `missing`\n",
      "thread = 1 warning: only found 29 / 31 columns around data row: 246. Filling remaining columns with `missing`\n",
      "thread = 1 warning: only found 29 / 31 columns around data row: 247. Filling remaining columns with `missing`\n",
      "thread = 1 warning: only found 29 / 31 columns around data row: 248. Filling remaining columns with `missing`\n",
      "thread = 1 warning: only found 29 / 31 columns around data row: 249. Filling remaining columns with `missing`\n",
      "thread = 1 warning: only found 29 / 31 columns around data row: 250. Filling remaining columns with `missing`\n",
      "thread = 1 warning: only found 29 / 31 columns around data row: 251. Filling remaining columns with `missing`\n",
      "thread = 1 warning: only found 29 / 31 columns around data row: 252. Filling remaining columns with `missing`\n",
      "thread = 1 warning: only found 29 / 31 columns around data row: 253. Filling remaining columns with `missing`\n",
      "thread = 1 warning: only found 29 / 31 columns around data row: 254. Filling remaining columns with `missing`\n",
      "thread = 1 warning: only found 29 / 31 columns around data row: 255. Filling remaining columns with `missing`\n",
      "thread = 1 warning: only found 29 / 31 columns around data row: 256. Filling remaining columns with `missing`\n",
      "thread = 1 warning: only found 29 / 31 columns around data row: 257. Filling remaining columns with `missing`\n",
      "thread = 1 warning: only found 29 / 31 columns around data row: 258. Filling remaining columns with `missing`\n",
      "thread = 1 warning: only found 29 / 31 columns around data row: 259. Filling remaining columns with `missing`\n",
      "thread = 1 warning: only found 29 / 31 columns around data row: 260. Filling remaining columns with `missing`\n",
      "thread = 1 warning: only found 29 / 31 columns around data row: 261. Filling remaining columns with `missing`\n",
      "thread = 1 warning: only found 29 / 31 columns around data row: 262. Filling remaining columns with `missing`\n",
      "thread = 1 warning: only found 29 / 31 columns around data row: 263. Filling remaining columns with `missing`\n",
      "thread = 1 warning: only found 29 / 31 columns around data row: 264. Filling remaining columns with `missing`\n",
      "thread = 1 warning: only found 29 / 31 columns around data row: 265. Filling remaining columns with `missing`\n",
      "thread = 1 warning: only found 29 / 31 columns around data row: 266. Filling remaining columns with `missing`\n",
      "thread = 1 warning: only found 29 / 31 columns around data row: 267. Filling remaining columns with `missing`\n",
      "thread = 1 warning: only found 29 / 31 columns around data row: 268. Filling remaining columns with `missing`\n",
      "thread = 1 warning: only found 29 / 31 columns around data row: 269. Filling remaining columns with `missing`\n",
      "thread = 1 warning: only found 29 / 31 columns around data row: 270. Filling remaining columns with `missing`\n",
      "thread = 1 warning: only found 29 / 31 columns around data row: 271. Filling remaining columns with `missing`\n",
      "thread = 1 warning: only found 29 / 31 columns around data row: 272. Filling remaining columns with `missing`\n",
      "thread = 1 warning: only found 29 / 31 columns around data row: 273. Filling remaining columns with `missing`\n",
      "thread = 1 warning: only found 29 / 31 columns around data row: 274. Filling remaining columns with `missing`\n",
      "thread = 1 warning: only found 29 / 31 columns around data row: 275. Filling remaining columns with `missing`\n",
      "thread = 1 warning: only found 29 / 31 columns around data row: 276. Filling remaining columns with `missing`\n",
      "thread = 1 warning: only found 29 / 31 columns around data row: 277. Filling remaining columns with `missing`\n",
      "thread = 1 warning: only found 29 / 31 columns around data row: 278. Filling remaining columns with `missing`\n",
      "thread = 1 warning: only found 29 / 31 columns around data row: 279. Filling remaining columns with `missing`\n",
      "thread = 1 warning: only found 29 / 31 columns around data row: 280. Filling remaining columns with `missing`\n",
      "thread = 1 warning: only found 29 / 31 columns around data row: 281. Filling remaining columns with `missing`\n",
      "thread = 1 warning: only found 29 / 31 columns around data row: 282. Filling remaining columns with `missing`\n",
      "thread = 1 warning: only found 29 / 31 columns around data row: 283. Filling remaining columns with `missing`\n",
      "thread = 1 warning: only found 29 / 31 columns around data row: 284. Filling remaining columns with `missing`\n"
     ]
    },
    {
     "name": "stdout",
     "output_type": "stream",
     "text": [
      "thread = 1 warning: only found 29 / 31 columns around data row: 285. Filling remaining columns with `missing`\n",
      "thread = 1 warning: only found 29 / 31 columns around data row: 286. Filling remaining columns with `missing`\n",
      "thread = 1 warning: only found 29 / 31 columns around data row: 287. Filling remaining columns with `missing`\n",
      "thread = 1 warning: only found 29 / 31 columns around data row: 288. Filling remaining columns with `missing`\n",
      "thread = 1 warning: only found 29 / 31 columns around data row: 289. Filling remaining columns with `missing`\n",
      "thread = 1 warning: only found 29 / 31 columns around data row: 290. Filling remaining columns with `missing`\n",
      "thread = 1 warning: only found 29 / 31 columns around data row: 291. Filling remaining columns with `missing`\n",
      "thread = 1 warning: only found 29 / 31 columns around data row: 292. Filling remaining columns with `missing`\n",
      "thread = 1 warning: only found 29 / 31 columns around data row: 293. Filling remaining columns with `missing`\n",
      "thread = 1 warning: only found 29 / 31 columns around data row: 294. Filling remaining columns with `missing`\n",
      "thread = 1 warning: only found 29 / 31 columns around data row: 295. Filling remaining columns with `missing`\n",
      "thread = 1 warning: only found 29 / 31 columns around data row: 296. Filling remaining columns with `missing`\n",
      "thread = 1 warning: only found 29 / 31 columns around data row: 297. Filling remaining columns with `missing`\n",
      "thread = 1 warning: only found 29 / 31 columns around data row: 298. Filling remaining columns with `missing`\n",
      "thread = 1 warning: only found 29 / 31 columns around data row: 299. Filling remaining columns with `missing`\n",
      "thread = 1 warning: only found 29 / 31 columns around data row: 300. Filling remaining columns with `missing`\n",
      "thread = 1 warning: only found 29 / 31 columns around data row: 301. Filling remaining columns with `missing`\n",
      "thread = 1 warning: only found 29 / 31 columns around data row: 302. Filling remaining columns with `missing`\n",
      "thread = 1 warning: only found 29 / 31 columns around data row: 303. Filling remaining columns with `missing`\n",
      "thread = 1 warning: only found 29 / 31 columns around data row: 304. Filling remaining columns with `missing`\n",
      "thread = 1 warning: only found 29 / 31 columns around data row: 305. Filling remaining columns with `missing`\n",
      "thread = 1 warning: only found 29 / 31 columns around data row: 306. Filling remaining columns with `missing`\n",
      "thread = 1 warning: only found 29 / 31 columns around data row: 307. Filling remaining columns with `missing`\n",
      "thread = 1 warning: only found 29 / 31 columns around data row: 308. Filling remaining columns with `missing`\n",
      "thread = 1 warning: only found 29 / 31 columns around data row: 309. Filling remaining columns with `missing`\n",
      "thread = 1 warning: only found 29 / 31 columns around data row: 310. Filling remaining columns with `missing`\n",
      "thread = 1 warning: only found 29 / 31 columns around data row: 311. Filling remaining columns with `missing`\n",
      "thread = 1 warning: only found 29 / 31 columns around data row: 312. Filling remaining columns with `missing`\n",
      "thread = 1 warning: only found 29 / 31 columns around data row: 313. Filling remaining columns with `missing`\n",
      "thread = 1 warning: only found 29 / 31 columns around data row: 314. Filling remaining columns with `missing`\n",
      "thread = 1 warning: only found 29 / 31 columns around data row: 315. Filling remaining columns with `missing`\n",
      "thread = 1 warning: only found 29 / 31 columns around data row: 316. Filling remaining columns with `missing`\n",
      "thread = 1 warning: only found 29 / 31 columns around data row: 317. Filling remaining columns with `missing`\n",
      "thread = 1 warning: only found 29 / 31 columns around data row: 318. Filling remaining columns with `missing`\n",
      "thread = 1 warning: only found 29 / 31 columns around data row: 319. Filling remaining columns with `missing`\n",
      "thread = 1 warning: only found 29 / 31 columns around data row: 320. Filling remaining columns with `missing`\n",
      "thread = 1 warning: only found 29 / 31 columns around data row: 321. Filling remaining columns with `missing`\n",
      "thread = 1 warning: only found 29 / 31 columns around data row: 322. Filling remaining columns with `missing`\n",
      "thread = 1 warning: only found 29 / 31 columns around data row: 323. Filling remaining columns with `missing`\n",
      "thread = 1 warning: only found 29 / 31 columns around data row: 324. Filling remaining columns with `missing`\n",
      "thread = 1 warning: only found 29 / 31 columns around data row: 325. Filling remaining columns with `missing`\n",
      "thread = 1 warning: only found 29 / 31 columns around data row: 326. Filling remaining columns with `missing`\n",
      "thread = 1 warning: only found 29 / 31 columns around data row: 327. Filling remaining columns with `missing`\n",
      "thread = 1 warning: only found 29 / 31 columns around data row: 328. Filling remaining columns with `missing`\n",
      "thread = 1 warning: only found 29 / 31 columns around data row: 329. Filling remaining columns with `missing`\n",
      "thread = 1 warning: only found 29 / 31 columns around data row: 330. Filling remaining columns with `missing`\n",
      "thread = 1 warning: only found 29 / 31 columns around data row: 331. Filling remaining columns with `missing`\n",
      "thread = 1 warning: only found 29 / 31 columns around data row: 332. Filling remaining columns with `missing`\n",
      "thread = 1 warning: only found 29 / 31 columns around data row: 333. Filling remaining columns with `missing`\n",
      "thread = 1 warning: only found 29 / 31 columns around data row: 334. Filling remaining columns with `missing`\n",
      "thread = 1 warning: only found 29 / 31 columns around data row: 335. Filling remaining columns with `missing`\n",
      "thread = 1 warning: only found 29 / 31 columns around data row: 336. Filling remaining columns with `missing`\n",
      "thread = 1 warning: only found 29 / 31 columns around data row: 337. Filling remaining columns with `missing`\n",
      "thread = 1 warning: only found 29 / 31 columns around data row: 338. Filling remaining columns with `missing`\n",
      "thread = 1 warning: only found 29 / 31 columns around data row: 339. Filling remaining columns with `missing`\n",
      "thread = 1 warning: only found 29 / 31 columns around data row: 340. Filling remaining columns with `missing`\n",
      "thread = 1 warning: only found 29 / 31 columns around data row: 341. Filling remaining columns with `missing`\n",
      "thread = 1 warning: only found 29 / 31 columns around data row: 342. Filling remaining columns with `missing`\n",
      "thread = 1 warning: only found 29 / 31 columns around data row: 343. Filling remaining columns with `missing`\n",
      "thread = 1 warning: only found 29 / 31 columns around data row: 344. Filling remaining columns with `missing`\n",
      "thread = 1 warning: only found 29 / 31 columns around data row: 345. Filling remaining columns with `missing`\n",
      "thread = 1 warning: only found 29 / 31 columns around data row: 346. Filling remaining columns with `missing`\n",
      "thread = 1 warning: only found 29 / 31 columns around data row: 347. Filling remaining columns with `missing`\n",
      "thread = 1 warning: only found 29 / 31 columns around data row: 348. Filling remaining columns with `missing`\n",
      "thread = 1 warning: only found 29 / 31 columns around data row: 349. Filling remaining columns with `missing`\n",
      "thread = 1 warning: only found 29 / 31 columns around data row: 350. Filling remaining columns with `missing`\n",
      "thread = 1 warning: only found 29 / 31 columns around data row: 351. Filling remaining columns with `missing`\n",
      "thread = 1 warning: only found 29 / 31 columns around data row: 352. Filling remaining columns with `missing`\n",
      "thread = 1 warning: only found 29 / 31 columns around data row: 353. Filling remaining columns with `missing`\n",
      "thread = 1 warning: only found 29 / 31 columns around data row: 354. Filling remaining columns with `missing`\n",
      "thread = 1 warning: only found 29 / 31 columns around data row: 355. Filling remaining columns with `missing`\n",
      "thread = 1 warning: only found 29 / 31 columns around data row: 356. Filling remaining columns with `missing`\n",
      "thread = 1 warning: only found 29 / 31 columns around data row: 357. Filling remaining columns with `missing`\n",
      "thread = 1 warning: only found 29 / 31 columns around data row: 358. Filling remaining columns with `missing`\n",
      "thread = 1 warning: only found 29 / 31 columns around data row: 359. Filling remaining columns with `missing`\n",
      "thread = 1 warning: only found 29 / 31 columns around data row: 360. Filling remaining columns with `missing`\n",
      "thread = 1 warning: only found 29 / 31 columns around data row: 361. Filling remaining columns with `missing`\n",
      "thread = 1 warning: only found 29 / 31 columns around data row: 362. Filling remaining columns with `missing`\n",
      "thread = 1 warning: only found 29 / 31 columns around data row: 363. Filling remaining columns with `missing`\n",
      "thread = 1 warning: only found 29 / 31 columns around data row: 364. Filling remaining columns with `missing`\n",
      "thread = 1 warning: only found 29 / 31 columns around data row: 365. Filling remaining columns with `missing`\n",
      "thread = 1 warning: only found 29 / 31 columns around data row: 366. Filling remaining columns with `missing`\n",
      "thread = 1 warning: only found 29 / 31 columns around data row: 367. Filling remaining columns with `missing`\n",
      "thread = 1 warning: only found 29 / 31 columns around data row: 368. Filling remaining columns with `missing`\n",
      "thread = 1 warning: only found 29 / 31 columns around data row: 369. Filling remaining columns with `missing`\n",
      "thread = 1 warning: only found 29 / 31 columns around data row: 370. Filling remaining columns with `missing`\n",
      "thread = 1 warning: only found 29 / 31 columns around data row: 371. Filling remaining columns with `missing`\n",
      "thread = 1 warning: only found 29 / 31 columns around data row: 372. Filling remaining columns with `missing`\n",
      "thread = 1 warning: only found 29 / 31 columns around data row: 373. Filling remaining columns with `missing`\n",
      "thread = 1 warning: only found 29 / 31 columns around data row: 374. Filling remaining columns with `missing`\n",
      "thread = 1 warning: only found 29 / 31 columns around data row: 375. Filling remaining columns with `missing`\n",
      "thread = 1 warning: only found 29 / 31 columns around data row: 376. Filling remaining columns with `missing`\n",
      "thread = 1 warning: only found 29 / 31 columns around data row: 377. Filling remaining columns with `missing`\n",
      "thread = 1 warning: only found 29 / 31 columns around data row: 378. Filling remaining columns with `missing`\n"
     ]
    },
    {
     "name": "stdout",
     "output_type": "stream",
     "text": [
      "thread = 1 warning: only found 29 / 31 columns around data row: 379. Filling remaining columns with `missing`\n",
      "thread = 1 warning: only found 29 / 31 columns around data row: 380. Filling remaining columns with `missing`\n",
      "thread = 1 warning: only found 29 / 31 columns around data row: 381. Filling remaining columns with `missing`\n",
      "thread = 1 warning: only found 29 / 31 columns around data row: 382. Filling remaining columns with `missing`\n",
      "thread = 1 warning: only found 29 / 31 columns around data row: 383. Filling remaining columns with `missing`\n",
      "thread = 1 warning: only found 29 / 31 columns around data row: 384. Filling remaining columns with `missing`\n",
      "thread = 1 warning: only found 29 / 31 columns around data row: 385. Filling remaining columns with `missing`\n",
      "thread = 1 warning: only found 29 / 31 columns around data row: 386. Filling remaining columns with `missing`\n",
      "thread = 1 warning: only found 29 / 31 columns around data row: 387. Filling remaining columns with `missing`\n",
      "thread = 1 warning: only found 29 / 31 columns around data row: 388. Filling remaining columns with `missing`\n",
      "thread = 1 warning: only found 29 / 31 columns around data row: 389. Filling remaining columns with `missing`\n",
      "thread = 1 warning: only found 29 / 31 columns around data row: 390. Filling remaining columns with `missing`\n",
      "thread = 1 warning: only found 29 / 31 columns around data row: 391. Filling remaining columns with `missing`\n",
      "thread = 1 warning: only found 29 / 31 columns around data row: 392. Filling remaining columns with `missing`\n",
      "thread = 1 warning: only found 29 / 31 columns around data row: 393. Filling remaining columns with `missing`\n",
      "thread = 1 warning: only found 29 / 31 columns around data row: 394. Filling remaining columns with `missing`\n",
      "thread = 1 warning: only found 29 / 31 columns around data row: 395. Filling remaining columns with `missing`\n",
      "thread = 1 warning: only found 29 / 31 columns around data row: 396. Filling remaining columns with `missing`\n",
      "thread = 1 warning: only found 29 / 31 columns around data row: 397. Filling remaining columns with `missing`\n",
      "thread = 1 warning: only found 29 / 31 columns around data row: 398. Filling remaining columns with `missing`\n",
      "thread = 1 warning: only found 29 / 31 columns around data row: 399. Filling remaining columns with `missing`\n",
      "thread = 1 warning: only found 29 / 31 columns around data row: 400. Filling remaining columns with `missing`\n",
      "thread = 1 warning: only found 29 / 31 columns around data row: 401. Filling remaining columns with `missing`\n",
      "thread = 1 warning: only found 29 / 31 columns around data row: 402. Filling remaining columns with `missing`\n",
      "thread = 1 warning: only found 29 / 31 columns around data row: 403. Filling remaining columns with `missing`\n",
      "thread = 1 warning: only found 29 / 31 columns around data row: 404. Filling remaining columns with `missing`\n",
      "thread = 1 warning: only found 29 / 31 columns around data row: 405. Filling remaining columns with `missing`\n",
      "thread = 1 warning: only found 29 / 31 columns around data row: 406. Filling remaining columns with `missing`\n",
      "thread = 1 warning: only found 29 / 31 columns around data row: 407. Filling remaining columns with `missing`\n",
      "thread = 1 warning: only found 29 / 31 columns around data row: 408. Filling remaining columns with `missing`\n",
      "thread = 1 warning: only found 29 / 31 columns around data row: 409. Filling remaining columns with `missing`\n",
      "thread = 1 warning: only found 29 / 31 columns around data row: 410. Filling remaining columns with `missing`\n",
      "thread = 1 warning: only found 29 / 31 columns around data row: 411. Filling remaining columns with `missing`\n",
      "thread = 1 warning: only found 29 / 31 columns around data row: 412. Filling remaining columns with `missing`\n",
      "thread = 1 warning: only found 29 / 31 columns around data row: 413. Filling remaining columns with `missing`\n",
      "thread = 1 warning: only found 29 / 31 columns around data row: 414. Filling remaining columns with `missing`\n",
      "thread = 1 warning: only found 29 / 31 columns around data row: 415. Filling remaining columns with `missing`\n",
      "thread = 1 warning: only found 29 / 31 columns around data row: 416. Filling remaining columns with `missing`\n",
      "thread = 1 warning: only found 29 / 31 columns around data row: 417. Filling remaining columns with `missing`\n",
      "thread = 1 warning: only found 29 / 31 columns around data row: 418. Filling remaining columns with `missing`\n",
      "thread = 1 warning: only found 29 / 31 columns around data row: 419. Filling remaining columns with `missing`\n",
      "thread = 1 warning: only found 29 / 31 columns around data row: 420. Filling remaining columns with `missing`\n",
      "thread = 1 warning: only found 29 / 31 columns around data row: 421. Filling remaining columns with `missing`\n",
      "thread = 1 warning: only found 29 / 31 columns around data row: 422. Filling remaining columns with `missing`\n",
      "thread = 1 warning: only found 29 / 31 columns around data row: 423. Filling remaining columns with `missing`\n",
      "thread = 1 warning: only found 29 / 31 columns around data row: 424. Filling remaining columns with `missing`\n",
      "thread = 1 warning: only found 29 / 31 columns around data row: 425. Filling remaining columns with `missing`\n",
      "thread = 1 warning: only found 29 / 31 columns around data row: 426. Filling remaining columns with `missing`\n",
      "thread = 1 warning: only found 29 / 31 columns around data row: 427. Filling remaining columns with `missing`\n",
      "thread = 1 warning: only found 29 / 31 columns around data row: 428. Filling remaining columns with `missing`\n",
      "thread = 1 warning: only found 29 / 31 columns around data row: 429. Filling remaining columns with `missing`\n",
      "thread = 1 warning: only found 29 / 31 columns around data row: 430. Filling remaining columns with `missing`\n",
      "thread = 1 warning: only found 29 / 31 columns around data row: 431. Filling remaining columns with `missing`\n",
      "thread = 1 warning: only found 29 / 31 columns around data row: 432. Filling remaining columns with `missing`\n",
      "thread = 1 warning: only found 29 / 31 columns around data row: 433. Filling remaining columns with `missing`\n",
      "thread = 1 warning: only found 29 / 31 columns around data row: 434. Filling remaining columns with `missing`\n",
      "thread = 1 warning: only found 29 / 31 columns around data row: 435. Filling remaining columns with `missing`\n",
      "thread = 1 warning: only found 29 / 31 columns around data row: 436. Filling remaining columns with `missing`\n",
      "thread = 1 warning: only found 29 / 31 columns around data row: 437. Filling remaining columns with `missing`\n",
      "thread = 1 warning: only found 29 / 31 columns around data row: 438. Filling remaining columns with `missing`\n",
      "thread = 1 warning: only found 29 / 31 columns around data row: 439. Filling remaining columns with `missing`\n",
      "thread = 1 warning: only found 29 / 31 columns around data row: 440. Filling remaining columns with `missing`\n",
      "thread = 1 warning: only found 29 / 31 columns around data row: 441. Filling remaining columns with `missing`\n",
      "thread = 1 warning: only found 29 / 31 columns around data row: 442. Filling remaining columns with `missing`\n",
      "thread = 1 warning: only found 29 / 31 columns around data row: 443. Filling remaining columns with `missing`\n",
      "thread = 1 warning: only found 29 / 31 columns around data row: 444. Filling remaining columns with `missing`\n",
      "thread = 1 warning: only found 29 / 31 columns around data row: 445. Filling remaining columns with `missing`\n",
      "thread = 1 warning: only found 29 / 31 columns around data row: 446. Filling remaining columns with `missing`\n",
      "thread = 1 warning: only found 29 / 31 columns around data row: 447. Filling remaining columns with `missing`\n",
      "thread = 1 warning: only found 29 / 31 columns around data row: 448. Filling remaining columns with `missing`\n",
      "thread = 1 warning: only found 29 / 31 columns around data row: 449. Filling remaining columns with `missing`\n",
      "thread = 1 warning: only found 29 / 31 columns around data row: 450. Filling remaining columns with `missing`\n",
      "thread = 1 warning: only found 29 / 31 columns around data row: 451. Filling remaining columns with `missing`\n",
      "thread = 1 warning: only found 29 / 31 columns around data row: 452. Filling remaining columns with `missing`\n",
      "thread = 1 warning: only found 29 / 31 columns around data row: 453. Filling remaining columns with `missing`\n",
      "thread = 1 warning: only found 29 / 31 columns around data row: 454. Filling remaining columns with `missing`\n",
      "thread = 1 warning: only found 29 / 31 columns around data row: 455. Filling remaining columns with `missing`\n",
      "thread = 1 warning: only found 29 / 31 columns around data row: 456. Filling remaining columns with `missing`\n",
      "thread = 1 warning: only found 29 / 31 columns around data row: 457. Filling remaining columns with `missing`\n",
      "thread = 1 warning: only found 29 / 31 columns around data row: 458. Filling remaining columns with `missing`\n",
      "thread = 1 warning: only found 29 / 31 columns around data row: 459. Filling remaining columns with `missing`\n",
      "thread = 1 warning: only found 29 / 31 columns around data row: 460. Filling remaining columns with `missing`\n",
      "thread = 1 warning: only found 29 / 31 columns around data row: 461. Filling remaining columns with `missing`\n",
      "thread = 1 warning: only found 29 / 31 columns around data row: 462. Filling remaining columns with `missing`\n",
      "thread = 1 warning: only found 29 / 31 columns around data row: 463. Filling remaining columns with `missing`\n",
      "thread = 1 warning: only found 29 / 31 columns around data row: 464. Filling remaining columns with `missing`\n",
      "thread = 1 warning: only found 29 / 31 columns around data row: 465. Filling remaining columns with `missing`\n",
      "thread = 1 warning: only found 29 / 31 columns around data row: 466. Filling remaining columns with `missing`\n",
      "thread = 1 warning: only found 29 / 31 columns around data row: 467. Filling remaining columns with `missing`\n",
      "thread = 1 warning: only found 29 / 31 columns around data row: 468. Filling remaining columns with `missing`\n",
      "thread = 1 warning: only found 29 / 31 columns around data row: 469. Filling remaining columns with `missing`\n",
      "thread = 1 warning: only found 29 / 31 columns around data row: 470. Filling remaining columns with `missing`\n",
      "thread = 1 warning: only found 29 / 31 columns around data row: 471. Filling remaining columns with `missing`\n",
      "thread = 1 warning: only found 29 / 31 columns around data row: 472. Filling remaining columns with `missing`\n"
     ]
    },
    {
     "name": "stdout",
     "output_type": "stream",
     "text": [
      "thread = 1 warning: only found 29 / 31 columns around data row: 473. Filling remaining columns with `missing`\n",
      "thread = 1 warning: only found 29 / 31 columns around data row: 474. Filling remaining columns with `missing`\n",
      "thread = 1 warning: only found 29 / 31 columns around data row: 475. Filling remaining columns with `missing`\n",
      "thread = 1 warning: only found 29 / 31 columns around data row: 476. Filling remaining columns with `missing`\n",
      "thread = 1 warning: only found 29 / 31 columns around data row: 477. Filling remaining columns with `missing`\n",
      "thread = 1 warning: only found 29 / 31 columns around data row: 478. Filling remaining columns with `missing`\n",
      "thread = 1 warning: only found 29 / 31 columns around data row: 479. Filling remaining columns with `missing`\n",
      "thread = 1 warning: only found 29 / 31 columns around data row: 480. Filling remaining columns with `missing`\n",
      "thread = 1 warning: only found 29 / 31 columns around data row: 481. Filling remaining columns with `missing`\n",
      "thread = 1 warning: only found 29 / 31 columns around data row: 482. Filling remaining columns with `missing`\n",
      "thread = 1 warning: only found 29 / 31 columns around data row: 483. Filling remaining columns with `missing`\n",
      "thread = 1 warning: only found 29 / 31 columns around data row: 484. Filling remaining columns with `missing`\n",
      "thread = 1 warning: only found 29 / 31 columns around data row: 485. Filling remaining columns with `missing`\n",
      "thread = 1 warning: only found 29 / 31 columns around data row: 486. Filling remaining columns with `missing`\n",
      "thread = 1 warning: only found 29 / 31 columns around data row: 487. Filling remaining columns with `missing`\n",
      "thread = 1 warning: only found 29 / 31 columns around data row: 488. Filling remaining columns with `missing`\n",
      "thread = 1 warning: only found 29 / 31 columns around data row: 489. Filling remaining columns with `missing`\n",
      "thread = 1 warning: only found 29 / 31 columns around data row: 490. Filling remaining columns with `missing`\n",
      "thread = 1 warning: only found 29 / 31 columns around data row: 491. Filling remaining columns with `missing`\n",
      "thread = 1 warning: only found 29 / 31 columns around data row: 492. Filling remaining columns with `missing`\n",
      "thread = 1 warning: only found 29 / 31 columns around data row: 493. Filling remaining columns with `missing`\n",
      "thread = 1 warning: only found 29 / 31 columns around data row: 494. Filling remaining columns with `missing`\n",
      "thread = 1 warning: only found 29 / 31 columns around data row: 495. Filling remaining columns with `missing`\n",
      "thread = 1 warning: only found 29 / 31 columns around data row: 496. Filling remaining columns with `missing`\n",
      "thread = 1 warning: only found 29 / 31 columns around data row: 497. Filling remaining columns with `missing`\n",
      "thread = 1 warning: only found 29 / 31 columns around data row: 498. Filling remaining columns with `missing`\n",
      "thread = 1 warning: only found 29 / 31 columns around data row: 499. Filling remaining columns with `missing`\n",
      "thread = 1 warning: only found 29 / 31 columns around data row: 500. Filling remaining columns with `missing`\n",
      "thread = 1 warning: only found 29 / 31 columns around data row: 501. Filling remaining columns with `missing`\n",
      "thread = 1 warning: only found 29 / 31 columns around data row: 502. Filling remaining columns with `missing`\n",
      "thread = 1 warning: only found 29 / 31 columns around data row: 503. Filling remaining columns with `missing`\n",
      "thread = 1 warning: only found 29 / 31 columns around data row: 504. Filling remaining columns with `missing`\n",
      "thread = 1 warning: only found 29 / 31 columns around data row: 505. Filling remaining columns with `missing`\n",
      "thread = 1 warning: only found 29 / 31 columns around data row: 506. Filling remaining columns with `missing`\n",
      "thread = 1 warning: only found 29 / 31 columns around data row: 507. Filling remaining columns with `missing`\n",
      "thread = 1 warning: only found 29 / 31 columns around data row: 508. Filling remaining columns with `missing`\n",
      "thread = 1 warning: only found 29 / 31 columns around data row: 509. Filling remaining columns with `missing`\n",
      "thread = 1 warning: only found 29 / 31 columns around data row: 510. Filling remaining columns with `missing`\n",
      "thread = 1 warning: only found 29 / 31 columns around data row: 511. Filling remaining columns with `missing`\n",
      "thread = 1 warning: only found 29 / 31 columns around data row: 512. Filling remaining columns with `missing`\n",
      "thread = 1 warning: only found 29 / 31 columns around data row: 513. Filling remaining columns with `missing`\n",
      "thread = 1 warning: only found 29 / 31 columns around data row: 514. Filling remaining columns with `missing`\n",
      "thread = 1 warning: only found 29 / 31 columns around data row: 515. Filling remaining columns with `missing`\n",
      "thread = 1 warning: only found 29 / 31 columns around data row: 516. Filling remaining columns with `missing`\n",
      "thread = 1 warning: only found 29 / 31 columns around data row: 517. Filling remaining columns with `missing`\n",
      "thread = 1 warning: only found 29 / 31 columns around data row: 518. Filling remaining columns with `missing`\n",
      "thread = 1 warning: only found 29 / 31 columns around data row: 519. Filling remaining columns with `missing`\n",
      "thread = 1 warning: only found 29 / 31 columns around data row: 520. Filling remaining columns with `missing`\n",
      "thread = 1 warning: only found 29 / 31 columns around data row: 521. Filling remaining columns with `missing`\n",
      "thread = 1 warning: only found 29 / 31 columns around data row: 522. Filling remaining columns with `missing`\n",
      "thread = 1 warning: only found 29 / 31 columns around data row: 523. Filling remaining columns with `missing`\n",
      "thread = 1 warning: only found 29 / 31 columns around data row: 524. Filling remaining columns with `missing`\n",
      "thread = 1 warning: only found 29 / 31 columns around data row: 525. Filling remaining columns with `missing`\n",
      "thread = 1 warning: only found 29 / 31 columns around data row: 526. Filling remaining columns with `missing`\n",
      "thread = 1 warning: only found 29 / 31 columns around data row: 527. Filling remaining columns with `missing`\n",
      "thread = 1 warning: only found 29 / 31 columns around data row: 528. Filling remaining columns with `missing`\n",
      "thread = 1 warning: only found 29 / 31 columns around data row: 529. Filling remaining columns with `missing`\n",
      "thread = 1 warning: only found 29 / 31 columns around data row: 530. Filling remaining columns with `missing`\n",
      "thread = 1 warning: only found 29 / 31 columns around data row: 531. Filling remaining columns with `missing`\n",
      "thread = 1 warning: only found 29 / 31 columns around data row: 532. Filling remaining columns with `missing`\n",
      "thread = 1 warning: only found 29 / 31 columns around data row: 533. Filling remaining columns with `missing`\n",
      "thread = 1 warning: only found 29 / 31 columns around data row: 534. Filling remaining columns with `missing`\n",
      "thread = 1 warning: only found 29 / 31 columns around data row: 535. Filling remaining columns with `missing`\n",
      "thread = 1 warning: only found 29 / 31 columns around data row: 536. Filling remaining columns with `missing`\n",
      "thread = 1 warning: only found 29 / 31 columns around data row: 537. Filling remaining columns with `missing`\n",
      "thread = 1 warning: only found 29 / 31 columns around data row: 538. Filling remaining columns with `missing`\n",
      "thread = 1 warning: only found 29 / 31 columns around data row: 539. Filling remaining columns with `missing`\n",
      "thread = 1 warning: only found 29 / 31 columns around data row: 540. Filling remaining columns with `missing`\n",
      "thread = 1 warning: only found 29 / 31 columns around data row: 541. Filling remaining columns with `missing`\n",
      "thread = 1 warning: only found 29 / 31 columns around data row: 542. Filling remaining columns with `missing`\n",
      "thread = 1 warning: only found 29 / 31 columns around data row: 543. Filling remaining columns with `missing`\n",
      "thread = 1 warning: only found 29 / 31 columns around data row: 544. Filling remaining columns with `missing`\n",
      "thread = 1 warning: only found 29 / 31 columns around data row: 545. Filling remaining columns with `missing`\n",
      "thread = 1 warning: only found 29 / 31 columns around data row: 546. Filling remaining columns with `missing`\n",
      "thread = 1 warning: only found 29 / 31 columns around data row: 547. Filling remaining columns with `missing`\n",
      "thread = 1 warning: only found 29 / 31 columns around data row: 548. Filling remaining columns with `missing`\n",
      "thread = 1 warning: only found 29 / 31 columns around data row: 549. Filling remaining columns with `missing`\n",
      "thread = 1 warning: only found 29 / 31 columns around data row: 550. Filling remaining columns with `missing`\n",
      "thread = 1 warning: only found 29 / 31 columns around data row: 551. Filling remaining columns with `missing`\n",
      "thread = 1 warning: only found 29 / 31 columns around data row: 552. Filling remaining columns with `missing`\n",
      "thread = 1 warning: only found 29 / 31 columns around data row: 553. Filling remaining columns with `missing`\n",
      "thread = 1 warning: only found 29 / 31 columns around data row: 554. Filling remaining columns with `missing`\n",
      "thread = 1 warning: only found 29 / 31 columns around data row: 555. Filling remaining columns with `missing`\n",
      "thread = 1 warning: only found 29 / 31 columns around data row: 556. Filling remaining columns with `missing`\n",
      "thread = 1 warning: only found 29 / 31 columns around data row: 557. Filling remaining columns with `missing`\n",
      "thread = 1 warning: only found 29 / 31 columns around data row: 558. Filling remaining columns with `missing`\n",
      "thread = 1 warning: only found 29 / 31 columns around data row: 559. Filling remaining columns with `missing`\n",
      "thread = 1 warning: only found 29 / 31 columns around data row: 560. Filling remaining columns with `missing`\n",
      "thread = 1 warning: only found 29 / 31 columns around data row: 561. Filling remaining columns with `missing`\n",
      "thread = 1 warning: only found 29 / 31 columns around data row: 562. Filling remaining columns with `missing`\n",
      "thread = 1 warning: only found 29 / 31 columns around data row: 563. Filling remaining columns with `missing`\n",
      "thread = 1 warning: only found 29 / 31 columns around data row: 564. Filling remaining columns with `missing`\n",
      "thread = 1 warning: only found 29 / 31 columns around data row: 565. Filling remaining columns with `missing`\n",
      "thread = 1 warning: only found 29 / 31 columns around data row: 566. Filling remaining columns with `missing`\n"
     ]
    },
    {
     "name": "stdout",
     "output_type": "stream",
     "text": [
      "thread = 1 warning: only found 29 / 31 columns around data row: 567. Filling remaining columns with `missing`\n",
      "thread = 1 warning: only found 29 / 31 columns around data row: 568. Filling remaining columns with `missing`\n",
      "thread = 1 warning: only found 29 / 31 columns around data row: 569. Filling remaining columns with `missing`\n",
      "thread = 1 warning: only found 29 / 31 columns around data row: 570. Filling remaining columns with `missing`\n",
      "thread = 1 warning: only found 29 / 31 columns around data row: 571. Filling remaining columns with `missing`\n",
      "thread = 1 warning: only found 29 / 31 columns around data row: 572. Filling remaining columns with `missing`\n",
      "thread = 1 warning: only found 29 / 31 columns around data row: 573. Filling remaining columns with `missing`\n",
      "thread = 1 warning: only found 29 / 31 columns around data row: 574. Filling remaining columns with `missing`\n",
      "thread = 1 warning: only found 29 / 31 columns around data row: 575. Filling remaining columns with `missing`\n",
      "thread = 1 warning: only found 29 / 31 columns around data row: 576. Filling remaining columns with `missing`\n",
      "thread = 1 warning: only found 29 / 31 columns around data row: 577. Filling remaining columns with `missing`\n",
      "thread = 1 warning: only found 29 / 31 columns around data row: 578. Filling remaining columns with `missing`\n",
      "thread = 1 warning: only found 29 / 31 columns around data row: 579. Filling remaining columns with `missing`\n",
      "thread = 1 warning: only found 29 / 31 columns around data row: 580. Filling remaining columns with `missing`\n",
      "thread = 1 warning: only found 29 / 31 columns around data row: 581. Filling remaining columns with `missing`\n",
      "thread = 1 warning: only found 29 / 31 columns around data row: 582. Filling remaining columns with `missing`\n",
      "thread = 1 warning: only found 29 / 31 columns around data row: 583. Filling remaining columns with `missing`\n",
      "thread = 1 warning: only found 29 / 31 columns around data row: 584. Filling remaining columns with `missing`\n",
      "thread = 1 warning: only found 29 / 31 columns around data row: 585. Filling remaining columns with `missing`\n",
      "thread = 1 warning: only found 29 / 31 columns around data row: 586. Filling remaining columns with `missing`\n",
      "thread = 1 warning: only found 29 / 31 columns around data row: 587. Filling remaining columns with `missing`\n",
      "thread = 1 warning: only found 29 / 31 columns around data row: 588. Filling remaining columns with `missing`\n",
      "thread = 1 warning: only found 29 / 31 columns around data row: 589. Filling remaining columns with `missing`\n",
      "thread = 1 warning: only found 29 / 31 columns around data row: 590. Filling remaining columns with `missing`\n",
      "thread = 1 warning: only found 29 / 31 columns around data row: 591. Filling remaining columns with `missing`\n",
      "thread = 1 warning: only found 29 / 31 columns around data row: 592. Filling remaining columns with `missing`\n",
      "thread = 1 warning: only found 29 / 31 columns around data row: 593. Filling remaining columns with `missing`\n",
      "thread = 1 warning: only found 29 / 31 columns around data row: 594. Filling remaining columns with `missing`\n",
      "thread = 1 warning: only found 29 / 31 columns around data row: 595. Filling remaining columns with `missing`\n",
      "thread = 1 warning: only found 29 / 31 columns around data row: 596. Filling remaining columns with `missing`\n",
      "thread = 1 warning: only found 29 / 31 columns around data row: 597. Filling remaining columns with `missing`\n",
      "thread = 1 warning: only found 29 / 31 columns around data row: 598. Filling remaining columns with `missing`\n",
      "thread = 1 warning: only found 29 / 31 columns around data row: 599. Filling remaining columns with `missing`\n",
      "thread = 1 warning: only found 29 / 31 columns around data row: 600. Filling remaining columns with `missing`\n",
      "thread = 1 warning: only found 29 / 31 columns around data row: 601. Filling remaining columns with `missing`\n",
      "thread = 1 warning: only found 29 / 31 columns around data row: 602. Filling remaining columns with `missing`\n",
      "thread = 1 warning: only found 29 / 31 columns around data row: 603. Filling remaining columns with `missing`\n",
      "thread = 1 warning: only found 29 / 31 columns around data row: 604. Filling remaining columns with `missing`\n",
      "thread = 1 warning: only found 29 / 31 columns around data row: 605. Filling remaining columns with `missing`\n",
      "thread = 1 warning: only found 29 / 31 columns around data row: 606. Filling remaining columns with `missing`\n",
      "thread = 1 warning: only found 29 / 31 columns around data row: 607. Filling remaining columns with `missing`\n",
      "thread = 1 warning: only found 29 / 31 columns around data row: 608. Filling remaining columns with `missing`\n",
      "thread = 1 warning: only found 29 / 31 columns around data row: 609. Filling remaining columns with `missing`\n",
      "thread = 1 warning: only found 29 / 31 columns around data row: 610. Filling remaining columns with `missing`\n",
      "thread = 1 warning: only found 29 / 31 columns around data row: 611. Filling remaining columns with `missing`\n",
      "thread = 1 warning: only found 29 / 31 columns around data row: 612. Filling remaining columns with `missing`\n",
      "thread = 1 warning: only found 29 / 31 columns around data row: 613. Filling remaining columns with `missing`\n",
      "thread = 1 warning: only found 29 / 31 columns around data row: 614. Filling remaining columns with `missing`\n",
      "thread = 1 warning: only found 29 / 31 columns around data row: 615. Filling remaining columns with `missing`\n",
      "thread = 1 warning: only found 29 / 31 columns around data row: 616. Filling remaining columns with `missing`\n",
      "thread = 1 warning: only found 29 / 31 columns around data row: 617. Filling remaining columns with `missing`\n",
      "thread = 1 warning: only found 29 / 31 columns around data row: 618. Filling remaining columns with `missing`\n",
      "thread = 1 warning: only found 29 / 31 columns around data row: 619. Filling remaining columns with `missing`\n",
      "thread = 1 warning: only found 29 / 31 columns around data row: 620. Filling remaining columns with `missing`\n",
      "thread = 1 warning: only found 29 / 31 columns around data row: 621. Filling remaining columns with `missing`\n",
      "thread = 1 warning: only found 29 / 31 columns around data row: 622. Filling remaining columns with `missing`\n",
      "thread = 1 warning: only found 29 / 31 columns around data row: 623. Filling remaining columns with `missing`\n",
      "thread = 1 warning: only found 29 / 31 columns around data row: 624. Filling remaining columns with `missing`\n",
      "thread = 1 warning: only found 29 / 31 columns around data row: 625. Filling remaining columns with `missing`\n",
      "thread = 1 warning: only found 29 / 31 columns around data row: 626. Filling remaining columns with `missing`\n",
      "thread = 1 warning: only found 29 / 31 columns around data row: 627. Filling remaining columns with `missing`\n",
      "thread = 1 warning: only found 29 / 31 columns around data row: 628. Filling remaining columns with `missing`\n",
      "thread = 1 warning: only found 29 / 31 columns around data row: 629. Filling remaining columns with `missing`\n",
      "thread = 1 warning: only found 29 / 31 columns around data row: 630. Filling remaining columns with `missing`\n",
      "thread = 1 warning: only found 29 / 31 columns around data row: 631. Filling remaining columns with `missing`\n",
      "thread = 1 warning: only found 29 / 31 columns around data row: 632. Filling remaining columns with `missing`\n",
      "thread = 1 warning: only found 29 / 31 columns around data row: 633. Filling remaining columns with `missing`\n",
      "thread = 1 warning: only found 29 / 31 columns around data row: 634. Filling remaining columns with `missing`\n",
      "thread = 1 warning: only found 29 / 31 columns around data row: 635. Filling remaining columns with `missing`\n",
      "thread = 1 warning: only found 29 / 31 columns around data row: 636. Filling remaining columns with `missing`\n",
      "thread = 1 warning: only found 29 / 31 columns around data row: 637. Filling remaining columns with `missing`\n",
      "thread = 1 warning: only found 29 / 31 columns around data row: 638. Filling remaining columns with `missing`\n",
      "thread = 1 warning: only found 29 / 31 columns around data row: 639. Filling remaining columns with `missing`\n",
      "thread = 1 warning: only found 29 / 31 columns around data row: 640. Filling remaining columns with `missing`\n",
      "thread = 1 warning: only found 29 / 31 columns around data row: 641. Filling remaining columns with `missing`\n",
      "thread = 1 warning: only found 29 / 31 columns around data row: 642. Filling remaining columns with `missing`\n",
      "thread = 1 warning: only found 29 / 31 columns around data row: 643. Filling remaining columns with `missing`\n",
      "thread = 1 warning: only found 29 / 31 columns around data row: 644. Filling remaining columns with `missing`\n",
      "thread = 1 warning: only found 29 / 31 columns around data row: 645. Filling remaining columns with `missing`\n",
      "thread = 1 warning: only found 29 / 31 columns around data row: 646. Filling remaining columns with `missing`\n",
      "thread = 1 warning: only found 29 / 31 columns around data row: 647. Filling remaining columns with `missing`\n",
      "thread = 1 warning: only found 29 / 31 columns around data row: 648. Filling remaining columns with `missing`\n",
      "thread = 1 warning: only found 29 / 31 columns around data row: 649. Filling remaining columns with `missing`\n",
      "thread = 1 warning: only found 29 / 31 columns around data row: 650. Filling remaining columns with `missing`\n",
      "thread = 1 warning: only found 29 / 31 columns around data row: 651. Filling remaining columns with `missing`\n",
      "thread = 1 warning: only found 29 / 31 columns around data row: 652. Filling remaining columns with `missing`\n",
      "thread = 1 warning: only found 29 / 31 columns around data row: 653. Filling remaining columns with `missing`\n",
      "thread = 1 warning: only found 29 / 31 columns around data row: 654. Filling remaining columns with `missing`\n",
      "thread = 1 warning: only found 29 / 31 columns around data row: 655. Filling remaining columns with `missing`\n",
      "thread = 1 warning: only found 29 / 31 columns around data row: 656. Filling remaining columns with `missing`\n",
      "thread = 1 warning: only found 29 / 31 columns around data row: 657. Filling remaining columns with `missing`\n",
      "thread = 1 warning: only found 29 / 31 columns around data row: 658. Filling remaining columns with `missing`\n",
      "thread = 1 warning: only found 29 / 31 columns around data row: 659. Filling remaining columns with `missing`\n",
      "thread = 1 warning: only found 29 / 31 columns around data row: 660. Filling remaining columns with `missing`\n"
     ]
    },
    {
     "name": "stdout",
     "output_type": "stream",
     "text": [
      "thread = 1 warning: only found 29 / 31 columns around data row: 661. Filling remaining columns with `missing`\n",
      "thread = 1 warning: only found 29 / 31 columns around data row: 662. Filling remaining columns with `missing`\n",
      "thread = 1 warning: only found 29 / 31 columns around data row: 663. Filling remaining columns with `missing`\n",
      "thread = 1 warning: only found 29 / 31 columns around data row: 664. Filling remaining columns with `missing`\n",
      "thread = 1 warning: only found 29 / 31 columns around data row: 665. Filling remaining columns with `missing`\n",
      "thread = 1 warning: only found 29 / 31 columns around data row: 666. Filling remaining columns with `missing`\n",
      "thread = 1 warning: only found 29 / 31 columns around data row: 667. Filling remaining columns with `missing`\n",
      "thread = 1 warning: only found 29 / 31 columns around data row: 668. Filling remaining columns with `missing`\n",
      "thread = 1 warning: only found 29 / 31 columns around data row: 669. Filling remaining columns with `missing`\n",
      "thread = 1 warning: only found 29 / 31 columns around data row: 670. Filling remaining columns with `missing`\n",
      "thread = 1 warning: only found 29 / 31 columns around data row: 671. Filling remaining columns with `missing`\n",
      "thread = 1 warning: only found 29 / 31 columns around data row: 672. Filling remaining columns with `missing`\n",
      "thread = 1 warning: only found 29 / 31 columns around data row: 673. Filling remaining columns with `missing`\n",
      "thread = 1 warning: only found 29 / 31 columns around data row: 674. Filling remaining columns with `missing`\n",
      "thread = 1 warning: only found 29 / 31 columns around data row: 675. Filling remaining columns with `missing`\n",
      "thread = 1 warning: only found 29 / 31 columns around data row: 676. Filling remaining columns with `missing`\n",
      "thread = 1 warning: only found 29 / 31 columns around data row: 677. Filling remaining columns with `missing`\n",
      "thread = 1 warning: only found 29 / 31 columns around data row: 678. Filling remaining columns with `missing`\n",
      "thread = 1 warning: only found 29 / 31 columns around data row: 679. Filling remaining columns with `missing`\n",
      "thread = 1 warning: only found 29 / 31 columns around data row: 680. Filling remaining columns with `missing`\n",
      "thread = 1 warning: only found 29 / 31 columns around data row: 681. Filling remaining columns with `missing`\n",
      "thread = 1 warning: only found 29 / 31 columns around data row: 682. Filling remaining columns with `missing`\n",
      "thread = 1 warning: only found 29 / 31 columns around data row: 683. Filling remaining columns with `missing`\n",
      "thread = 1 warning: only found 29 / 31 columns around data row: 684. Filling remaining columns with `missing`\n",
      "thread = 1 warning: only found 29 / 31 columns around data row: 685. Filling remaining columns with `missing`\n",
      "thread = 1 warning: only found 29 / 31 columns around data row: 686. Filling remaining columns with `missing`\n",
      "thread = 1 warning: only found 29 / 31 columns around data row: 687. Filling remaining columns with `missing`\n",
      "thread = 1 warning: only found 29 / 31 columns around data row: 688. Filling remaining columns with `missing`\n",
      "thread = 1 warning: only found 29 / 31 columns around data row: 689. Filling remaining columns with `missing`\n",
      "thread = 1 warning: only found 29 / 31 columns around data row: 690. Filling remaining columns with `missing`\n",
      "thread = 1 warning: only found 29 / 31 columns around data row: 691. Filling remaining columns with `missing`\n",
      "thread = 1 warning: only found 29 / 31 columns around data row: 692. Filling remaining columns with `missing`\n",
      "thread = 1 warning: only found 29 / 31 columns around data row: 693. Filling remaining columns with `missing`\n",
      "thread = 1 warning: only found 29 / 31 columns around data row: 694. Filling remaining columns with `missing`\n",
      "thread = 1 warning: only found 29 / 31 columns around data row: 695. Filling remaining columns with `missing`\n",
      "thread = 1 warning: only found 29 / 31 columns around data row: 696. Filling remaining columns with `missing`\n",
      "thread = 1 warning: only found 29 / 31 columns around data row: 697. Filling remaining columns with `missing`\n",
      "thread = 1 warning: only found 29 / 31 columns around data row: 698. Filling remaining columns with `missing`\n",
      "thread = 1 warning: only found 29 / 31 columns around data row: 699. Filling remaining columns with `missing`\n",
      "thread = 1 warning: only found 29 / 31 columns around data row: 700. Filling remaining columns with `missing`\n",
      "thread = 1 warning: only found 29 / 31 columns around data row: 701. Filling remaining columns with `missing`\n",
      "thread = 1 warning: only found 29 / 31 columns around data row: 702. Filling remaining columns with `missing`\n",
      "thread = 1 warning: only found 29 / 31 columns around data row: 703. Filling remaining columns with `missing`\n",
      "thread = 1 warning: only found 29 / 31 columns around data row: 704. Filling remaining columns with `missing`\n",
      "thread = 1 warning: only found 29 / 31 columns around data row: 705. Filling remaining columns with `missing`\n",
      "thread = 1 warning: only found 29 / 31 columns around data row: 706. Filling remaining columns with `missing`\n",
      "thread = 1 warning: only found 29 / 31 columns around data row: 707. Filling remaining columns with `missing`\n",
      "thread = 1 warning: only found 29 / 31 columns around data row: 708. Filling remaining columns with `missing`\n",
      "thread = 1 warning: only found 29 / 31 columns around data row: 709. Filling remaining columns with `missing`\n",
      "thread = 1 warning: only found 29 / 31 columns around data row: 710. Filling remaining columns with `missing`\n",
      "thread = 1 warning: only found 29 / 31 columns around data row: 711. Filling remaining columns with `missing`\n",
      "thread = 1 warning: only found 29 / 31 columns around data row: 712. Filling remaining columns with `missing`\n",
      "thread = 1 warning: only found 29 / 31 columns around data row: 713. Filling remaining columns with `missing`\n",
      "thread = 1 warning: only found 29 / 31 columns around data row: 714. Filling remaining columns with `missing`\n",
      "thread = 1 warning: only found 29 / 31 columns around data row: 715. Filling remaining columns with `missing`\n",
      "thread = 1 warning: only found 29 / 31 columns around data row: 716. Filling remaining columns with `missing`\n",
      "thread = 1 warning: only found 29 / 31 columns around data row: 717. Filling remaining columns with `missing`\n",
      "thread = 1 warning: only found 29 / 31 columns around data row: 718. Filling remaining columns with `missing`\n",
      "thread = 1 warning: only found 29 / 31 columns around data row: 719. Filling remaining columns with `missing`\n",
      "thread = 1 warning: only found 29 / 31 columns around data row: 720. Filling remaining columns with `missing`\n",
      "thread = 1 warning: only found 29 / 31 columns around data row: 721. Filling remaining columns with `missing`\n",
      "thread = 1 warning: only found 29 / 31 columns around data row: 722. Filling remaining columns with `missing`\n",
      "thread = 1 warning: only found 29 / 31 columns around data row: 723. Filling remaining columns with `missing`\n",
      "thread = 1 warning: only found 29 / 31 columns around data row: 724. Filling remaining columns with `missing`\n",
      "thread = 1 warning: only found 29 / 31 columns around data row: 725. Filling remaining columns with `missing`\n",
      "thread = 1 warning: only found 29 / 31 columns around data row: 726. Filling remaining columns with `missing`\n",
      "thread = 1 warning: only found 29 / 31 columns around data row: 727. Filling remaining columns with `missing`\n",
      "thread = 1 warning: only found 29 / 31 columns around data row: 728. Filling remaining columns with `missing`\n",
      "thread = 1 warning: only found 29 / 31 columns around data row: 729. Filling remaining columns with `missing`\n",
      "thread = 1 warning: only found 29 / 31 columns around data row: 730. Filling remaining columns with `missing`\n",
      "thread = 1 warning: only found 29 / 31 columns around data row: 731. Filling remaining columns with `missing`\n",
      "thread = 1 warning: only found 29 / 31 columns around data row: 732. Filling remaining columns with `missing`\n",
      "thread = 1 warning: only found 29 / 31 columns around data row: 733. Filling remaining columns with `missing`\n",
      "thread = 1 warning: only found 29 / 31 columns around data row: 734. Filling remaining columns with `missing`\n",
      "thread = 1 warning: only found 29 / 31 columns around data row: 735. Filling remaining columns with `missing`\n",
      "thread = 1 warning: only found 29 / 31 columns around data row: 736. Filling remaining columns with `missing`\n",
      "thread = 1 warning: only found 29 / 31 columns around data row: 737. Filling remaining columns with `missing`\n",
      "thread = 1 warning: only found 29 / 31 columns around data row: 738. Filling remaining columns with `missing`\n",
      "thread = 1 warning: only found 29 / 31 columns around data row: 739. Filling remaining columns with `missing`\n",
      "thread = 1 warning: only found 29 / 31 columns around data row: 740. Filling remaining columns with `missing`\n",
      "thread = 1 warning: only found 29 / 31 columns around data row: 741. Filling remaining columns with `missing`\n",
      "thread = 1 warning: only found 29 / 31 columns around data row: 742. Filling remaining columns with `missing`\n",
      "thread = 1 warning: only found 29 / 31 columns around data row: 743. Filling remaining columns with `missing`\n",
      "thread = 1 warning: only found 29 / 31 columns around data row: 744. Filling remaining columns with `missing`\n",
      "thread = 1 warning: only found 29 / 31 columns around data row: 745. Filling remaining columns with `missing`\n",
      "thread = 1 warning: only found 29 / 31 columns around data row: 746. Filling remaining columns with `missing`\n",
      "thread = 1 warning: only found 29 / 31 columns around data row: 747. Filling remaining columns with `missing`\n",
      "thread = 1 warning: only found 29 / 31 columns around data row: 748. Filling remaining columns with `missing`\n",
      "thread = 1 warning: only found 29 / 31 columns around data row: 749. Filling remaining columns with `missing`\n",
      "thread = 1 warning: only found 29 / 31 columns around data row: 750. Filling remaining columns with `missing`\n",
      "thread = 1 warning: only found 29 / 31 columns around data row: 751. Filling remaining columns with `missing`\n",
      "thread = 1 warning: only found 29 / 31 columns around data row: 752. Filling remaining columns with `missing`\n",
      "thread = 1 warning: only found 29 / 31 columns around data row: 753. Filling remaining columns with `missing`\n",
      "thread = 1 warning: only found 29 / 31 columns around data row: 754. Filling remaining columns with `missing`\n"
     ]
    },
    {
     "name": "stdout",
     "output_type": "stream",
     "text": [
      "thread = 1 warning: only found 29 / 31 columns around data row: 755. Filling remaining columns with `missing`\n",
      "thread = 1 warning: only found 29 / 31 columns around data row: 756. Filling remaining columns with `missing`\n",
      "thread = 1 warning: only found 29 / 31 columns around data row: 757. Filling remaining columns with `missing`\n",
      "thread = 1 warning: only found 29 / 31 columns around data row: 758. Filling remaining columns with `missing`\n",
      "thread = 1 warning: only found 29 / 31 columns around data row: 759. Filling remaining columns with `missing`\n",
      "thread = 1 warning: only found 29 / 31 columns around data row: 760. Filling remaining columns with `missing`\n",
      "thread = 1 warning: only found 29 / 31 columns around data row: 761. Filling remaining columns with `missing`\n",
      "thread = 1 warning: only found 29 / 31 columns around data row: 762. Filling remaining columns with `missing`\n",
      "thread = 1 warning: only found 29 / 31 columns around data row: 763. Filling remaining columns with `missing`\n",
      "thread = 1 warning: only found 29 / 31 columns around data row: 764. Filling remaining columns with `missing`\n",
      "thread = 1 warning: only found 29 / 31 columns around data row: 765. Filling remaining columns with `missing`\n",
      "thread = 1 warning: only found 29 / 31 columns around data row: 766. Filling remaining columns with `missing`\n",
      "thread = 1 warning: only found 29 / 31 columns around data row: 767. Filling remaining columns with `missing`\n",
      "thread = 1 warning: only found 29 / 31 columns around data row: 768. Filling remaining columns with `missing`\n",
      "thread = 1 warning: only found 29 / 31 columns around data row: 769. Filling remaining columns with `missing`\n",
      "thread = 1 warning: only found 29 / 31 columns around data row: 770. Filling remaining columns with `missing`\n",
      "thread = 1 warning: only found 29 / 31 columns around data row: 771. Filling remaining columns with `missing`\n",
      "thread = 1 warning: only found 29 / 31 columns around data row: 772. Filling remaining columns with `missing`\n",
      "thread = 1 warning: only found 29 / 31 columns around data row: 773. Filling remaining columns with `missing`\n",
      "thread = 1 warning: only found 29 / 31 columns around data row: 774. Filling remaining columns with `missing`\n",
      "thread = 1 warning: only found 29 / 31 columns around data row: 775. Filling remaining columns with `missing`\n",
      "thread = 1 warning: only found 29 / 31 columns around data row: 776. Filling remaining columns with `missing`\n",
      "thread = 1 warning: only found 29 / 31 columns around data row: 777. Filling remaining columns with `missing`\n",
      "thread = 1 warning: only found 29 / 31 columns around data row: 778. Filling remaining columns with `missing`\n",
      "thread = 1 warning: only found 29 / 31 columns around data row: 779. Filling remaining columns with `missing`\n",
      "thread = 1 warning: only found 29 / 31 columns around data row: 780. Filling remaining columns with `missing`\n",
      "thread = 1 warning: only found 29 / 31 columns around data row: 781. Filling remaining columns with `missing`\n",
      "thread = 1 warning: only found 29 / 31 columns around data row: 782. Filling remaining columns with `missing`\n",
      "thread = 1 warning: only found 29 / 31 columns around data row: 783. Filling remaining columns with `missing`\n",
      "thread = 1 warning: only found 29 / 31 columns around data row: 784. Filling remaining columns with `missing`\n",
      "thread = 1 warning: only found 29 / 31 columns around data row: 785. Filling remaining columns with `missing`\n",
      "thread = 1 warning: only found 29 / 31 columns around data row: 786. Filling remaining columns with `missing`\n",
      "thread = 1 warning: only found 29 / 31 columns around data row: 787. Filling remaining columns with `missing`\n",
      "thread = 1 warning: only found 29 / 31 columns around data row: 788. Filling remaining columns with `missing`\n",
      "thread = 1 warning: only found 29 / 31 columns around data row: 789. Filling remaining columns with `missing`\n",
      "thread = 1 warning: only found 29 / 31 columns around data row: 790. Filling remaining columns with `missing`\n",
      "thread = 1 warning: only found 29 / 31 columns around data row: 791. Filling remaining columns with `missing`\n",
      "thread = 1 warning: only found 29 / 31 columns around data row: 792. Filling remaining columns with `missing`\n",
      "thread = 1 warning: only found 29 / 31 columns around data row: 793. Filling remaining columns with `missing`\n",
      "thread = 1 warning: only found 29 / 31 columns around data row: 794. Filling remaining columns with `missing`\n",
      "thread = 1 warning: only found 29 / 31 columns around data row: 795. Filling remaining columns with `missing`\n",
      "thread = 1 warning: only found 29 / 31 columns around data row: 796. Filling remaining columns with `missing`\n",
      "thread = 1 warning: only found 29 / 31 columns around data row: 797. Filling remaining columns with `missing`\n",
      "thread = 1 warning: only found 29 / 31 columns around data row: 798. Filling remaining columns with `missing`\n",
      "thread = 1 warning: only found 29 / 31 columns around data row: 799. Filling remaining columns with `missing`\n",
      "thread = 1 warning: only found 29 / 31 columns around data row: 800. Filling remaining columns with `missing`\n",
      "thread = 1 warning: only found 29 / 31 columns around data row: 801. Filling remaining columns with `missing`\n",
      "thread = 1 warning: only found 29 / 31 columns around data row: 802. Filling remaining columns with `missing`\n",
      "thread = 1 warning: only found 29 / 31 columns around data row: 803. Filling remaining columns with `missing`\n",
      "thread = 1 warning: only found 29 / 31 columns around data row: 804. Filling remaining columns with `missing`\n",
      "thread = 1 warning: only found 29 / 31 columns around data row: 805. Filling remaining columns with `missing`\n",
      "thread = 1 warning: only found 29 / 31 columns around data row: 806. Filling remaining columns with `missing`\n",
      "thread = 1 warning: only found 29 / 31 columns around data row: 807. Filling remaining columns with `missing`\n",
      "thread = 1 warning: only found 29 / 31 columns around data row: 808. Filling remaining columns with `missing`\n",
      "thread = 1 warning: only found 29 / 31 columns around data row: 809. Filling remaining columns with `missing`\n",
      "thread = 1 warning: only found 29 / 31 columns around data row: 810. Filling remaining columns with `missing`\n",
      "thread = 1 warning: only found 29 / 31 columns around data row: 811. Filling remaining columns with `missing`\n",
      "thread = 1 warning: only found 29 / 31 columns around data row: 812. Filling remaining columns with `missing`\n",
      "thread = 1 warning: only found 29 / 31 columns around data row: 813. Filling remaining columns with `missing`\n",
      "thread = 1 warning: only found 29 / 31 columns around data row: 814. Filling remaining columns with `missing`\n",
      "thread = 1 warning: only found 29 / 31 columns around data row: 815. Filling remaining columns with `missing`\n",
      "thread = 1 warning: only found 29 / 31 columns around data row: 816. Filling remaining columns with `missing`\n",
      "thread = 1 warning: only found 29 / 31 columns around data row: 817. Filling remaining columns with `missing`\n",
      "thread = 1 warning: only found 29 / 31 columns around data row: 818. Filling remaining columns with `missing`\n",
      "thread = 1 warning: only found 29 / 31 columns around data row: 819. Filling remaining columns with `missing`\n",
      "thread = 1 warning: only found 29 / 31 columns around data row: 820. Filling remaining columns with `missing`\n",
      "thread = 1 warning: only found 29 / 31 columns around data row: 821. Filling remaining columns with `missing`\n",
      "thread = 1 warning: only found 29 / 31 columns around data row: 822. Filling remaining columns with `missing`\n",
      "thread = 1 warning: only found 29 / 31 columns around data row: 823. Filling remaining columns with `missing`\n",
      "thread = 1 warning: only found 29 / 31 columns around data row: 824. Filling remaining columns with `missing`\n",
      "thread = 1 warning: only found 29 / 31 columns around data row: 825. Filling remaining columns with `missing`\n",
      "thread = 1 warning: only found 29 / 31 columns around data row: 826. Filling remaining columns with `missing`\n",
      "thread = 1 warning: only found 29 / 31 columns around data row: 827. Filling remaining columns with `missing`\n",
      "thread = 1 warning: only found 29 / 31 columns around data row: 828. Filling remaining columns with `missing`\n",
      "thread = 1 warning: only found 29 / 31 columns around data row: 829. Filling remaining columns with `missing`\n",
      "thread = 1 warning: only found 29 / 31 columns around data row: 830. Filling remaining columns with `missing`\n",
      "thread = 1 warning: only found 29 / 31 columns around data row: 831. Filling remaining columns with `missing`\n",
      "thread = 1 warning: only found 29 / 31 columns around data row: 832. Filling remaining columns with `missing`\n",
      "thread = 1 warning: only found 29 / 31 columns around data row: 833. Filling remaining columns with `missing`\n",
      "thread = 1 warning: only found 29 / 31 columns around data row: 834. Filling remaining columns with `missing`\n",
      "thread = 1 warning: only found 29 / 31 columns around data row: 835. Filling remaining columns with `missing`\n",
      "thread = 1 warning: only found 29 / 31 columns around data row: 836. Filling remaining columns with `missing`\n",
      "thread = 1 warning: only found 29 / 31 columns around data row: 837. Filling remaining columns with `missing`\n",
      "thread = 1 warning: only found 29 / 31 columns around data row: 838. Filling remaining columns with `missing`\n",
      "thread = 1 warning: only found 29 / 31 columns around data row: 839. Filling remaining columns with `missing`\n",
      "thread = 1 warning: only found 29 / 31 columns around data row: 840. Filling remaining columns with `missing`\n",
      "thread = 1 warning: only found 29 / 31 columns around data row: 841. Filling remaining columns with `missing`\n",
      "thread = 1 warning: only found 29 / 31 columns around data row: 842. Filling remaining columns with `missing`\n",
      "thread = 1 warning: only found 29 / 31 columns around data row: 843. Filling remaining columns with `missing`\n",
      "thread = 1 warning: only found 29 / 31 columns around data row: 844. Filling remaining columns with `missing`\n",
      "thread = 1 warning: only found 29 / 31 columns around data row: 845. Filling remaining columns with `missing`\n",
      "thread = 1 warning: only found 29 / 31 columns around data row: 846. Filling remaining columns with `missing`\n",
      "thread = 1 warning: only found 29 / 31 columns around data row: 847. Filling remaining columns with `missing`\n",
      "thread = 1 warning: only found 29 / 31 columns around data row: 848. Filling remaining columns with `missing`\n"
     ]
    },
    {
     "name": "stdout",
     "output_type": "stream",
     "text": [
      "thread = 1 warning: only found 29 / 31 columns around data row: 849. Filling remaining columns with `missing`\n",
      "thread = 1 warning: only found 29 / 31 columns around data row: 850. Filling remaining columns with `missing`\n",
      "thread = 1 warning: only found 29 / 31 columns around data row: 851. Filling remaining columns with `missing`\n",
      "thread = 1 warning: only found 29 / 31 columns around data row: 852. Filling remaining columns with `missing`\n",
      "thread = 1 warning: only found 29 / 31 columns around data row: 853. Filling remaining columns with `missing`\n",
      "thread = 1 warning: only found 29 / 31 columns around data row: 854. Filling remaining columns with `missing`\n",
      "thread = 1 warning: only found 29 / 31 columns around data row: 855. Filling remaining columns with `missing`\n",
      "thread = 1 warning: only found 29 / 31 columns around data row: 856. Filling remaining columns with `missing`\n",
      "thread = 1 warning: only found 29 / 31 columns around data row: 857. Filling remaining columns with `missing`\n",
      "thread = 1 warning: only found 29 / 31 columns around data row: 858. Filling remaining columns with `missing`\n",
      "thread = 1 warning: only found 29 / 31 columns around data row: 859. Filling remaining columns with `missing`\n",
      "thread = 1 warning: only found 29 / 31 columns around data row: 860. Filling remaining columns with `missing`\n",
      "thread = 1 warning: only found 29 / 31 columns around data row: 861. Filling remaining columns with `missing`\n",
      "thread = 1 warning: only found 29 / 31 columns around data row: 862. Filling remaining columns with `missing`\n",
      "thread = 1 warning: only found 29 / 31 columns around data row: 863. Filling remaining columns with `missing`\n",
      "thread = 1 warning: only found 29 / 31 columns around data row: 864. Filling remaining columns with `missing`\n",
      "thread = 1 warning: only found 29 / 31 columns around data row: 865. Filling remaining columns with `missing`\n",
      "thread = 1 warning: only found 29 / 31 columns around data row: 866. Filling remaining columns with `missing`\n",
      "thread = 1 warning: only found 29 / 31 columns around data row: 867. Filling remaining columns with `missing`\n",
      "thread = 1 warning: only found 29 / 31 columns around data row: 868. Filling remaining columns with `missing`\n",
      "thread = 1 warning: only found 29 / 31 columns around data row: 869. Filling remaining columns with `missing`\n",
      "thread = 1 warning: only found 29 / 31 columns around data row: 870. Filling remaining columns with `missing`\n",
      "thread = 1 warning: only found 29 / 31 columns around data row: 871. Filling remaining columns with `missing`\n",
      "thread = 1 warning: only found 29 / 31 columns around data row: 872. Filling remaining columns with `missing`\n",
      "thread = 1 warning: only found 29 / 31 columns around data row: 873. Filling remaining columns with `missing`\n",
      "thread = 1 warning: only found 29 / 31 columns around data row: 874. Filling remaining columns with `missing`\n",
      "thread = 1 warning: only found 29 / 31 columns around data row: 875. Filling remaining columns with `missing`\n",
      "thread = 1 warning: only found 29 / 31 columns around data row: 876. Filling remaining columns with `missing`\n",
      "thread = 1 warning: only found 29 / 31 columns around data row: 877. Filling remaining columns with `missing`\n",
      "thread = 1 warning: only found 29 / 31 columns around data row: 878. Filling remaining columns with `missing`\n",
      "thread = 1 warning: only found 29 / 31 columns around data row: 879. Filling remaining columns with `missing`\n",
      "thread = 1 warning: only found 29 / 31 columns around data row: 880. Filling remaining columns with `missing`\n",
      "thread = 1 warning: only found 29 / 31 columns around data row: 881. Filling remaining columns with `missing`\n",
      "thread = 1 warning: only found 29 / 31 columns around data row: 882. Filling remaining columns with `missing`\n",
      "thread = 1 warning: only found 29 / 31 columns around data row: 883. Filling remaining columns with `missing`\n",
      "thread = 1 warning: only found 29 / 31 columns around data row: 884. Filling remaining columns with `missing`\n",
      "thread = 1 warning: only found 29 / 31 columns around data row: 885. Filling remaining columns with `missing`\n",
      "thread = 1 warning: only found 29 / 31 columns around data row: 886. Filling remaining columns with `missing`\n",
      "thread = 1 warning: only found 29 / 31 columns around data row: 887. Filling remaining columns with `missing`\n",
      "thread = 1 warning: only found 29 / 31 columns around data row: 888. Filling remaining columns with `missing`\n",
      "thread = 1 warning: only found 29 / 31 columns around data row: 889. Filling remaining columns with `missing`\n",
      "thread = 1 warning: only found 29 / 31 columns around data row: 890. Filling remaining columns with `missing`\n",
      "thread = 1 warning: only found 29 / 31 columns around data row: 891. Filling remaining columns with `missing`\n",
      "thread = 1 warning: only found 29 / 31 columns around data row: 892. Filling remaining columns with `missing`\n",
      "thread = 1 warning: only found 29 / 31 columns around data row: 893. Filling remaining columns with `missing`\n",
      "thread = 1 warning: only found 29 / 31 columns around data row: 894. Filling remaining columns with `missing`\n",
      "thread = 1 warning: only found 29 / 31 columns around data row: 895. Filling remaining columns with `missing`\n",
      "thread = 1 warning: only found 29 / 31 columns around data row: 896. Filling remaining columns with `missing`\n",
      "thread = 1 warning: only found 29 / 31 columns around data row: 897. Filling remaining columns with `missing`\n",
      "thread = 1 warning: only found 29 / 31 columns around data row: 898. Filling remaining columns with `missing`\n",
      "thread = 1 warning: only found 29 / 31 columns around data row: 899. Filling remaining columns with `missing`\n",
      "thread = 1 warning: only found 29 / 31 columns around data row: 900. Filling remaining columns with `missing`\n",
      "thread = 1 warning: only found 29 / 31 columns around data row: 901. Filling remaining columns with `missing`\n",
      "thread = 1 warning: only found 29 / 31 columns around data row: 902. Filling remaining columns with `missing`\n",
      "thread = 1 warning: only found 29 / 31 columns around data row: 903. Filling remaining columns with `missing`\n",
      "thread = 1 warning: only found 29 / 31 columns around data row: 904. Filling remaining columns with `missing`\n",
      "thread = 1 warning: only found 29 / 31 columns around data row: 905. Filling remaining columns with `missing`\n",
      "thread = 1 warning: only found 29 / 31 columns around data row: 906. Filling remaining columns with `missing`\n",
      "thread = 1 warning: only found 29 / 31 columns around data row: 907. Filling remaining columns with `missing`\n",
      "thread = 1 warning: only found 29 / 31 columns around data row: 908. Filling remaining columns with `missing`\n",
      "thread = 1 warning: only found 29 / 31 columns around data row: 909. Filling remaining columns with `missing`\n",
      "thread = 1 warning: only found 29 / 31 columns around data row: 910. Filling remaining columns with `missing`\n",
      "thread = 1 warning: only found 29 / 31 columns around data row: 911. Filling remaining columns with `missing`\n",
      "thread = 1 warning: only found 29 / 31 columns around data row: 912. Filling remaining columns with `missing`\n",
      "thread = 1 warning: only found 29 / 31 columns around data row: 913. Filling remaining columns with `missing`\n",
      "thread = 1 warning: only found 29 / 31 columns around data row: 914. Filling remaining columns with `missing`\n",
      "thread = 1 warning: only found 29 / 31 columns around data row: 915. Filling remaining columns with `missing`\n",
      "thread = 1 warning: only found 29 / 31 columns around data row: 916. Filling remaining columns with `missing`\n",
      "thread = 1 warning: only found 29 / 31 columns around data row: 917. Filling remaining columns with `missing`\n",
      "thread = 1 warning: only found 29 / 31 columns around data row: 918. Filling remaining columns with `missing`\n",
      "thread = 1 warning: only found 29 / 31 columns around data row: 919. Filling remaining columns with `missing`\n",
      "thread = 1 warning: only found 29 / 31 columns around data row: 920. Filling remaining columns with `missing`\n",
      "thread = 1 warning: only found 29 / 31 columns around data row: 921. Filling remaining columns with `missing`\n",
      "thread = 1 warning: only found 29 / 31 columns around data row: 922. Filling remaining columns with `missing`\n",
      "thread = 1 warning: only found 29 / 31 columns around data row: 923. Filling remaining columns with `missing`\n",
      "thread = 1 warning: only found 29 / 31 columns around data row: 924. Filling remaining columns with `missing`\n",
      "thread = 1 warning: only found 29 / 31 columns around data row: 925. Filling remaining columns with `missing`\n",
      "thread = 1 warning: only found 29 / 31 columns around data row: 926. Filling remaining columns with `missing`\n",
      "thread = 1 warning: only found 29 / 31 columns around data row: 927. Filling remaining columns with `missing`\n",
      "thread = 1 warning: only found 29 / 31 columns around data row: 928. Filling remaining columns with `missing`\n",
      "thread = 1 warning: only found 29 / 31 columns around data row: 929. Filling remaining columns with `missing`\n",
      "thread = 1 warning: only found 29 / 31 columns around data row: 930. Filling remaining columns with `missing`\n",
      "thread = 1 warning: only found 29 / 31 columns around data row: 931. Filling remaining columns with `missing`\n",
      "thread = 1 warning: only found 29 / 31 columns around data row: 932. Filling remaining columns with `missing`\n",
      "thread = 1 warning: only found 29 / 31 columns around data row: 933. Filling remaining columns with `missing`\n",
      "thread = 1 warning: only found 29 / 31 columns around data row: 934. Filling remaining columns with `missing`\n",
      "thread = 1 warning: only found 29 / 31 columns around data row: 935. Filling remaining columns with `missing`\n",
      "thread = 1 warning: only found 29 / 31 columns around data row: 936. Filling remaining columns with `missing`\n",
      "thread = 1 warning: only found 29 / 31 columns around data row: 937. Filling remaining columns with `missing`\n",
      "thread = 1 warning: only found 29 / 31 columns around data row: 938. Filling remaining columns with `missing`\n",
      "thread = 1 warning: only found 29 / 31 columns around data row: 939. Filling remaining columns with `missing`\n",
      "thread = 1 warning: only found 29 / 31 columns around data row: 940. Filling remaining columns with `missing`\n",
      "thread = 1 warning: only found 29 / 31 columns around data row: 941. Filling remaining columns with `missing`\n",
      "thread = 1 warning: only found 29 / 31 columns around data row: 942. Filling remaining columns with `missing`\n"
     ]
    },
    {
     "name": "stdout",
     "output_type": "stream",
     "text": [
      "thread = 1 warning: only found 29 / 31 columns around data row: 943. Filling remaining columns with `missing`\n",
      "thread = 1 warning: only found 29 / 31 columns around data row: 944. Filling remaining columns with `missing`\n",
      "thread = 1 warning: only found 29 / 31 columns around data row: 945. Filling remaining columns with `missing`\n",
      "thread = 1 warning: only found 29 / 31 columns around data row: 946. Filling remaining columns with `missing`\n",
      "thread = 1 warning: only found 29 / 31 columns around data row: 947. Filling remaining columns with `missing`\n",
      "thread = 1 warning: only found 29 / 31 columns around data row: 948. Filling remaining columns with `missing`\n",
      "thread = 1 warning: only found 29 / 31 columns around data row: 949. Filling remaining columns with `missing`\n",
      "thread = 1 warning: only found 29 / 31 columns around data row: 950. Filling remaining columns with `missing`\n",
      "thread = 1 warning: only found 29 / 31 columns around data row: 951. Filling remaining columns with `missing`\n",
      "thread = 1 warning: only found 29 / 31 columns around data row: 952. Filling remaining columns with `missing`\n",
      "thread = 1 warning: only found 29 / 31 columns around data row: 953. Filling remaining columns with `missing`\n",
      "thread = 1 warning: only found 29 / 31 columns around data row: 954. Filling remaining columns with `missing`\n",
      "thread = 1 warning: only found 29 / 31 columns around data row: 955. Filling remaining columns with `missing`\n",
      "thread = 1 warning: only found 29 / 31 columns around data row: 956. Filling remaining columns with `missing`\n",
      "thread = 1 warning: only found 29 / 31 columns around data row: 957. Filling remaining columns with `missing`\n",
      "thread = 1 warning: only found 29 / 31 columns around data row: 958. Filling remaining columns with `missing`\n",
      "thread = 1 warning: only found 29 / 31 columns around data row: 959. Filling remaining columns with `missing`\n",
      "thread = 1 warning: only found 29 / 31 columns around data row: 960. Filling remaining columns with `missing`\n",
      "thread = 1 warning: only found 29 / 31 columns around data row: 961. Filling remaining columns with `missing`\n",
      "thread = 1 warning: only found 29 / 31 columns around data row: 962. Filling remaining columns with `missing`\n",
      "thread = 1 warning: only found 29 / 31 columns around data row: 963. Filling remaining columns with `missing`\n",
      "thread = 1 warning: only found 29 / 31 columns around data row: 964. Filling remaining columns with `missing`\n",
      "thread = 1 warning: only found 29 / 31 columns around data row: 965. Filling remaining columns with `missing`\n",
      "thread = 1 warning: only found 29 / 31 columns around data row: 966. Filling remaining columns with `missing`\n",
      "thread = 1 warning: only found 29 / 31 columns around data row: 967. Filling remaining columns with `missing`\n",
      "thread = 1 warning: only found 29 / 31 columns around data row: 968. Filling remaining columns with `missing`\n",
      "thread = 1 warning: only found 29 / 31 columns around data row: 969. Filling remaining columns with `missing`\n",
      "thread = 1 warning: only found 29 / 31 columns around data row: 970. Filling remaining columns with `missing`\n",
      "thread = 1 warning: only found 29 / 31 columns around data row: 971. Filling remaining columns with `missing`\n",
      "thread = 1 warning: only found 29 / 31 columns around data row: 972. Filling remaining columns with `missing`\n",
      "thread = 1 warning: only found 29 / 31 columns around data row: 973. Filling remaining columns with `missing`\n",
      "thread = 1 warning: only found 29 / 31 columns around data row: 974. Filling remaining columns with `missing`\n",
      "thread = 1 warning: only found 29 / 31 columns around data row: 975. Filling remaining columns with `missing`\n",
      "thread = 1 warning: only found 29 / 31 columns around data row: 976. Filling remaining columns with `missing`\n",
      "thread = 1 warning: only found 29 / 31 columns around data row: 977. Filling remaining columns with `missing`\n",
      "thread = 1 warning: only found 29 / 31 columns around data row: 978. Filling remaining columns with `missing`\n",
      "thread = 1 warning: only found 29 / 31 columns around data row: 979. Filling remaining columns with `missing`\n",
      "thread = 1 warning: only found 29 / 31 columns around data row: 980. Filling remaining columns with `missing`\n",
      "thread = 1 warning: only found 29 / 31 columns around data row: 981. Filling remaining columns with `missing`\n",
      "thread = 1 warning: only found 29 / 31 columns around data row: 982. Filling remaining columns with `missing`\n",
      "thread = 1 warning: only found 29 / 31 columns around data row: 983. Filling remaining columns with `missing`\n",
      "thread = 1 warning: only found 29 / 31 columns around data row: 984. Filling remaining columns with `missing`\n",
      "thread = 1 warning: only found 29 / 31 columns around data row: 985. Filling remaining columns with `missing`\n",
      "thread = 1 warning: only found 29 / 31 columns around data row: 986. Filling remaining columns with `missing`\n",
      "thread = 1 warning: only found 29 / 31 columns around data row: 987. Filling remaining columns with `missing`\n",
      "thread = 1 warning: only found 29 / 31 columns around data row: 988. Filling remaining columns with `missing`\n",
      "thread = 1 warning: only found 29 / 31 columns around data row: 989. Filling remaining columns with `missing`\n",
      "thread = 1 warning: only found 29 / 31 columns around data row: 990. Filling remaining columns with `missing`\n",
      "thread = 1 warning: only found 29 / 31 columns around data row: 991. Filling remaining columns with `missing`\n",
      "thread = 1 warning: only found 29 / 31 columns around data row: 992. Filling remaining columns with `missing`\n",
      "thread = 1 warning: only found 29 / 31 columns around data row: 993. Filling remaining columns with `missing`\n",
      "thread = 1 warning: only found 29 / 31 columns around data row: 994. Filling remaining columns with `missing`\n",
      "thread = 1 warning: only found 29 / 31 columns around data row: 995. Filling remaining columns with `missing`\n",
      "thread = 1 warning: only found 29 / 31 columns around data row: 996. Filling remaining columns with `missing`\n",
      "thread = 1 warning: only found 29 / 31 columns around data row: 997. Filling remaining columns with `missing`\n",
      "thread = 1 warning: only found 29 / 31 columns around data row: 998. Filling remaining columns with `missing`\n",
      "thread = 1 warning: only found 29 / 31 columns around data row: 999. Filling remaining columns with `missing`\n",
      "thread = 1 warning: only found 29 / 31 columns around data row: 1000. Filling remaining columns with `missing`\n",
      "thread = 1 warning: only found 29 / 31 columns around data row: 1001. Filling remaining columns with `missing`\n",
      "thread = 1 warning: only found 29 / 31 columns around data row: 1002. Filling remaining columns with `missing`\n",
      "thread = 1 warning: only found 29 / 31 columns around data row: 1003. Filling remaining columns with `missing`\n",
      "thread = 1 warning: only found 29 / 31 columns around data row: 1004. Filling remaining columns with `missing`\n",
      "thread = 1 warning: only found 29 / 31 columns around data row: 1005. Filling remaining columns with `missing`\n",
      "thread = 1 warning: only found 29 / 31 columns around data row: 1006. Filling remaining columns with `missing`\n",
      "thread = 1 warning: only found 29 / 31 columns around data row: 1007. Filling remaining columns with `missing`\n",
      "thread = 1 warning: only found 29 / 31 columns around data row: 1008. Filling remaining columns with `missing`\n",
      "thread = 1 warning: only found 29 / 31 columns around data row: 1009. Filling remaining columns with `missing`\n",
      "thread = 1 warning: only found 29 / 31 columns around data row: 1010. Filling remaining columns with `missing`\n",
      "thread = 1 warning: only found 29 / 31 columns around data row: 1011. Filling remaining columns with `missing`\n",
      "thread = 1 warning: only found 29 / 31 columns around data row: 1012. Filling remaining columns with `missing`\n",
      "thread = 1 warning: only found 29 / 31 columns around data row: 1013. Filling remaining columns with `missing`\n",
      "thread = 1 warning: only found 29 / 31 columns around data row: 1014. Filling remaining columns with `missing`\n",
      "thread = 1 warning: only found 29 / 31 columns around data row: 1015. Filling remaining columns with `missing`\n",
      "thread = 1 warning: only found 29 / 31 columns around data row: 1016. Filling remaining columns with `missing`\n",
      "thread = 1 warning: only found 29 / 31 columns around data row: 1017. Filling remaining columns with `missing`\n",
      "thread = 1 warning: only found 29 / 31 columns around data row: 1018. Filling remaining columns with `missing`\n",
      "thread = 1 warning: only found 29 / 31 columns around data row: 1019. Filling remaining columns with `missing`\n",
      "thread = 1 warning: only found 29 / 31 columns around data row: 1020. Filling remaining columns with `missing`\n",
      "thread = 1 warning: only found 29 / 31 columns around data row: 1021. Filling remaining columns with `missing`\n",
      "thread = 1 warning: only found 29 / 31 columns around data row: 1022. Filling remaining columns with `missing`\n",
      "thread = 1 warning: only found 29 / 31 columns around data row: 1023. Filling remaining columns with `missing`\n",
      "thread = 1 warning: only found 29 / 31 columns around data row: 1024. Filling remaining columns with `missing`\n",
      "thread = 1 warning: only found 29 / 31 columns around data row: 1025. Filling remaining columns with `missing`\n",
      "thread = 1 warning: only found 29 / 31 columns around data row: 1026. Filling remaining columns with `missing`\n",
      "thread = 1 warning: only found 29 / 31 columns around data row: 1027. Filling remaining columns with `missing`\n",
      "thread = 1 warning: only found 29 / 31 columns around data row: 1028. Filling remaining columns with `missing`\n",
      "thread = 1 warning: only found 29 / 31 columns around data row: 1029. Filling remaining columns with `missing`\n",
      "thread = 1 warning: only found 29 / 31 columns around data row: 1030. Filling remaining columns with `missing`\n",
      "thread = 1 warning: only found 29 / 31 columns around data row: 1031. Filling remaining columns with `missing`\n",
      "thread = 1 warning: only found 29 / 31 columns around data row: 1032. Filling remaining columns with `missing`\n",
      "thread = 1 warning: only found 29 / 31 columns around data row: 1033. Filling remaining columns with `missing`\n",
      "thread = 1 warning: only found 29 / 31 columns around data row: 1034. Filling remaining columns with `missing`\n",
      "thread = 1 warning: only found 29 / 31 columns around data row: 1035. Filling remaining columns with `missing`\n"
     ]
    },
    {
     "name": "stdout",
     "output_type": "stream",
     "text": [
      "thread = 1 warning: only found 29 / 31 columns around data row: 1036. Filling remaining columns with `missing`\n",
      "thread = 1 warning: only found 29 / 31 columns around data row: 1037. Filling remaining columns with `missing`\n",
      "thread = 1 warning: only found 29 / 31 columns around data row: 1038. Filling remaining columns with `missing`\n",
      "thread = 1 warning: only found 29 / 31 columns around data row: 1039. Filling remaining columns with `missing`\n",
      "thread = 1 warning: only found 29 / 31 columns around data row: 1040. Filling remaining columns with `missing`\n",
      "thread = 1 warning: only found 29 / 31 columns around data row: 1041. Filling remaining columns with `missing`\n",
      "thread = 1 warning: only found 29 / 31 columns around data row: 1042. Filling remaining columns with `missing`\n",
      "thread = 1 warning: only found 29 / 31 columns around data row: 1043. Filling remaining columns with `missing`\n",
      "thread = 1 warning: only found 29 / 31 columns around data row: 1044. Filling remaining columns with `missing`\n",
      "thread = 1 warning: only found 29 / 31 columns around data row: 1045. Filling remaining columns with `missing`\n",
      "thread = 1 warning: only found 29 / 31 columns around data row: 1046. Filling remaining columns with `missing`\n",
      "thread = 1 warning: only found 29 / 31 columns around data row: 1047. Filling remaining columns with `missing`\n",
      "thread = 1 warning: only found 29 / 31 columns around data row: 1048. Filling remaining columns with `missing`\n",
      "thread = 1 warning: only found 29 / 31 columns around data row: 1049. Filling remaining columns with `missing`\n",
      "thread = 1 warning: only found 29 / 31 columns around data row: 1050. Filling remaining columns with `missing`\n",
      "thread = 1 warning: only found 29 / 31 columns around data row: 1051. Filling remaining columns with `missing`\n",
      "thread = 1 warning: only found 29 / 31 columns around data row: 1052. Filling remaining columns with `missing`\n",
      "thread = 1 warning: only found 29 / 31 columns around data row: 1053. Filling remaining columns with `missing`\n",
      "thread = 1 warning: only found 29 / 31 columns around data row: 1054. Filling remaining columns with `missing`\n",
      "thread = 1 warning: only found 29 / 31 columns around data row: 1055. Filling remaining columns with `missing`\n",
      "thread = 1 warning: only found 29 / 31 columns around data row: 1056. Filling remaining columns with `missing`\n",
      "thread = 1 warning: only found 29 / 31 columns around data row: 1057. Filling remaining columns with `missing`\n",
      "thread = 1 warning: only found 29 / 31 columns around data row: 1058. Filling remaining columns with `missing`\n",
      "thread = 1 warning: only found 29 / 31 columns around data row: 1059. Filling remaining columns with `missing`\n",
      "thread = 1 warning: only found 29 / 31 columns around data row: 1060. Filling remaining columns with `missing`\n",
      "thread = 1 warning: only found 29 / 31 columns around data row: 1061. Filling remaining columns with `missing`\n",
      "thread = 1 warning: only found 29 / 31 columns around data row: 1062. Filling remaining columns with `missing`\n",
      "thread = 1 warning: only found 29 / 31 columns around data row: 1063. Filling remaining columns with `missing`\n",
      "thread = 1 warning: only found 29 / 31 columns around data row: 1064. Filling remaining columns with `missing`\n",
      "thread = 1 warning: only found 29 / 31 columns around data row: 1065. Filling remaining columns with `missing`\n",
      "thread = 1 warning: only found 29 / 31 columns around data row: 1066. Filling remaining columns with `missing`\n",
      "thread = 1 warning: only found 29 / 31 columns around data row: 1067. Filling remaining columns with `missing`\n",
      "thread = 1 warning: only found 29 / 31 columns around data row: 1068. Filling remaining columns with `missing`\n",
      "thread = 1 warning: only found 29 / 31 columns around data row: 1069. Filling remaining columns with `missing`\n",
      "thread = 1 warning: only found 29 / 31 columns around data row: 1070. Filling remaining columns with `missing`\n",
      "thread = 1 warning: only found 29 / 31 columns around data row: 1071. Filling remaining columns with `missing`\n",
      "thread = 1 warning: only found 29 / 31 columns around data row: 1072. Filling remaining columns with `missing`\n",
      "thread = 1 warning: only found 29 / 31 columns around data row: 1073. Filling remaining columns with `missing`\n",
      "thread = 1 warning: only found 29 / 31 columns around data row: 1074. Filling remaining columns with `missing`\n",
      "thread = 1 warning: only found 29 / 31 columns around data row: 1075. Filling remaining columns with `missing`\n",
      "thread = 1 warning: only found 29 / 31 columns around data row: 1076. Filling remaining columns with `missing`\n",
      "thread = 1 warning: only found 29 / 31 columns around data row: 1077. Filling remaining columns with `missing`\n",
      "thread = 1 warning: only found 29 / 31 columns around data row: 1078. Filling remaining columns with `missing`\n",
      "thread = 1 warning: only found 29 / 31 columns around data row: 1079. Filling remaining columns with `missing`\n",
      "thread = 1 warning: only found 29 / 31 columns around data row: 1080. Filling remaining columns with `missing`\n",
      "thread = 1 warning: only found 29 / 31 columns around data row: 1081. Filling remaining columns with `missing`\n",
      "thread = 1 warning: only found 29 / 31 columns around data row: 1082. Filling remaining columns with `missing`\n",
      "thread = 1 warning: only found 29 / 31 columns around data row: 1083. Filling remaining columns with `missing`\n",
      "thread = 1 warning: only found 29 / 31 columns around data row: 1084. Filling remaining columns with `missing`\n",
      "thread = 1 warning: only found 29 / 31 columns around data row: 1085. Filling remaining columns with `missing`\n",
      "thread = 1 warning: only found 29 / 31 columns around data row: 1086. Filling remaining columns with `missing`\n",
      "thread = 1 warning: only found 29 / 31 columns around data row: 1087. Filling remaining columns with `missing`\n",
      "thread = 1 warning: only found 29 / 31 columns around data row: 1088. Filling remaining columns with `missing`\n",
      "thread = 1 warning: only found 29 / 31 columns around data row: 1089. Filling remaining columns with `missing`\n",
      "thread = 1 warning: only found 29 / 31 columns around data row: 1090. Filling remaining columns with `missing`\n",
      "thread = 1 warning: only found 29 / 31 columns around data row: 1091. Filling remaining columns with `missing`\n",
      "thread = 1 warning: only found 29 / 31 columns around data row: 1092. Filling remaining columns with `missing`\n",
      "thread = 1 warning: only found 29 / 31 columns around data row: 1093. Filling remaining columns with `missing`\n",
      "thread = 1 warning: only found 29 / 31 columns around data row: 1094. Filling remaining columns with `missing`\n",
      "thread = 1 warning: only found 29 / 31 columns around data row: 1095. Filling remaining columns with `missing`\n",
      "thread = 1 warning: only found 29 / 31 columns around data row: 1096. Filling remaining columns with `missing`\n",
      "thread = 1 warning: only found 29 / 31 columns around data row: 1097. Filling remaining columns with `missing`\n",
      "thread = 1 warning: only found 29 / 31 columns around data row: 1098. Filling remaining columns with `missing`\n",
      "thread = 1 warning: only found 29 / 31 columns around data row: 1099. Filling remaining columns with `missing`\n",
      "thread = 1 warning: only found 29 / 31 columns around data row: 1100. Filling remaining columns with `missing`\n",
      "thread = 1 warning: only found 29 / 31 columns around data row: 1101. Filling remaining columns with `missing`\n",
      "thread = 1 warning: only found 29 / 31 columns around data row: 1102. Filling remaining columns with `missing`\n",
      "thread = 1 warning: only found 29 / 31 columns around data row: 1103. Filling remaining columns with `missing`\n",
      "thread = 1 warning: only found 29 / 31 columns around data row: 1104. Filling remaining columns with `missing`\n",
      "thread = 1 warning: only found 29 / 31 columns around data row: 1105. Filling remaining columns with `missing`\n",
      "thread = 1 warning: only found 29 / 31 columns around data row: 1106. Filling remaining columns with `missing`\n",
      "thread = 1 warning: only found 29 / 31 columns around data row: 1107. Filling remaining columns with `missing`\n",
      "thread = 1 warning: only found 29 / 31 columns around data row: 1108. Filling remaining columns with `missing`\n",
      "thread = 1 warning: only found 29 / 31 columns around data row: 1109. Filling remaining columns with `missing`\n",
      "thread = 1 warning: only found 29 / 31 columns around data row: 1110. Filling remaining columns with `missing`\n",
      "thread = 1 warning: only found 29 / 31 columns around data row: 1111. Filling remaining columns with `missing`\n",
      "thread = 1 warning: only found 29 / 31 columns around data row: 1112. Filling remaining columns with `missing`\n",
      "thread = 1 warning: only found 29 / 31 columns around data row: 1113. Filling remaining columns with `missing`\n",
      "thread = 1 warning: only found 29 / 31 columns around data row: 1114. Filling remaining columns with `missing`\n",
      "thread = 1 warning: only found 29 / 31 columns around data row: 1115. Filling remaining columns with `missing`\n",
      "thread = 1 warning: only found 29 / 31 columns around data row: 1116. Filling remaining columns with `missing`\n",
      "thread = 1 warning: only found 29 / 31 columns around data row: 1117. Filling remaining columns with `missing`\n",
      "thread = 1 warning: only found 29 / 31 columns around data row: 1118. Filling remaining columns with `missing`\n",
      "thread = 1 warning: only found 29 / 31 columns around data row: 1119. Filling remaining columns with `missing`\n",
      "thread = 1 warning: only found 29 / 31 columns around data row: 1120. Filling remaining columns with `missing`\n",
      "thread = 1 warning: only found 29 / 31 columns around data row: 1121. Filling remaining columns with `missing`\n",
      "thread = 1 warning: only found 29 / 31 columns around data row: 1122. Filling remaining columns with `missing`\n",
      "thread = 1 warning: only found 29 / 31 columns around data row: 1123. Filling remaining columns with `missing`\n",
      "thread = 1 warning: only found 29 / 31 columns around data row: 1124. Filling remaining columns with `missing`\n",
      "thread = 1 warning: only found 29 / 31 columns around data row: 1125. Filling remaining columns with `missing`\n",
      "thread = 1 warning: only found 29 / 31 columns around data row: 1126. Filling remaining columns with `missing`\n",
      "thread = 1 warning: only found 29 / 31 columns around data row: 1127. Filling remaining columns with `missing`\n",
      "thread = 1 warning: only found 29 / 31 columns around data row: 1128. Filling remaining columns with `missing`\n"
     ]
    },
    {
     "name": "stdout",
     "output_type": "stream",
     "text": [
      "thread = 1 warning: only found 29 / 31 columns around data row: 1129. Filling remaining columns with `missing`\n",
      "thread = 1 warning: only found 29 / 31 columns around data row: 1130. Filling remaining columns with `missing`\n",
      "thread = 1 warning: only found 29 / 31 columns around data row: 1131. Filling remaining columns with `missing`\n",
      "thread = 1 warning: only found 29 / 31 columns around data row: 1132. Filling remaining columns with `missing`\n",
      "thread = 1 warning: only found 29 / 31 columns around data row: 1133. Filling remaining columns with `missing`\n",
      "thread = 1 warning: only found 29 / 31 columns around data row: 1134. Filling remaining columns with `missing`\n",
      "thread = 1 warning: only found 29 / 31 columns around data row: 1135. Filling remaining columns with `missing`\n",
      "thread = 1 warning: only found 29 / 31 columns around data row: 1136. Filling remaining columns with `missing`\n",
      "thread = 1 warning: only found 29 / 31 columns around data row: 1137. Filling remaining columns with `missing`\n",
      "thread = 1 warning: only found 29 / 31 columns around data row: 1138. Filling remaining columns with `missing`\n",
      "thread = 1 warning: only found 29 / 31 columns around data row: 1139. Filling remaining columns with `missing`\n",
      "thread = 1 warning: only found 29 / 31 columns around data row: 1140. Filling remaining columns with `missing`\n",
      "thread = 1 warning: only found 29 / 31 columns around data row: 1141. Filling remaining columns with `missing`\n",
      "thread = 1 warning: only found 29 / 31 columns around data row: 1142. Filling remaining columns with `missing`\n",
      "thread = 1 warning: only found 29 / 31 columns around data row: 1143. Filling remaining columns with `missing`\n",
      "thread = 1 warning: only found 29 / 31 columns around data row: 1144. Filling remaining columns with `missing`\n",
      "thread = 1 warning: only found 29 / 31 columns around data row: 1145. Filling remaining columns with `missing`\n",
      "thread = 1 warning: only found 29 / 31 columns around data row: 1146. Filling remaining columns with `missing`\n",
      "thread = 1 warning: only found 29 / 31 columns around data row: 1147. Filling remaining columns with `missing`\n",
      "thread = 1 warning: only found 29 / 31 columns around data row: 1148. Filling remaining columns with `missing`\n",
      "thread = 1 warning: only found 29 / 31 columns around data row: 1149. Filling remaining columns with `missing`\n",
      "thread = 1 warning: only found 29 / 31 columns around data row: 1150. Filling remaining columns with `missing`\n",
      "thread = 1 warning: only found 29 / 31 columns around data row: 1151. Filling remaining columns with `missing`\n",
      "thread = 1 warning: only found 29 / 31 columns around data row: 1152. Filling remaining columns with `missing`\n",
      "thread = 1 warning: only found 29 / 31 columns around data row: 1153. Filling remaining columns with `missing`\n",
      "thread = 1 warning: only found 29 / 31 columns around data row: 1154. Filling remaining columns with `missing`\n",
      "thread = 1 warning: only found 29 / 31 columns around data row: 1155. Filling remaining columns with `missing`\n",
      "thread = 1 warning: only found 29 / 31 columns around data row: 1156. Filling remaining columns with `missing`\n",
      "thread = 1 warning: only found 29 / 31 columns around data row: 1157. Filling remaining columns with `missing`\n",
      "thread = 1 warning: only found 29 / 31 columns around data row: 1158. Filling remaining columns with `missing`\n",
      "thread = 1 warning: only found 29 / 31 columns around data row: 1159. Filling remaining columns with `missing`\n",
      "thread = 1 warning: only found 29 / 31 columns around data row: 1160. Filling remaining columns with `missing`\n",
      "thread = 1 warning: only found 29 / 31 columns around data row: 1161. Filling remaining columns with `missing`\n",
      "thread = 1 warning: only found 29 / 31 columns around data row: 1162. Filling remaining columns with `missing`\n",
      "thread = 1 warning: only found 29 / 31 columns around data row: 1163. Filling remaining columns with `missing`\n",
      "thread = 1 warning: only found 29 / 31 columns around data row: 1164. Filling remaining columns with `missing`\n",
      "thread = 1 warning: only found 29 / 31 columns around data row: 1165. Filling remaining columns with `missing`\n",
      "thread = 1 warning: only found 29 / 31 columns around data row: 1166. Filling remaining columns with `missing`\n",
      "thread = 1 warning: only found 29 / 31 columns around data row: 1167. Filling remaining columns with `missing`\n",
      "thread = 1 warning: only found 29 / 31 columns around data row: 1168. Filling remaining columns with `missing`\n",
      "thread = 1 warning: only found 29 / 31 columns around data row: 1169. Filling remaining columns with `missing`\n",
      "thread = 1 warning: only found 29 / 31 columns around data row: 1170. Filling remaining columns with `missing`\n",
      "thread = 1 warning: only found 29 / 31 columns around data row: 1171. Filling remaining columns with `missing`\n",
      "thread = 1 warning: only found 29 / 31 columns around data row: 1172. Filling remaining columns with `missing`\n",
      "thread = 1 warning: only found 29 / 31 columns around data row: 1173. Filling remaining columns with `missing`\n",
      "thread = 1 warning: only found 29 / 31 columns around data row: 1174. Filling remaining columns with `missing`\n",
      "thread = 1 warning: only found 29 / 31 columns around data row: 1175. Filling remaining columns with `missing`\n",
      "thread = 1 warning: only found 29 / 31 columns around data row: 1176. Filling remaining columns with `missing`\n",
      "thread = 1 warning: only found 29 / 31 columns around data row: 1177. Filling remaining columns with `missing`\n",
      "thread = 1 warning: only found 29 / 31 columns around data row: 1178. Filling remaining columns with `missing`\n",
      "thread = 1 warning: only found 29 / 31 columns around data row: 1179. Filling remaining columns with `missing`\n",
      "thread = 1 warning: only found 29 / 31 columns around data row: 1180. Filling remaining columns with `missing`\n",
      "thread = 1 warning: only found 29 / 31 columns around data row: 1181. Filling remaining columns with `missing`\n",
      "thread = 1 warning: only found 29 / 31 columns around data row: 1182. Filling remaining columns with `missing`\n",
      "thread = 1 warning: only found 29 / 31 columns around data row: 1183. Filling remaining columns with `missing`\n",
      "thread = 1 warning: only found 29 / 31 columns around data row: 1184. Filling remaining columns with `missing`\n",
      "thread = 1 warning: only found 29 / 31 columns around data row: 1185. Filling remaining columns with `missing`\n",
      "thread = 1 warning: only found 29 / 31 columns around data row: 1186. Filling remaining columns with `missing`\n",
      "thread = 1 warning: only found 29 / 31 columns around data row: 1187. Filling remaining columns with `missing`\n",
      "thread = 1 warning: only found 29 / 31 columns around data row: 1188. Filling remaining columns with `missing`\n",
      "thread = 1 warning: only found 29 / 31 columns around data row: 1189. Filling remaining columns with `missing`\n",
      "thread = 1 warning: only found 29 / 31 columns around data row: 1190. Filling remaining columns with `missing`\n",
      "thread = 1 warning: only found 29 / 31 columns around data row: 1191. Filling remaining columns with `missing`\n",
      "thread = 1 warning: only found 29 / 31 columns around data row: 1192. Filling remaining columns with `missing`\n",
      "thread = 1 warning: only found 29 / 31 columns around data row: 1193. Filling remaining columns with `missing`\n",
      "thread = 1 warning: only found 29 / 31 columns around data row: 1194. Filling remaining columns with `missing`\n",
      "thread = 1 warning: only found 29 / 31 columns around data row: 1195. Filling remaining columns with `missing`\n",
      "thread = 1 warning: only found 29 / 31 columns around data row: 1196. Filling remaining columns with `missing`\n",
      "thread = 1 warning: only found 29 / 31 columns around data row: 1197. Filling remaining columns with `missing`\n",
      "thread = 1 warning: only found 29 / 31 columns around data row: 1198. Filling remaining columns with `missing`\n",
      "thread = 1 warning: only found 29 / 31 columns around data row: 1199. Filling remaining columns with `missing`\n",
      "thread = 1 warning: only found 29 / 31 columns around data row: 1200. Filling remaining columns with `missing`\n",
      "thread = 1 warning: only found 29 / 31 columns around data row: 1201. Filling remaining columns with `missing`\n",
      "thread = 1 warning: only found 29 / 31 columns around data row: 1202. Filling remaining columns with `missing`\n",
      "thread = 1 warning: only found 29 / 31 columns around data row: 1203. Filling remaining columns with `missing`\n",
      "thread = 1 warning: only found 29 / 31 columns around data row: 1204. Filling remaining columns with `missing`\n",
      "thread = 1 warning: only found 29 / 31 columns around data row: 1205. Filling remaining columns with `missing`\n",
      "thread = 1 warning: only found 29 / 31 columns around data row: 1206. Filling remaining columns with `missing`\n",
      "thread = 1 warning: only found 29 / 31 columns around data row: 1207. Filling remaining columns with `missing`\n",
      "thread = 1 warning: only found 29 / 31 columns around data row: 1208. Filling remaining columns with `missing`\n",
      "thread = 1 warning: only found 29 / 31 columns around data row: 1209. Filling remaining columns with `missing`\n",
      "thread = 1 warning: only found 29 / 31 columns around data row: 1210. Filling remaining columns with `missing`\n",
      "thread = 1 warning: only found 29 / 31 columns around data row: 1211. Filling remaining columns with `missing`\n",
      "thread = 1 warning: only found 29 / 31 columns around data row: 1212. Filling remaining columns with `missing`\n",
      "thread = 1 warning: only found 29 / 31 columns around data row: 1213. Filling remaining columns with `missing`\n",
      "thread = 1 warning: only found 29 / 31 columns around data row: 1214. Filling remaining columns with `missing`\n",
      "thread = 1 warning: only found 29 / 31 columns around data row: 1215. Filling remaining columns with `missing`\n",
      "thread = 1 warning: only found 29 / 31 columns around data row: 1216. Filling remaining columns with `missing`\n",
      "thread = 1 warning: only found 29 / 31 columns around data row: 1217. Filling remaining columns with `missing`\n",
      "thread = 1 warning: only found 29 / 31 columns around data row: 1218. Filling remaining columns with `missing`\n",
      "thread = 1 warning: only found 29 / 31 columns around data row: 1219. Filling remaining columns with `missing`\n",
      "thread = 1 warning: only found 29 / 31 columns around data row: 1220. Filling remaining columns with `missing`\n",
      "thread = 1 warning: only found 29 / 31 columns around data row: 1221. Filling remaining columns with `missing`\n"
     ]
    },
    {
     "name": "stdout",
     "output_type": "stream",
     "text": [
      "thread = 1 warning: only found 29 / 31 columns around data row: 1222. Filling remaining columns with `missing`\n",
      "thread = 1 warning: only found 29 / 31 columns around data row: 1223. Filling remaining columns with `missing`\n",
      "thread = 1 warning: only found 29 / 31 columns around data row: 1224. Filling remaining columns with `missing`\n",
      "thread = 1 warning: only found 29 / 31 columns around data row: 1225. Filling remaining columns with `missing`\n",
      "thread = 1 warning: only found 29 / 31 columns around data row: 1226. Filling remaining columns with `missing`\n",
      "thread = 1 warning: only found 29 / 31 columns around data row: 1227. Filling remaining columns with `missing`\n",
      "thread = 1 warning: only found 29 / 31 columns around data row: 1228. Filling remaining columns with `missing`\n",
      "thread = 1 warning: only found 29 / 31 columns around data row: 1229. Filling remaining columns with `missing`\n",
      "thread = 1 warning: only found 29 / 31 columns around data row: 1230. Filling remaining columns with `missing`\n",
      "thread = 1 warning: only found 29 / 31 columns around data row: 1231. Filling remaining columns with `missing`\n",
      "thread = 1 warning: only found 29 / 31 columns around data row: 1232. Filling remaining columns with `missing`\n",
      "thread = 1 warning: only found 29 / 31 columns around data row: 1233. Filling remaining columns with `missing`\n",
      "thread = 1 warning: only found 29 / 31 columns around data row: 1234. Filling remaining columns with `missing`\n",
      "thread = 1 warning: only found 29 / 31 columns around data row: 1235. Filling remaining columns with `missing`\n",
      "thread = 1 warning: only found 29 / 31 columns around data row: 1236. Filling remaining columns with `missing`\n",
      "thread = 1 warning: only found 29 / 31 columns around data row: 1237. Filling remaining columns with `missing`\n",
      "thread = 1 warning: only found 29 / 31 columns around data row: 1238. Filling remaining columns with `missing`\n",
      "thread = 1 warning: only found 29 / 31 columns around data row: 1239. Filling remaining columns with `missing`\n",
      "thread = 1 warning: only found 29 / 31 columns around data row: 1240. Filling remaining columns with `missing`\n",
      "thread = 1 warning: only found 29 / 31 columns around data row: 1241. Filling remaining columns with `missing`\n",
      "thread = 1 warning: only found 29 / 31 columns around data row: 1242. Filling remaining columns with `missing`\n",
      "thread = 1 warning: only found 29 / 31 columns around data row: 1243. Filling remaining columns with `missing`\n",
      "thread = 1 warning: only found 29 / 31 columns around data row: 1244. Filling remaining columns with `missing`\n",
      "thread = 1 warning: only found 29 / 31 columns around data row: 1245. Filling remaining columns with `missing`\n",
      "thread = 1 warning: only found 29 / 31 columns around data row: 1246. Filling remaining columns with `missing`\n",
      "thread = 1 warning: only found 29 / 31 columns around data row: 1247. Filling remaining columns with `missing`\n",
      "thread = 1 warning: only found 29 / 31 columns around data row: 1248. Filling remaining columns with `missing`\n",
      "thread = 1 warning: only found 29 / 31 columns around data row: 1249. Filling remaining columns with `missing`\n",
      "thread = 1 warning: only found 29 / 31 columns around data row: 1250. Filling remaining columns with `missing`\n",
      "thread = 1 warning: only found 29 / 31 columns around data row: 1251. Filling remaining columns with `missing`\n",
      "thread = 1 warning: only found 29 / 31 columns around data row: 1252. Filling remaining columns with `missing`\n",
      "thread = 1 warning: only found 29 / 31 columns around data row: 1253. Filling remaining columns with `missing`\n",
      "thread = 1 warning: only found 29 / 31 columns around data row: 1254. Filling remaining columns with `missing`\n",
      "thread = 1 warning: only found 29 / 31 columns around data row: 1255. Filling remaining columns with `missing`\n",
      "thread = 1 warning: only found 29 / 31 columns around data row: 1256. Filling remaining columns with `missing`\n",
      "thread = 1 warning: only found 29 / 31 columns around data row: 1257. Filling remaining columns with `missing`\n",
      "thread = 1 warning: only found 29 / 31 columns around data row: 1258. Filling remaining columns with `missing`\n",
      "thread = 1 warning: only found 29 / 31 columns around data row: 1259. Filling remaining columns with `missing`\n",
      "thread = 1 warning: only found 29 / 31 columns around data row: 1260. Filling remaining columns with `missing`\n",
      "thread = 1 warning: only found 29 / 31 columns around data row: 1261. Filling remaining columns with `missing`\n",
      "thread = 1 warning: only found 29 / 31 columns around data row: 1262. Filling remaining columns with `missing`\n",
      "thread = 1 warning: only found 29 / 31 columns around data row: 1263. Filling remaining columns with `missing`\n",
      "thread = 1 warning: only found 29 / 31 columns around data row: 1264. Filling remaining columns with `missing`\n",
      "thread = 1 warning: only found 29 / 31 columns around data row: 1265. Filling remaining columns with `missing`\n",
      "thread = 1 warning: only found 29 / 31 columns around data row: 1266. Filling remaining columns with `missing`\n",
      "thread = 1 warning: only found 29 / 31 columns around data row: 1267. Filling remaining columns with `missing`\n",
      "thread = 1 warning: only found 29 / 31 columns around data row: 1268. Filling remaining columns with `missing`\n",
      "thread = 1 warning: only found 29 / 31 columns around data row: 1269. Filling remaining columns with `missing`\n",
      "thread = 1 warning: only found 29 / 31 columns around data row: 1270. Filling remaining columns with `missing`\n",
      "thread = 1 warning: only found 29 / 31 columns around data row: 1271. Filling remaining columns with `missing`\n",
      "thread = 1 warning: only found 29 / 31 columns around data row: 1272. Filling remaining columns with `missing`\n",
      "thread = 1 warning: only found 29 / 31 columns around data row: 1273. Filling remaining columns with `missing`\n",
      "thread = 1 warning: only found 29 / 31 columns around data row: 1274. Filling remaining columns with `missing`\n",
      "thread = 1 warning: only found 29 / 31 columns around data row: 1275. Filling remaining columns with `missing`\n",
      "thread = 1 warning: only found 29 / 31 columns around data row: 1276. Filling remaining columns with `missing`\n",
      "thread = 1 warning: only found 29 / 31 columns around data row: 1277. Filling remaining columns with `missing`\n",
      "thread = 1 warning: only found 29 / 31 columns around data row: 1278. Filling remaining columns with `missing`\n",
      "thread = 1 warning: only found 29 / 31 columns around data row: 1279. Filling remaining columns with `missing`\n",
      "thread = 1 warning: only found 29 / 31 columns around data row: 1280. Filling remaining columns with `missing`\n",
      "thread = 1 warning: only found 29 / 31 columns around data row: 1281. Filling remaining columns with `missing`\n",
      "thread = 1 warning: only found 29 / 31 columns around data row: 1282. Filling remaining columns with `missing`\n",
      "thread = 1 warning: only found 29 / 31 columns around data row: 1283. Filling remaining columns with `missing`\n",
      "thread = 1 warning: only found 29 / 31 columns around data row: 1284. Filling remaining columns with `missing`\n",
      "thread = 1 warning: only found 29 / 31 columns around data row: 1285. Filling remaining columns with `missing`\n",
      "thread = 1 warning: only found 29 / 31 columns around data row: 1286. Filling remaining columns with `missing`\n",
      "thread = 1 warning: only found 29 / 31 columns around data row: 1287. Filling remaining columns with `missing`\n",
      "thread = 1 warning: only found 29 / 31 columns around data row: 1288. Filling remaining columns with `missing`\n",
      "thread = 1 warning: only found 29 / 31 columns around data row: 1289. Filling remaining columns with `missing`\n",
      "thread = 1 warning: only found 29 / 31 columns around data row: 1290. Filling remaining columns with `missing`\n",
      "thread = 1 warning: only found 29 / 31 columns around data row: 1291. Filling remaining columns with `missing`\n",
      "thread = 1 warning: only found 29 / 31 columns around data row: 1292. Filling remaining columns with `missing`\n",
      "thread = 1 warning: only found 29 / 31 columns around data row: 1293. Filling remaining columns with `missing`\n",
      "thread = 1 warning: only found 29 / 31 columns around data row: 1294. Filling remaining columns with `missing`\n",
      "thread = 1 warning: only found 29 / 31 columns around data row: 1295. Filling remaining columns with `missing`\n",
      "thread = 1 warning: only found 29 / 31 columns around data row: 1296. Filling remaining columns with `missing`\n",
      "thread = 1 warning: only found 29 / 31 columns around data row: 1297. Filling remaining columns with `missing`\n",
      "thread = 1 warning: only found 29 / 31 columns around data row: 1298. Filling remaining columns with `missing`\n",
      "thread = 1 warning: only found 29 / 31 columns around data row: 1299. Filling remaining columns with `missing`\n",
      "thread = 1 warning: only found 29 / 31 columns around data row: 1300. Filling remaining columns with `missing`\n",
      "thread = 1 warning: only found 29 / 31 columns around data row: 1301. Filling remaining columns with `missing`\n",
      "thread = 1 warning: only found 29 / 31 columns around data row: 1302. Filling remaining columns with `missing`\n",
      "thread = 1 warning: only found 29 / 31 columns around data row: 1303. Filling remaining columns with `missing`\n",
      "thread = 1 warning: only found 29 / 31 columns around data row: 1304. Filling remaining columns with `missing`\n",
      "thread = 1 warning: only found 29 / 31 columns around data row: 1305. Filling remaining columns with `missing`\n",
      "thread = 1 warning: only found 29 / 31 columns around data row: 1306. Filling remaining columns with `missing`\n",
      "thread = 1 warning: only found 29 / 31 columns around data row: 1307. Filling remaining columns with `missing`\n",
      "thread = 1 warning: only found 29 / 31 columns around data row: 1308. Filling remaining columns with `missing`\n",
      "thread = 1 warning: only found 29 / 31 columns around data row: 1309. Filling remaining columns with `missing`\n",
      "thread = 1 warning: only found 29 / 31 columns around data row: 1310. Filling remaining columns with `missing`\n",
      "thread = 1 warning: only found 29 / 31 columns around data row: 1311. Filling remaining columns with `missing`\n",
      "thread = 1 warning: only found 29 / 31 columns around data row: 1312. Filling remaining columns with `missing`\n",
      "thread = 1 warning: only found 29 / 31 columns around data row: 1313. Filling remaining columns with `missing`\n",
      "thread = 1 warning: only found 29 / 31 columns around data row: 1314. Filling remaining columns with `missing`\n"
     ]
    },
    {
     "name": "stdout",
     "output_type": "stream",
     "text": [
      "thread = 1 warning: only found 29 / 31 columns around data row: 1315. Filling remaining columns with `missing`\n",
      "thread = 1 warning: only found 29 / 31 columns around data row: 1316. Filling remaining columns with `missing`\n",
      "thread = 1 warning: only found 29 / 31 columns around data row: 1317. Filling remaining columns with `missing`\n",
      "thread = 1 warning: only found 29 / 31 columns around data row: 1318. Filling remaining columns with `missing`\n",
      "thread = 1 warning: only found 29 / 31 columns around data row: 1319. Filling remaining columns with `missing`\n",
      "thread = 1 warning: only found 29 / 31 columns around data row: 1320. Filling remaining columns with `missing`\n",
      "thread = 1 warning: only found 29 / 31 columns around data row: 1321. Filling remaining columns with `missing`\n",
      "thread = 1 warning: only found 29 / 31 columns around data row: 1322. Filling remaining columns with `missing`\n",
      "thread = 1 warning: only found 29 / 31 columns around data row: 1323. Filling remaining columns with `missing`\n",
      "thread = 1 warning: only found 29 / 31 columns around data row: 1324. Filling remaining columns with `missing`\n",
      "thread = 1 warning: only found 29 / 31 columns around data row: 1325. Filling remaining columns with `missing`\n",
      "thread = 1 warning: only found 29 / 31 columns around data row: 1326. Filling remaining columns with `missing`\n",
      "thread = 1 warning: only found 29 / 31 columns around data row: 1327. Filling remaining columns with `missing`\n",
      "thread = 1 warning: only found 29 / 31 columns around data row: 1328. Filling remaining columns with `missing`\n",
      "thread = 1 warning: only found 29 / 31 columns around data row: 1329. Filling remaining columns with `missing`\n",
      "thread = 1 warning: only found 29 / 31 columns around data row: 1330. Filling remaining columns with `missing`\n",
      "thread = 1 warning: only found 29 / 31 columns around data row: 1331. Filling remaining columns with `missing`\n",
      "thread = 1 warning: only found 29 / 31 columns around data row: 1332. Filling remaining columns with `missing`\n",
      "thread = 1 warning: only found 29 / 31 columns around data row: 1333. Filling remaining columns with `missing`\n",
      "thread = 1 warning: only found 29 / 31 columns around data row: 1334. Filling remaining columns with `missing`\n",
      "thread = 1 warning: only found 29 / 31 columns around data row: 1335. Filling remaining columns with `missing`\n",
      "thread = 1 warning: only found 29 / 31 columns around data row: 1336. Filling remaining columns with `missing`\n",
      "thread = 1 warning: only found 29 / 31 columns around data row: 1337. Filling remaining columns with `missing`\n",
      "thread = 1 warning: only found 29 / 31 columns around data row: 1338. Filling remaining columns with `missing`\n",
      "thread = 1 warning: only found 29 / 31 columns around data row: 1339. Filling remaining columns with `missing`\n",
      "thread = 1 warning: only found 29 / 31 columns around data row: 1340. Filling remaining columns with `missing`\n",
      "thread = 1 warning: only found 29 / 31 columns around data row: 1341. Filling remaining columns with `missing`\n",
      "thread = 1 warning: only found 29 / 31 columns around data row: 1342. Filling remaining columns with `missing`\n",
      "thread = 1 warning: only found 29 / 31 columns around data row: 1343. Filling remaining columns with `missing`\n",
      "thread = 1 warning: only found 29 / 31 columns around data row: 1344. Filling remaining columns with `missing`\n",
      "thread = 1 warning: only found 29 / 31 columns around data row: 1345. Filling remaining columns with `missing`\n",
      "thread = 1 warning: only found 29 / 31 columns around data row: 1346. Filling remaining columns with `missing`\n",
      "thread = 1 warning: only found 29 / 31 columns around data row: 1347. Filling remaining columns with `missing`\n",
      "thread = 1 warning: only found 29 / 31 columns around data row: 1348. Filling remaining columns with `missing`\n",
      "thread = 1 warning: only found 29 / 31 columns around data row: 1349. Filling remaining columns with `missing`\n",
      "thread = 1 warning: only found 29 / 31 columns around data row: 1350. Filling remaining columns with `missing`\n",
      "thread = 1 warning: only found 29 / 31 columns around data row: 1351. Filling remaining columns with `missing`\n",
      "thread = 1 warning: only found 29 / 31 columns around data row: 1352. Filling remaining columns with `missing`\n",
      "thread = 1 warning: only found 29 / 31 columns around data row: 1353. Filling remaining columns with `missing`\n",
      "thread = 1 warning: only found 29 / 31 columns around data row: 1354. Filling remaining columns with `missing`\n",
      "thread = 1 warning: only found 29 / 31 columns around data row: 1355. Filling remaining columns with `missing`\n",
      "thread = 1 warning: only found 29 / 31 columns around data row: 1356. Filling remaining columns with `missing`\n",
      "thread = 1 warning: only found 29 / 31 columns around data row: 1357. Filling remaining columns with `missing`\n",
      "thread = 1 warning: only found 29 / 31 columns around data row: 1358. Filling remaining columns with `missing`\n",
      "thread = 1 warning: only found 29 / 31 columns around data row: 1359. Filling remaining columns with `missing`\n",
      "thread = 1 warning: only found 29 / 31 columns around data row: 1360. Filling remaining columns with `missing`\n",
      "thread = 1 warning: only found 29 / 31 columns around data row: 1361. Filling remaining columns with `missing`\n",
      "thread = 1 warning: only found 29 / 31 columns around data row: 1362. Filling remaining columns with `missing`\n",
      "thread = 1 warning: only found 29 / 31 columns around data row: 1363. Filling remaining columns with `missing`\n",
      "thread = 1 warning: only found 29 / 31 columns around data row: 1364. Filling remaining columns with `missing`\n",
      "thread = 1 warning: only found 29 / 31 columns around data row: 1365. Filling remaining columns with `missing`\n",
      "thread = 1 warning: only found 29 / 31 columns around data row: 1366. Filling remaining columns with `missing`\n",
      "thread = 1 warning: only found 29 / 31 columns around data row: 1367. Filling remaining columns with `missing`\n",
      "thread = 1 warning: only found 29 / 31 columns around data row: 1368. Filling remaining columns with `missing`\n",
      "thread = 1 warning: only found 29 / 31 columns around data row: 1369. Filling remaining columns with `missing`\n",
      "thread = 1 warning: only found 29 / 31 columns around data row: 1370. Filling remaining columns with `missing`\n",
      "thread = 1 warning: only found 29 / 31 columns around data row: 1371. Filling remaining columns with `missing`\n",
      "thread = 1 warning: only found 29 / 31 columns around data row: 1372. Filling remaining columns with `missing`\n",
      "thread = 1 warning: only found 29 / 31 columns around data row: 1373. Filling remaining columns with `missing`\n",
      "thread = 1 warning: only found 29 / 31 columns around data row: 1374. Filling remaining columns with `missing`\n",
      "thread = 1 warning: only found 29 / 31 columns around data row: 1375. Filling remaining columns with `missing`\n",
      "thread = 1 warning: only found 29 / 31 columns around data row: 1376. Filling remaining columns with `missing`\n",
      "thread = 1 warning: only found 29 / 31 columns around data row: 1377. Filling remaining columns with `missing`\n",
      "thread = 1 warning: only found 29 / 31 columns around data row: 1378. Filling remaining columns with `missing`\n",
      "thread = 1 warning: only found 29 / 31 columns around data row: 1379. Filling remaining columns with `missing`\n",
      "thread = 1 warning: only found 29 / 31 columns around data row: 1380. Filling remaining columns with `missing`\n",
      "thread = 1 warning: only found 29 / 31 columns around data row: 1381. Filling remaining columns with `missing`\n",
      "thread = 1 warning: only found 29 / 31 columns around data row: 1382. Filling remaining columns with `missing`\n",
      "thread = 1 warning: only found 29 / 31 columns around data row: 1383. Filling remaining columns with `missing`\n",
      "thread = 1 warning: only found 29 / 31 columns around data row: 1384. Filling remaining columns with `missing`\n",
      "thread = 1 warning: only found 29 / 31 columns around data row: 1385. Filling remaining columns with `missing`\n",
      "thread = 1 warning: only found 29 / 31 columns around data row: 1386. Filling remaining columns with `missing`\n",
      "thread = 1 warning: only found 29 / 31 columns around data row: 1387. Filling remaining columns with `missing`\n",
      "thread = 1 warning: only found 29 / 31 columns around data row: 1388. Filling remaining columns with `missing`\n",
      "thread = 1 warning: only found 29 / 31 columns around data row: 1389. Filling remaining columns with `missing`\n",
      "thread = 1 warning: only found 29 / 31 columns around data row: 1390. Filling remaining columns with `missing`\n",
      "thread = 1 warning: only found 29 / 31 columns around data row: 1391. Filling remaining columns with `missing`\n",
      "thread = 1 warning: only found 29 / 31 columns around data row: 1392. Filling remaining columns with `missing`\n",
      "thread = 1 warning: only found 29 / 31 columns around data row: 1393. Filling remaining columns with `missing`\n",
      "thread = 1 warning: only found 29 / 31 columns around data row: 1394. Filling remaining columns with `missing`\n",
      "thread = 1 warning: only found 29 / 31 columns around data row: 1395. Filling remaining columns with `missing`\n",
      "thread = 1 warning: only found 29 / 31 columns around data row: 1396. Filling remaining columns with `missing`\n",
      "thread = 1 warning: only found 29 / 31 columns around data row: 1397. Filling remaining columns with `missing`\n",
      "thread = 1 warning: only found 29 / 31 columns around data row: 1398. Filling remaining columns with `missing`\n",
      "thread = 1 warning: only found 29 / 31 columns around data row: 1399. Filling remaining columns with `missing`\n",
      "thread = 1 warning: only found 29 / 31 columns around data row: 1400. Filling remaining columns with `missing`\n",
      "thread = 1 warning: only found 29 / 31 columns around data row: 1401. Filling remaining columns with `missing`\n",
      "thread = 1 warning: only found 29 / 31 columns around data row: 1402. Filling remaining columns with `missing`\n",
      "thread = 1 warning: only found 29 / 31 columns around data row: 1403. Filling remaining columns with `missing`\n",
      "thread = 1 warning: only found 29 / 31 columns around data row: 1404. Filling remaining columns with `missing`\n",
      "thread = 1 warning: only found 29 / 31 columns around data row: 1405. Filling remaining columns with `missing`\n",
      "thread = 1 warning: only found 29 / 31 columns around data row: 1406. Filling remaining columns with `missing`\n",
      "thread = 1 warning: only found 29 / 31 columns around data row: 1407. Filling remaining columns with `missing`\n"
     ]
    },
    {
     "name": "stdout",
     "output_type": "stream",
     "text": [
      "thread = 1 warning: only found 29 / 31 columns around data row: 1408. Filling remaining columns with `missing`\n",
      "thread = 1 warning: only found 29 / 31 columns around data row: 1409. Filling remaining columns with `missing`\n",
      "thread = 1 warning: only found 29 / 31 columns around data row: 1410. Filling remaining columns with `missing`\n",
      "thread = 1 warning: only found 29 / 31 columns around data row: 1411. Filling remaining columns with `missing`\n",
      "thread = 1 warning: only found 29 / 31 columns around data row: 1412. Filling remaining columns with `missing`\n",
      "thread = 1 warning: only found 29 / 31 columns around data row: 1413. Filling remaining columns with `missing`\n",
      "thread = 1 warning: only found 29 / 31 columns around data row: 1414. Filling remaining columns with `missing`\n",
      "thread = 1 warning: only found 29 / 31 columns around data row: 1415. Filling remaining columns with `missing`\n",
      "thread = 1 warning: only found 29 / 31 columns around data row: 1416. Filling remaining columns with `missing`\n",
      "thread = 1 warning: only found 29 / 31 columns around data row: 1417. Filling remaining columns with `missing`\n",
      "thread = 1 warning: only found 29 / 31 columns around data row: 1418. Filling remaining columns with `missing`\n",
      "thread = 1 warning: only found 29 / 31 columns around data row: 1419. Filling remaining columns with `missing`\n",
      "thread = 1 warning: only found 29 / 31 columns around data row: 1420. Filling remaining columns with `missing`\n",
      "thread = 1 warning: only found 29 / 31 columns around data row: 1421. Filling remaining columns with `missing`\n",
      "thread = 1 warning: only found 29 / 31 columns around data row: 1422. Filling remaining columns with `missing`\n",
      "thread = 1 warning: only found 29 / 31 columns around data row: 1423. Filling remaining columns with `missing`\n",
      "thread = 1 warning: only found 29 / 31 columns around data row: 1424. Filling remaining columns with `missing`\n",
      "thread = 1 warning: only found 29 / 31 columns around data row: 1425. Filling remaining columns with `missing`\n",
      "thread = 1 warning: only found 29 / 31 columns around data row: 1426. Filling remaining columns with `missing`\n",
      "thread = 1 warning: only found 29 / 31 columns around data row: 1427. Filling remaining columns with `missing`\n",
      "thread = 1 warning: only found 29 / 31 columns around data row: 1428. Filling remaining columns with `missing`\n",
      "thread = 1 warning: only found 29 / 31 columns around data row: 1429. Filling remaining columns with `missing`\n",
      "thread = 1 warning: only found 29 / 31 columns around data row: 1430. Filling remaining columns with `missing`\n",
      "thread = 1 warning: only found 29 / 31 columns around data row: 1431. Filling remaining columns with `missing`\n",
      "thread = 1 warning: only found 29 / 31 columns around data row: 1432. Filling remaining columns with `missing`\n",
      "thread = 1 warning: only found 29 / 31 columns around data row: 1433. Filling remaining columns with `missing`\n",
      "thread = 1 warning: only found 29 / 31 columns around data row: 1434. Filling remaining columns with `missing`\n",
      "thread = 1 warning: only found 29 / 31 columns around data row: 1435. Filling remaining columns with `missing`\n",
      "thread = 1 warning: only found 29 / 31 columns around data row: 1436. Filling remaining columns with `missing`\n",
      "thread = 1 warning: only found 29 / 31 columns around data row: 1437. Filling remaining columns with `missing`\n",
      "thread = 1 warning: only found 29 / 31 columns around data row: 1438. Filling remaining columns with `missing`\n",
      "thread = 1 warning: only found 29 / 31 columns around data row: 1439. Filling remaining columns with `missing`\n",
      "thread = 1 warning: only found 29 / 31 columns around data row: 1440. Filling remaining columns with `missing`\n",
      "thread = 1 warning: only found 29 / 31 columns around data row: 1441. Filling remaining columns with `missing`\n",
      "thread = 1 warning: only found 29 / 31 columns around data row: 1442. Filling remaining columns with `missing`\n",
      "thread = 1 warning: only found 29 / 31 columns around data row: 1443. Filling remaining columns with `missing`\n",
      "thread = 1 warning: only found 29 / 31 columns around data row: 1444. Filling remaining columns with `missing`\n",
      "thread = 1 warning: only found 29 / 31 columns around data row: 1445. Filling remaining columns with `missing`\n",
      "thread = 1 warning: only found 29 / 31 columns around data row: 1446. Filling remaining columns with `missing`\n",
      "thread = 1 warning: only found 29 / 31 columns around data row: 1447. Filling remaining columns with `missing`\n",
      "thread = 1 warning: only found 29 / 31 columns around data row: 1448. Filling remaining columns with `missing`\n",
      "thread = 1 warning: only found 29 / 31 columns around data row: 1449. Filling remaining columns with `missing`\n",
      "thread = 1 warning: only found 29 / 31 columns around data row: 1450. Filling remaining columns with `missing`\n",
      "thread = 1 warning: only found 29 / 31 columns around data row: 1451. Filling remaining columns with `missing`\n",
      "thread = 1 warning: only found 29 / 31 columns around data row: 1452. Filling remaining columns with `missing`\n",
      "thread = 1 warning: only found 29 / 31 columns around data row: 1453. Filling remaining columns with `missing`\n",
      "thread = 1 warning: only found 29 / 31 columns around data row: 1454. Filling remaining columns with `missing`\n",
      "thread = 1 warning: only found 29 / 31 columns around data row: 1455. Filling remaining columns with `missing`\n",
      "thread = 1 warning: only found 29 / 31 columns around data row: 1456. Filling remaining columns with `missing`\n",
      "thread = 1 warning: only found 29 / 31 columns around data row: 1457. Filling remaining columns with `missing`\n",
      "thread = 1 warning: only found 29 / 31 columns around data row: 1458. Filling remaining columns with `missing`\n",
      "thread = 1 warning: only found 29 / 31 columns around data row: 1459. Filling remaining columns with `missing`\n",
      "thread = 1 warning: only found 29 / 31 columns around data row: 1460. Filling remaining columns with `missing`\n",
      "thread = 1 warning: only found 29 / 31 columns around data row: 1461. Filling remaining columns with `missing`\n",
      "thread = 1 warning: only found 29 / 31 columns around data row: 1462. Filling remaining columns with `missing`\n",
      "thread = 1 warning: only found 29 / 31 columns around data row: 1463. Filling remaining columns with `missing`\n",
      "thread = 1 warning: only found 29 / 31 columns around data row: 1464. Filling remaining columns with `missing`\n",
      "thread = 1 warning: only found 29 / 31 columns around data row: 1465. Filling remaining columns with `missing`\n",
      "thread = 1 warning: only found 29 / 31 columns around data row: 1466. Filling remaining columns with `missing`\n",
      "thread = 1 warning: only found 29 / 31 columns around data row: 1467. Filling remaining columns with `missing`\n",
      "thread = 1 warning: only found 29 / 31 columns around data row: 1468. Filling remaining columns with `missing`\n",
      "thread = 1 warning: only found 29 / 31 columns around data row: 1469. Filling remaining columns with `missing`\n",
      "thread = 1 warning: only found 29 / 31 columns around data row: 1470. Filling remaining columns with `missing`\n",
      "thread = 1 warning: only found 29 / 31 columns around data row: 1471. Filling remaining columns with `missing`\n",
      "thread = 1 warning: only found 29 / 31 columns around data row: 1472. Filling remaining columns with `missing`\n",
      "thread = 1 warning: only found 29 / 31 columns around data row: 1473. Filling remaining columns with `missing`\n",
      "thread = 1 warning: only found 29 / 31 columns around data row: 1474. Filling remaining columns with `missing`\n",
      "thread = 1 warning: only found 29 / 31 columns around data row: 1475. Filling remaining columns with `missing`\n",
      "thread = 1 warning: only found 29 / 31 columns around data row: 1476. Filling remaining columns with `missing`\n",
      "thread = 1 warning: only found 29 / 31 columns around data row: 1477. Filling remaining columns with `missing`\n",
      "thread = 1 warning: only found 29 / 31 columns around data row: 1478. Filling remaining columns with `missing`\n",
      "thread = 1 warning: only found 29 / 31 columns around data row: 1479. Filling remaining columns with `missing`\n",
      "thread = 1 warning: only found 29 / 31 columns around data row: 1480. Filling remaining columns with `missing`\n",
      "thread = 1 warning: only found 29 / 31 columns around data row: 1481. Filling remaining columns with `missing`\n",
      "thread = 1 warning: only found 29 / 31 columns around data row: 1482. Filling remaining columns with `missing`\n",
      "thread = 1 warning: only found 29 / 31 columns around data row: 1483. Filling remaining columns with `missing`\n",
      "thread = 1 warning: only found 29 / 31 columns around data row: 1484. Filling remaining columns with `missing`\n",
      "thread = 1 warning: only found 29 / 31 columns around data row: 1485. Filling remaining columns with `missing`\n",
      "thread = 1 warning: only found 29 / 31 columns around data row: 1486. Filling remaining columns with `missing`\n",
      "thread = 1 warning: only found 29 / 31 columns around data row: 1487. Filling remaining columns with `missing`\n",
      "thread = 1 warning: only found 29 / 31 columns around data row: 1488. Filling remaining columns with `missing`\n",
      "thread = 1 warning: only found 29 / 31 columns around data row: 1489. Filling remaining columns with `missing`\n",
      "thread = 1 warning: only found 29 / 31 columns around data row: 1490. Filling remaining columns with `missing`\n",
      "thread = 1 warning: only found 29 / 31 columns around data row: 1491. Filling remaining columns with `missing`\n",
      "thread = 1 warning: only found 29 / 31 columns around data row: 1492. Filling remaining columns with `missing`\n",
      "thread = 1 warning: only found 29 / 31 columns around data row: 1493. Filling remaining columns with `missing`\n",
      "thread = 1 warning: only found 29 / 31 columns around data row: 1494. Filling remaining columns with `missing`\n",
      "thread = 1 warning: only found 29 / 31 columns around data row: 1495. Filling remaining columns with `missing`\n",
      "thread = 1 warning: only found 29 / 31 columns around data row: 1496. Filling remaining columns with `missing`\n",
      "thread = 1 warning: only found 29 / 31 columns around data row: 1497. Filling remaining columns with `missing`\n",
      "thread = 1 warning: only found 29 / 31 columns around data row: 1498. Filling remaining columns with `missing`\n",
      "thread = 1 warning: only found 29 / 31 columns around data row: 1499. Filling remaining columns with `missing`\n",
      "thread = 1 warning: only found 29 / 31 columns around data row: 1500. Filling remaining columns with `missing`\n"
     ]
    },
    {
     "name": "stdout",
     "output_type": "stream",
     "text": [
      "thread = 1 warning: only found 29 / 31 columns around data row: 1501. Filling remaining columns with `missing`\n",
      "thread = 1 warning: only found 29 / 31 columns around data row: 1502. Filling remaining columns with `missing`\n",
      "thread = 1 warning: only found 29 / 31 columns around data row: 1503. Filling remaining columns with `missing`\n",
      "thread = 1 warning: only found 29 / 31 columns around data row: 1504. Filling remaining columns with `missing`\n",
      "thread = 1 warning: only found 29 / 31 columns around data row: 1505. Filling remaining columns with `missing`\n",
      "thread = 1 warning: only found 29 / 31 columns around data row: 1506. Filling remaining columns with `missing`\n",
      "thread = 1 warning: only found 29 / 31 columns around data row: 1507. Filling remaining columns with `missing`\n",
      "thread = 1 warning: only found 29 / 31 columns around data row: 1508. Filling remaining columns with `missing`\n",
      "thread = 1 warning: only found 29 / 31 columns around data row: 1509. Filling remaining columns with `missing`\n",
      "thread = 1 warning: only found 29 / 31 columns around data row: 1510. Filling remaining columns with `missing`\n",
      "thread = 1 warning: only found 29 / 31 columns around data row: 1511. Filling remaining columns with `missing`\n",
      "thread = 1 warning: only found 29 / 31 columns around data row: 1512. Filling remaining columns with `missing`\n",
      "thread = 1 warning: only found 29 / 31 columns around data row: 1513. Filling remaining columns with `missing`\n",
      "thread = 1 warning: only found 29 / 31 columns around data row: 1514. Filling remaining columns with `missing`\n",
      "thread = 1 warning: only found 29 / 31 columns around data row: 1515. Filling remaining columns with `missing`\n",
      "thread = 1 warning: only found 29 / 31 columns around data row: 1516. Filling remaining columns with `missing`\n",
      "thread = 1 warning: only found 29 / 31 columns around data row: 1517. Filling remaining columns with `missing`\n",
      "thread = 1 warning: only found 29 / 31 columns around data row: 1518. Filling remaining columns with `missing`\n",
      "thread = 1 warning: only found 29 / 31 columns around data row: 1519. Filling remaining columns with `missing`\n",
      "thread = 1 warning: only found 29 / 31 columns around data row: 1520. Filling remaining columns with `missing`\n",
      "thread = 1 warning: only found 29 / 31 columns around data row: 1521. Filling remaining columns with `missing`\n",
      "thread = 1 warning: only found 29 / 31 columns around data row: 1522. Filling remaining columns with `missing`\n",
      "thread = 1 warning: only found 29 / 31 columns around data row: 1523. Filling remaining columns with `missing`\n",
      "thread = 1 warning: only found 29 / 31 columns around data row: 1524. Filling remaining columns with `missing`\n",
      "thread = 1 warning: only found 29 / 31 columns around data row: 1525. Filling remaining columns with `missing`\n",
      "thread = 1 warning: only found 29 / 31 columns around data row: 1526. Filling remaining columns with `missing`\n",
      "thread = 1 warning: only found 29 / 31 columns around data row: 1527. Filling remaining columns with `missing`\n",
      "thread = 1 warning: only found 29 / 31 columns around data row: 1528. Filling remaining columns with `missing`\n",
      "thread = 1 warning: only found 29 / 31 columns around data row: 1529. Filling remaining columns with `missing`\n",
      "thread = 1 warning: only found 29 / 31 columns around data row: 1530. Filling remaining columns with `missing`\n",
      "thread = 1 warning: only found 29 / 31 columns around data row: 1531. Filling remaining columns with `missing`\n",
      "thread = 1 warning: only found 29 / 31 columns around data row: 1532. Filling remaining columns with `missing`\n",
      "thread = 1 warning: only found 29 / 31 columns around data row: 1533. Filling remaining columns with `missing`\n",
      "thread = 1 warning: only found 29 / 31 columns around data row: 1534. Filling remaining columns with `missing`\n",
      "thread = 1 warning: only found 29 / 31 columns around data row: 1535. Filling remaining columns with `missing`\n",
      "thread = 1 warning: only found 29 / 31 columns around data row: 1536. Filling remaining columns with `missing`\n",
      "thread = 1 warning: only found 29 / 31 columns around data row: 1537. Filling remaining columns with `missing`\n",
      "thread = 1 warning: only found 29 / 31 columns around data row: 1538. Filling remaining columns with `missing`\n",
      "thread = 1 warning: only found 29 / 31 columns around data row: 1539. Filling remaining columns with `missing`\n",
      "thread = 1 warning: only found 29 / 31 columns around data row: 1540. Filling remaining columns with `missing`\n",
      "thread = 1 warning: only found 29 / 31 columns around data row: 1541. Filling remaining columns with `missing`\n",
      "thread = 1 warning: only found 29 / 31 columns around data row: 1542. Filling remaining columns with `missing`\n",
      "thread = 1 warning: only found 29 / 31 columns around data row: 1543. Filling remaining columns with `missing`\n",
      "thread = 1 warning: only found 29 / 31 columns around data row: 1544. Filling remaining columns with `missing`\n",
      "thread = 1 warning: only found 29 / 31 columns around data row: 1545. Filling remaining columns with `missing`\n",
      "thread = 1 warning: only found 29 / 31 columns around data row: 1546. Filling remaining columns with `missing`\n",
      "thread = 1 warning: only found 29 / 31 columns around data row: 1547. Filling remaining columns with `missing`\n",
      "thread = 1 warning: only found 29 / 31 columns around data row: 1548. Filling remaining columns with `missing`\n",
      "thread = 1 warning: only found 29 / 31 columns around data row: 1549. Filling remaining columns with `missing`\n",
      "thread = 1 warning: only found 29 / 31 columns around data row: 1550. Filling remaining columns with `missing`\n",
      "thread = 1 warning: only found 29 / 31 columns around data row: 1551. Filling remaining columns with `missing`\n",
      "thread = 1 warning: only found 29 / 31 columns around data row: 1552. Filling remaining columns with `missing`\n",
      "thread = 1 warning: only found 29 / 31 columns around data row: 1553. Filling remaining columns with `missing`\n",
      "thread = 1 warning: only found 29 / 31 columns around data row: 1554. Filling remaining columns with `missing`\n",
      "thread = 1 warning: only found 29 / 31 columns around data row: 1555. Filling remaining columns with `missing`\n",
      "thread = 1 warning: only found 29 / 31 columns around data row: 1556. Filling remaining columns with `missing`\n",
      "thread = 1 warning: only found 29 / 31 columns around data row: 1557. Filling remaining columns with `missing`\n",
      "thread = 1 warning: only found 29 / 31 columns around data row: 1558. Filling remaining columns with `missing`\n",
      "thread = 1 warning: only found 29 / 31 columns around data row: 1559. Filling remaining columns with `missing`\n",
      "thread = 1 warning: only found 29 / 31 columns around data row: 1560. Filling remaining columns with `missing`\n",
      "thread = 1 warning: only found 29 / 31 columns around data row: 1561. Filling remaining columns with `missing`\n",
      "thread = 1 warning: only found 29 / 31 columns around data row: 1562. Filling remaining columns with `missing`\n",
      "thread = 1 warning: only found 29 / 31 columns around data row: 1563. Filling remaining columns with `missing`\n",
      "thread = 1 warning: only found 29 / 31 columns around data row: 1564. Filling remaining columns with `missing`\n",
      "thread = 1 warning: only found 29 / 31 columns around data row: 1565. Filling remaining columns with `missing`\n",
      "thread = 1 warning: only found 29 / 31 columns around data row: 1566. Filling remaining columns with `missing`\n",
      "thread = 1 warning: only found 29 / 31 columns around data row: 1567. Filling remaining columns with `missing`\n",
      "thread = 1 warning: only found 29 / 31 columns around data row: 1568. Filling remaining columns with `missing`\n",
      "thread = 1 warning: only found 29 / 31 columns around data row: 1569. Filling remaining columns with `missing`\n",
      "thread = 1 warning: only found 29 / 31 columns around data row: 1570. Filling remaining columns with `missing`\n",
      "thread = 1 warning: only found 29 / 31 columns around data row: 1571. Filling remaining columns with `missing`\n",
      "thread = 1 warning: only found 29 / 31 columns around data row: 1572. Filling remaining columns with `missing`\n",
      "thread = 1 warning: only found 29 / 31 columns around data row: 1573. Filling remaining columns with `missing`\n",
      "thread = 1 warning: only found 29 / 31 columns around data row: 1574. Filling remaining columns with `missing`\n",
      "thread = 1 warning: only found 29 / 31 columns around data row: 1575. Filling remaining columns with `missing`\n",
      "thread = 1 warning: only found 29 / 31 columns around data row: 1576. Filling remaining columns with `missing`\n",
      "thread = 1 warning: only found 29 / 31 columns around data row: 1577. Filling remaining columns with `missing`\n",
      "thread = 1 warning: only found 29 / 31 columns around data row: 1578. Filling remaining columns with `missing`\n",
      "thread = 1 warning: only found 29 / 31 columns around data row: 1579. Filling remaining columns with `missing`\n",
      "thread = 1 warning: only found 29 / 31 columns around data row: 1580. Filling remaining columns with `missing`\n",
      "thread = 1 warning: only found 29 / 31 columns around data row: 1581. Filling remaining columns with `missing`\n",
      "thread = 1 warning: only found 29 / 31 columns around data row: 1582. Filling remaining columns with `missing`\n",
      "thread = 1 warning: only found 29 / 31 columns around data row: 1583. Filling remaining columns with `missing`\n",
      "thread = 1 warning: only found 29 / 31 columns around data row: 1584. Filling remaining columns with `missing`\n",
      "thread = 1 warning: only found 29 / 31 columns around data row: 1585. Filling remaining columns with `missing`\n",
      "thread = 1 warning: only found 29 / 31 columns around data row: 1586. Filling remaining columns with `missing`\n",
      "thread = 1 warning: only found 29 / 31 columns around data row: 1587. Filling remaining columns with `missing`\n",
      "thread = 1 warning: only found 29 / 31 columns around data row: 1588. Filling remaining columns with `missing`\n",
      "thread = 1 warning: only found 29 / 31 columns around data row: 1589. Filling remaining columns with `missing`\n",
      "thread = 1 warning: only found 29 / 31 columns around data row: 1590. Filling remaining columns with `missing`\n",
      "thread = 1 warning: only found 29 / 31 columns around data row: 1591. Filling remaining columns with `missing`\n",
      "thread = 1 warning: only found 29 / 31 columns around data row: 1592. Filling remaining columns with `missing`\n",
      "thread = 1 warning: only found 29 / 31 columns around data row: 1593. Filling remaining columns with `missing`\n"
     ]
    },
    {
     "name": "stdout",
     "output_type": "stream",
     "text": [
      "thread = 1 warning: only found 29 / 31 columns around data row: 1594. Filling remaining columns with `missing`\n",
      "thread = 1 warning: only found 29 / 31 columns around data row: 1595. Filling remaining columns with `missing`\n",
      "thread = 1 warning: only found 29 / 31 columns around data row: 1596. Filling remaining columns with `missing`\n",
      "thread = 1 warning: only found 29 / 31 columns around data row: 1597. Filling remaining columns with `missing`\n",
      "thread = 1 warning: only found 29 / 31 columns around data row: 1598. Filling remaining columns with `missing`\n",
      "thread = 1 warning: only found 29 / 31 columns around data row: 1599. Filling remaining columns with `missing`\n",
      "thread = 1 warning: only found 29 / 31 columns around data row: 1600. Filling remaining columns with `missing`\n",
      "thread = 1 warning: only found 29 / 31 columns around data row: 1601. Filling remaining columns with `missing`\n",
      "thread = 1 warning: only found 29 / 31 columns around data row: 1602. Filling remaining columns with `missing`\n",
      "thread = 1 warning: only found 29 / 31 columns around data row: 1603. Filling remaining columns with `missing`\n",
      "thread = 1 warning: only found 29 / 31 columns around data row: 1604. Filling remaining columns with `missing`\n",
      "thread = 1 warning: only found 29 / 31 columns around data row: 1605. Filling remaining columns with `missing`\n",
      "thread = 1 warning: only found 29 / 31 columns around data row: 1606. Filling remaining columns with `missing`\n",
      "thread = 1 warning: only found 29 / 31 columns around data row: 1607. Filling remaining columns with `missing`\n",
      "thread = 1 warning: only found 29 / 31 columns around data row: 1608. Filling remaining columns with `missing`\n",
      "thread = 1 warning: only found 29 / 31 columns around data row: 1609. Filling remaining columns with `missing`\n",
      "thread = 1 warning: only found 29 / 31 columns around data row: 1610. Filling remaining columns with `missing`\n",
      "thread = 1 warning: only found 29 / 31 columns around data row: 1611. Filling remaining columns with `missing`\n",
      "thread = 1 warning: only found 29 / 31 columns around data row: 1612. Filling remaining columns with `missing`\n",
      "thread = 1 warning: only found 29 / 31 columns around data row: 1613. Filling remaining columns with `missing`\n",
      "thread = 1 warning: only found 29 / 31 columns around data row: 1614. Filling remaining columns with `missing`\n",
      "thread = 1 warning: only found 29 / 31 columns around data row: 1615. Filling remaining columns with `missing`\n",
      "thread = 1 warning: only found 29 / 31 columns around data row: 1616. Filling remaining columns with `missing`\n",
      "thread = 1 warning: only found 29 / 31 columns around data row: 1617. Filling remaining columns with `missing`\n",
      "thread = 1 warning: only found 29 / 31 columns around data row: 1618. Filling remaining columns with `missing`\n",
      "thread = 1 warning: only found 29 / 31 columns around data row: 1619. Filling remaining columns with `missing`\n",
      "thread = 1 warning: only found 29 / 31 columns around data row: 1620. Filling remaining columns with `missing`\n",
      "thread = 1 warning: only found 29 / 31 columns around data row: 1621. Filling remaining columns with `missing`\n",
      "thread = 1 warning: only found 29 / 31 columns around data row: 1622. Filling remaining columns with `missing`\n",
      "thread = 1 warning: only found 29 / 31 columns around data row: 1623. Filling remaining columns with `missing`\n",
      "thread = 1 warning: only found 29 / 31 columns around data row: 1624. Filling remaining columns with `missing`\n",
      "thread = 1 warning: only found 29 / 31 columns around data row: 1625. Filling remaining columns with `missing`\n",
      "thread = 1 warning: only found 29 / 31 columns around data row: 1626. Filling remaining columns with `missing`\n",
      "thread = 1 warning: only found 29 / 31 columns around data row: 1627. Filling remaining columns with `missing`\n",
      "thread = 1 warning: only found 29 / 31 columns around data row: 1628. Filling remaining columns with `missing`\n",
      "thread = 1 warning: only found 29 / 31 columns around data row: 1629. Filling remaining columns with `missing`\n",
      "thread = 1 warning: only found 29 / 31 columns around data row: 1630. Filling remaining columns with `missing`\n",
      "thread = 1 warning: only found 29 / 31 columns around data row: 1631. Filling remaining columns with `missing`\n",
      "thread = 1 warning: only found 29 / 31 columns around data row: 1632. Filling remaining columns with `missing`\n",
      "thread = 1 warning: only found 29 / 31 columns around data row: 1633. Filling remaining columns with `missing`\n",
      "thread = 1 warning: only found 29 / 31 columns around data row: 1634. Filling remaining columns with `missing`\n",
      "thread = 1 warning: only found 29 / 31 columns around data row: 1635. Filling remaining columns with `missing`\n",
      "thread = 1 warning: only found 29 / 31 columns around data row: 1636. Filling remaining columns with `missing`\n",
      "thread = 1 warning: only found 29 / 31 columns around data row: 1637. Filling remaining columns with `missing`\n",
      "thread = 1 warning: only found 29 / 31 columns around data row: 1638. Filling remaining columns with `missing`\n",
      "thread = 1 warning: only found 29 / 31 columns around data row: 1639. Filling remaining columns with `missing`\n",
      "thread = 1 warning: only found 29 / 31 columns around data row: 1640. Filling remaining columns with `missing`\n",
      "thread = 1 warning: only found 29 / 31 columns around data row: 1641. Filling remaining columns with `missing`\n",
      "thread = 1 warning: only found 29 / 31 columns around data row: 1642. Filling remaining columns with `missing`\n",
      "thread = 1 warning: only found 29 / 31 columns around data row: 1643. Filling remaining columns with `missing`\n",
      "thread = 1 warning: only found 29 / 31 columns around data row: 1644. Filling remaining columns with `missing`\n",
      "thread = 1 warning: only found 29 / 31 columns around data row: 1645. Filling remaining columns with `missing`\n",
      "thread = 1 warning: only found 29 / 31 columns around data row: 1646. Filling remaining columns with `missing`\n",
      "thread = 1 warning: only found 29 / 31 columns around data row: 1647. Filling remaining columns with `missing`\n",
      "thread = 1 warning: only found 29 / 31 columns around data row: 1648. Filling remaining columns with `missing`\n",
      "thread = 1 warning: only found 29 / 31 columns around data row: 1649. Filling remaining columns with `missing`\n",
      "thread = 1 warning: only found 29 / 31 columns around data row: 1650. Filling remaining columns with `missing`\n",
      "thread = 1 warning: only found 29 / 31 columns around data row: 1651. Filling remaining columns with `missing`\n",
      "thread = 1 warning: only found 29 / 31 columns around data row: 1652. Filling remaining columns with `missing`\n",
      "thread = 1 warning: only found 29 / 31 columns around data row: 1653. Filling remaining columns with `missing`\n",
      "thread = 1 warning: only found 29 / 31 columns around data row: 1654. Filling remaining columns with `missing`\n",
      "thread = 1 warning: only found 29 / 31 columns around data row: 1655. Filling remaining columns with `missing`\n",
      "thread = 1 warning: only found 29 / 31 columns around data row: 1656. Filling remaining columns with `missing`\n",
      "thread = 1 warning: only found 29 / 31 columns around data row: 1657. Filling remaining columns with `missing`\n",
      "thread = 1 warning: only found 29 / 31 columns around data row: 1658. Filling remaining columns with `missing`\n",
      "thread = 1 warning: only found 29 / 31 columns around data row: 1659. Filling remaining columns with `missing`\n",
      "thread = 1 warning: only found 29 / 31 columns around data row: 1660. Filling remaining columns with `missing`\n",
      "thread = 1 warning: only found 29 / 31 columns around data row: 1661. Filling remaining columns with `missing`\n",
      "thread = 1 warning: only found 29 / 31 columns around data row: 1662. Filling remaining columns with `missing`\n",
      "thread = 1 warning: only found 29 / 31 columns around data row: 1663. Filling remaining columns with `missing`\n",
      "thread = 1 warning: only found 29 / 31 columns around data row: 1664. Filling remaining columns with `missing`\n",
      "thread = 1 warning: only found 29 / 31 columns around data row: 1665. Filling remaining columns with `missing`\n",
      "thread = 1 warning: only found 29 / 31 columns around data row: 1666. Filling remaining columns with `missing`\n",
      "thread = 1 warning: only found 29 / 31 columns around data row: 1667. Filling remaining columns with `missing`\n",
      "thread = 1 warning: only found 29 / 31 columns around data row: 1668. Filling remaining columns with `missing`\n",
      "thread = 1 warning: only found 29 / 31 columns around data row: 1669. Filling remaining columns with `missing`\n",
      "thread = 1 warning: only found 29 / 31 columns around data row: 1670. Filling remaining columns with `missing`\n",
      "thread = 1 warning: only found 29 / 31 columns around data row: 1671. Filling remaining columns with `missing`\n",
      "thread = 1 warning: only found 29 / 31 columns around data row: 1672. Filling remaining columns with `missing`\n",
      "thread = 1 warning: only found 29 / 31 columns around data row: 1673. Filling remaining columns with `missing`\n",
      "thread = 1 warning: only found 29 / 31 columns around data row: 1674. Filling remaining columns with `missing`\n",
      "thread = 1 warning: only found 29 / 31 columns around data row: 1675. Filling remaining columns with `missing`\n",
      "thread = 1 warning: only found 29 / 31 columns around data row: 1676. Filling remaining columns with `missing`\n",
      "thread = 1 warning: only found 29 / 31 columns around data row: 1677. Filling remaining columns with `missing`\n",
      "thread = 1 warning: only found 29 / 31 columns around data row: 1678. Filling remaining columns with `missing`\n",
      "thread = 1 warning: only found 29 / 31 columns around data row: 1679. Filling remaining columns with `missing`\n",
      "thread = 1 warning: only found 29 / 31 columns around data row: 1680. Filling remaining columns with `missing`\n",
      "thread = 1 warning: only found 29 / 31 columns around data row: 1681. Filling remaining columns with `missing`\n",
      "thread = 1 warning: only found 29 / 31 columns around data row: 1682. Filling remaining columns with `missing`\n",
      "thread = 1 warning: only found 29 / 31 columns around data row: 1683. Filling remaining columns with `missing`\n",
      "thread = 1 warning: only found 29 / 31 columns around data row: 1684. Filling remaining columns with `missing`\n",
      "thread = 1 warning: only found 29 / 31 columns around data row: 1685. Filling remaining columns with `missing`\n",
      "thread = 1 warning: only found 29 / 31 columns around data row: 1686. Filling remaining columns with `missing`\n"
     ]
    },
    {
     "name": "stdout",
     "output_type": "stream",
     "text": [
      "thread = 1 warning: only found 29 / 31 columns around data row: 1687. Filling remaining columns with `missing`\n",
      "thread = 1 warning: only found 29 / 31 columns around data row: 1688. Filling remaining columns with `missing`\n",
      "thread = 1 warning: only found 29 / 31 columns around data row: 1689. Filling remaining columns with `missing`\n",
      "thread = 1 warning: only found 29 / 31 columns around data row: 1690. Filling remaining columns with `missing`\n",
      "thread = 1 warning: only found 29 / 31 columns around data row: 1691. Filling remaining columns with `missing`\n",
      "thread = 1 warning: only found 29 / 31 columns around data row: 1692. Filling remaining columns with `missing`\n",
      "thread = 1 warning: only found 29 / 31 columns around data row: 1693. Filling remaining columns with `missing`\n",
      "thread = 1 warning: only found 29 / 31 columns around data row: 1694. Filling remaining columns with `missing`\n",
      "thread = 1 warning: only found 29 / 31 columns around data row: 1695. Filling remaining columns with `missing`\n",
      "thread = 1 warning: only found 29 / 31 columns around data row: 1696. Filling remaining columns with `missing`\n",
      "thread = 1 warning: only found 29 / 31 columns around data row: 1697. Filling remaining columns with `missing`\n",
      "thread = 1 warning: only found 29 / 31 columns around data row: 1698. Filling remaining columns with `missing`\n",
      "thread = 1 warning: only found 29 / 31 columns around data row: 1699. Filling remaining columns with `missing`\n",
      "thread = 1 warning: only found 29 / 31 columns around data row: 1700. Filling remaining columns with `missing`\n",
      "thread = 1 warning: only found 29 / 31 columns around data row: 1701. Filling remaining columns with `missing`\n",
      "thread = 1 warning: only found 29 / 31 columns around data row: 1702. Filling remaining columns with `missing`\n",
      "thread = 1 warning: only found 29 / 31 columns around data row: 1703. Filling remaining columns with `missing`\n",
      "thread = 1 warning: only found 29 / 31 columns around data row: 1704. Filling remaining columns with `missing`\n",
      "thread = 1 warning: only found 29 / 31 columns around data row: 1705. Filling remaining columns with `missing`\n",
      "thread = 1 warning: only found 29 / 31 columns around data row: 1706. Filling remaining columns with `missing`\n",
      "thread = 1 warning: only found 29 / 31 columns around data row: 1707. Filling remaining columns with `missing`\n",
      "thread = 1 warning: only found 29 / 31 columns around data row: 1708. Filling remaining columns with `missing`\n",
      "thread = 1 warning: only found 29 / 31 columns around data row: 1709. Filling remaining columns with `missing`\n",
      "thread = 1 warning: only found 29 / 31 columns around data row: 1710. Filling remaining columns with `missing`\n",
      "thread = 1 warning: only found 29 / 31 columns around data row: 1711. Filling remaining columns with `missing`\n",
      "thread = 1 warning: only found 29 / 31 columns around data row: 1712. Filling remaining columns with `missing`\n",
      "thread = 1 warning: only found 29 / 31 columns around data row: 1713. Filling remaining columns with `missing`\n",
      "thread = 1 warning: only found 29 / 31 columns around data row: 1714. Filling remaining columns with `missing`\n",
      "thread = 1 warning: only found 29 / 31 columns around data row: 1715. Filling remaining columns with `missing`\n",
      "thread = 1 warning: only found 29 / 31 columns around data row: 1716. Filling remaining columns with `missing`\n",
      "thread = 1 warning: only found 29 / 31 columns around data row: 1717. Filling remaining columns with `missing`\n",
      "thread = 1 warning: only found 29 / 31 columns around data row: 1718. Filling remaining columns with `missing`\n",
      "thread = 1 warning: only found 29 / 31 columns around data row: 1719. Filling remaining columns with `missing`\n",
      "thread = 1 warning: only found 29 / 31 columns around data row: 1720. Filling remaining columns with `missing`\n",
      "thread = 1 warning: only found 29 / 31 columns around data row: 1721. Filling remaining columns with `missing`\n",
      "thread = 1 warning: only found 29 / 31 columns around data row: 1722. Filling remaining columns with `missing`\n",
      "thread = 1 warning: only found 29 / 31 columns around data row: 1723. Filling remaining columns with `missing`\n",
      "thread = 1 warning: only found 29 / 31 columns around data row: 1724. Filling remaining columns with `missing`\n",
      "thread = 1 warning: only found 29 / 31 columns around data row: 1725. Filling remaining columns with `missing`\n",
      "thread = 1 warning: only found 29 / 31 columns around data row: 1726. Filling remaining columns with `missing`\n",
      "thread = 1 warning: only found 29 / 31 columns around data row: 1727. Filling remaining columns with `missing`\n",
      "thread = 1 warning: only found 29 / 31 columns around data row: 1728. Filling remaining columns with `missing`\n",
      "thread = 1 warning: only found 29 / 31 columns around data row: 1729. Filling remaining columns with `missing`\n",
      "thread = 1 warning: only found 29 / 31 columns around data row: 1730. Filling remaining columns with `missing`\n",
      "thread = 1 warning: only found 29 / 31 columns around data row: 1731. Filling remaining columns with `missing`\n",
      "thread = 1 warning: only found 29 / 31 columns around data row: 1732. Filling remaining columns with `missing`\n",
      "thread = 1 warning: only found 29 / 31 columns around data row: 1733. Filling remaining columns with `missing`\n",
      "thread = 1 warning: only found 29 / 31 columns around data row: 1734. Filling remaining columns with `missing`\n",
      "thread = 1 warning: only found 29 / 31 columns around data row: 1735. Filling remaining columns with `missing`\n",
      "thread = 1 warning: only found 29 / 31 columns around data row: 1736. Filling remaining columns with `missing`\n",
      "thread = 1 warning: only found 29 / 31 columns around data row: 1737. Filling remaining columns with `missing`\n",
      "thread = 1 warning: only found 29 / 31 columns around data row: 1738. Filling remaining columns with `missing`\n",
      "thread = 1 warning: only found 29 / 31 columns around data row: 1739. Filling remaining columns with `missing`\n",
      "thread = 1 warning: only found 29 / 31 columns around data row: 1740. Filling remaining columns with `missing`\n",
      "thread = 1 warning: only found 29 / 31 columns around data row: 1741. Filling remaining columns with `missing`\n",
      "thread = 1 warning: only found 29 / 31 columns around data row: 1742. Filling remaining columns with `missing`\n",
      "thread = 1 warning: only found 29 / 31 columns around data row: 1743. Filling remaining columns with `missing`\n",
      "thread = 1 warning: only found 29 / 31 columns around data row: 1744. Filling remaining columns with `missing`\n",
      "thread = 1 warning: only found 29 / 31 columns around data row: 1745. Filling remaining columns with `missing`\n",
      "thread = 1 warning: only found 29 / 31 columns around data row: 1746. Filling remaining columns with `missing`\n",
      "thread = 1 warning: only found 29 / 31 columns around data row: 1747. Filling remaining columns with `missing`\n",
      "thread = 1 warning: only found 29 / 31 columns around data row: 1748. Filling remaining columns with `missing`\n",
      "thread = 1 warning: only found 29 / 31 columns around data row: 1749. Filling remaining columns with `missing`\n",
      "thread = 1 warning: only found 29 / 31 columns around data row: 1750. Filling remaining columns with `missing`\n",
      "thread = 1 warning: only found 29 / 31 columns around data row: 1751. Filling remaining columns with `missing`\n",
      "thread = 1 warning: only found 29 / 31 columns around data row: 1752. Filling remaining columns with `missing`\n",
      "thread = 1 warning: only found 29 / 31 columns around data row: 1753. Filling remaining columns with `missing`\n",
      "thread = 1 warning: only found 29 / 31 columns around data row: 1754. Filling remaining columns with `missing`\n",
      "thread = 1 warning: only found 29 / 31 columns around data row: 1755. Filling remaining columns with `missing`\n",
      "thread = 1 warning: only found 29 / 31 columns around data row: 1756. Filling remaining columns with `missing`\n",
      "thread = 1 warning: only found 29 / 31 columns around data row: 1757. Filling remaining columns with `missing`\n",
      "thread = 1 warning: only found 29 / 31 columns around data row: 1758. Filling remaining columns with `missing`\n",
      "thread = 1 warning: only found 29 / 31 columns around data row: 1759. Filling remaining columns with `missing`\n",
      "thread = 1 warning: only found 29 / 31 columns around data row: 1760. Filling remaining columns with `missing`\n",
      "thread = 1 warning: only found 29 / 31 columns around data row: 1761. Filling remaining columns with `missing`\n"
     ]
    },
    {
     "data": {
      "text/html": [
       "<table class=\"data-frame\"><thead><tr><th></th><th>HITId</th><th>HITTypeId</th><th>Title</th></tr><tr><th></th><th>String</th><th>String</th><th>String</th></tr></thead><tbody><p>1,760 rows × 31 columns (omitted printing of 28 columns)</p><tr><th>1</th><td>301KG0KX9BKTP2L7XD15P8Y69GP2HK</td><td>36ENCJ709J8WC06EPA4JOHGF537KEH</td><td>Is this a tech job?</td></tr><tr><th>2</th><td>301KG0KX9BKTP2L7XD15P8Y69GP2HK</td><td>36ENCJ709J8WC06EPA4JOHGF537KEH</td><td>Is this a tech job?</td></tr><tr><th>3</th><td>301KG0KX9BKTP2L7XD15P8Y69GP2HK</td><td>36ENCJ709J8WC06EPA4JOHGF537KEH</td><td>Is this a tech job?</td></tr><tr><th>4</th><td>301KG0KX9BKTP2L7XD15P8Y69GP2HK</td><td>36ENCJ709J8WC06EPA4JOHGF537KEH</td><td>Is this a tech job?</td></tr><tr><th>5</th><td>301KG0KX9BKTP2L7XD15P8Y69GP2HK</td><td>36ENCJ709J8WC06EPA4JOHGF537KEH</td><td>Is this a tech job?</td></tr><tr><th>6</th><td>301KG0KX9BKTP2L7XD15P8Y69GP2HK</td><td>36ENCJ709J8WC06EPA4JOHGF537KEH</td><td>Is this a tech job?</td></tr><tr><th>7</th><td>301KG0KX9BKTP2L7XD15P8Y69GP2HK</td><td>36ENCJ709J8WC06EPA4JOHGF537KEH</td><td>Is this a tech job?</td></tr><tr><th>8</th><td>301KG0KX9BKTP2L7XD15P8Y69GP2HK</td><td>36ENCJ709J8WC06EPA4JOHGF537KEH</td><td>Is this a tech job?</td></tr><tr><th>9</th><td>301KG0KX9BKTP2L7XD15P8Y69GP2HK</td><td>36ENCJ709J8WC06EPA4JOHGF537KEH</td><td>Is this a tech job?</td></tr><tr><th>10</th><td>301KG0KX9BKTP2L7XD15P8Y69GP2HK</td><td>36ENCJ709J8WC06EPA4JOHGF537KEH</td><td>Is this a tech job?</td></tr><tr><th>11</th><td>302OLP89DY6RDX5VO0GJKZKO8CCACQ</td><td>36ENCJ709J8WC06EPA4JOHGF537KEH</td><td>Is this a tech job?</td></tr><tr><th>12</th><td>302OLP89DY6RDX5VO0GJKZKO8CCACQ</td><td>36ENCJ709J8WC06EPA4JOHGF537KEH</td><td>Is this a tech job?</td></tr><tr><th>13</th><td>302OLP89DY6RDX5VO0GJKZKO8CCACQ</td><td>36ENCJ709J8WC06EPA4JOHGF537KEH</td><td>Is this a tech job?</td></tr><tr><th>14</th><td>302OLP89DY6RDX5VO0GJKZKO8CCACQ</td><td>36ENCJ709J8WC06EPA4JOHGF537KEH</td><td>Is this a tech job?</td></tr><tr><th>15</th><td>302OLP89DY6RDX5VO0GJKZKO8CCACQ</td><td>36ENCJ709J8WC06EPA4JOHGF537KEH</td><td>Is this a tech job?</td></tr><tr><th>16</th><td>302OLP89DY6RDX5VO0GJKZKO8CCACQ</td><td>36ENCJ709J8WC06EPA4JOHGF537KEH</td><td>Is this a tech job?</td></tr><tr><th>17</th><td>302OLP89DY6RDX5VO0GJKZKO8CCACQ</td><td>36ENCJ709J8WC06EPA4JOHGF537KEH</td><td>Is this a tech job?</td></tr><tr><th>18</th><td>302OLP89DY6RDX5VO0GJKZKO8CCACQ</td><td>36ENCJ709J8WC06EPA4JOHGF537KEH</td><td>Is this a tech job?</td></tr><tr><th>19</th><td>302OLP89DY6RDX5VO0GJKZKO8CCACQ</td><td>36ENCJ709J8WC06EPA4JOHGF537KEH</td><td>Is this a tech job?</td></tr><tr><th>20</th><td>302OLP89DY6RDX5VO0GJKZKO8CCACQ</td><td>36ENCJ709J8WC06EPA4JOHGF537KEH</td><td>Is this a tech job?</td></tr><tr><th>21</th><td>302OLP89DY6RDX5VO0GJKZKO8CCCAS</td><td>36ENCJ709J8WC06EPA4JOHGF537KEH</td><td>Is this a tech job?</td></tr><tr><th>22</th><td>302OLP89DY6RDX5VO0GJKZKO8CCCAS</td><td>36ENCJ709J8WC06EPA4JOHGF537KEH</td><td>Is this a tech job?</td></tr><tr><th>23</th><td>302OLP89DY6RDX5VO0GJKZKO8CCCAS</td><td>36ENCJ709J8WC06EPA4JOHGF537KEH</td><td>Is this a tech job?</td></tr><tr><th>24</th><td>302OLP89DY6RDX5VO0GJKZKO8CCCAS</td><td>36ENCJ709J8WC06EPA4JOHGF537KEH</td><td>Is this a tech job?</td></tr><tr><th>25</th><td>302OLP89DY6RDX5VO0GJKZKO8CCCAS</td><td>36ENCJ709J8WC06EPA4JOHGF537KEH</td><td>Is this a tech job?</td></tr><tr><th>26</th><td>302OLP89DY6RDX5VO0GJKZKO8CCCAS</td><td>36ENCJ709J8WC06EPA4JOHGF537KEH</td><td>Is this a tech job?</td></tr><tr><th>27</th><td>302OLP89DY6RDX5VO0GJKZKO8CCCAS</td><td>36ENCJ709J8WC06EPA4JOHGF537KEH</td><td>Is this a tech job?</td></tr><tr><th>28</th><td>302OLP89DY6RDX5VO0GJKZKO8CCCAS</td><td>36ENCJ709J8WC06EPA4JOHGF537KEH</td><td>Is this a tech job?</td></tr><tr><th>29</th><td>302OLP89DY6RDX5VO0GJKZKO8CCCAS</td><td>36ENCJ709J8WC06EPA4JOHGF537KEH</td><td>Is this a tech job?</td></tr><tr><th>30</th><td>302OLP89DY6RDX5VO0GJKZKO8CCCAS</td><td>36ENCJ709J8WC06EPA4JOHGF537KEH</td><td>Is this a tech job?</td></tr><tr><th>&vellip;</th><td>&vellip;</td><td>&vellip;</td><td>&vellip;</td></tr></tbody></table>"
      ],
      "text/latex": [
       "\\begin{tabular}{r|cccc}\n",
       "\t& HITId & HITTypeId & Title & \\\\\n",
       "\t\\hline\n",
       "\t& String & String & String & \\\\\n",
       "\t\\hline\n",
       "\t1 & 301KG0KX9BKTP2L7XD15P8Y69GP2HK & 36ENCJ709J8WC06EPA4JOHGF537KEH & Is this a tech job? & $\\dots$ \\\\\n",
       "\t2 & 301KG0KX9BKTP2L7XD15P8Y69GP2HK & 36ENCJ709J8WC06EPA4JOHGF537KEH & Is this a tech job? & $\\dots$ \\\\\n",
       "\t3 & 301KG0KX9BKTP2L7XD15P8Y69GP2HK & 36ENCJ709J8WC06EPA4JOHGF537KEH & Is this a tech job? & $\\dots$ \\\\\n",
       "\t4 & 301KG0KX9BKTP2L7XD15P8Y69GP2HK & 36ENCJ709J8WC06EPA4JOHGF537KEH & Is this a tech job? & $\\dots$ \\\\\n",
       "\t5 & 301KG0KX9BKTP2L7XD15P8Y69GP2HK & 36ENCJ709J8WC06EPA4JOHGF537KEH & Is this a tech job? & $\\dots$ \\\\\n",
       "\t6 & 301KG0KX9BKTP2L7XD15P8Y69GP2HK & 36ENCJ709J8WC06EPA4JOHGF537KEH & Is this a tech job? & $\\dots$ \\\\\n",
       "\t7 & 301KG0KX9BKTP2L7XD15P8Y69GP2HK & 36ENCJ709J8WC06EPA4JOHGF537KEH & Is this a tech job? & $\\dots$ \\\\\n",
       "\t8 & 301KG0KX9BKTP2L7XD15P8Y69GP2HK & 36ENCJ709J8WC06EPA4JOHGF537KEH & Is this a tech job? & $\\dots$ \\\\\n",
       "\t9 & 301KG0KX9BKTP2L7XD15P8Y69GP2HK & 36ENCJ709J8WC06EPA4JOHGF537KEH & Is this a tech job? & $\\dots$ \\\\\n",
       "\t10 & 301KG0KX9BKTP2L7XD15P8Y69GP2HK & 36ENCJ709J8WC06EPA4JOHGF537KEH & Is this a tech job? & $\\dots$ \\\\\n",
       "\t11 & 302OLP89DY6RDX5VO0GJKZKO8CCACQ & 36ENCJ709J8WC06EPA4JOHGF537KEH & Is this a tech job? & $\\dots$ \\\\\n",
       "\t12 & 302OLP89DY6RDX5VO0GJKZKO8CCACQ & 36ENCJ709J8WC06EPA4JOHGF537KEH & Is this a tech job? & $\\dots$ \\\\\n",
       "\t13 & 302OLP89DY6RDX5VO0GJKZKO8CCACQ & 36ENCJ709J8WC06EPA4JOHGF537KEH & Is this a tech job? & $\\dots$ \\\\\n",
       "\t14 & 302OLP89DY6RDX5VO0GJKZKO8CCACQ & 36ENCJ709J8WC06EPA4JOHGF537KEH & Is this a tech job? & $\\dots$ \\\\\n",
       "\t15 & 302OLP89DY6RDX5VO0GJKZKO8CCACQ & 36ENCJ709J8WC06EPA4JOHGF537KEH & Is this a tech job? & $\\dots$ \\\\\n",
       "\t16 & 302OLP89DY6RDX5VO0GJKZKO8CCACQ & 36ENCJ709J8WC06EPA4JOHGF537KEH & Is this a tech job? & $\\dots$ \\\\\n",
       "\t17 & 302OLP89DY6RDX5VO0GJKZKO8CCACQ & 36ENCJ709J8WC06EPA4JOHGF537KEH & Is this a tech job? & $\\dots$ \\\\\n",
       "\t18 & 302OLP89DY6RDX5VO0GJKZKO8CCACQ & 36ENCJ709J8WC06EPA4JOHGF537KEH & Is this a tech job? & $\\dots$ \\\\\n",
       "\t19 & 302OLP89DY6RDX5VO0GJKZKO8CCACQ & 36ENCJ709J8WC06EPA4JOHGF537KEH & Is this a tech job? & $\\dots$ \\\\\n",
       "\t20 & 302OLP89DY6RDX5VO0GJKZKO8CCACQ & 36ENCJ709J8WC06EPA4JOHGF537KEH & Is this a tech job? & $\\dots$ \\\\\n",
       "\t21 & 302OLP89DY6RDX5VO0GJKZKO8CCCAS & 36ENCJ709J8WC06EPA4JOHGF537KEH & Is this a tech job? & $\\dots$ \\\\\n",
       "\t22 & 302OLP89DY6RDX5VO0GJKZKO8CCCAS & 36ENCJ709J8WC06EPA4JOHGF537KEH & Is this a tech job? & $\\dots$ \\\\\n",
       "\t23 & 302OLP89DY6RDX5VO0GJKZKO8CCCAS & 36ENCJ709J8WC06EPA4JOHGF537KEH & Is this a tech job? & $\\dots$ \\\\\n",
       "\t24 & 302OLP89DY6RDX5VO0GJKZKO8CCCAS & 36ENCJ709J8WC06EPA4JOHGF537KEH & Is this a tech job? & $\\dots$ \\\\\n",
       "\t25 & 302OLP89DY6RDX5VO0GJKZKO8CCCAS & 36ENCJ709J8WC06EPA4JOHGF537KEH & Is this a tech job? & $\\dots$ \\\\\n",
       "\t26 & 302OLP89DY6RDX5VO0GJKZKO8CCCAS & 36ENCJ709J8WC06EPA4JOHGF537KEH & Is this a tech job? & $\\dots$ \\\\\n",
       "\t27 & 302OLP89DY6RDX5VO0GJKZKO8CCCAS & 36ENCJ709J8WC06EPA4JOHGF537KEH & Is this a tech job? & $\\dots$ \\\\\n",
       "\t28 & 302OLP89DY6RDX5VO0GJKZKO8CCCAS & 36ENCJ709J8WC06EPA4JOHGF537KEH & Is this a tech job? & $\\dots$ \\\\\n",
       "\t29 & 302OLP89DY6RDX5VO0GJKZKO8CCCAS & 36ENCJ709J8WC06EPA4JOHGF537KEH & Is this a tech job? & $\\dots$ \\\\\n",
       "\t30 & 302OLP89DY6RDX5VO0GJKZKO8CCCAS & 36ENCJ709J8WC06EPA4JOHGF537KEH & Is this a tech job? & $\\dots$ \\\\\n",
       "\t$\\dots$ & $\\dots$ & $\\dots$ & $\\dots$ &  \\\\\n",
       "\\end{tabular}\n"
      ],
      "text/plain": [
       "1760×31 DataFrame. Omitted printing of 29 columns\n",
       "│ Row  │ HITId                          │ HITTypeId                      │\n",
       "│      │ \u001b[90mString\u001b[39m                         │ \u001b[90mString\u001b[39m                         │\n",
       "├──────┼────────────────────────────────┼────────────────────────────────┤\n",
       "│ 1    │ 301KG0KX9BKTP2L7XD15P8Y69GP2HK │ 36ENCJ709J8WC06EPA4JOHGF537KEH │\n",
       "│ 2    │ 301KG0KX9BKTP2L7XD15P8Y69GP2HK │ 36ENCJ709J8WC06EPA4JOHGF537KEH │\n",
       "│ 3    │ 301KG0KX9BKTP2L7XD15P8Y69GP2HK │ 36ENCJ709J8WC06EPA4JOHGF537KEH │\n",
       "│ 4    │ 301KG0KX9BKTP2L7XD15P8Y69GP2HK │ 36ENCJ709J8WC06EPA4JOHGF537KEH │\n",
       "│ 5    │ 301KG0KX9BKTP2L7XD15P8Y69GP2HK │ 36ENCJ709J8WC06EPA4JOHGF537KEH │\n",
       "│ 6    │ 301KG0KX9BKTP2L7XD15P8Y69GP2HK │ 36ENCJ709J8WC06EPA4JOHGF537KEH │\n",
       "│ 7    │ 301KG0KX9BKTP2L7XD15P8Y69GP2HK │ 36ENCJ709J8WC06EPA4JOHGF537KEH │\n",
       "│ 8    │ 301KG0KX9BKTP2L7XD15P8Y69GP2HK │ 36ENCJ709J8WC06EPA4JOHGF537KEH │\n",
       "│ 9    │ 301KG0KX9BKTP2L7XD15P8Y69GP2HK │ 36ENCJ709J8WC06EPA4JOHGF537KEH │\n",
       "│ 10   │ 301KG0KX9BKTP2L7XD15P8Y69GP2HK │ 36ENCJ709J8WC06EPA4JOHGF537KEH │\n",
       "⋮\n",
       "│ 1750 │ 3ZXV7Q5FJANM9OM3ZG2BY0VF5SPCF5 │ 36ENCJ709J8WC06EPA4JOHGF537KEH │\n",
       "│ 1751 │ 3ZZAYRN1I5QX1I17K5GRA44XLFGOTM │ 36ENCJ709J8WC06EPA4JOHGF537KEH │\n",
       "│ 1752 │ 3ZZAYRN1I5QX1I17K5GRA44XLFGOTM │ 36ENCJ709J8WC06EPA4JOHGF537KEH │\n",
       "│ 1753 │ 3ZZAYRN1I5QX1I17K5GRA44XLFGOTM │ 36ENCJ709J8WC06EPA4JOHGF537KEH │\n",
       "│ 1754 │ 3ZZAYRN1I5QX1I17K5GRA44XLFGOTM │ 36ENCJ709J8WC06EPA4JOHGF537KEH │\n",
       "│ 1755 │ 3ZZAYRN1I5QX1I17K5GRA44XLFGOTM │ 36ENCJ709J8WC06EPA4JOHGF537KEH │\n",
       "│ 1756 │ 3ZZAYRN1I5QX1I17K5GRA44XLFGOTM │ 36ENCJ709J8WC06EPA4JOHGF537KEH │\n",
       "│ 1757 │ 3ZZAYRN1I5QX1I17K5GRA44XLFGOTM │ 36ENCJ709J8WC06EPA4JOHGF537KEH │\n",
       "│ 1758 │ 3ZZAYRN1I5QX1I17K5GRA44XLFGOTM │ 36ENCJ709J8WC06EPA4JOHGF537KEH │\n",
       "│ 1759 │ 3ZZAYRN1I5QX1I17K5GRA44XLFGOTM │ 36ENCJ709J8WC06EPA4JOHGF537KEH │\n",
       "│ 1760 │ 3ZZAYRN1I5QX1I17K5GRA44XLFGOTM │ 36ENCJ709J8WC06EPA4JOHGF537KEH │"
      ]
     },
     "execution_count": 25,
     "metadata": {},
     "output_type": "execute_result"
    }
   ],
   "source": [
    "df = CSV.read(\"Batch_4154922_batch_results.csv\")"
   ]
  },
  {
   "cell_type": "markdown",
   "metadata": {},
   "source": [
    "Some warnings there, but let's worry about those later. So far, it looks like we have a dataframe. There is a `head` function but it told me it was deprecated and that I should use `first` instead."
   ]
  },
  {
   "cell_type": "code",
   "execution_count": 26,
   "metadata": {},
   "outputs": [
    {
     "data": {
      "text/html": [
       "<table class=\"data-frame\"><thead><tr><th></th><th>HITId</th><th>HITTypeId</th><th>Title</th></tr><tr><th></th><th>String</th><th>String</th><th>String</th></tr></thead><tbody><p>5 rows × 31 columns (omitted printing of 28 columns)</p><tr><th>1</th><td>301KG0KX9BKTP2L7XD15P8Y69GP2HK</td><td>36ENCJ709J8WC06EPA4JOHGF537KEH</td><td>Is this a tech job?</td></tr><tr><th>2</th><td>301KG0KX9BKTP2L7XD15P8Y69GP2HK</td><td>36ENCJ709J8WC06EPA4JOHGF537KEH</td><td>Is this a tech job?</td></tr><tr><th>3</th><td>301KG0KX9BKTP2L7XD15P8Y69GP2HK</td><td>36ENCJ709J8WC06EPA4JOHGF537KEH</td><td>Is this a tech job?</td></tr><tr><th>4</th><td>301KG0KX9BKTP2L7XD15P8Y69GP2HK</td><td>36ENCJ709J8WC06EPA4JOHGF537KEH</td><td>Is this a tech job?</td></tr><tr><th>5</th><td>301KG0KX9BKTP2L7XD15P8Y69GP2HK</td><td>36ENCJ709J8WC06EPA4JOHGF537KEH</td><td>Is this a tech job?</td></tr></tbody></table>"
      ],
      "text/latex": [
       "\\begin{tabular}{r|cccc}\n",
       "\t& HITId & HITTypeId & Title & \\\\\n",
       "\t\\hline\n",
       "\t& String & String & String & \\\\\n",
       "\t\\hline\n",
       "\t1 & 301KG0KX9BKTP2L7XD15P8Y69GP2HK & 36ENCJ709J8WC06EPA4JOHGF537KEH & Is this a tech job? & $\\dots$ \\\\\n",
       "\t2 & 301KG0KX9BKTP2L7XD15P8Y69GP2HK & 36ENCJ709J8WC06EPA4JOHGF537KEH & Is this a tech job? & $\\dots$ \\\\\n",
       "\t3 & 301KG0KX9BKTP2L7XD15P8Y69GP2HK & 36ENCJ709J8WC06EPA4JOHGF537KEH & Is this a tech job? & $\\dots$ \\\\\n",
       "\t4 & 301KG0KX9BKTP2L7XD15P8Y69GP2HK & 36ENCJ709J8WC06EPA4JOHGF537KEH & Is this a tech job? & $\\dots$ \\\\\n",
       "\t5 & 301KG0KX9BKTP2L7XD15P8Y69GP2HK & 36ENCJ709J8WC06EPA4JOHGF537KEH & Is this a tech job? & $\\dots$ \\\\\n",
       "\\end{tabular}\n"
      ],
      "text/plain": [
       "5×31 DataFrame. Omitted printing of 29 columns\n",
       "│ Row │ HITId                          │ HITTypeId                      │\n",
       "│     │ \u001b[90mString\u001b[39m                         │ \u001b[90mString\u001b[39m                         │\n",
       "├─────┼────────────────────────────────┼────────────────────────────────┤\n",
       "│ 1   │ 301KG0KX9BKTP2L7XD15P8Y69GP2HK │ 36ENCJ709J8WC06EPA4JOHGF537KEH │\n",
       "│ 2   │ 301KG0KX9BKTP2L7XD15P8Y69GP2HK │ 36ENCJ709J8WC06EPA4JOHGF537KEH │\n",
       "│ 3   │ 301KG0KX9BKTP2L7XD15P8Y69GP2HK │ 36ENCJ709J8WC06EPA4JOHGF537KEH │\n",
       "│ 4   │ 301KG0KX9BKTP2L7XD15P8Y69GP2HK │ 36ENCJ709J8WC06EPA4JOHGF537KEH │\n",
       "│ 5   │ 301KG0KX9BKTP2L7XD15P8Y69GP2HK │ 36ENCJ709J8WC06EPA4JOHGF537KEH │"
      ]
     },
     "execution_count": 26,
     "metadata": {},
     "output_type": "execute_result"
    }
   ],
   "source": [
    "first(df, 5)"
   ]
  },
  {
   "cell_type": "markdown",
   "metadata": {},
   "source": [
    "Somehow this uses only the first three columns and there doesn't seem to be a way to get more columns.\n",
    "\n",
    "Also, I learned you could do this:"
   ]
  },
  {
   "cell_type": "code",
   "execution_count": 27,
   "metadata": {},
   "outputs": [
    {
     "name": "stdout",
     "output_type": "stream",
     "text": [
      "search: \u001b[0m\u001b[1mf\u001b[22m\u001b[0m\u001b[1mi\u001b[22m\u001b[0m\u001b[1mr\u001b[22m\u001b[0m\u001b[1ms\u001b[22m\u001b[0m\u001b[1mt\u001b[22m \u001b[0m\u001b[1mf\u001b[22m\u001b[0m\u001b[1mi\u001b[22m\u001b[0m\u001b[1mr\u001b[22m\u001b[0m\u001b[1ms\u001b[22m\u001b[0m\u001b[1mt\u001b[22mindex pop\u001b[0m\u001b[1mf\u001b[22m\u001b[0m\u001b[1mi\u001b[22m\u001b[0m\u001b[1mr\u001b[22m\u001b[0m\u001b[1ms\u001b[22m\u001b[0m\u001b[1mt\u001b[22m! push\u001b[0m\u001b[1mf\u001b[22m\u001b[0m\u001b[1mi\u001b[22m\u001b[0m\u001b[1mr\u001b[22m\u001b[0m\u001b[1ms\u001b[22m\u001b[0m\u001b[1mt\u001b[22m! uppercase\u001b[0m\u001b[1mf\u001b[22m\u001b[0m\u001b[1mi\u001b[22m\u001b[0m\u001b[1mr\u001b[22m\u001b[0m\u001b[1ms\u001b[22m\u001b[0m\u001b[1mt\u001b[22m lowercase\u001b[0m\u001b[1mf\u001b[22m\u001b[0m\u001b[1mi\u001b[22m\u001b[0m\u001b[1mr\u001b[22m\u001b[0m\u001b[1ms\u001b[22m\u001b[0m\u001b[1mt\u001b[22m\n",
      "\n"
     ]
    },
    {
     "data": {
      "text/latex": [
       "\\begin{verbatim}\n",
       "first(coll)\n",
       "\\end{verbatim}\n",
       "Get the first element of an iterable collection. Return the start point of an \\href{@ref}{\\texttt{AbstractRange}} even if it is empty.\n",
       "\n",
       "\\section{Examples}\n",
       "\\begin{verbatim}\n",
       "julia> first(2:2:10)\n",
       "2\n",
       "\n",
       "julia> first([1; 2; 3; 4])\n",
       "1\n",
       "\\end{verbatim}\n",
       "\\rule{\\textwidth}{1pt}\n",
       "\\begin{verbatim}\n",
       "first(s::AbstractString, n::Integer)\n",
       "\\end{verbatim}\n",
       "Get a string consisting of the first \\texttt{n} characters of \\texttt{s}.\n",
       "\n",
       "\\begin{verbatim}\n",
       "julia> first(\"∀ϵ≠0: ϵ²>0\", 0)\n",
       "\"\"\n",
       "\n",
       "julia> first(\"∀ϵ≠0: ϵ²>0\", 1)\n",
       "\"∀\"\n",
       "\n",
       "julia> first(\"∀ϵ≠0: ϵ²>0\", 3)\n",
       "\"∀ϵ≠\"\n",
       "\\end{verbatim}\n",
       "\\rule{\\textwidth}{1pt}\n",
       "\\begin{verbatim}\n",
       "first(q::Deque)\n",
       "\\end{verbatim}\n",
       "Returns the first element of the deque \\texttt{q}.\n",
       "\n",
       "\\rule{\\textwidth}{1pt}\n",
       "\\begin{verbatim}\n",
       "first(D::CircularDeque)\n",
       "\\end{verbatim}\n",
       "Get the item at the front of the queue.\n",
       "\n",
       "\\rule{\\textwidth}{1pt}\n",
       "\\begin{verbatim}\n",
       "first(s::Stack)\n",
       "\\end{verbatim}\n",
       "Get the top item from the stack. Sometimes called peek.\n",
       "\n",
       "\\rule{\\textwidth}{1pt}\n",
       "\\begin{verbatim}\n",
       "first(h::BinaryHeap)\n",
       "\\end{verbatim}\n",
       "Returns the element at the top of the heap \\texttt{h}.\n",
       "\n",
       "\\rule{\\textwidth}{1pt}\n",
       "\\begin{verbatim}\n",
       "first(h::BinaryMinMaxHeap)\n",
       "\\end{verbatim}\n",
       "Get the first (minimum) of the heap.\n",
       "\n",
       "\\rule{\\textwidth}{1pt}\n",
       "\\begin{verbatim}\n",
       "first(sc)\n",
       "\\end{verbatim}\n",
       "Argument \\texttt{sc} is a SortedDict, SortedMultiDict or SortedSet. This function returns the first item (a \\texttt{k=>v} pair for SortedDict and SortedMultiDict or a key for SortedSet) according to the sorted order in the container. Thus, \\texttt{first(sc)} is equivalent to \\texttt{deref((sc,startof(sc)))}. It is an error to call this function on an empty container. Time: O(log \\emph{n})\n",
       "\n",
       "\\rule{\\textwidth}{1pt}\n",
       "\\begin{verbatim}\n",
       "first(sc)\n",
       "\\end{verbatim}\n",
       "Argument \\texttt{sc} is a SortedDict, SortedMultiDict or SortedSet. This function returns the first item (a \\texttt{k=>v} pair for SortedDict and SortedMultiDict or a key for SortedSet) according to the sorted order in the container. Thus, \\texttt{first(sc)} is equivalent to \\texttt{deref((sc,startof(sc)))}. It is an error to call this function on an empty container. Time: O(log \\emph{n})\n",
       "\n",
       "\\rule{\\textwidth}{1pt}\n",
       "\\begin{verbatim}\n",
       "first(sc)\n",
       "\\end{verbatim}\n",
       "Argument \\texttt{sc} is a SortedDict, SortedMultiDict or SortedSet. This function returns the first item (a \\texttt{k=>v} pair for SortedDict and SortedMultiDict or a key for SortedSet) according to the sorted order in the container. Thus, \\texttt{first(sc)} is equivalent to \\texttt{deref((sc,startof(sc)))}. It is an error to call this function on an empty container. Time: O(log \\emph{n})\n",
       "\n",
       "\\rule{\\textwidth}{1pt}\n",
       "\\begin{verbatim}\n",
       "first(cb::CircularBuffer)\n",
       "\\end{verbatim}\n",
       "Get the first element of CircularBuffer.\n",
       "\n",
       "\\rule{\\textwidth}{1pt}\n",
       "\\begin{verbatim}\n",
       "first(df::AbstractDataFrame)\n",
       "\\end{verbatim}\n",
       "Get the first row of \\texttt{df} as a \\texttt{DataFrameRow}.\n",
       "\n",
       "\\rule{\\textwidth}{1pt}\n",
       "\\begin{verbatim}\n",
       "first(df::AbstractDataFrame, n::Integer)\n",
       "\\end{verbatim}\n",
       "Get a data frame with the \\texttt{n} first rows of \\texttt{df}.\n",
       "\n"
      ],
      "text/markdown": [
       "```\n",
       "first(coll)\n",
       "```\n",
       "\n",
       "Get the first element of an iterable collection. Return the start point of an [`AbstractRange`](@ref) even if it is empty.\n",
       "\n",
       "# Examples\n",
       "\n",
       "```jldoctest\n",
       "julia> first(2:2:10)\n",
       "2\n",
       "\n",
       "julia> first([1; 2; 3; 4])\n",
       "1\n",
       "```\n",
       "\n",
       "---\n",
       "\n",
       "```\n",
       "first(s::AbstractString, n::Integer)\n",
       "```\n",
       "\n",
       "Get a string consisting of the first `n` characters of `s`.\n",
       "\n",
       "```jldoctest\n",
       "julia> first(\"∀ϵ≠0: ϵ²>0\", 0)\n",
       "\"\"\n",
       "\n",
       "julia> first(\"∀ϵ≠0: ϵ²>0\", 1)\n",
       "\"∀\"\n",
       "\n",
       "julia> first(\"∀ϵ≠0: ϵ²>0\", 3)\n",
       "\"∀ϵ≠\"\n",
       "```\n",
       "\n",
       "---\n",
       "\n",
       "```\n",
       "first(q::Deque)\n",
       "```\n",
       "\n",
       "Returns the first element of the deque `q`.\n",
       "\n",
       "---\n",
       "\n",
       "```\n",
       "first(D::CircularDeque)\n",
       "```\n",
       "\n",
       "Get the item at the front of the queue.\n",
       "\n",
       "---\n",
       "\n",
       "```\n",
       "first(s::Stack)\n",
       "```\n",
       "\n",
       "Get the top item from the stack. Sometimes called peek.\n",
       "\n",
       "---\n",
       "\n",
       "```\n",
       "first(h::BinaryHeap)\n",
       "```\n",
       "\n",
       "Returns the element at the top of the heap `h`.\n",
       "\n",
       "---\n",
       "\n",
       "```\n",
       "first(h::BinaryMinMaxHeap)\n",
       "```\n",
       "\n",
       "Get the first (minimum) of the heap.\n",
       "\n",
       "---\n",
       "\n",
       "```\n",
       "first(sc)\n",
       "```\n",
       "\n",
       "Argument `sc` is a SortedDict, SortedMultiDict or SortedSet. This function returns the first item (a `k=>v` pair for SortedDict and SortedMultiDict or a key for SortedSet) according to the sorted order in the container. Thus, `first(sc)` is equivalent to `deref((sc,startof(sc)))`. It is an error to call this function on an empty container. Time: O(log *n*)\n",
       "\n",
       "---\n",
       "\n",
       "```\n",
       "first(sc)\n",
       "```\n",
       "\n",
       "Argument `sc` is a SortedDict, SortedMultiDict or SortedSet. This function returns the first item (a `k=>v` pair for SortedDict and SortedMultiDict or a key for SortedSet) according to the sorted order in the container. Thus, `first(sc)` is equivalent to `deref((sc,startof(sc)))`. It is an error to call this function on an empty container. Time: O(log *n*)\n",
       "\n",
       "---\n",
       "\n",
       "```\n",
       "first(sc)\n",
       "```\n",
       "\n",
       "Argument `sc` is a SortedDict, SortedMultiDict or SortedSet. This function returns the first item (a `k=>v` pair for SortedDict and SortedMultiDict or a key for SortedSet) according to the sorted order in the container. Thus, `first(sc)` is equivalent to `deref((sc,startof(sc)))`. It is an error to call this function on an empty container. Time: O(log *n*)\n",
       "\n",
       "---\n",
       "\n",
       "```\n",
       "first(cb::CircularBuffer)\n",
       "```\n",
       "\n",
       "Get the first element of CircularBuffer.\n",
       "\n",
       "---\n",
       "\n",
       "```\n",
       "first(df::AbstractDataFrame)\n",
       "```\n",
       "\n",
       "Get the first row of `df` as a `DataFrameRow`.\n",
       "\n",
       "---\n",
       "\n",
       "```\n",
       "first(df::AbstractDataFrame, n::Integer)\n",
       "```\n",
       "\n",
       "Get a data frame with the `n` first rows of `df`.\n"
      ],
      "text/plain": [
       "\u001b[36m  first(coll)\u001b[39m\n",
       "\n",
       "  Get the first element of an iterable collection. Return the start point of\n",
       "  an \u001b[36mAbstractRange\u001b[39m even if it is empty.\n",
       "\n",
       "\u001b[1m  Examples\u001b[22m\n",
       "\u001b[1m  ≡≡≡≡≡≡≡≡≡≡\u001b[22m\n",
       "\n",
       "\u001b[36m  julia> first(2:2:10)\u001b[39m\n",
       "\u001b[36m  2\u001b[39m\n",
       "\u001b[36m  \u001b[39m\n",
       "\u001b[36m  julia> first([1; 2; 3; 4])\u001b[39m\n",
       "\u001b[36m  1\u001b[39m\n",
       "\n",
       "  ────────────────────────────────────────────────────────────────────────────\n",
       "\n",
       "\u001b[36m  first(s::AbstractString, n::Integer)\u001b[39m\n",
       "\n",
       "  Get a string consisting of the first \u001b[36mn\u001b[39m characters of \u001b[36ms\u001b[39m.\n",
       "\n",
       "\u001b[36m  julia> first(\"∀ϵ≠0: ϵ²>0\", 0)\u001b[39m\n",
       "\u001b[36m  \"\"\u001b[39m\n",
       "\u001b[36m  \u001b[39m\n",
       "\u001b[36m  julia> first(\"∀ϵ≠0: ϵ²>0\", 1)\u001b[39m\n",
       "\u001b[36m  \"∀\"\u001b[39m\n",
       "\u001b[36m  \u001b[39m\n",
       "\u001b[36m  julia> first(\"∀ϵ≠0: ϵ²>0\", 3)\u001b[39m\n",
       "\u001b[36m  \"∀ϵ≠\"\u001b[39m\n",
       "\n",
       "  ────────────────────────────────────────────────────────────────────────────\n",
       "\n",
       "\u001b[36m  first(q::Deque)\u001b[39m\n",
       "\n",
       "  Returns the first element of the deque \u001b[36mq\u001b[39m.\n",
       "\n",
       "  ────────────────────────────────────────────────────────────────────────────\n",
       "\n",
       "\u001b[36m  first(D::CircularDeque)\u001b[39m\n",
       "\n",
       "  Get the item at the front of the queue.\n",
       "\n",
       "  ────────────────────────────────────────────────────────────────────────────\n",
       "\n",
       "\u001b[36m  first(s::Stack)\u001b[39m\n",
       "\n",
       "  Get the top item from the stack. Sometimes called peek.\n",
       "\n",
       "  ────────────────────────────────────────────────────────────────────────────\n",
       "\n",
       "\u001b[36m  first(h::BinaryHeap)\u001b[39m\n",
       "\n",
       "  Returns the element at the top of the heap \u001b[36mh\u001b[39m.\n",
       "\n",
       "  ────────────────────────────────────────────────────────────────────────────\n",
       "\n",
       "\u001b[36m  first(h::BinaryMinMaxHeap)\u001b[39m\n",
       "\n",
       "  Get the first (minimum) of the heap.\n",
       "\n",
       "  ────────────────────────────────────────────────────────────────────────────\n",
       "\n",
       "\u001b[36m  first(sc)\u001b[39m\n",
       "\n",
       "  Argument \u001b[36msc\u001b[39m is a SortedDict, SortedMultiDict or SortedSet. This function\n",
       "  returns the first item (a \u001b[36mk=>v\u001b[39m pair for SortedDict and SortedMultiDict or a\n",
       "  key for SortedSet) according to the sorted order in the container. Thus,\n",
       "  \u001b[36mfirst(sc)\u001b[39m is equivalent to \u001b[36mderef((sc,startof(sc)))\u001b[39m. It is an error to call\n",
       "  this function on an empty container. Time: O(log \u001b[4mn\u001b[24m)\n",
       "\n",
       "  ────────────────────────────────────────────────────────────────────────────\n",
       "\n",
       "\u001b[36m  first(sc)\u001b[39m\n",
       "\n",
       "  Argument \u001b[36msc\u001b[39m is a SortedDict, SortedMultiDict or SortedSet. This function\n",
       "  returns the first item (a \u001b[36mk=>v\u001b[39m pair for SortedDict and SortedMultiDict or a\n",
       "  key for SortedSet) according to the sorted order in the container. Thus,\n",
       "  \u001b[36mfirst(sc)\u001b[39m is equivalent to \u001b[36mderef((sc,startof(sc)))\u001b[39m. It is an error to call\n",
       "  this function on an empty container. Time: O(log \u001b[4mn\u001b[24m)\n",
       "\n",
       "  ────────────────────────────────────────────────────────────────────────────\n",
       "\n",
       "\u001b[36m  first(sc)\u001b[39m\n",
       "\n",
       "  Argument \u001b[36msc\u001b[39m is a SortedDict, SortedMultiDict or SortedSet. This function\n",
       "  returns the first item (a \u001b[36mk=>v\u001b[39m pair for SortedDict and SortedMultiDict or a\n",
       "  key for SortedSet) according to the sorted order in the container. Thus,\n",
       "  \u001b[36mfirst(sc)\u001b[39m is equivalent to \u001b[36mderef((sc,startof(sc)))\u001b[39m. It is an error to call\n",
       "  this function on an empty container. Time: O(log \u001b[4mn\u001b[24m)\n",
       "\n",
       "  ────────────────────────────────────────────────────────────────────────────\n",
       "\n",
       "\u001b[36m  first(cb::CircularBuffer)\u001b[39m\n",
       "\n",
       "  Get the first element of CircularBuffer.\n",
       "\n",
       "  ────────────────────────────────────────────────────────────────────────────\n",
       "\n",
       "\u001b[36m  first(df::AbstractDataFrame)\u001b[39m\n",
       "\n",
       "  Get the first row of \u001b[36mdf\u001b[39m as a \u001b[36mDataFrameRow\u001b[39m.\n",
       "\n",
       "  ────────────────────────────────────────────────────────────────────────────\n",
       "\n",
       "\u001b[36m  first(df::AbstractDataFrame, n::Integer)\u001b[39m\n",
       "\n",
       "  Get a data frame with the \u001b[36mn\u001b[39m first rows of \u001b[36mdf\u001b[39m."
      ]
     },
     "execution_count": 27,
     "metadata": {},
     "output_type": "execute_result"
    }
   ],
   "source": [
    "?first"
   ]
  },
  {
   "cell_type": "markdown",
   "metadata": {},
   "source": [
    "Column names are pretty straight forward, but we still don't have a lot of info on what this really is."
   ]
  },
  {
   "cell_type": "code",
   "execution_count": 28,
   "metadata": {},
   "outputs": [
    {
     "data": {
      "text/plain": [
       "31-element Array{String,1}:\n",
       " \"HITId\"\n",
       " \"HITTypeId\"\n",
       " \"Title\"\n",
       " \"Description\"\n",
       " \"Keywords\"\n",
       " \"Reward\"\n",
       " \"CreationTime\"\n",
       " \"MaxAssignments\"\n",
       " \"RequesterAnnotation\"\n",
       " \"AssignmentDurationInSeconds\"\n",
       " \"AutoApprovalDelayInSeconds\"\n",
       " \"Expiration\"\n",
       " \"NumberOfSimilarHITs\"\n",
       " ⋮\n",
       " \"AutoApprovalTime\"\n",
       " \"ApprovalTime\"\n",
       " \"RejectionTime\"\n",
       " \"RequesterFeedback\"\n",
       " \"WorkTimeInSeconds\"\n",
       " \"LifetimeApprovalRate\"\n",
       " \"Last30DaysApprovalRate\"\n",
       " \"Last7DaysApprovalRate\"\n",
       " \"Input.document_url\"\n",
       " \"Answer.category.label\"\n",
       " \"Approve\"\n",
       " \"Reject\""
      ]
     },
     "execution_count": 28,
     "metadata": {},
     "output_type": "execute_result"
    }
   ],
   "source": [
    "names(df)"
   ]
  },
  {
   "cell_type": "code",
   "execution_count": 29,
   "metadata": {},
   "outputs": [
    {
     "data": {
      "text/plain": [
       "\"1760×31 DataFrame\""
      ]
     },
     "execution_count": 29,
     "metadata": {},
     "output_type": "execute_result"
    }
   ],
   "source": [
    "summary(df)"
   ]
  },
  {
   "cell_type": "markdown",
   "metadata": {},
   "source": [
    "OK that wasn't what I wanted, maybe it was `describe`."
   ]
  },
  {
   "cell_type": "code",
   "execution_count": 30,
   "metadata": {},
   "outputs": [
    {
     "data": {
      "text/html": [
       "<table class=\"data-frame\"><thead><tr><th></th><th>variable</th><th>mean</th><th>min</th></tr><tr><th></th><th>Symbol</th><th>Union…</th><th>Any</th></tr></thead><tbody><p>31 rows × 8 columns (omitted printing of 5 columns)</p><tr><th>1</th><td>HITId</td><td></td><td>301KG0KX9BKTP2L7XD15P8Y69GP2HK</td></tr><tr><th>2</th><td>HITTypeId</td><td></td><td>36ENCJ709J8WC06EPA4JOHGF537KEH</td></tr><tr><th>3</th><td>Title</td><td></td><td>Is this a tech job?</td></tr><tr><th>4</th><td>Description</td><td></td><td>Classify job ads as tech/non-tech</td></tr><tr><th>5</th><td>Keywords</td><td></td><td>jobs, occupations, classification, text</td></tr><tr><th>6</th><td>Reward</td><td></td><td>$0.04</td></tr><tr><th>7</th><td>CreationTime</td><td></td><td>Mon Aug 17 14:01:11 PDT 2020</td></tr><tr><th>8</th><td>MaxAssignments</td><td>10.0</td><td>10</td></tr><tr><th>9</th><td>RequesterAnnotation</td><td></td><td>BatchId:4154922;OriginalHitTemplateId:928390860;</td></tr><tr><th>10</th><td>AssignmentDurationInSeconds</td><td>120.0</td><td>120</td></tr><tr><th>11</th><td>AutoApprovalDelayInSeconds</td><td>86400.0</td><td>86400</td></tr><tr><th>12</th><td>Expiration</td><td></td><td>Mon Aug 24 14:01:11 PDT 2020</td></tr><tr><th>13</th><td>NumberOfSimilarHITs</td><td></td><td></td></tr><tr><th>14</th><td>LifetimeInSeconds</td><td></td><td></td></tr><tr><th>15</th><td>AssignmentId</td><td></td><td>3018Q3ZVOIPY6JS8WZBGXEFWI80RAE</td></tr><tr><th>16</th><td>WorkerId</td><td></td><td>A10RGQAO923MIA</td></tr><tr><th>17</th><td>AssignmentStatus</td><td></td><td>Approved</td></tr><tr><th>18</th><td>AcceptTime</td><td></td><td>Mon Aug 17 14:01:37 PDT 2020</td></tr><tr><th>19</th><td>SubmitTime</td><td></td><td>Mon Aug 17 14:02:02 PDT 2020</td></tr><tr><th>20</th><td>AutoApprovalTime</td><td></td><td>Tue Aug 18 14:02:02 PDT 2020</td></tr><tr><th>21</th><td>ApprovalTime</td><td></td><td>Mon Aug 17 14:23:30 PDT 2020</td></tr><tr><th>22</th><td>RejectionTime</td><td></td><td></td></tr><tr><th>23</th><td>RequesterFeedback</td><td></td><td></td></tr><tr><th>24</th><td>WorkTimeInSeconds</td><td>28.6028</td><td>3</td></tr><tr><th>25</th><td>LifetimeApprovalRate</td><td></td><td>0% (0/0)</td></tr><tr><th>26</th><td>Last30DaysApprovalRate</td><td></td><td>0% (0/0)</td></tr><tr><th>27</th><td>Last7DaysApprovalRate</td><td></td><td>0% (0/0)</td></tr><tr><th>28</th><td>Input.document_url</td><td></td><td>https://s3.eu-central-1.amazonaws.com/com.radbrt.wfh/html_jobs/job0101-2019-11-20.html</td></tr><tr><th>29</th><td>Answer.category.label</td><td></td><td>No</td></tr><tr><th>30</th><td>Approve</td><td></td><td></td></tr><tr><th>&vellip;</th><td>&vellip;</td><td>&vellip;</td><td>&vellip;</td></tr></tbody></table>"
      ],
      "text/latex": [
       "\\begin{tabular}{r|cccc}\n",
       "\t& variable & mean & min & \\\\\n",
       "\t\\hline\n",
       "\t& Symbol & Union… & Any & \\\\\n",
       "\t\\hline\n",
       "\t1 & HITId &  & 301KG0KX9BKTP2L7XD15P8Y69GP2HK & $\\dots$ \\\\\n",
       "\t2 & HITTypeId &  & 36ENCJ709J8WC06EPA4JOHGF537KEH & $\\dots$ \\\\\n",
       "\t3 & Title &  & Is this a tech job? & $\\dots$ \\\\\n",
       "\t4 & Description &  & Classify job ads as tech/non-tech & $\\dots$ \\\\\n",
       "\t5 & Keywords &  & jobs, occupations, classification, text & $\\dots$ \\\\\n",
       "\t6 & Reward &  & \\$0.04 & $\\dots$ \\\\\n",
       "\t7 & CreationTime &  & Mon Aug 17 14:01:11 PDT 2020 & $\\dots$ \\\\\n",
       "\t8 & MaxAssignments & 10.0 & 10 & $\\dots$ \\\\\n",
       "\t9 & RequesterAnnotation &  & BatchId:4154922;OriginalHitTemplateId:928390860; & $\\dots$ \\\\\n",
       "\t10 & AssignmentDurationInSeconds & 120.0 & 120 & $\\dots$ \\\\\n",
       "\t11 & AutoApprovalDelayInSeconds & 86400.0 & 86400 & $\\dots$ \\\\\n",
       "\t12 & Expiration &  & Mon Aug 24 14:01:11 PDT 2020 & $\\dots$ \\\\\n",
       "\t13 & NumberOfSimilarHITs &  &  & $\\dots$ \\\\\n",
       "\t14 & LifetimeInSeconds &  &  & $\\dots$ \\\\\n",
       "\t15 & AssignmentId &  & 3018Q3ZVOIPY6JS8WZBGXEFWI80RAE & $\\dots$ \\\\\n",
       "\t16 & WorkerId &  & A10RGQAO923MIA & $\\dots$ \\\\\n",
       "\t17 & AssignmentStatus &  & Approved & $\\dots$ \\\\\n",
       "\t18 & AcceptTime &  & Mon Aug 17 14:01:37 PDT 2020 & $\\dots$ \\\\\n",
       "\t19 & SubmitTime &  & Mon Aug 17 14:02:02 PDT 2020 & $\\dots$ \\\\\n",
       "\t20 & AutoApprovalTime &  & Tue Aug 18 14:02:02 PDT 2020 & $\\dots$ \\\\\n",
       "\t21 & ApprovalTime &  & Mon Aug 17 14:23:30 PDT 2020 & $\\dots$ \\\\\n",
       "\t22 & RejectionTime &  &  & $\\dots$ \\\\\n",
       "\t23 & RequesterFeedback &  &  & $\\dots$ \\\\\n",
       "\t24 & WorkTimeInSeconds & 28.6028 & 3 & $\\dots$ \\\\\n",
       "\t25 & LifetimeApprovalRate &  & 0\\% (0/0) & $\\dots$ \\\\\n",
       "\t26 & Last30DaysApprovalRate &  & 0\\% (0/0) & $\\dots$ \\\\\n",
       "\t27 & Last7DaysApprovalRate &  & 0\\% (0/0) & $\\dots$ \\\\\n",
       "\t28 & Input.document\\_url &  & https://s3.eu-central-1.amazonaws.com/com.radbrt.wfh/html\\_jobs/job0101-2019-11-20.html & $\\dots$ \\\\\n",
       "\t29 & Answer.category.label &  & No & $\\dots$ \\\\\n",
       "\t30 & Approve &  &  & $\\dots$ \\\\\n",
       "\t$\\dots$ & $\\dots$ & $\\dots$ & $\\dots$ &  \\\\\n",
       "\\end{tabular}\n"
      ],
      "text/plain": [
       "31×8 DataFrame. Omitted printing of 6 columns\n",
       "│ Row │ variable                    │ mean    │\n",
       "│     │ \u001b[90mSymbol\u001b[39m                      │ \u001b[90mUnion…\u001b[39m  │\n",
       "├─────┼─────────────────────────────┼─────────┤\n",
       "│ 1   │ HITId                       │         │\n",
       "│ 2   │ HITTypeId                   │         │\n",
       "│ 3   │ Title                       │         │\n",
       "│ 4   │ Description                 │         │\n",
       "│ 5   │ Keywords                    │         │\n",
       "│ 6   │ Reward                      │         │\n",
       "│ 7   │ CreationTime                │         │\n",
       "│ 8   │ MaxAssignments              │ 10.0    │\n",
       "│ 9   │ RequesterAnnotation         │         │\n",
       "│ 10  │ AssignmentDurationInSeconds │ 120.0   │\n",
       "⋮\n",
       "│ 21  │ ApprovalTime                │         │\n",
       "│ 22  │ RejectionTime               │         │\n",
       "│ 23  │ RequesterFeedback           │         │\n",
       "│ 24  │ WorkTimeInSeconds           │ 28.6028 │\n",
       "│ 25  │ LifetimeApprovalRate        │         │\n",
       "│ 26  │ Last30DaysApprovalRate      │         │\n",
       "│ 27  │ Last7DaysApprovalRate       │         │\n",
       "│ 28  │ Input.document_url          │         │\n",
       "│ 29  │ Answer.category.label       │         │\n",
       "│ 30  │ Approve                     │         │\n",
       "│ 31  │ Reject                      │         │"
      ]
     },
     "execution_count": 30,
     "metadata": {},
     "output_type": "execute_result"
    }
   ],
   "source": [
    "describe(df)"
   ]
  },
  {
   "cell_type": "markdown",
   "metadata": {},
   "source": [
    "Better. We're still nowhere near where we need to be, but at least we now have a feeling for what is categorical and what is numeric, which is good enough. I want to group and summarize, the de-facto \"hello, world\" of data. And I heard rumor that there is a pipe operator that is pretty sweet."
   ]
  },
  {
   "cell_type": "code",
   "execution_count": 31,
   "metadata": {},
   "outputs": [
    {
     "data": {
      "text/html": [
       "<table class=\"data-frame\"><thead><tr><th></th><th>LifetimeApprovalRate</th><th>WorkTimeInSeconds_mean</th><th>LifetimeApprovalRate_length</th></tr><tr><th></th><th>String</th><th>Float64</th><th>Int64</th></tr></thead><tbody><p>6 rows × 3 columns</p><tr><th>1</th><td>100% (5/5)</td><td>9.232</td><td>125</td></tr><tr><th>2</th><td>100% (1/1)</td><td>28.3122</td><td>490</td></tr><tr><th>3</th><td>100% (2/2)</td><td>30.8978</td><td>137</td></tr><tr><th>4</th><td>100% (3/3)</td><td>31.6377</td><td>265</td></tr><tr><th>5</th><td>100% (4/4)</td><td>23.9587</td><td>242</td></tr><tr><th>6</th><td>0% (0/0)</td><td>33.7305</td><td>501</td></tr></tbody></table>"
      ],
      "text/latex": [
       "\\begin{tabular}{r|ccc}\n",
       "\t& LifetimeApprovalRate & WorkTimeInSeconds\\_mean & LifetimeApprovalRate\\_length\\\\\n",
       "\t\\hline\n",
       "\t& String & Float64 & Int64\\\\\n",
       "\t\\hline\n",
       "\t1 & 100\\% (5/5) & 9.232 & 125 \\\\\n",
       "\t2 & 100\\% (1/1) & 28.3122 & 490 \\\\\n",
       "\t3 & 100\\% (2/2) & 30.8978 & 137 \\\\\n",
       "\t4 & 100\\% (3/3) & 31.6377 & 265 \\\\\n",
       "\t5 & 100\\% (4/4) & 23.9587 & 242 \\\\\n",
       "\t6 & 0\\% (0/0) & 33.7305 & 501 \\\\\n",
       "\\end{tabular}\n"
      ],
      "text/plain": [
       "6×3 DataFrame. Omitted printing of 1 columns\n",
       "│ Row │ LifetimeApprovalRate │ WorkTimeInSeconds_mean │\n",
       "│     │ \u001b[90mString\u001b[39m               │ \u001b[90mFloat64\u001b[39m                │\n",
       "├─────┼──────────────────────┼────────────────────────┤\n",
       "│ 1   │ 100% (5/5)           │ 9.232                  │\n",
       "│ 2   │ 100% (1/1)           │ 28.3122                │\n",
       "│ 3   │ 100% (2/2)           │ 30.8978                │\n",
       "│ 4   │ 100% (3/3)           │ 31.6377                │\n",
       "│ 5   │ 100% (4/4)           │ 23.9587                │\n",
       "│ 6   │ 0% (0/0)             │ 33.7305                │"
      ]
     },
     "execution_count": 31,
     "metadata": {},
     "output_type": "execute_result"
    }
   ],
   "source": [
    "@pipe df |> \n",
    "    groupby(_, :LifetimeApprovalRate) |> \n",
    "    combine(_, :WorkTimeInSeconds => mean, :LifetimeApprovalRate => length)"
   ]
  },
  {
   "cell_type": "markdown",
   "metadata": {},
   "source": [
    "Works. Two surprises: \n",
    "- the `@pipe` decorator (I'm assuming that's what it is) is less elegant than R\n",
    "- having to do a count using `length` is... somehow both unnatural and very logical. I hope I'm not doing it right.\n",
    "\n",
    "That being said, we have now performed the \"Hello, World\" of data. Let's get down to more business.\n",
    "\n",
    "Next things do do:\n",
    "- I want to regex the shit out of some of these variables.\n",
    "- Not a lot of fan of the column names after aggregation\n",
    "\n",
    "It seems substring works almost like in Python, except leaving it blank on one side of the colon gives weird results. I guess that's a basic function of how stuff/arrays work in Julia."
   ]
  },
  {
   "cell_type": "code",
   "execution_count": 32,
   "metadata": {},
   "outputs": [
    {
     "data": {
      "text/plain": [
       "'l': ASCII/Unicode U+006C (category Ll: Letter, lowercase)"
      ]
     },
     "execution_count": 32,
     "metadata": {},
     "output_type": "execute_result"
    }
   ],
   "source": [
    "\"Hello\"[:4]"
   ]
  },
  {
   "cell_type": "code",
   "execution_count": 33,
   "metadata": {},
   "outputs": [
    {
     "data": {
      "text/plain": [
       "\"Hell\""
      ]
     },
     "execution_count": 33,
     "metadata": {},
     "output_type": "execute_result"
    }
   ],
   "source": [
    "\"Hello\"[1:4]"
   ]
  },
  {
   "cell_type": "code",
   "execution_count": 34,
   "metadata": {},
   "outputs": [
    {
     "data": {
      "text/plain": [
       "5"
      ]
     },
     "execution_count": 34,
     "metadata": {},
     "output_type": "execute_result"
    }
   ],
   "source": [
    "length(\"Hello\")"
   ]
  },
  {
   "cell_type": "markdown",
   "metadata": {},
   "source": [
    "I have no idea what is going on with negative indexes. It's definetely not like python, and why it doesn't give an error on `\"Hello\"[2:-2]` is beyond me."
   ]
  },
  {
   "cell_type": "code",
   "execution_count": 35,
   "metadata": {},
   "outputs": [
    {
     "ename": "BoundsError",
     "evalue": "BoundsError: attempt to access String\n  at index [-2]",
     "output_type": "error",
     "traceback": [
      "BoundsError: attempt to access String\n  at index [-2]",
      "",
      "Stacktrace:",
      " [1] checkbounds at ./strings/basic.jl:194 [inlined]",
      " [2] codeunit at ./strings/string.jl:89 [inlined]",
      " [3] getindex(::String, ::Int64) at ./strings/string.jl:210",
      " [4] top-level scope at In[35]:1"
     ]
    }
   ],
   "source": [
    "print(\"Hello\"[-2])"
   ]
  },
  {
   "cell_type": "code",
   "execution_count": 36,
   "metadata": {},
   "outputs": [
    {
     "ename": "BoundsError",
     "evalue": "BoundsError: attempt to access String\n  at index [-2:2]",
     "output_type": "error",
     "traceback": [
      "BoundsError: attempt to access String\n  at index [-2:2]",
      "",
      "Stacktrace:",
      " [1] checkbounds at ./strings/basic.jl:194 [inlined]",
      " [2] getindex(::String, ::UnitRange{Int64}) at ./strings/string.jl:248",
      " [3] top-level scope at In[36]:1"
     ]
    }
   ],
   "source": [
    "print(\"Hello\"[-2:2])"
   ]
  },
  {
   "cell_type": "code",
   "execution_count": 37,
   "metadata": {},
   "outputs": [],
   "source": [
    "print(\"Hello\"[2:-2])"
   ]
  },
  {
   "cell_type": "markdown",
   "metadata": {},
   "source": [
    "It seems there are some other functions that can help."
   ]
  },
  {
   "cell_type": "code",
   "execution_count": 38,
   "metadata": {},
   "outputs": [
    {
     "name": "stdout",
     "output_type": "stream",
     "text": [
      "1, 5"
     ]
    }
   ],
   "source": [
    "print(firstindex(\"Hello\"), \", \", lastindex(\"Hello\"))"
   ]
  },
  {
   "cell_type": "code",
   "execution_count": 39,
   "metadata": {},
   "outputs": [
    {
     "data": {
      "text/plain": [
       "\"ell\""
      ]
     },
     "execution_count": 39,
     "metadata": {},
     "output_type": "execute_result"
    }
   ],
   "source": [
    "SubString(\"Hello\", 2, 4)"
   ]
  },
  {
   "cell_type": "code",
   "execution_count": 40,
   "metadata": {},
   "outputs": [
    {
     "data": {
      "text/plain": [
       "\"lo\""
      ]
     },
     "execution_count": 40,
     "metadata": {},
     "output_type": "execute_result"
    }
   ],
   "source": [
    "\"Hello\"[end-1:end]"
   ]
  },
  {
   "cell_type": "markdown",
   "metadata": {},
   "source": [
    "So... this is fairly unusual: There is a special value, `end`, that seems to denote end of string, and that can be used as a helper when subsetting. And there is a `SubString` function that takes takes start-position and end-position (my least favorite arguments). The documentation suggest substring might be a good friend once you venture outside of ASCII territory, because the subsetting is a little too simple-minded. I know it's a detour, but I want to try it:"
   ]
  },
  {
   "cell_type": "code",
   "execution_count": 41,
   "metadata": {},
   "outputs": [
    {
     "name": "stdout",
     "output_type": "stream",
     "text": [
      "🐰,\n"
     ]
    }
   ],
   "source": [
    "a = \"🐰, how are you?\"\n",
    "\n",
    "println(a[1:5])"
   ]
  },
  {
   "cell_type": "markdown",
   "metadata": {},
   "source": [
    "OK, so the first four characters are a rabbit, which makes sense. Last try:"
   ]
  },
  {
   "cell_type": "code",
   "execution_count": 42,
   "metadata": {},
   "outputs": [
    {
     "ename": "StringIndexError",
     "evalue": "StringIndexError(\" Hi ÆØÅ\", 6)",
     "output_type": "error",
     "traceback": [
      "StringIndexError(\" Hi ÆØÅ\", 6)",
      "",
      "Stacktrace:",
      " [1] string_index_err(::String, ::Int64) at ./strings/string.jl:12",
      " [2] getindex(::String, ::UnitRange{Int64}) at ./strings/string.jl:250",
      " [3] top-level scope at In[42]:2"
     ]
    }
   ],
   "source": [
    "b = \" Hi ÆØÅ\"\n",
    "\n",
    "println(b[1:6])"
   ]
  },
  {
   "cell_type": "code",
   "execution_count": 43,
   "metadata": {},
   "outputs": [
    {
     "ename": "StringIndexError",
     "evalue": "StringIndexError(\" Hi ÆØÅ\", 6)",
     "output_type": "error",
     "traceback": [
      "StringIndexError(\" Hi ÆØÅ\", 6)",
      "",
      "Stacktrace:",
      " [1] string_index_err(::String, ::Int64) at ./strings/string.jl:12",
      " [2] SubString at ./strings/substring.jl:32 [inlined]",
      " [3] SubString(::String, ::Int64, ::Int64) at ./strings/substring.jl:38",
      " [4] top-level scope at In[43]:1"
     ]
    }
   ],
   "source": [
    "println(SubString(b, 1, 6))"
   ]
  },
  {
   "cell_type": "code",
   "execution_count": 44,
   "metadata": {},
   "outputs": [
    {
     "name": "stdout",
     "output_type": "stream",
     "text": [
      " Hi Æ\n"
     ]
    }
   ],
   "source": [
    "println(SubString(b, 1, 5))"
   ]
  },
  {
   "cell_type": "markdown",
   "metadata": {},
   "source": [
    "That's the spirit! Everything crashes if you slice an overlong byte. I'm sure there's a way to get around it.\n",
    "\n",
    "So, to the regex stuff. There doesn't seem to be any separate regex library like python's `re`, and regex-patterns can be defined suspiciously simply:"
   ]
  },
  {
   "cell_type": "code",
   "execution_count": 45,
   "metadata": {},
   "outputs": [
    {
     "data": {
      "text/plain": [
       "r\"^[0-9]{1,3}\\%\""
      ]
     },
     "execution_count": 45,
     "metadata": {},
     "output_type": "execute_result"
    }
   ],
   "source": [
    "ptn = r\"^[0-9]{1,3}\\%\""
   ]
  },
  {
   "cell_type": "code",
   "execution_count": 46,
   "metadata": {},
   "outputs": [
    {
     "data": {
      "text/plain": [
       "RegexMatch(\"100%\")"
      ]
     },
     "execution_count": 46,
     "metadata": {},
     "output_type": "execute_result"
    }
   ],
   "source": [
    "m = match(ptn, \"100% (2/2)\")"
   ]
  },
  {
   "cell_type": "code",
   "execution_count": 47,
   "metadata": {},
   "outputs": [
    {
     "ename": "BoundsError",
     "evalue": "BoundsError: attempt to access 0-element Array{Union{Nothing, SubString{String}},1} at index [1]",
     "output_type": "error",
     "traceback": [
      "BoundsError: attempt to access 0-element Array{Union{Nothing, SubString{String}},1} at index [1]",
      "",
      "Stacktrace:",
      " [1] getindex at ./array.jl:788 [inlined]",
      " [2] getindex(::RegexMatch, ::Int64) at ./regex.jl:163",
      " [3] top-level scope at In[47]:1"
     ]
    }
   ],
   "source": [
    "m[1]"
   ]
  },
  {
   "cell_type": "code",
   "execution_count": 48,
   "metadata": {},
   "outputs": [
    {
     "ename": "MethodError",
     "evalue": "MethodError: no method matching names(::RegexMatch)\nClosest candidates are:\n  names(!Matched::DataFrames.Index) at /opt/julia/packages/DataFrames/cdZCk/src/other/index.jl:34\n  names(!Matched::Module; all, imported) at reflection.jl:98\n  names(!Matched::DataFrames.SubIndex) at /opt/julia/packages/DataFrames/cdZCk/src/other/index.jl:421\n  ...",
     "output_type": "error",
     "traceback": [
      "MethodError: no method matching names(::RegexMatch)\nClosest candidates are:\n  names(!Matched::DataFrames.Index) at /opt/julia/packages/DataFrames/cdZCk/src/other/index.jl:34\n  names(!Matched::Module; all, imported) at reflection.jl:98\n  names(!Matched::DataFrames.SubIndex) at /opt/julia/packages/DataFrames/cdZCk/src/other/index.jl:421\n  ...",
      "",
      "Stacktrace:",
      " [1] top-level scope at In[48]:1"
     ]
    }
   ],
   "source": [
    "names(m)"
   ]
  },
  {
   "cell_type": "markdown",
   "metadata": {},
   "source": [
    "This looked so simple, but how to get our wonderful match out of the regex object. Subsetting did not work, and trying to be fancy interrogating the object with `names` similar to what I love to do in Python with `dir`, threw an error.\n",
    "\n",
    "Anyways, maybe we can do something else, using, say, `matchall`."
   ]
  },
  {
   "cell_type": "code",
   "execution_count": 49,
   "metadata": {},
   "outputs": [
    {
     "ename": "UndefVarError",
     "evalue": "UndefVarError: matchall not defined",
     "output_type": "error",
     "traceback": [
      "UndefVarError: matchall not defined",
      "",
      "Stacktrace:",
      " [1] top-level scope at In[49]:1"
     ]
    }
   ],
   "source": [
    "m2 = matchall(ptn, \"100% (2/2)\")"
   ]
  },
  {
   "cell_type": "markdown",
   "metadata": {},
   "source": [
    "OK, the function found on stackoverflow isn't defined, maybe because the post was from 2014. New languages are a bitch. It seems the `RegexMatch` object has methods like `match` and `captures` and `offset`."
   ]
  },
  {
   "cell_type": "code",
   "execution_count": 50,
   "metadata": {},
   "outputs": [
    {
     "data": {
      "text/plain": [
       "\"100%\""
      ]
     },
     "execution_count": 50,
     "metadata": {},
     "output_type": "execute_result"
    }
   ],
   "source": [
    "m.match"
   ]
  },
  {
   "cell_type": "code",
   "execution_count": 51,
   "metadata": {},
   "outputs": [
    {
     "data": {
      "text/plain": [
       "0-element Array{Union{Nothing, SubString{String}},1}"
      ]
     },
     "execution_count": 51,
     "metadata": {},
     "output_type": "execute_result"
    }
   ],
   "source": [
    "m.captures"
   ]
  },
  {
   "cell_type": "code",
   "execution_count": 52,
   "metadata": {},
   "outputs": [
    {
     "data": {
      "text/plain": [
       "1"
      ]
     },
     "execution_count": 52,
     "metadata": {},
     "output_type": "execute_result"
    }
   ],
   "source": [
    "m.offset"
   ]
  },
  {
   "cell_type": "markdown",
   "metadata": {},
   "source": [
    "OK, whatevs, match is what I want for now. But seriously, if matchall isn't a function, what do you use when you want to capture more than one result? There can be two things in a string.\n",
    "\n",
    "So we want to assign a new variable using an existing variable. This takes two things (in addition to the function): Accessing the existing variable, and assigning the new one."
   ]
  },
  {
   "cell_type": "code",
   "execution_count": 54,
   "metadata": {},
   "outputs": [
    {
     "data": {
      "text/plain": [
       "120"
      ]
     },
     "execution_count": 54,
     "metadata": {},
     "output_type": "execute_result"
    }
   ],
   "source": [
    "first(df.AssignmentDurationInSeconds)"
   ]
  },
  {
   "cell_type": "code",
   "execution_count": 55,
   "metadata": {},
   "outputs": [
    {
     "name": "stderr",
     "output_type": "stream",
     "text": [
      "┌ Warning: `setproperty!(df::DataFrame, col_ind::Symbol, v)` is deprecated, use `df[!, col_ind] .= v` instead.\n",
      "│   caller = top-level scope at In[55]:1\n",
      "└ @ Core In[55]:1\n"
     ]
    },
    {
     "data": {
      "text/plain": [
       "\"abcd\""
      ]
     },
     "execution_count": 55,
     "metadata": {},
     "output_type": "execute_result"
    }
   ],
   "source": [
    "df.newvariable = \"abcd\""
   ]
  },
  {
   "cell_type": "markdown",
   "metadata": {},
   "source": [
    "Hmmm... interesting, some new syntax here. The `.=` is peculiar. Let's try."
   ]
  },
  {
   "cell_type": "code",
   "execution_count": 58,
   "metadata": {},
   "outputs": [
    {
     "data": {
      "text/plain": [
       "1760-element Array{String,1}:\n",
       " \"abc\"\n",
       " \"abc\"\n",
       " \"abc\"\n",
       " \"abc\"\n",
       " \"abc\"\n",
       " \"abc\"\n",
       " \"abc\"\n",
       " \"abc\"\n",
       " \"abc\"\n",
       " \"abc\"\n",
       " \"abc\"\n",
       " \"abc\"\n",
       " \"abc\"\n",
       " ⋮\n",
       " \"abc\"\n",
       " \"abc\"\n",
       " \"abc\"\n",
       " \"abc\"\n",
       " \"abc\"\n",
       " \"abc\"\n",
       " \"abc\"\n",
       " \"abc\"\n",
       " \"abc\"\n",
       " \"abc\"\n",
       " \"abc\"\n",
       " \"abc\""
      ]
     },
     "execution_count": 58,
     "metadata": {},
     "output_type": "execute_result"
    }
   ],
   "source": [
    "df[!, \"newvar\"] .= \"abc\""
   ]
  },
  {
   "cell_type": "code",
   "execution_count": 59,
   "metadata": {},
   "outputs": [
    {
     "data": {
      "text/plain": [
       "33-element Array{String,1}:\n",
       " \"HITId\"\n",
       " \"HITTypeId\"\n",
       " \"Title\"\n",
       " \"Description\"\n",
       " \"Keywords\"\n",
       " \"Reward\"\n",
       " \"CreationTime\"\n",
       " \"MaxAssignments\"\n",
       " \"RequesterAnnotation\"\n",
       " \"AssignmentDurationInSeconds\"\n",
       " \"AutoApprovalDelayInSeconds\"\n",
       " \"Expiration\"\n",
       " \"NumberOfSimilarHITs\"\n",
       " ⋮\n",
       " \"RejectionTime\"\n",
       " \"RequesterFeedback\"\n",
       " \"WorkTimeInSeconds\"\n",
       " \"LifetimeApprovalRate\"\n",
       " \"Last30DaysApprovalRate\"\n",
       " \"Last7DaysApprovalRate\"\n",
       " \"Input.document_url\"\n",
       " \"Answer.category.label\"\n",
       " \"Approve\"\n",
       " \"Reject\"\n",
       " \"newvariable\"\n",
       " \"newvar\""
      ]
     },
     "execution_count": 59,
     "metadata": {},
     "output_type": "execute_result"
    }
   ],
   "source": [
    "names(df)"
   ]
  },
  {
   "cell_type": "markdown",
   "metadata": {},
   "source": [
    "So far so good. Let's try putting it together."
   ]
  },
  {
   "cell_type": "code",
   "execution_count": 71,
   "metadata": {},
   "outputs": [
    {
     "data": {
      "text/plain": [
       "33-element Array{Type,1}:\n",
       " String\n",
       " String\n",
       " String\n",
       " String\n",
       " String\n",
       " String\n",
       " String\n",
       " Int64\n",
       " String\n",
       " Int64\n",
       " Int64\n",
       " String\n",
       " Missing\n",
       " ⋮\n",
       " Missing\n",
       " Missing\n",
       " Int64\n",
       " String\n",
       " String\n",
       " String\n",
       " String\n",
       " String\n",
       " Missing\n",
       " Missing\n",
       " String\n",
       " String"
      ]
     },
     "execution_count": 71,
     "metadata": {},
     "output_type": "execute_result"
    }
   ],
   "source": [
    "[eltype(col) for col = eachcol(df)]"
   ]
  },
  {
   "cell_type": "code",
   "execution_count": 60,
   "metadata": {},
   "outputs": [
    {
     "ename": "ErrorException",
     "evalue": "type Array has no field match",
     "output_type": "error",
     "traceback": [
      "type Array has no field match",
      "",
      "Stacktrace:",
      " [1] getproperty(::Array{RegexMatch,1}, ::Symbol) at ./Base.jl:33",
      " [2] top-level scope at In[60]:1"
     ]
    }
   ],
   "source": [
    "df[!, \"pctapproval\"] .= match.(r\"^[0-9]{1,3}\\%\", df[!, \"LifetimeApprovalRate\"]).match"
   ]
  },
  {
   "cell_type": "markdown",
   "metadata": {},
   "source": [
    "So, probably got some broadcasting issue going on here, thought that was what the dot after the function was for, but whatever. Googling how to assign variable in julia should return something, I presume.\n",
    "\n",
    "OK lets take a step back:"
   ]
  },
  {
   "cell_type": "code",
   "execution_count": 62,
   "metadata": {},
   "outputs": [
    {
     "name": "stderr",
     "output_type": "stream",
     "text": [
      "\u001b[32m\u001b[1m  Resolving\u001b[22m\u001b[39m package versions...\n",
      "\u001b[32m\u001b[1m  Installed\u001b[22m\u001b[39m DataFramesMeta ─ v0.5.1\n",
      "\u001b[32m\u001b[1m   Updating\u001b[22m\u001b[39m `/opt/julia/environments/v1.4/Project.toml`\n",
      " \u001b[90m [1313f7d8]\u001b[39m\u001b[92m + DataFramesMeta v0.5.1\u001b[39m\n",
      "\u001b[32m\u001b[1m   Updating\u001b[22m\u001b[39m `/opt/julia/environments/v1.4/Manifest.toml`\n",
      " \u001b[90m [1313f7d8]\u001b[39m\u001b[92m + DataFramesMeta v0.5.1\u001b[39m\n"
     ]
    }
   ],
   "source": [
    "Pkg.add(\"DataFramesMeta\")"
   ]
  },
  {
   "cell_type": "code",
   "execution_count": 63,
   "metadata": {},
   "outputs": [
    {
     "name": "stderr",
     "output_type": "stream",
     "text": [
      "┌ Info: Precompiling DataFramesMeta [1313f7d8-7da2-5740-9ea0-a2ca25f37964]\n",
      "└ @ Base loading.jl:1260\n"
     ]
    }
   ],
   "source": [
    "using DataFramesMeta"
   ]
  },
  {
   "cell_type": "code",
   "execution_count": 70,
   "metadata": {},
   "outputs": [
    {
     "ename": "MethodError",
     "evalue": "MethodError: no method matching transform(::Nothing; worktimeinminutes=var\"#3#4\"())\nClosest candidates are:\n  transform(!Matched::AbstractDataFrame; kwargs...) at /opt/julia/packages/DataFramesMeta/c67UK/src/DataFramesMeta.jl:377\n  transform(!Matched::GroupedDataFrame; kwargs...) at /opt/julia/packages/DataFramesMeta/c67UK/src/DataFramesMeta.jl:385",
     "output_type": "error",
     "traceback": [
      "MethodError: no method matching transform(::Nothing; worktimeinminutes=var\"#3#4\"())\nClosest candidates are:\n  transform(!Matched::AbstractDataFrame; kwargs...) at /opt/julia/packages/DataFramesMeta/c67UK/src/DataFramesMeta.jl:377\n  transform(!Matched::GroupedDataFrame; kwargs...) at /opt/julia/packages/DataFramesMeta/c67UK/src/DataFramesMeta.jl:385",
      "",
      "Stacktrace:",
      " [1] top-level scope at /opt/julia/packages/DataFramesMeta/c67UK/src/DataFramesMeta.jl:2",
      " [2] top-level scope at In[70]:1"
     ]
    }
   ],
   "source": [
    "df2 = @linq df |>\n",
    "    @transform(worktimeinminutes = :LifetimeApprovalRate ./ 60)"
   ]
  },
  {
   "cell_type": "markdown",
   "metadata": {},
   "source": [
    "It's fun to copy-paste internet code because internet code is the best code. Somehow internet code gave errors though. But don't worry, we found more internet code! This time functional, which is much promising."
   ]
  },
  {
   "cell_type": "code",
   "execution_count": 118,
   "metadata": {},
   "outputs": [
    {
     "data": {
      "text/plain": [
       "1760-element PooledArrays.PooledArray{SubString{String},UInt32,1,Array{UInt32,1}}:\n",
       " \"100%\"\n",
       " \"100%\"\n",
       " \"100%\"\n",
       " \"100%\"\n",
       " \"100%\"\n",
       " \"100%\"\n",
       " \"100%\"\n",
       " \"100%\"\n",
       " \"100%\"\n",
       " \"100%\"\n",
       " \"100%\"\n",
       " \"100%\"\n",
       " \"100%\"\n",
       " ⋮\n",
       " \"0%\"\n",
       " \"100%\"\n",
       " \"100%\"\n",
       " \"100%\"\n",
       " \"100%\"\n",
       " \"100%\"\n",
       " \"100%\"\n",
       " \"0%\"\n",
       " \"100%\"\n",
       " \"0%\"\n",
       " \"100%\"\n",
       " \"100%\""
      ]
     },
     "execution_count": 118,
     "metadata": {},
     "output_type": "execute_result"
    }
   ],
   "source": [
    "df.somethingsomething = map( x -> match(r\"^[0-9]{1,3}\\%\", x).match, df[!,:LifetimeApprovalRate] )"
   ]
  },
  {
   "cell_type": "markdown",
   "metadata": {},
   "source": [
    "OK apparantly that works now when I didn't try to somehow pass the regex in as y, so yeab basically a lambda function because it works. But I'll own up to it, I did have a few other trys."
   ]
  },
  {
   "cell_type": "code",
   "execution_count": 83,
   "metadata": {},
   "outputs": [
    {
     "ename": "ErrorException",
     "evalue": "type Array has no field match",
     "output_type": "error",
     "traceback": [
      "type Array has no field match",
      "",
      "Stacktrace:",
      " [1] getproperty(::Array{RegexMatch,1}, ::Symbol) at ./Base.jl:33",
      " [2] top-level scope at In[83]:1"
     ]
    }
   ],
   "source": [
    "df.newstuff = match.(r\"^[0-9]{1,3}\\%\", df[!, :LifetimeApprovalRate]).match"
   ]
  },
  {
   "cell_type": "code",
   "execution_count": 91,
   "metadata": {},
   "outputs": [
    {
     "data": {
      "text/plain": [
       "2-element Array{SubString{String},1}:\n",
       " \"4%\"\n",
       " \"5%\""
      ]
     },
     "execution_count": 91,
     "metadata": {},
     "output_type": "execute_result"
    }
   ],
   "source": [
    "[thing.match for thing in match.(r\"^[0-9]{1,3}\\%\", [\"4%blah\", \"5%blah\"])]"
   ]
  },
  {
   "cell_type": "markdown",
   "metadata": {},
   "source": [
    "OK, we could probably use a list comprehension, to apply the match property on the match function, but better to just make our own short function"
   ]
  },
  {
   "cell_type": "code",
   "execution_count": 108,
   "metadata": {},
   "outputs": [
    {
     "data": {
      "text/plain": [
       "1760-element Array{SubString{String},1}:\n",
       " \"100%\"\n",
       " \"100%\"\n",
       " \"100%\"\n",
       " \"100%\"\n",
       " \"100%\"\n",
       " \"100%\"\n",
       " \"100%\"\n",
       " \"100%\"\n",
       " \"100%\"\n",
       " \"100%\"\n",
       " \"100%\"\n",
       " \"100%\"\n",
       " \"100%\"\n",
       " ⋮\n",
       " \"0%\"\n",
       " \"100%\"\n",
       " \"100%\"\n",
       " \"100%\"\n",
       " \"100%\"\n",
       " \"100%\"\n",
       " \"100%\"\n",
       " \"0%\"\n",
       " \"100%\"\n",
       " \"0%\"\n",
       " \"100%\"\n",
       " \"100%\""
      ]
     },
     "execution_count": 108,
     "metadata": {},
     "output_type": "execute_result"
    }
   ],
   "source": [
    "function getrx(txt)\n",
    "    match(r\"^[0-9]{1,3}\\%\", txt).match\n",
    "end\n",
    "\n",
    "df.anotherthing = getrx.(df[!, :LifetimeApprovalRate])"
   ]
  },
  {
   "cell_type": "code",
   "execution_count": 115,
   "metadata": {},
   "outputs": [
    {
     "data": {
      "text/plain": [
       "3-element Array{SubString{String},1}:\n",
       " \"100%\"\n",
       " \"100%\"\n",
       " \"100%\""
      ]
     },
     "execution_count": 115,
     "metadata": {},
     "output_type": "execute_result"
    }
   ],
   "source": [
    "df.anotherthing[1:3]"
   ]
  },
  {
   "cell_type": "markdown",
   "metadata": {},
   "source": [
    "Really wanted to use `first` or `head`, but apparantly that doesn't work on singe columns. Luckily, I totally forgot that a column is an array and I could just have subsetted it like normal humans.\n",
    "\n",
    "At least you didn't have to sit and watch me. Let's just say I deleted some cells.\n",
    "\n",
    "So OK we have created a new variable that's not just something trivial like `a+1` or something. Let's try the aggregation again."
   ]
  },
  {
   "cell_type": "code",
   "execution_count": 119,
   "metadata": {},
   "outputs": [
    {
     "data": {
      "text/html": [
       "<table class=\"data-frame\"><thead><tr><th></th><th>anotherthing</th><th>WorkTimeInSeconds_mean</th><th>LifetimeApprovalRate_length</th></tr><tr><th></th><th>SubStri…</th><th>Float64</th><th>Int64</th></tr></thead><tbody><p>2 rows × 3 columns</p><tr><th>1</th><td>100%</td><td>26.5624</td><td>1259</td></tr><tr><th>2</th><td>0%</td><td>33.7305</td><td>501</td></tr></tbody></table>"
      ],
      "text/latex": [
       "\\begin{tabular}{r|ccc}\n",
       "\t& anotherthing & WorkTimeInSeconds\\_mean & LifetimeApprovalRate\\_length\\\\\n",
       "\t\\hline\n",
       "\t& SubStri… & Float64 & Int64\\\\\n",
       "\t\\hline\n",
       "\t1 & 100\\% & 26.5624 & 1259 \\\\\n",
       "\t2 & 0\\% & 33.7305 & 501 \\\\\n",
       "\\end{tabular}\n"
      ],
      "text/plain": [
       "2×3 DataFrame\n",
       "│ Row │ anotherthing │ WorkTimeInSeconds_mean │ LifetimeApprovalRate_length │\n",
       "│     │ \u001b[90mSubString…\u001b[39m   │ \u001b[90mFloat64\u001b[39m                │ \u001b[90mInt64\u001b[39m                       │\n",
       "├─────┼──────────────┼────────────────────────┼─────────────────────────────┤\n",
       "│ 1   │ 100%         │ 26.5624                │ 1259                        │\n",
       "│ 2   │ 0%           │ 33.7305                │ 501                         │"
      ]
     },
     "execution_count": 119,
     "metadata": {},
     "output_type": "execute_result"
    }
   ],
   "source": [
    "@pipe df |>\n",
    "    groupby(_, :anotherthing) |>\n",
    "    combine(_, :WorkTimeInSeconds => mean, :LifetimeApprovalRate => length)"
   ]
  },
  {
   "cell_type": "code",
   "execution_count": null,
   "metadata": {},
   "outputs": [],
   "source": []
  }
 ],
 "metadata": {
  "kernelspec": {
   "display_name": "Julia 1.4.1",
   "language": "julia",
   "name": "julia-1.4"
  },
  "language_info": {
   "file_extension": ".jl",
   "mimetype": "application/julia",
   "name": "julia",
   "version": "1.4.1"
  }
 },
 "nbformat": 4,
 "nbformat_minor": 4
}
