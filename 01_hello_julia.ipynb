{
 "cells": [
  {
   "cell_type": "markdown",
   "metadata": {},
   "source": [
    "# Learning Julia\n",
    "\n",
    "This is me, thinking out loud, after/while watching a few Julia videos.\n",
    "\n",
    "Julia looks a lot like Python. In fact, there might be a competition somewhere about who can write the longest program executable in both languages. Nah, a few colons and details might give it away though."
   ]
  },
  {
   "cell_type": "markdown",
   "metadata": {},
   "source": [
    "Before we get going, we need to install some stuff. Not a lot of fun, but we have to do it sooner or later. Funnily enough, there is a package for installing packages. Luckily, this comes pre-installed so we can just load it using the `using` keyword. Very similar to Python's `import`, but a different word because... cool."
   ]
  },
  {
   "cell_type": "code",
   "execution_count": 1,
   "metadata": {},
   "outputs": [],
   "source": [
    "using Pkg"
   ]
  },
  {
   "cell_type": "markdown",
   "metadata": {},
   "source": [
    "So far so good. We'll get back to what these packages are, so far it's just some fairly random stuff I picked up in the videos."
   ]
  },
  {
   "cell_type": "code",
   "execution_count": 2,
   "metadata": {},
   "outputs": [
    {
     "name": "stderr",
     "output_type": "stream",
     "text": [
      "\u001b[32m\u001b[1m   Updating\u001b[22m\u001b[39m registry at `/opt/julia/registries/General`\n"
     ]
    },
    {
     "name": "stdout",
     "output_type": "stream",
     "text": [
      "\u001b[?25l    "
     ]
    },
    {
     "name": "stderr",
     "output_type": "stream",
     "text": [
      "\u001b[32m\u001b[1m   Updating\u001b[22m\u001b[39m git-repo `https://github.com/JuliaRegistries/General.git`\n"
     ]
    },
    {
     "name": "stdout",
     "output_type": "stream",
     "text": [
      "\u001b[2K\u001b[?25h[1mFetching:\u001b[22m\u001b[39m [========================================>]  99.9 %\u001b[36m\u001b[1mFetching:\u001b[22m\u001b[39m [=====>                                   ]  10.2 %\u001b[36m\u001b[1mFetching:\u001b[22m\u001b[39m [=====>                                   ]  11.1 %\u001b[36m\u001b[1mFetching:\u001b[22m\u001b[39m [=====>                                   ]  12.4 %\u001b[36m\u001b[1mFetching:\u001b[22m\u001b[39m [======>                                  ]  13.5 %\u001b[36m\u001b[1mFetching:\u001b[22m\u001b[39m [==============>                          ]  34.3 %\u001b[36m\u001b[1mFetching:\u001b[22m\u001b[39m [================>                        ]  39.9 %\u001b[36m\u001b[1mFetching:\u001b[22m\u001b[39m [=======================>                 ]  56.7 %         ]  76.5 %\u001b[36m\u001b[1mFetching:\u001b[22m\u001b[39m [================================>        ]  77.6 % [==================================>      ]  84.6 %\u001b[36m\u001b[1mFetching:\u001b[22m\u001b[39m [=====================================>   ]  90.6 %\u001b[36m\u001b[1mFetching:\u001b[22m\u001b[39m [=======================================> ]  95.1 %\u001b[36m\u001b[1mFetching:\u001b[22m\u001b[39m [=======================================> ]  97.0 %\u001b[36m\u001b[1mFetching:\u001b[22m\u001b[39m [=======================================> ]  97.2 %\u001b[36m\u001b[1mFetching:\u001b[22m\u001b[39m [=======================================> ]  97.4 %"
     ]
    },
    {
     "name": "stderr",
     "output_type": "stream",
     "text": [
      "\u001b[32m\u001b[1m  Resolving\u001b[22m\u001b[39m package versions...\n",
      "\u001b[32m\u001b[1m  Installed\u001b[22m\u001b[39m Zlib_jll ──────────────────── v1.2.11+16\n",
      "\u001b[32m\u001b[1m  Installed\u001b[22m\u001b[39m ZeroMQ_jll ────────────────── v4.3.2+4\n",
      "\u001b[32m\u001b[1m  Installed\u001b[22m\u001b[39m SortingAlgorithms ─────────── v0.3.1\n",
      "\u001b[32m\u001b[1m  Installed\u001b[22m\u001b[39m FriBidi_jll ───────────────── v1.0.5+5\n",
      "\u001b[32m\u001b[1m  Installed\u001b[22m\u001b[39m Tables ────────────────────── v1.0.5\n",
      "\u001b[32m\u001b[1m  Installed\u001b[22m\u001b[39m HDF5_jll ──────────────────── v1.10.5+6\n",
      "\u001b[32m\u001b[1m  Installed\u001b[22m\u001b[39m Plots ─────────────────────── v1.6.6\n",
      "\u001b[32m\u001b[1m  Installed\u001b[22m\u001b[39m Colors ────────────────────── v0.12.4\n",
      "\u001b[32m\u001b[1m  Installed\u001b[22m\u001b[39m Requires ──────────────────── v1.0.3\n",
      "\u001b[32m\u001b[1m  Installed\u001b[22m\u001b[39m x264_jll ──────────────────── v2020.7.14+1\n",
      "\u001b[32m\u001b[1m  Installed\u001b[22m\u001b[39m Showoff ───────────────────── v0.3.2\n",
      "\u001b[32m\u001b[1m  Installed\u001b[22m\u001b[39m ColorTypes ────────────────── v0.10.9\n",
      "\u001b[32m\u001b[1m  Installed\u001b[22m\u001b[39m StaticArrays ──────────────── v0.12.4\n",
      "\u001b[32m\u001b[1m  Installed\u001b[22m\u001b[39m StatsBase ─────────────────── v0.33.1\n",
      "\u001b[32m\u001b[1m  Installed\u001b[22m\u001b[39m Ogg_jll ───────────────────── v1.3.4+1\n",
      "\u001b[32m\u001b[1m  Installed\u001b[22m\u001b[39m Measures ──────────────────── v0.3.1\n",
      "\u001b[32m\u001b[1m  Installed\u001b[22m\u001b[39m EarCut_jll ────────────────── v2.1.5+0\n",
      "\u001b[32m\u001b[1m  Installed\u001b[22m\u001b[39m libass_jll ────────────────── v0.14.0+3\n",
      "\u001b[32m\u001b[1m  Installed\u001b[22m\u001b[39m OpenSSL_jll ───────────────── v1.1.1+5\n",
      "\u001b[32m\u001b[1m  Installed\u001b[22m\u001b[39m ColorSchemes ──────────────── v3.10.0\n",
      "\u001b[32m\u001b[1m  Installed\u001b[22m\u001b[39m FFMPEG_jll ────────────────── v4.3.1+2\n",
      "\u001b[32m\u001b[1m  Installed\u001b[22m\u001b[39m Compat ────────────────────── v3.17.0\n",
      "\u001b[32m\u001b[1m  Installed\u001b[22m\u001b[39m GeometryBasics ────────────── v0.3.1\n",
      "\u001b[32m\u001b[1m  Installed\u001b[22m\u001b[39m LibVPX_jll ────────────────── v1.9.0+0\n",
      "\u001b[32m\u001b[1m  Installed\u001b[22m\u001b[39m DataStructures ────────────── v0.18.6\n",
      "\u001b[32m\u001b[1m  Installed\u001b[22m\u001b[39m PlotThemes ────────────────── v2.0.0\n",
      "\u001b[32m\u001b[1m  Installed\u001b[22m\u001b[39m Bzip2_jll ─────────────────── v1.0.6+4\n",
      "\u001b[32m\u001b[1m  Installed\u001b[22m\u001b[39m RecipesPipeline ───────────── v0.1.13\n",
      "\u001b[32m\u001b[1m  Installed\u001b[22m\u001b[39m GR ────────────────────────── v0.52.0\n",
      "\u001b[32m\u001b[1m  Installed\u001b[22m\u001b[39m libvorbis_jll ─────────────── v1.3.6+5\n",
      "\u001b[32m\u001b[1m  Installed\u001b[22m\u001b[39m Opus_jll ──────────────────── v1.3.1+2\n",
      "\u001b[32m\u001b[1m  Installed\u001b[22m\u001b[39m IteratorInterfaceExtensions ─ v1.0.0\n",
      "\u001b[32m\u001b[1m  Installed\u001b[22m\u001b[39m FixedPointNumbers ─────────── v0.8.4\n",
      "\u001b[32m\u001b[1m  Installed\u001b[22m\u001b[39m PlotUtils ─────────────────── v1.0.7\n",
      "\u001b[32m\u001b[1m  Installed\u001b[22m\u001b[39m Adapt ─────────────────────── v2.3.0\n",
      "\u001b[32m\u001b[1m  Installed\u001b[22m\u001b[39m StructArrays ──────────────── v0.4.4\n",
      "\u001b[32m\u001b[1m  Installed\u001b[22m\u001b[39m RecipesBase ───────────────── v1.1.0\n",
      "\u001b[32m\u001b[1m  Installed\u001b[22m\u001b[39m TableTraits ───────────────── v1.0.0\n",
      "\u001b[32m\u001b[1m  Installed\u001b[22m\u001b[39m HTTP ──────────────────────── v0.8.19\n",
      "\u001b[32m\u001b[1m  Installed\u001b[22m\u001b[39m Grisu ─────────────────────── v1.0.0\n",
      "\u001b[32m\u001b[1m  Installed\u001b[22m\u001b[39m DataValueInterfaces ───────── v1.0.0\n",
      "\u001b[32m\u001b[1m  Installed\u001b[22m\u001b[39m libfdk_aac_jll ────────────── v0.1.6+3\n",
      "\u001b[32m\u001b[1m  Installed\u001b[22m\u001b[39m NaNMath ───────────────────── v0.3.4\n",
      "\u001b[32m\u001b[1m  Installed\u001b[22m\u001b[39m FFMPEG ────────────────────── v0.4.0\n",
      "\u001b[32m\u001b[1m  Installed\u001b[22m\u001b[39m FreeType2_jll ─────────────── v2.10.1+4\n",
      "\u001b[32m\u001b[1m  Installed\u001b[22m\u001b[39m DataAPI ───────────────────── v1.3.0\n",
      "\u001b[32m\u001b[1m  Installed\u001b[22m\u001b[39m Contour ───────────────────── v0.5.5\n",
      "\u001b[32m\u001b[1m  Installed\u001b[22m\u001b[39m IniFile ───────────────────── v0.5.0\n",
      "\u001b[32m\u001b[1m  Installed\u001b[22m\u001b[39m IterTools ─────────────────── v1.3.0\n",
      "\u001b[32m\u001b[1m  Installed\u001b[22m\u001b[39m LAME_jll ──────────────────── v3.100.0+2\n",
      "\u001b[32m\u001b[1m  Installed\u001b[22m\u001b[39m Reexport ──────────────────── v0.2.0\n",
      "\u001b[32m\u001b[1m  Installed\u001b[22m\u001b[39m Missings ──────────────────── v0.4.4\n",
      "\u001b[32m\u001b[1m  Installed\u001b[22m\u001b[39m x265_jll ──────────────────── v3.0.0+2\n",
      "\u001b[32m\u001b[1m  Installed\u001b[22m\u001b[39m GeometryTypes ─────────────── v0.8.3\n",
      "######################################################################### 100.0%#=#=-#  #                                                                      \n",
      "######################################################################### 100.0%##O=#  #                                                                       \n",
      "######################################################################### 100.0%##O=#  #                                                                       \n",
      "######################################################################### 100.0%##O=#  #                                                                       \n",
      "######################################################################### 100.0%##O=#  #                                                                       \n",
      "######################################################################### 100.0%##O=#  #                                                                       \n",
      "######################################################################### 100.0%##O=#  #                                                                       \n",
      "######################################################################### 100.0%##O=#  #                                                                       \n",
      "######################################################################### 100.0%##O=#  #                                                                       \n",
      "######################################################################### 100.0%##O=#  #                                                                       \n",
      "######################################################################### 100.0%##O=#  #                                                                       \n",
      "######################################################################### 100.0%##O=#  #                                                                       \n",
      "######################################################################### 100.0%##O=#  #                                                                       \n",
      "######################################################################### 100.0%##O=#  #                                                                       \n",
      "######################################################################### 100.0%##O=#  #                                                                       \n",
      "######################################################################### 100.0%##O=#  #                                                                                                               1.2%\n",
      "######################################################################### 100.0%##O=#  #                                                                       \n",
      "######################################################################### 100.0%##O=#  #                                                                       \n",
      "\u001b[32m\u001b[1m   Updating\u001b[22m\u001b[39m `/opt/julia/environments/v1.4/Project.toml`\n",
      " \u001b[90m [91a5bcdd]\u001b[39m\u001b[92m + Plots v1.6.6\u001b[39m\n",
      "\u001b[32m\u001b[1m   Updating\u001b[22m\u001b[39m `/opt/julia/environments/v1.4/Manifest.toml`\n",
      " \u001b[90m [79e6a3ab]\u001b[39m\u001b[92m + Adapt v2.3.0\u001b[39m\n",
      " \u001b[90m [6e34b625]\u001b[39m\u001b[92m + Bzip2_jll v1.0.6+4\u001b[39m\n",
      " \u001b[90m [35d6a980]\u001b[39m\u001b[92m + ColorSchemes v3.10.0\u001b[39m\n",
      " \u001b[90m [3da002f7]\u001b[39m\u001b[92m + ColorTypes v0.10.9\u001b[39m\n",
      " \u001b[90m [5ae59095]\u001b[39m\u001b[92m + Colors v0.12.4\u001b[39m\n",
      " \u001b[90m [34da2185]\u001b[39m\u001b[92m + Compat v3.17.0\u001b[39m\n",
      " \u001b[90m [d38c429a]\u001b[39m\u001b[92m + Contour v0.5.5\u001b[39m\n",
      " \u001b[90m [9a962f9c]\u001b[39m\u001b[92m + DataAPI v1.3.0\u001b[39m\n",
      " \u001b[90m [864edb3b]\u001b[39m\u001b[92m + DataStructures v0.18.6\u001b[39m\n",
      " \u001b[90m [e2d170a0]\u001b[39m\u001b[92m + DataValueInterfaces v1.0.0\u001b[39m\n",
      " \u001b[90m [5ae413db]\u001b[39m\u001b[92m + EarCut_jll v2.1.5+0\u001b[39m\n",
      " \u001b[90m [c87230d0]\u001b[39m\u001b[92m + FFMPEG v0.4.0\u001b[39m\n",
      " \u001b[90m [b22a6f82]\u001b[39m\u001b[92m + FFMPEG_jll v4.3.1+2\u001b[39m\n",
      " \u001b[90m [53c48c17]\u001b[39m\u001b[92m + FixedPointNumbers v0.8.4\u001b[39m\n",
      " \u001b[90m [d7e528f0]\u001b[39m\u001b[92m + FreeType2_jll v2.10.1+4\u001b[39m\n",
      " \u001b[90m [559328eb]\u001b[39m\u001b[92m + FriBidi_jll v1.0.5+5\u001b[39m\n",
      " \u001b[90m [28b8d3ca]\u001b[39m\u001b[92m + GR v0.52.0\u001b[39m\n",
      " \u001b[90m [5c1252a2]\u001b[39m\u001b[92m + GeometryBasics v0.3.1\u001b[39m\n",
      " \u001b[90m [4d00f742]\u001b[39m\u001b[92m + GeometryTypes v0.8.3\u001b[39m\n",
      " \u001b[90m [42e2da0e]\u001b[39m\u001b[92m + Grisu v1.0.0\u001b[39m\n",
      " \u001b[90m [0234f1f7]\u001b[39m\u001b[93m ↑ HDF5_jll v1.10.5+5 ⇒ v1.10.5+6\u001b[39m\n",
      " \u001b[90m [cd3eb016]\u001b[39m\u001b[92m + HTTP v0.8.19\u001b[39m\n",
      " \u001b[90m [83e8ac13]\u001b[39m\u001b[92m + IniFile v0.5.0\u001b[39m\n",
      " \u001b[90m [c8e1da08]\u001b[39m\u001b[92m + IterTools v1.3.0\u001b[39m\n",
      " \u001b[90m [82899510]\u001b[39m\u001b[92m + IteratorInterfaceExtensions v1.0.0\u001b[39m\n",
      " \u001b[90m [c1c5ebd0]\u001b[39m\u001b[92m + LAME_jll v3.100.0+2\u001b[39m\n",
      " \u001b[90m [dd192d2f]\u001b[39m\u001b[92m + LibVPX_jll v1.9.0+0\u001b[39m\n",
      " \u001b[90m [442fdcdd]\u001b[39m\u001b[92m + Measures v0.3.1\u001b[39m\n",
      " \u001b[90m [e1d29d7a]\u001b[39m\u001b[92m + Missings v0.4.4\u001b[39m\n",
      " \u001b[90m [77ba4419]\u001b[39m\u001b[92m + NaNMath v0.3.4\u001b[39m\n",
      " \u001b[90m [e7412a2a]\u001b[39m\u001b[92m + Ogg_jll v1.3.4+1\u001b[39m\n",
      " \u001b[90m [458c3c95]\u001b[39m\u001b[92m + OpenSSL_jll v1.1.1+5\u001b[39m\n",
      " \u001b[90m [91d4177d]\u001b[39m\u001b[92m + Opus_jll v1.3.1+2\u001b[39m\n",
      " \u001b[90m [ccf2f8ad]\u001b[39m\u001b[92m + PlotThemes v2.0.0\u001b[39m\n",
      " \u001b[90m [995b91a9]\u001b[39m\u001b[92m + PlotUtils v1.0.7\u001b[39m\n",
      " \u001b[90m [91a5bcdd]\u001b[39m\u001b[92m + Plots v1.6.6\u001b[39m\n",
      " \u001b[90m [3cdcf5f2]\u001b[39m\u001b[92m + RecipesBase v1.1.0\u001b[39m\n",
      " \u001b[90m [01d81517]\u001b[39m\u001b[92m + RecipesPipeline v0.1.13\u001b[39m\n",
      " \u001b[90m [189a3867]\u001b[39m\u001b[92m + Reexport v0.2.0\u001b[39m\n",
      " \u001b[90m [ae029012]\u001b[39m\u001b[92m + Requires v1.0.3\u001b[39m\n",
      " \u001b[90m [992d4aef]\u001b[39m\u001b[92m + Showoff v0.3.2\u001b[39m\n",
      " \u001b[90m [a2af1166]\u001b[39m\u001b[92m + SortingAlgorithms v0.3.1\u001b[39m\n",
      " \u001b[90m [90137ffa]\u001b[39m\u001b[92m + StaticArrays v0.12.4\u001b[39m\n",
      " \u001b[90m [2913bbd2]\u001b[39m\u001b[92m + StatsBase v0.33.1\u001b[39m\n",
      " \u001b[90m [09ab397b]\u001b[39m\u001b[92m + StructArrays v0.4.4\u001b[39m\n",
      " \u001b[90m [3783bdb8]\u001b[39m\u001b[92m + TableTraits v1.0.0\u001b[39m\n",
      " \u001b[90m [bd369af6]\u001b[39m\u001b[92m + Tables v1.0.5\u001b[39m\n",
      " \u001b[90m [8f1865be]\u001b[39m\u001b[93m ↑ ZeroMQ_jll v4.3.2+2 ⇒ v4.3.2+4\u001b[39m\n",
      " \u001b[90m [83775a58]\u001b[39m\u001b[93m ↑ Zlib_jll v1.2.11+9 ⇒ v1.2.11+16\u001b[39m\n",
      " \u001b[90m [0ac62f75]\u001b[39m\u001b[92m + libass_jll v0.14.0+3\u001b[39m\n",
      " \u001b[90m [f638f0a6]\u001b[39m\u001b[92m + libfdk_aac_jll v0.1.6+3\u001b[39m\n",
      " \u001b[90m [f27f6e37]\u001b[39m\u001b[92m + libvorbis_jll v1.3.6+5\u001b[39m\n",
      " \u001b[90m [1270edf5]\u001b[39m\u001b[92m + x264_jll v2020.7.14+1\u001b[39m\n",
      " \u001b[90m [dfaa095f]\u001b[39m\u001b[92m + x265_jll v3.0.0+2\u001b[39m\n",
      " \u001b[90m [8bb1440f]\u001b[39m\u001b[92m + DelimitedFiles \u001b[39m\n",
      " \u001b[90m [37e2e46d]\u001b[39m\u001b[92m + LinearAlgebra \u001b[39m\n",
      " \u001b[90m [1a1011a3]\u001b[39m\u001b[92m + SharedArrays \u001b[39m\n",
      " \u001b[90m [2f01184e]\u001b[39m\u001b[92m + SparseArrays \u001b[39m\n",
      " \u001b[90m [10745b16]\u001b[39m\u001b[92m + Statistics \u001b[39m\n"
     ]
    },
    {
     "name": "stderr",
     "output_type": "stream",
     "text": [
      "\u001b[32m\u001b[1m   Building\u001b[22m\u001b[39m GR ───→ `/opt/julia/packages/GR/BwGt2/deps/build.log`\n",
      "\u001b[32m\u001b[1m   Building\u001b[22m\u001b[39m Plots → `/opt/julia/packages/Plots/fewot/deps/build.log`\n",
      "\u001b[32m\u001b[1m  Resolving\u001b[22m\u001b[39m package versions...\n",
      "\u001b[32m\u001b[1m  Installed\u001b[22m\u001b[39m PooledArrays ────── v0.5.3\n",
      "\u001b[32m\u001b[1m  Installed\u001b[22m\u001b[39m InvertedIndices ─── v1.0.0\n",
      "\u001b[32m\u001b[1m  Installed\u001b[22m\u001b[39m StructTypes ─────── v1.1.0\n",
      "\u001b[32m\u001b[1m  Installed\u001b[22m\u001b[39m CategoricalArrays ─ v0.8.3\n",
      "\u001b[32m\u001b[1m  Installed\u001b[22m\u001b[39m DataFrames ──────── v0.21.7\n",
      "\u001b[32m\u001b[1m   Updating\u001b[22m\u001b[39m `/opt/julia/environments/v1.4/Project.toml`\n",
      " \u001b[90m [a93c6f00]\u001b[39m\u001b[92m + DataFrames v0.21.7\u001b[39m\n",
      "\u001b[32m\u001b[1m   Updating\u001b[22m\u001b[39m `/opt/julia/environments/v1.4/Manifest.toml`\n",
      " \u001b[90m [324d7699]\u001b[39m\u001b[92m + CategoricalArrays v0.8.3\u001b[39m\n",
      " \u001b[90m [a93c6f00]\u001b[39m\u001b[92m + DataFrames v0.21.7\u001b[39m\n",
      " \u001b[90m [41ab1584]\u001b[39m\u001b[92m + InvertedIndices v1.0.0\u001b[39m\n",
      " \u001b[90m [2dfb63ee]\u001b[39m\u001b[92m + PooledArrays v0.5.3\u001b[39m\n",
      " \u001b[90m [856f2bd8]\u001b[39m\u001b[92m + StructTypes v1.1.0\u001b[39m\n",
      " \u001b[90m [9fa8497b]\u001b[39m\u001b[92m + Future \u001b[39m\n",
      "\u001b[32m\u001b[1m  Resolving\u001b[22m\u001b[39m package versions...\n",
      "\u001b[32m\u001b[1m  Installed\u001b[22m\u001b[39m SentinelArrays ─ v1.2.15\n",
      "\u001b[32m\u001b[1m  Installed\u001b[22m\u001b[39m CSV ──────────── v0.7.7\n",
      "\u001b[32m\u001b[1m   Updating\u001b[22m\u001b[39m `/opt/julia/environments/v1.4/Project.toml`\n",
      " \u001b[90m [336ed68f]\u001b[39m\u001b[92m + CSV v0.7.7\u001b[39m\n",
      "\u001b[32m\u001b[1m   Updating\u001b[22m\u001b[39m `/opt/julia/environments/v1.4/Manifest.toml`\n",
      " \u001b[90m [336ed68f]\u001b[39m\u001b[92m + CSV v0.7.7\u001b[39m\n",
      " \u001b[90m [91c51154]\u001b[39m\u001b[92m + SentinelArrays v1.2.15\u001b[39m\n",
      "\u001b[32m\u001b[1m  Resolving\u001b[22m\u001b[39m package versions...\n",
      "\u001b[32m\u001b[1m   Updating\u001b[22m\u001b[39m `/opt/julia/environments/v1.4/Project.toml`\n",
      " \u001b[90m [10745b16]\u001b[39m\u001b[92m + Statistics \u001b[39m\n",
      "\u001b[32m\u001b[1m   Updating\u001b[22m\u001b[39m `/opt/julia/environments/v1.4/Manifest.toml`\n",
      "\u001b[90m [no changes]\u001b[39m\n",
      "\u001b[32m\u001b[1m  Resolving\u001b[22m\u001b[39m package versions...\n",
      "\u001b[32m\u001b[1m  Installed\u001b[22m\u001b[39m Pipe ─ v1.3.0\n",
      "\u001b[32m\u001b[1m   Updating\u001b[22m\u001b[39m `/opt/julia/environments/v1.4/Project.toml`\n",
      " \u001b[90m [b98c9c47]\u001b[39m\u001b[92m + Pipe v1.3.0\u001b[39m\n",
      "\u001b[32m\u001b[1m   Updating\u001b[22m\u001b[39m `/opt/julia/environments/v1.4/Manifest.toml`\n",
      " \u001b[90m [b98c9c47]\u001b[39m\u001b[92m + Pipe v1.3.0\u001b[39m\n"
     ]
    }
   ],
   "source": [
    "Pkg.add(\"Plots\")\n",
    "Pkg.add(\"DataFrames\")\n",
    "Pkg.add(\"CSV\")\n",
    "Pkg.add(\"Statistics\")\n",
    "Pkg.add(\"Pipe\")"
   ]
  },
  {
   "cell_type": "code",
   "execution_count": 3,
   "metadata": {},
   "outputs": [
    {
     "name": "stderr",
     "output_type": "stream",
     "text": [
      "┌ Info: Precompiling Plots [91a5bcdd-55d7-5caf-9e0b-520d859cae80]\n",
      "└ @ Base loading.jl:1260\n",
      "┌ Info: Precompiling DataFrames [a93c6f00-e57d-5684-b7b6-d8193f3e46c0]\n",
      "└ @ Base loading.jl:1260\n",
      "┌ Info: Precompiling CSV [336ed68f-0bac-5ca0-87d4-7b16caf5d00b]\n",
      "└ @ Base loading.jl:1260\n",
      "┌ Info: Precompiling Pipe [b98c9c47-44ae-5843-9183-064241ee97a0]\n",
      "└ @ Base loading.jl:1260\n"
     ]
    }
   ],
   "source": [
    "using Plots, DataFrames, CSV, Statistics, Pipe"
   ]
  },
  {
   "cell_type": "markdown",
   "metadata": {},
   "source": [
    "Before we get going, lets do some warm-up exercises."
   ]
  },
  {
   "cell_type": "code",
   "execution_count": 4,
   "metadata": {},
   "outputs": [
    {
     "data": {
      "text/plain": [
       "42"
      ]
     },
     "execution_count": 4,
     "metadata": {},
     "output_type": "execute_result"
    }
   ],
   "source": [
    "a = 42"
   ]
  },
  {
   "cell_type": "code",
   "execution_count": 5,
   "metadata": {},
   "outputs": [
    {
     "data": {
      "text/plain": [
       "1764"
      ]
     },
     "execution_count": 5,
     "metadata": {},
     "output_type": "execute_result"
    }
   ],
   "source": [
    "a*a"
   ]
  },
  {
   "cell_type": "code",
   "execution_count": 6,
   "metadata": {},
   "outputs": [
    {
     "data": {
      "text/plain": [
       "1764"
      ]
     },
     "execution_count": 6,
     "metadata": {},
     "output_type": "execute_result"
    }
   ],
   "source": [
    "a^2"
   ]
  },
  {
   "cell_type": "code",
   "execution_count": 7,
   "metadata": {},
   "outputs": [
    {
     "data": {
      "text/plain": [
       "\"Hello world\""
      ]
     },
     "execution_count": 7,
     "metadata": {},
     "output_type": "execute_result"
    }
   ],
   "source": [
    "b = \"Hello world\""
   ]
  },
  {
   "cell_type": "code",
   "execution_count": 8,
   "metadata": {},
   "outputs": [
    {
     "ename": "MethodError",
     "evalue": "MethodError: no method matching +(::String, ::String)\nClosest candidates are:\n  +(::Any, ::Any, !Matched::Any, !Matched::Any...) at operators.jl:529",
     "output_type": "error",
     "traceback": [
      "MethodError: no method matching +(::String, ::String)\nClosest candidates are:\n  +(::Any, ::Any, !Matched::Any, !Matched::Any...) at operators.jl:529",
      "",
      "Stacktrace:",
      " [1] top-level scope at In[8]:1"
     ]
    }
   ],
   "source": [
    "b + b"
   ]
  },
  {
   "cell_type": "code",
   "execution_count": 9,
   "metadata": {},
   "outputs": [
    {
     "ename": "UndefVarError",
     "evalue": "UndefVarError: concat not defined",
     "output_type": "error",
     "traceback": [
      "UndefVarError: concat not defined",
      "",
      "Stacktrace:",
      " [1] top-level scope at In[9]:1"
     ]
    }
   ],
   "source": [
    "concat(b, b)"
   ]
  },
  {
   "cell_type": "code",
   "execution_count": 10,
   "metadata": {},
   "outputs": [
    {
     "ename": "UndefVarError",
     "evalue": "UndefVarError: concatenate not defined",
     "output_type": "error",
     "traceback": [
      "UndefVarError: concatenate not defined",
      "",
      "Stacktrace:",
      " [1] top-level scope at In[10]:1"
     ]
    }
   ],
   "source": [
    "concatenate(b, b)"
   ]
  },
  {
   "cell_type": "markdown",
   "metadata": {},
   "source": [
    "Not as cool as Python, it seems."
   ]
  },
  {
   "cell_type": "markdown",
   "metadata": {},
   "source": [
    "As usual, StackOverflow has the answer. It's like the LEGO of tutorials. Why isn't that a thing yet? A tutorial simply as a lists of stackoverflow posts.\n",
    "\n",
    "https://stackoverflow.com/questions/27827249/julia-concatenate-string-and-integer"
   ]
  },
  {
   "cell_type": "code",
   "execution_count": 11,
   "metadata": {},
   "outputs": [
    {
     "data": {
      "text/plain": [
       "\"Hello worldHello world\""
      ]
     },
     "execution_count": 11,
     "metadata": {},
     "output_type": "execute_result"
    }
   ],
   "source": [
    "string(b, b)"
   ]
  },
  {
   "cell_type": "markdown",
   "metadata": {},
   "source": [
    "By the way, this reminds me: f-strings go home, Julia is like PHP with the added benefit of not being PHP. Remember we defined that `a=42` variable way back when?"
   ]
  },
  {
   "cell_type": "code",
   "execution_count": 12,
   "metadata": {},
   "outputs": [
    {
     "name": "stdout",
     "output_type": "stream",
     "text": [
      "The answer is 42"
     ]
    }
   ],
   "source": [
    "print(\"The answer is $a\")"
   ]
  },
  {
   "cell_type": "markdown",
   "metadata": {},
   "source": [
    "One last thing: do some looping etc."
   ]
  },
  {
   "cell_type": "code",
   "execution_count": 13,
   "metadata": {},
   "outputs": [
    {
     "name": "stdout",
     "output_type": "stream",
     "text": [
      "1\n",
      "2\n",
      "3\n",
      "4\n",
      "5\n",
      "6\n",
      "7\n",
      "8\n",
      "9\n",
      "10\n"
     ]
    }
   ],
   "source": [
    "for a in 1:10\n",
    "    print(a, \"\\n\")\n",
    "end"
   ]
  },
  {
   "cell_type": "markdown",
   "metadata": {},
   "source": [
    "So like python but with `end` and not colon, and range definitions are stolen from R (which is stolen from S which is... whatevz).\n",
    "\n",
    "\n",
    "Also, `str` is too short, but `string` lets you convert to... string!"
   ]
  },
  {
   "cell_type": "code",
   "execution_count": 14,
   "metadata": {},
   "outputs": [
    {
     "data": {
      "text/plain": [
       "\"1\""
      ]
     },
     "execution_count": 14,
     "metadata": {},
     "output_type": "execute_result"
    }
   ],
   "source": [
    "string(1)"
   ]
  },
  {
   "cell_type": "markdown",
   "metadata": {},
   "source": [
    "These oneliner function definitions are so cute I have completely forgotten how to write a more elaborate function."
   ]
  },
  {
   "cell_type": "code",
   "execution_count": 15,
   "metadata": {},
   "outputs": [
    {
     "data": {
      "text/plain": [
       "hello (generic function with 1 method)"
      ]
     },
     "execution_count": 15,
     "metadata": {},
     "output_type": "execute_result"
    }
   ],
   "source": [
    "hello(world) = println(\"Hello $world\")"
   ]
  },
  {
   "cell_type": "code",
   "execution_count": 16,
   "metadata": {},
   "outputs": [
    {
     "name": "stdout",
     "output_type": "stream",
     "text": [
      "Hello it's nice to meet you\n"
     ]
    }
   ],
   "source": [
    "hello(\"it's nice to meet you\")"
   ]
  },
  {
   "cell_type": "markdown",
   "metadata": {},
   "source": [
    "I think this is how:"
   ]
  },
  {
   "cell_type": "code",
   "execution_count": 17,
   "metadata": {},
   "outputs": [
    {
     "data": {
      "text/plain": [
       "whatsup (generic function with 1 method)"
      ]
     },
     "execution_count": 17,
     "metadata": {},
     "output_type": "execute_result"
    }
   ],
   "source": [
    "function whatsup(world)\n",
    "    println(\"Wussup $world\")\n",
    "end"
   ]
  },
  {
   "cell_type": "code",
   "execution_count": 18,
   "metadata": {},
   "outputs": [
    {
     "name": "stdout",
     "output_type": "stream",
     "text": [
      "Wussup y'all\n"
     ]
    }
   ],
   "source": [
    "whatsup(\"y'all\")"
   ]
  },
  {
   "cell_type": "markdown",
   "metadata": {},
   "source": [
    "Lastly, we know these languages love maths, and matrices are built in like in R:"
   ]
  },
  {
   "cell_type": "code",
   "execution_count": 19,
   "metadata": {},
   "outputs": [
    {
     "data": {
      "text/plain": [
       "3×3 Array{Float64,2}:\n",
       " 0.0529247  0.420332   0.7378\n",
       " 0.966911   0.0478151  0.936109\n",
       " 0.491221   0.904562   0.678658"
      ]
     },
     "execution_count": 19,
     "metadata": {},
     "output_type": "execute_result"
    }
   ],
   "source": [
    "m = rand(3, 3)"
   ]
  },
  {
   "cell_type": "code",
   "execution_count": 20,
   "metadata": {},
   "outputs": [
    {
     "data": {
      "text/plain": [
       "3×3 Array{Float64,2}:\n",
       " 0.771648  0.70973   0.933239\n",
       " 0.557243  1.25548   1.39344\n",
       " 1.234     0.863616  1.66977"
      ]
     },
     "execution_count": 20,
     "metadata": {},
     "output_type": "execute_result"
    }
   ],
   "source": [
    "m*m"
   ]
  },
  {
   "cell_type": "code",
   "execution_count": 21,
   "metadata": {},
   "outputs": [
    {
     "data": {
      "text/plain": [
       "3×3 Array{Float64,2}:\n",
       " 1.17902   0.512819  1.27755\n",
       " 0.512819  0.997197  0.968769\n",
       " 1.27755   0.968769  1.88123"
      ]
     },
     "execution_count": 21,
     "metadata": {},
     "output_type": "execute_result"
    }
   ],
   "source": [
    "m'*m"
   ]
  },
  {
   "cell_type": "markdown",
   "metadata": {},
   "source": [
    "The transpose (using `'`) is pretty funny. Actually, Julia is also in love with unicode, and can do a lot of strange stuff:"
   ]
  },
  {
   "cell_type": "code",
   "execution_count": 22,
   "metadata": {},
   "outputs": [
    {
     "name": "stdout",
     "output_type": "stream",
     "text": [
      "1\n",
      "2\n",
      "3\n"
     ]
    }
   ],
   "source": [
    "for a ∈ 1:3\n",
    "    println(a)\n",
    "end"
   ]
  },
  {
   "cell_type": "code",
   "execution_count": 23,
   "metadata": {},
   "outputs": [
    {
     "data": {
      "text/plain": [
       "\"coolio\""
      ]
     },
     "execution_count": 23,
     "metadata": {},
     "output_type": "execute_result"
    }
   ],
   "source": [
    "😎 = \"coolio\""
   ]
  },
  {
   "cell_type": "code",
   "execution_count": 24,
   "metadata": {},
   "outputs": [
    {
     "name": "stdout",
     "output_type": "stream",
     "text": [
      "coolio"
     ]
    }
   ],
   "source": [
    "print(😎)"
   ]
  },
  {
   "cell_type": "markdown",
   "metadata": {},
   "source": [
    "The ∈ sign appears when you type `\\in`, so basically brush up on your latex and you are once again the cool kid on the block."
   ]
  }
 ],
 "metadata": {
  "kernelspec": {
   "display_name": "Julia 1.4.1",
   "language": "julia",
   "name": "julia-1.4"
  },
  "language_info": {
   "file_extension": ".jl",
   "mimetype": "application/julia",
   "name": "julia",
   "version": "1.4.1"
  }
 },
 "nbformat": 4,
 "nbformat_minor": 4
}
