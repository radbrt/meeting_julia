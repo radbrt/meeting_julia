{
 "cells": [
  {
   "cell_type": "markdown",
   "metadata": {},
   "source": [
    "# Learning Dataframes\n",
    "\n",
    "This is me, thinking out loud, after/while watching a few Julia videos.\n",
    "\n",
    "Julia looks a lot like Python. In fact, there might be a competition somewhere about who can write the longest program executable in both languages. Nah, a few colons and details might give it away though."
   ]
  },
  {
   "cell_type": "markdown",
   "metadata": {},
   "source": [
    "Importing packages, we already talked about this, no reason to get all excited about it."
   ]
  },
  {
   "cell_type": "code",
   "execution_count": 2,
   "metadata": {},
   "outputs": [],
   "source": [
    "using Plots, DataFrames, CSV, Statistics, Pipe"
   ]
  },
  {
   "cell_type": "markdown",
   "metadata": {},
   "source": [
    "We have a small file named `Batch_4154922_batch_results.csv` which is the output of an MTurk job, queued up for this. The CSV library looks to be the industry standard for reading CSVs. That kinda makes sense, when you think about it."
   ]
  },
  {
   "cell_type": "markdown",
   "metadata": {},
   "source": [
    "Also: Look at the cool pipe. `df` gets its dataframe content by piping (the weird `|>` symbol) the CSV File into the DataFrame function."
   ]
  },
  {
   "cell_type": "code",
   "execution_count": 3,
   "metadata": {},
   "outputs": [
    {
     "data": {
      "text/html": [
       "<table class=\"data-frame\"><thead><tr><th></th><th>HITId</th><th>HITTypeId</th><th>Title</th></tr><tr><th></th><th>String</th><th>String</th><th>String</th></tr></thead><tbody><p>1,760 rows × 31 columns (omitted printing of 28 columns)</p><tr><th>1</th><td>301KG0KX9BKTP2L7XD15P8Y69GP2HK</td><td>36ENCJ709J8WC06EPA4JOHGF537KEH</td><td>Is this a tech job?</td></tr><tr><th>2</th><td>301KG0KX9BKTP2L7XD15P8Y69GP2HK</td><td>36ENCJ709J8WC06EPA4JOHGF537KEH</td><td>Is this a tech job?</td></tr><tr><th>3</th><td>301KG0KX9BKTP2L7XD15P8Y69GP2HK</td><td>36ENCJ709J8WC06EPA4JOHGF537KEH</td><td>Is this a tech job?</td></tr><tr><th>4</th><td>301KG0KX9BKTP2L7XD15P8Y69GP2HK</td><td>36ENCJ709J8WC06EPA4JOHGF537KEH</td><td>Is this a tech job?</td></tr><tr><th>5</th><td>301KG0KX9BKTP2L7XD15P8Y69GP2HK</td><td>36ENCJ709J8WC06EPA4JOHGF537KEH</td><td>Is this a tech job?</td></tr><tr><th>6</th><td>301KG0KX9BKTP2L7XD15P8Y69GP2HK</td><td>36ENCJ709J8WC06EPA4JOHGF537KEH</td><td>Is this a tech job?</td></tr><tr><th>7</th><td>301KG0KX9BKTP2L7XD15P8Y69GP2HK</td><td>36ENCJ709J8WC06EPA4JOHGF537KEH</td><td>Is this a tech job?</td></tr><tr><th>8</th><td>301KG0KX9BKTP2L7XD15P8Y69GP2HK</td><td>36ENCJ709J8WC06EPA4JOHGF537KEH</td><td>Is this a tech job?</td></tr><tr><th>9</th><td>301KG0KX9BKTP2L7XD15P8Y69GP2HK</td><td>36ENCJ709J8WC06EPA4JOHGF537KEH</td><td>Is this a tech job?</td></tr><tr><th>10</th><td>301KG0KX9BKTP2L7XD15P8Y69GP2HK</td><td>36ENCJ709J8WC06EPA4JOHGF537KEH</td><td>Is this a tech job?</td></tr><tr><th>11</th><td>302OLP89DY6RDX5VO0GJKZKO8CCACQ</td><td>36ENCJ709J8WC06EPA4JOHGF537KEH</td><td>Is this a tech job?</td></tr><tr><th>12</th><td>302OLP89DY6RDX5VO0GJKZKO8CCACQ</td><td>36ENCJ709J8WC06EPA4JOHGF537KEH</td><td>Is this a tech job?</td></tr><tr><th>13</th><td>302OLP89DY6RDX5VO0GJKZKO8CCACQ</td><td>36ENCJ709J8WC06EPA4JOHGF537KEH</td><td>Is this a tech job?</td></tr><tr><th>14</th><td>302OLP89DY6RDX5VO0GJKZKO8CCACQ</td><td>36ENCJ709J8WC06EPA4JOHGF537KEH</td><td>Is this a tech job?</td></tr><tr><th>15</th><td>302OLP89DY6RDX5VO0GJKZKO8CCACQ</td><td>36ENCJ709J8WC06EPA4JOHGF537KEH</td><td>Is this a tech job?</td></tr><tr><th>16</th><td>302OLP89DY6RDX5VO0GJKZKO8CCACQ</td><td>36ENCJ709J8WC06EPA4JOHGF537KEH</td><td>Is this a tech job?</td></tr><tr><th>17</th><td>302OLP89DY6RDX5VO0GJKZKO8CCACQ</td><td>36ENCJ709J8WC06EPA4JOHGF537KEH</td><td>Is this a tech job?</td></tr><tr><th>18</th><td>302OLP89DY6RDX5VO0GJKZKO8CCACQ</td><td>36ENCJ709J8WC06EPA4JOHGF537KEH</td><td>Is this a tech job?</td></tr><tr><th>19</th><td>302OLP89DY6RDX5VO0GJKZKO8CCACQ</td><td>36ENCJ709J8WC06EPA4JOHGF537KEH</td><td>Is this a tech job?</td></tr><tr><th>20</th><td>302OLP89DY6RDX5VO0GJKZKO8CCACQ</td><td>36ENCJ709J8WC06EPA4JOHGF537KEH</td><td>Is this a tech job?</td></tr><tr><th>21</th><td>302OLP89DY6RDX5VO0GJKZKO8CCCAS</td><td>36ENCJ709J8WC06EPA4JOHGF537KEH</td><td>Is this a tech job?</td></tr><tr><th>22</th><td>302OLP89DY6RDX5VO0GJKZKO8CCCAS</td><td>36ENCJ709J8WC06EPA4JOHGF537KEH</td><td>Is this a tech job?</td></tr><tr><th>23</th><td>302OLP89DY6RDX5VO0GJKZKO8CCCAS</td><td>36ENCJ709J8WC06EPA4JOHGF537KEH</td><td>Is this a tech job?</td></tr><tr><th>24</th><td>302OLP89DY6RDX5VO0GJKZKO8CCCAS</td><td>36ENCJ709J8WC06EPA4JOHGF537KEH</td><td>Is this a tech job?</td></tr><tr><th>25</th><td>302OLP89DY6RDX5VO0GJKZKO8CCCAS</td><td>36ENCJ709J8WC06EPA4JOHGF537KEH</td><td>Is this a tech job?</td></tr><tr><th>26</th><td>302OLP89DY6RDX5VO0GJKZKO8CCCAS</td><td>36ENCJ709J8WC06EPA4JOHGF537KEH</td><td>Is this a tech job?</td></tr><tr><th>27</th><td>302OLP89DY6RDX5VO0GJKZKO8CCCAS</td><td>36ENCJ709J8WC06EPA4JOHGF537KEH</td><td>Is this a tech job?</td></tr><tr><th>28</th><td>302OLP89DY6RDX5VO0GJKZKO8CCCAS</td><td>36ENCJ709J8WC06EPA4JOHGF537KEH</td><td>Is this a tech job?</td></tr><tr><th>29</th><td>302OLP89DY6RDX5VO0GJKZKO8CCCAS</td><td>36ENCJ709J8WC06EPA4JOHGF537KEH</td><td>Is this a tech job?</td></tr><tr><th>30</th><td>302OLP89DY6RDX5VO0GJKZKO8CCCAS</td><td>36ENCJ709J8WC06EPA4JOHGF537KEH</td><td>Is this a tech job?</td></tr><tr><th>&vellip;</th><td>&vellip;</td><td>&vellip;</td><td>&vellip;</td></tr></tbody></table>"
      ],
      "text/latex": [
       "\\begin{tabular}{r|cccc}\n",
       "\t& HITId & HITTypeId & Title & \\\\\n",
       "\t\\hline\n",
       "\t& String & String & String & \\\\\n",
       "\t\\hline\n",
       "\t1 & 301KG0KX9BKTP2L7XD15P8Y69GP2HK & 36ENCJ709J8WC06EPA4JOHGF537KEH & Is this a tech job? & $\\dots$ \\\\\n",
       "\t2 & 301KG0KX9BKTP2L7XD15P8Y69GP2HK & 36ENCJ709J8WC06EPA4JOHGF537KEH & Is this a tech job? & $\\dots$ \\\\\n",
       "\t3 & 301KG0KX9BKTP2L7XD15P8Y69GP2HK & 36ENCJ709J8WC06EPA4JOHGF537KEH & Is this a tech job? & $\\dots$ \\\\\n",
       "\t4 & 301KG0KX9BKTP2L7XD15P8Y69GP2HK & 36ENCJ709J8WC06EPA4JOHGF537KEH & Is this a tech job? & $\\dots$ \\\\\n",
       "\t5 & 301KG0KX9BKTP2L7XD15P8Y69GP2HK & 36ENCJ709J8WC06EPA4JOHGF537KEH & Is this a tech job? & $\\dots$ \\\\\n",
       "\t6 & 301KG0KX9BKTP2L7XD15P8Y69GP2HK & 36ENCJ709J8WC06EPA4JOHGF537KEH & Is this a tech job? & $\\dots$ \\\\\n",
       "\t7 & 301KG0KX9BKTP2L7XD15P8Y69GP2HK & 36ENCJ709J8WC06EPA4JOHGF537KEH & Is this a tech job? & $\\dots$ \\\\\n",
       "\t8 & 301KG0KX9BKTP2L7XD15P8Y69GP2HK & 36ENCJ709J8WC06EPA4JOHGF537KEH & Is this a tech job? & $\\dots$ \\\\\n",
       "\t9 & 301KG0KX9BKTP2L7XD15P8Y69GP2HK & 36ENCJ709J8WC06EPA4JOHGF537KEH & Is this a tech job? & $\\dots$ \\\\\n",
       "\t10 & 301KG0KX9BKTP2L7XD15P8Y69GP2HK & 36ENCJ709J8WC06EPA4JOHGF537KEH & Is this a tech job? & $\\dots$ \\\\\n",
       "\t11 & 302OLP89DY6RDX5VO0GJKZKO8CCACQ & 36ENCJ709J8WC06EPA4JOHGF537KEH & Is this a tech job? & $\\dots$ \\\\\n",
       "\t12 & 302OLP89DY6RDX5VO0GJKZKO8CCACQ & 36ENCJ709J8WC06EPA4JOHGF537KEH & Is this a tech job? & $\\dots$ \\\\\n",
       "\t13 & 302OLP89DY6RDX5VO0GJKZKO8CCACQ & 36ENCJ709J8WC06EPA4JOHGF537KEH & Is this a tech job? & $\\dots$ \\\\\n",
       "\t14 & 302OLP89DY6RDX5VO0GJKZKO8CCACQ & 36ENCJ709J8WC06EPA4JOHGF537KEH & Is this a tech job? & $\\dots$ \\\\\n",
       "\t15 & 302OLP89DY6RDX5VO0GJKZKO8CCACQ & 36ENCJ709J8WC06EPA4JOHGF537KEH & Is this a tech job? & $\\dots$ \\\\\n",
       "\t16 & 302OLP89DY6RDX5VO0GJKZKO8CCACQ & 36ENCJ709J8WC06EPA4JOHGF537KEH & Is this a tech job? & $\\dots$ \\\\\n",
       "\t17 & 302OLP89DY6RDX5VO0GJKZKO8CCACQ & 36ENCJ709J8WC06EPA4JOHGF537KEH & Is this a tech job? & $\\dots$ \\\\\n",
       "\t18 & 302OLP89DY6RDX5VO0GJKZKO8CCACQ & 36ENCJ709J8WC06EPA4JOHGF537KEH & Is this a tech job? & $\\dots$ \\\\\n",
       "\t19 & 302OLP89DY6RDX5VO0GJKZKO8CCACQ & 36ENCJ709J8WC06EPA4JOHGF537KEH & Is this a tech job? & $\\dots$ \\\\\n",
       "\t20 & 302OLP89DY6RDX5VO0GJKZKO8CCACQ & 36ENCJ709J8WC06EPA4JOHGF537KEH & Is this a tech job? & $\\dots$ \\\\\n",
       "\t21 & 302OLP89DY6RDX5VO0GJKZKO8CCCAS & 36ENCJ709J8WC06EPA4JOHGF537KEH & Is this a tech job? & $\\dots$ \\\\\n",
       "\t22 & 302OLP89DY6RDX5VO0GJKZKO8CCCAS & 36ENCJ709J8WC06EPA4JOHGF537KEH & Is this a tech job? & $\\dots$ \\\\\n",
       "\t23 & 302OLP89DY6RDX5VO0GJKZKO8CCCAS & 36ENCJ709J8WC06EPA4JOHGF537KEH & Is this a tech job? & $\\dots$ \\\\\n",
       "\t24 & 302OLP89DY6RDX5VO0GJKZKO8CCCAS & 36ENCJ709J8WC06EPA4JOHGF537KEH & Is this a tech job? & $\\dots$ \\\\\n",
       "\t25 & 302OLP89DY6RDX5VO0GJKZKO8CCCAS & 36ENCJ709J8WC06EPA4JOHGF537KEH & Is this a tech job? & $\\dots$ \\\\\n",
       "\t26 & 302OLP89DY6RDX5VO0GJKZKO8CCCAS & 36ENCJ709J8WC06EPA4JOHGF537KEH & Is this a tech job? & $\\dots$ \\\\\n",
       "\t27 & 302OLP89DY6RDX5VO0GJKZKO8CCCAS & 36ENCJ709J8WC06EPA4JOHGF537KEH & Is this a tech job? & $\\dots$ \\\\\n",
       "\t28 & 302OLP89DY6RDX5VO0GJKZKO8CCCAS & 36ENCJ709J8WC06EPA4JOHGF537KEH & Is this a tech job? & $\\dots$ \\\\\n",
       "\t29 & 302OLP89DY6RDX5VO0GJKZKO8CCCAS & 36ENCJ709J8WC06EPA4JOHGF537KEH & Is this a tech job? & $\\dots$ \\\\\n",
       "\t30 & 302OLP89DY6RDX5VO0GJKZKO8CCCAS & 36ENCJ709J8WC06EPA4JOHGF537KEH & Is this a tech job? & $\\dots$ \\\\\n",
       "\t$\\dots$ & $\\dots$ & $\\dots$ & $\\dots$ &  \\\\\n",
       "\\end{tabular}\n"
      ],
      "text/plain": [
       "1760×31 DataFrame. Omitted printing of 29 columns\n",
       "│ Row  │ HITId                          │ HITTypeId                      │\n",
       "│      │ \u001b[90mString\u001b[39m                         │ \u001b[90mString\u001b[39m                         │\n",
       "├──────┼────────────────────────────────┼────────────────────────────────┤\n",
       "│ 1    │ 301KG0KX9BKTP2L7XD15P8Y69GP2HK │ 36ENCJ709J8WC06EPA4JOHGF537KEH │\n",
       "│ 2    │ 301KG0KX9BKTP2L7XD15P8Y69GP2HK │ 36ENCJ709J8WC06EPA4JOHGF537KEH │\n",
       "│ 3    │ 301KG0KX9BKTP2L7XD15P8Y69GP2HK │ 36ENCJ709J8WC06EPA4JOHGF537KEH │\n",
       "│ 4    │ 301KG0KX9BKTP2L7XD15P8Y69GP2HK │ 36ENCJ709J8WC06EPA4JOHGF537KEH │\n",
       "│ 5    │ 301KG0KX9BKTP2L7XD15P8Y69GP2HK │ 36ENCJ709J8WC06EPA4JOHGF537KEH │\n",
       "│ 6    │ 301KG0KX9BKTP2L7XD15P8Y69GP2HK │ 36ENCJ709J8WC06EPA4JOHGF537KEH │\n",
       "│ 7    │ 301KG0KX9BKTP2L7XD15P8Y69GP2HK │ 36ENCJ709J8WC06EPA4JOHGF537KEH │\n",
       "│ 8    │ 301KG0KX9BKTP2L7XD15P8Y69GP2HK │ 36ENCJ709J8WC06EPA4JOHGF537KEH │\n",
       "│ 9    │ 301KG0KX9BKTP2L7XD15P8Y69GP2HK │ 36ENCJ709J8WC06EPA4JOHGF537KEH │\n",
       "│ 10   │ 301KG0KX9BKTP2L7XD15P8Y69GP2HK │ 36ENCJ709J8WC06EPA4JOHGF537KEH │\n",
       "⋮\n",
       "│ 1750 │ 3ZXV7Q5FJANM9OM3ZG2BY0VF5SPCF5 │ 36ENCJ709J8WC06EPA4JOHGF537KEH │\n",
       "│ 1751 │ 3ZZAYRN1I5QX1I17K5GRA44XLFGOTM │ 36ENCJ709J8WC06EPA4JOHGF537KEH │\n",
       "│ 1752 │ 3ZZAYRN1I5QX1I17K5GRA44XLFGOTM │ 36ENCJ709J8WC06EPA4JOHGF537KEH │\n",
       "│ 1753 │ 3ZZAYRN1I5QX1I17K5GRA44XLFGOTM │ 36ENCJ709J8WC06EPA4JOHGF537KEH │\n",
       "│ 1754 │ 3ZZAYRN1I5QX1I17K5GRA44XLFGOTM │ 36ENCJ709J8WC06EPA4JOHGF537KEH │\n",
       "│ 1755 │ 3ZZAYRN1I5QX1I17K5GRA44XLFGOTM │ 36ENCJ709J8WC06EPA4JOHGF537KEH │\n",
       "│ 1756 │ 3ZZAYRN1I5QX1I17K5GRA44XLFGOTM │ 36ENCJ709J8WC06EPA4JOHGF537KEH │\n",
       "│ 1757 │ 3ZZAYRN1I5QX1I17K5GRA44XLFGOTM │ 36ENCJ709J8WC06EPA4JOHGF537KEH │\n",
       "│ 1758 │ 3ZZAYRN1I5QX1I17K5GRA44XLFGOTM │ 36ENCJ709J8WC06EPA4JOHGF537KEH │\n",
       "│ 1759 │ 3ZZAYRN1I5QX1I17K5GRA44XLFGOTM │ 36ENCJ709J8WC06EPA4JOHGF537KEH │\n",
       "│ 1760 │ 3ZZAYRN1I5QX1I17K5GRA44XLFGOTM │ 36ENCJ709J8WC06EPA4JOHGF537KEH │"
      ]
     },
     "execution_count": 3,
     "metadata": {},
     "output_type": "execute_result"
    }
   ],
   "source": [
    "df = CSV.File(\"Batch_4154922_batch_results.csv\", silencewarnings=true) |> DataFrame"
   ]
  },
  {
   "cell_type": "markdown",
   "metadata": {},
   "source": [
    "Some warnings there so we had to use `silencewarnings=true` to not get 1760 warnings printed. We don't want that. But let's worry about those later. So far, it looks like we have a dataframe. There is a `head` function but it told me it was deprecated and that I should use `first` instead."
   ]
  },
  {
   "cell_type": "code",
   "execution_count": 4,
   "metadata": {},
   "outputs": [
    {
     "data": {
      "text/html": [
       "<table class=\"data-frame\"><thead><tr><th></th><th>HITId</th><th>HITTypeId</th><th>Title</th></tr><tr><th></th><th>String</th><th>String</th><th>String</th></tr></thead><tbody><p>5 rows × 31 columns (omitted printing of 28 columns)</p><tr><th>1</th><td>301KG0KX9BKTP2L7XD15P8Y69GP2HK</td><td>36ENCJ709J8WC06EPA4JOHGF537KEH</td><td>Is this a tech job?</td></tr><tr><th>2</th><td>301KG0KX9BKTP2L7XD15P8Y69GP2HK</td><td>36ENCJ709J8WC06EPA4JOHGF537KEH</td><td>Is this a tech job?</td></tr><tr><th>3</th><td>301KG0KX9BKTP2L7XD15P8Y69GP2HK</td><td>36ENCJ709J8WC06EPA4JOHGF537KEH</td><td>Is this a tech job?</td></tr><tr><th>4</th><td>301KG0KX9BKTP2L7XD15P8Y69GP2HK</td><td>36ENCJ709J8WC06EPA4JOHGF537KEH</td><td>Is this a tech job?</td></tr><tr><th>5</th><td>301KG0KX9BKTP2L7XD15P8Y69GP2HK</td><td>36ENCJ709J8WC06EPA4JOHGF537KEH</td><td>Is this a tech job?</td></tr></tbody></table>"
      ],
      "text/latex": [
       "\\begin{tabular}{r|cccc}\n",
       "\t& HITId & HITTypeId & Title & \\\\\n",
       "\t\\hline\n",
       "\t& String & String & String & \\\\\n",
       "\t\\hline\n",
       "\t1 & 301KG0KX9BKTP2L7XD15P8Y69GP2HK & 36ENCJ709J8WC06EPA4JOHGF537KEH & Is this a tech job? & $\\dots$ \\\\\n",
       "\t2 & 301KG0KX9BKTP2L7XD15P8Y69GP2HK & 36ENCJ709J8WC06EPA4JOHGF537KEH & Is this a tech job? & $\\dots$ \\\\\n",
       "\t3 & 301KG0KX9BKTP2L7XD15P8Y69GP2HK & 36ENCJ709J8WC06EPA4JOHGF537KEH & Is this a tech job? & $\\dots$ \\\\\n",
       "\t4 & 301KG0KX9BKTP2L7XD15P8Y69GP2HK & 36ENCJ709J8WC06EPA4JOHGF537KEH & Is this a tech job? & $\\dots$ \\\\\n",
       "\t5 & 301KG0KX9BKTP2L7XD15P8Y69GP2HK & 36ENCJ709J8WC06EPA4JOHGF537KEH & Is this a tech job? & $\\dots$ \\\\\n",
       "\\end{tabular}\n"
      ],
      "text/plain": [
       "5×31 DataFrame. Omitted printing of 29 columns\n",
       "│ Row │ HITId                          │ HITTypeId                      │\n",
       "│     │ \u001b[90mString\u001b[39m                         │ \u001b[90mString\u001b[39m                         │\n",
       "├─────┼────────────────────────────────┼────────────────────────────────┤\n",
       "│ 1   │ 301KG0KX9BKTP2L7XD15P8Y69GP2HK │ 36ENCJ709J8WC06EPA4JOHGF537KEH │\n",
       "│ 2   │ 301KG0KX9BKTP2L7XD15P8Y69GP2HK │ 36ENCJ709J8WC06EPA4JOHGF537KEH │\n",
       "│ 3   │ 301KG0KX9BKTP2L7XD15P8Y69GP2HK │ 36ENCJ709J8WC06EPA4JOHGF537KEH │\n",
       "│ 4   │ 301KG0KX9BKTP2L7XD15P8Y69GP2HK │ 36ENCJ709J8WC06EPA4JOHGF537KEH │\n",
       "│ 5   │ 301KG0KX9BKTP2L7XD15P8Y69GP2HK │ 36ENCJ709J8WC06EPA4JOHGF537KEH │"
      ]
     },
     "execution_count": 4,
     "metadata": {},
     "output_type": "execute_result"
    }
   ],
   "source": [
    "first(df, 5)"
   ]
  },
  {
   "cell_type": "markdown",
   "metadata": {},
   "source": [
    "Somehow this uses only the first three columns and there doesn't seem to be a way to get more columns.\n",
    "\n",
    "Also, I learned you could do this:"
   ]
  },
  {
   "cell_type": "code",
   "execution_count": 5,
   "metadata": {},
   "outputs": [
    {
     "name": "stdout",
     "output_type": "stream",
     "text": [
      "search: \u001b[0m\u001b[1mf\u001b[22m\u001b[0m\u001b[1mi\u001b[22m\u001b[0m\u001b[1mr\u001b[22m\u001b[0m\u001b[1ms\u001b[22m\u001b[0m\u001b[1mt\u001b[22m \u001b[0m\u001b[1mf\u001b[22m\u001b[0m\u001b[1mi\u001b[22m\u001b[0m\u001b[1mr\u001b[22m\u001b[0m\u001b[1ms\u001b[22m\u001b[0m\u001b[1mt\u001b[22mindex pop\u001b[0m\u001b[1mf\u001b[22m\u001b[0m\u001b[1mi\u001b[22m\u001b[0m\u001b[1mr\u001b[22m\u001b[0m\u001b[1ms\u001b[22m\u001b[0m\u001b[1mt\u001b[22m! push\u001b[0m\u001b[1mf\u001b[22m\u001b[0m\u001b[1mi\u001b[22m\u001b[0m\u001b[1mr\u001b[22m\u001b[0m\u001b[1ms\u001b[22m\u001b[0m\u001b[1mt\u001b[22m! uppercase\u001b[0m\u001b[1mf\u001b[22m\u001b[0m\u001b[1mi\u001b[22m\u001b[0m\u001b[1mr\u001b[22m\u001b[0m\u001b[1ms\u001b[22m\u001b[0m\u001b[1mt\u001b[22m lowercase\u001b[0m\u001b[1mf\u001b[22m\u001b[0m\u001b[1mi\u001b[22m\u001b[0m\u001b[1mr\u001b[22m\u001b[0m\u001b[1ms\u001b[22m\u001b[0m\u001b[1mt\u001b[22m\n",
      "\n"
     ]
    },
    {
     "data": {
      "text/latex": [
       "\\begin{verbatim}\n",
       "first(coll)\n",
       "\\end{verbatim}\n",
       "Get the first element of an iterable collection. Return the start point of an \\href{@ref}{\\texttt{AbstractRange}} even if it is empty.\n",
       "\n",
       "\\section{Examples}\n",
       "\\begin{verbatim}\n",
       "julia> first(2:2:10)\n",
       "2\n",
       "\n",
       "julia> first([1; 2; 3; 4])\n",
       "1\n",
       "\\end{verbatim}\n",
       "\\rule{\\textwidth}{1pt}\n",
       "\\begin{verbatim}\n",
       "first(s::AbstractString, n::Integer)\n",
       "\\end{verbatim}\n",
       "Get a string consisting of the first \\texttt{n} characters of \\texttt{s}.\n",
       "\n",
       "\\begin{verbatim}\n",
       "julia> first(\"∀ϵ≠0: ϵ²>0\", 0)\n",
       "\"\"\n",
       "\n",
       "julia> first(\"∀ϵ≠0: ϵ²>0\", 1)\n",
       "\"∀\"\n",
       "\n",
       "julia> first(\"∀ϵ≠0: ϵ²>0\", 3)\n",
       "\"∀ϵ≠\"\n",
       "\\end{verbatim}\n",
       "\\rule{\\textwidth}{1pt}\n",
       "\\begin{verbatim}\n",
       "first(q::Deque)\n",
       "\\end{verbatim}\n",
       "Returns the first element of the deque \\texttt{q}.\n",
       "\n",
       "\\rule{\\textwidth}{1pt}\n",
       "\\begin{verbatim}\n",
       "first(D::CircularDeque)\n",
       "\\end{verbatim}\n",
       "Get the item at the front of the queue.\n",
       "\n",
       "\\rule{\\textwidth}{1pt}\n",
       "\\begin{verbatim}\n",
       "first(s::Stack)\n",
       "\\end{verbatim}\n",
       "Get the top item from the stack. Sometimes called peek.\n",
       "\n",
       "\\rule{\\textwidth}{1pt}\n",
       "\\begin{verbatim}\n",
       "first(h::BinaryHeap)\n",
       "\\end{verbatim}\n",
       "Returns the element at the top of the heap \\texttt{h}.\n",
       "\n",
       "\\rule{\\textwidth}{1pt}\n",
       "\\begin{verbatim}\n",
       "first(h::BinaryMinMaxHeap)\n",
       "\\end{verbatim}\n",
       "Get the first (minimum) of the heap.\n",
       "\n",
       "\\rule{\\textwidth}{1pt}\n",
       "\\begin{verbatim}\n",
       "first(sc)\n",
       "\\end{verbatim}\n",
       "Argument \\texttt{sc} is a SortedDict, SortedMultiDict or SortedSet. This function returns the first item (a \\texttt{k=>v} pair for SortedDict and SortedMultiDict or a key for SortedSet) according to the sorted order in the container. Thus, \\texttt{first(sc)} is equivalent to \\texttt{deref((sc,startof(sc)))}. It is an error to call this function on an empty container. Time: O(log \\emph{n})\n",
       "\n",
       "\\rule{\\textwidth}{1pt}\n",
       "\\begin{verbatim}\n",
       "first(sc)\n",
       "\\end{verbatim}\n",
       "Argument \\texttt{sc} is a SortedDict, SortedMultiDict or SortedSet. This function returns the first item (a \\texttt{k=>v} pair for SortedDict and SortedMultiDict or a key for SortedSet) according to the sorted order in the container. Thus, \\texttt{first(sc)} is equivalent to \\texttt{deref((sc,startof(sc)))}. It is an error to call this function on an empty container. Time: O(log \\emph{n})\n",
       "\n",
       "\\rule{\\textwidth}{1pt}\n",
       "\\begin{verbatim}\n",
       "first(sc)\n",
       "\\end{verbatim}\n",
       "Argument \\texttt{sc} is a SortedDict, SortedMultiDict or SortedSet. This function returns the first item (a \\texttt{k=>v} pair for SortedDict and SortedMultiDict or a key for SortedSet) according to the sorted order in the container. Thus, \\texttt{first(sc)} is equivalent to \\texttt{deref((sc,startof(sc)))}. It is an error to call this function on an empty container. Time: O(log \\emph{n})\n",
       "\n",
       "\\rule{\\textwidth}{1pt}\n",
       "\\begin{verbatim}\n",
       "first(cb::CircularBuffer)\n",
       "\\end{verbatim}\n",
       "Get the first element of CircularBuffer.\n",
       "\n",
       "\\rule{\\textwidth}{1pt}\n",
       "\\begin{verbatim}\n",
       "first(df::AbstractDataFrame)\n",
       "\\end{verbatim}\n",
       "Get the first row of \\texttt{df} as a \\texttt{DataFrameRow}.\n",
       "\n",
       "\\rule{\\textwidth}{1pt}\n",
       "\\begin{verbatim}\n",
       "first(df::AbstractDataFrame, n::Integer)\n",
       "\\end{verbatim}\n",
       "Get a data frame with the \\texttt{n} first rows of \\texttt{df}.\n",
       "\n"
      ],
      "text/markdown": [
       "```\n",
       "first(coll)\n",
       "```\n",
       "\n",
       "Get the first element of an iterable collection. Return the start point of an [`AbstractRange`](@ref) even if it is empty.\n",
       "\n",
       "# Examples\n",
       "\n",
       "```jldoctest\n",
       "julia> first(2:2:10)\n",
       "2\n",
       "\n",
       "julia> first([1; 2; 3; 4])\n",
       "1\n",
       "```\n",
       "\n",
       "---\n",
       "\n",
       "```\n",
       "first(s::AbstractString, n::Integer)\n",
       "```\n",
       "\n",
       "Get a string consisting of the first `n` characters of `s`.\n",
       "\n",
       "```jldoctest\n",
       "julia> first(\"∀ϵ≠0: ϵ²>0\", 0)\n",
       "\"\"\n",
       "\n",
       "julia> first(\"∀ϵ≠0: ϵ²>0\", 1)\n",
       "\"∀\"\n",
       "\n",
       "julia> first(\"∀ϵ≠0: ϵ²>0\", 3)\n",
       "\"∀ϵ≠\"\n",
       "```\n",
       "\n",
       "---\n",
       "\n",
       "```\n",
       "first(q::Deque)\n",
       "```\n",
       "\n",
       "Returns the first element of the deque `q`.\n",
       "\n",
       "---\n",
       "\n",
       "```\n",
       "first(D::CircularDeque)\n",
       "```\n",
       "\n",
       "Get the item at the front of the queue.\n",
       "\n",
       "---\n",
       "\n",
       "```\n",
       "first(s::Stack)\n",
       "```\n",
       "\n",
       "Get the top item from the stack. Sometimes called peek.\n",
       "\n",
       "---\n",
       "\n",
       "```\n",
       "first(h::BinaryHeap)\n",
       "```\n",
       "\n",
       "Returns the element at the top of the heap `h`.\n",
       "\n",
       "---\n",
       "\n",
       "```\n",
       "first(h::BinaryMinMaxHeap)\n",
       "```\n",
       "\n",
       "Get the first (minimum) of the heap.\n",
       "\n",
       "---\n",
       "\n",
       "```\n",
       "first(sc)\n",
       "```\n",
       "\n",
       "Argument `sc` is a SortedDict, SortedMultiDict or SortedSet. This function returns the first item (a `k=>v` pair for SortedDict and SortedMultiDict or a key for SortedSet) according to the sorted order in the container. Thus, `first(sc)` is equivalent to `deref((sc,startof(sc)))`. It is an error to call this function on an empty container. Time: O(log *n*)\n",
       "\n",
       "---\n",
       "\n",
       "```\n",
       "first(sc)\n",
       "```\n",
       "\n",
       "Argument `sc` is a SortedDict, SortedMultiDict or SortedSet. This function returns the first item (a `k=>v` pair for SortedDict and SortedMultiDict or a key for SortedSet) according to the sorted order in the container. Thus, `first(sc)` is equivalent to `deref((sc,startof(sc)))`. It is an error to call this function on an empty container. Time: O(log *n*)\n",
       "\n",
       "---\n",
       "\n",
       "```\n",
       "first(sc)\n",
       "```\n",
       "\n",
       "Argument `sc` is a SortedDict, SortedMultiDict or SortedSet. This function returns the first item (a `k=>v` pair for SortedDict and SortedMultiDict or a key for SortedSet) according to the sorted order in the container. Thus, `first(sc)` is equivalent to `deref((sc,startof(sc)))`. It is an error to call this function on an empty container. Time: O(log *n*)\n",
       "\n",
       "---\n",
       "\n",
       "```\n",
       "first(cb::CircularBuffer)\n",
       "```\n",
       "\n",
       "Get the first element of CircularBuffer.\n",
       "\n",
       "---\n",
       "\n",
       "```\n",
       "first(df::AbstractDataFrame)\n",
       "```\n",
       "\n",
       "Get the first row of `df` as a `DataFrameRow`.\n",
       "\n",
       "---\n",
       "\n",
       "```\n",
       "first(df::AbstractDataFrame, n::Integer)\n",
       "```\n",
       "\n",
       "Get a data frame with the `n` first rows of `df`.\n"
      ],
      "text/plain": [
       "\u001b[36m  first(coll)\u001b[39m\n",
       "\n",
       "  Get the first element of an iterable collection. Return the start point of\n",
       "  an \u001b[36mAbstractRange\u001b[39m even if it is empty.\n",
       "\n",
       "\u001b[1m  Examples\u001b[22m\n",
       "\u001b[1m  ≡≡≡≡≡≡≡≡≡≡\u001b[22m\n",
       "\n",
       "\u001b[36m  julia> first(2:2:10)\u001b[39m\n",
       "\u001b[36m  2\u001b[39m\n",
       "\u001b[36m  \u001b[39m\n",
       "\u001b[36m  julia> first([1; 2; 3; 4])\u001b[39m\n",
       "\u001b[36m  1\u001b[39m\n",
       "\n",
       "  ────────────────────────────────────────────────────────────────────────────\n",
       "\n",
       "\u001b[36m  first(s::AbstractString, n::Integer)\u001b[39m\n",
       "\n",
       "  Get a string consisting of the first \u001b[36mn\u001b[39m characters of \u001b[36ms\u001b[39m.\n",
       "\n",
       "\u001b[36m  julia> first(\"∀ϵ≠0: ϵ²>0\", 0)\u001b[39m\n",
       "\u001b[36m  \"\"\u001b[39m\n",
       "\u001b[36m  \u001b[39m\n",
       "\u001b[36m  julia> first(\"∀ϵ≠0: ϵ²>0\", 1)\u001b[39m\n",
       "\u001b[36m  \"∀\"\u001b[39m\n",
       "\u001b[36m  \u001b[39m\n",
       "\u001b[36m  julia> first(\"∀ϵ≠0: ϵ²>0\", 3)\u001b[39m\n",
       "\u001b[36m  \"∀ϵ≠\"\u001b[39m\n",
       "\n",
       "  ────────────────────────────────────────────────────────────────────────────\n",
       "\n",
       "\u001b[36m  first(q::Deque)\u001b[39m\n",
       "\n",
       "  Returns the first element of the deque \u001b[36mq\u001b[39m.\n",
       "\n",
       "  ────────────────────────────────────────────────────────────────────────────\n",
       "\n",
       "\u001b[36m  first(D::CircularDeque)\u001b[39m\n",
       "\n",
       "  Get the item at the front of the queue.\n",
       "\n",
       "  ────────────────────────────────────────────────────────────────────────────\n",
       "\n",
       "\u001b[36m  first(s::Stack)\u001b[39m\n",
       "\n",
       "  Get the top item from the stack. Sometimes called peek.\n",
       "\n",
       "  ────────────────────────────────────────────────────────────────────────────\n",
       "\n",
       "\u001b[36m  first(h::BinaryHeap)\u001b[39m\n",
       "\n",
       "  Returns the element at the top of the heap \u001b[36mh\u001b[39m.\n",
       "\n",
       "  ────────────────────────────────────────────────────────────────────────────\n",
       "\n",
       "\u001b[36m  first(h::BinaryMinMaxHeap)\u001b[39m\n",
       "\n",
       "  Get the first (minimum) of the heap.\n",
       "\n",
       "  ────────────────────────────────────────────────────────────────────────────\n",
       "\n",
       "\u001b[36m  first(sc)\u001b[39m\n",
       "\n",
       "  Argument \u001b[36msc\u001b[39m is a SortedDict, SortedMultiDict or SortedSet. This function\n",
       "  returns the first item (a \u001b[36mk=>v\u001b[39m pair for SortedDict and SortedMultiDict or a\n",
       "  key for SortedSet) according to the sorted order in the container. Thus,\n",
       "  \u001b[36mfirst(sc)\u001b[39m is equivalent to \u001b[36mderef((sc,startof(sc)))\u001b[39m. It is an error to call\n",
       "  this function on an empty container. Time: O(log \u001b[4mn\u001b[24m)\n",
       "\n",
       "  ────────────────────────────────────────────────────────────────────────────\n",
       "\n",
       "\u001b[36m  first(sc)\u001b[39m\n",
       "\n",
       "  Argument \u001b[36msc\u001b[39m is a SortedDict, SortedMultiDict or SortedSet. This function\n",
       "  returns the first item (a \u001b[36mk=>v\u001b[39m pair for SortedDict and SortedMultiDict or a\n",
       "  key for SortedSet) according to the sorted order in the container. Thus,\n",
       "  \u001b[36mfirst(sc)\u001b[39m is equivalent to \u001b[36mderef((sc,startof(sc)))\u001b[39m. It is an error to call\n",
       "  this function on an empty container. Time: O(log \u001b[4mn\u001b[24m)\n",
       "\n",
       "  ────────────────────────────────────────────────────────────────────────────\n",
       "\n",
       "\u001b[36m  first(sc)\u001b[39m\n",
       "\n",
       "  Argument \u001b[36msc\u001b[39m is a SortedDict, SortedMultiDict or SortedSet. This function\n",
       "  returns the first item (a \u001b[36mk=>v\u001b[39m pair for SortedDict and SortedMultiDict or a\n",
       "  key for SortedSet) according to the sorted order in the container. Thus,\n",
       "  \u001b[36mfirst(sc)\u001b[39m is equivalent to \u001b[36mderef((sc,startof(sc)))\u001b[39m. It is an error to call\n",
       "  this function on an empty container. Time: O(log \u001b[4mn\u001b[24m)\n",
       "\n",
       "  ────────────────────────────────────────────────────────────────────────────\n",
       "\n",
       "\u001b[36m  first(cb::CircularBuffer)\u001b[39m\n",
       "\n",
       "  Get the first element of CircularBuffer.\n",
       "\n",
       "  ────────────────────────────────────────────────────────────────────────────\n",
       "\n",
       "\u001b[36m  first(df::AbstractDataFrame)\u001b[39m\n",
       "\n",
       "  Get the first row of \u001b[36mdf\u001b[39m as a \u001b[36mDataFrameRow\u001b[39m.\n",
       "\n",
       "  ────────────────────────────────────────────────────────────────────────────\n",
       "\n",
       "\u001b[36m  first(df::AbstractDataFrame, n::Integer)\u001b[39m\n",
       "\n",
       "  Get a data frame with the \u001b[36mn\u001b[39m first rows of \u001b[36mdf\u001b[39m."
      ]
     },
     "execution_count": 5,
     "metadata": {},
     "output_type": "execute_result"
    }
   ],
   "source": [
    "?first"
   ]
  },
  {
   "cell_type": "markdown",
   "metadata": {},
   "source": [
    "Column names are pretty straight forward, but we still don't have a lot of info on what this really is."
   ]
  },
  {
   "cell_type": "code",
   "execution_count": 6,
   "metadata": {},
   "outputs": [
    {
     "data": {
      "text/plain": [
       "31-element Array{String,1}:\n",
       " \"HITId\"\n",
       " \"HITTypeId\"\n",
       " \"Title\"\n",
       " \"Description\"\n",
       " \"Keywords\"\n",
       " \"Reward\"\n",
       " \"CreationTime\"\n",
       " \"MaxAssignments\"\n",
       " \"RequesterAnnotation\"\n",
       " \"AssignmentDurationInSeconds\"\n",
       " \"AutoApprovalDelayInSeconds\"\n",
       " \"Expiration\"\n",
       " \"NumberOfSimilarHITs\"\n",
       " ⋮\n",
       " \"AutoApprovalTime\"\n",
       " \"ApprovalTime\"\n",
       " \"RejectionTime\"\n",
       " \"RequesterFeedback\"\n",
       " \"WorkTimeInSeconds\"\n",
       " \"LifetimeApprovalRate\"\n",
       " \"Last30DaysApprovalRate\"\n",
       " \"Last7DaysApprovalRate\"\n",
       " \"Input.document_url\"\n",
       " \"Answer.category.label\"\n",
       " \"Approve\"\n",
       " \"Reject\""
      ]
     },
     "execution_count": 6,
     "metadata": {},
     "output_type": "execute_result"
    }
   ],
   "source": [
    "names(df)"
   ]
  },
  {
   "cell_type": "code",
   "execution_count": 7,
   "metadata": {},
   "outputs": [
    {
     "data": {
      "text/plain": [
       "\"1760×31 DataFrame\""
      ]
     },
     "execution_count": 7,
     "metadata": {},
     "output_type": "execute_result"
    }
   ],
   "source": [
    "summary(df)"
   ]
  },
  {
   "cell_type": "markdown",
   "metadata": {},
   "source": [
    "OK that wasn't what I wanted, maybe it was `describe`."
   ]
  },
  {
   "cell_type": "code",
   "execution_count": 8,
   "metadata": {},
   "outputs": [
    {
     "data": {
      "text/html": [
       "<table class=\"data-frame\"><thead><tr><th></th><th>variable</th><th>mean</th><th>min</th></tr><tr><th></th><th>Symbol</th><th>Union…</th><th>Any</th></tr></thead><tbody><p>31 rows × 8 columns (omitted printing of 5 columns)</p><tr><th>1</th><td>HITId</td><td></td><td>301KG0KX9BKTP2L7XD15P8Y69GP2HK</td></tr><tr><th>2</th><td>HITTypeId</td><td></td><td>36ENCJ709J8WC06EPA4JOHGF537KEH</td></tr><tr><th>3</th><td>Title</td><td></td><td>Is this a tech job?</td></tr><tr><th>4</th><td>Description</td><td></td><td>Classify job ads as tech/non-tech</td></tr><tr><th>5</th><td>Keywords</td><td></td><td>jobs, occupations, classification, text</td></tr><tr><th>6</th><td>Reward</td><td></td><td>$0.04</td></tr><tr><th>7</th><td>CreationTime</td><td></td><td>Mon Aug 17 14:01:11 PDT 2020</td></tr><tr><th>8</th><td>MaxAssignments</td><td>10.0</td><td>10</td></tr><tr><th>9</th><td>RequesterAnnotation</td><td></td><td>BatchId:4154922;OriginalHitTemplateId:928390860;</td></tr><tr><th>10</th><td>AssignmentDurationInSeconds</td><td>120.0</td><td>120</td></tr><tr><th>11</th><td>AutoApprovalDelayInSeconds</td><td>86400.0</td><td>86400</td></tr><tr><th>12</th><td>Expiration</td><td></td><td>Mon Aug 24 14:01:11 PDT 2020</td></tr><tr><th>13</th><td>NumberOfSimilarHITs</td><td></td><td></td></tr><tr><th>14</th><td>LifetimeInSeconds</td><td></td><td></td></tr><tr><th>15</th><td>AssignmentId</td><td></td><td>3018Q3ZVOIPY6JS8WZBGXEFWI80RAE</td></tr><tr><th>16</th><td>WorkerId</td><td></td><td>A10RGQAO923MIA</td></tr><tr><th>17</th><td>AssignmentStatus</td><td></td><td>Approved</td></tr><tr><th>18</th><td>AcceptTime</td><td></td><td>Mon Aug 17 14:01:37 PDT 2020</td></tr><tr><th>19</th><td>SubmitTime</td><td></td><td>Mon Aug 17 14:02:02 PDT 2020</td></tr><tr><th>20</th><td>AutoApprovalTime</td><td></td><td>Tue Aug 18 14:02:02 PDT 2020</td></tr><tr><th>21</th><td>ApprovalTime</td><td></td><td>Mon Aug 17 14:23:30 PDT 2020</td></tr><tr><th>22</th><td>RejectionTime</td><td></td><td></td></tr><tr><th>23</th><td>RequesterFeedback</td><td></td><td></td></tr><tr><th>24</th><td>WorkTimeInSeconds</td><td>28.6028</td><td>3</td></tr><tr><th>25</th><td>LifetimeApprovalRate</td><td></td><td>0% (0/0)</td></tr><tr><th>26</th><td>Last30DaysApprovalRate</td><td></td><td>0% (0/0)</td></tr><tr><th>27</th><td>Last7DaysApprovalRate</td><td></td><td>0% (0/0)</td></tr><tr><th>28</th><td>Input.document_url</td><td></td><td>https://s3.eu-central-1.amazonaws.com/com.radbrt.wfh/html_jobs/job0101-2019-11-20.html</td></tr><tr><th>29</th><td>Answer.category.label</td><td></td><td>No</td></tr><tr><th>30</th><td>Approve</td><td></td><td></td></tr><tr><th>&vellip;</th><td>&vellip;</td><td>&vellip;</td><td>&vellip;</td></tr></tbody></table>"
      ],
      "text/latex": [
       "\\begin{tabular}{r|cccc}\n",
       "\t& variable & mean & min & \\\\\n",
       "\t\\hline\n",
       "\t& Symbol & Union… & Any & \\\\\n",
       "\t\\hline\n",
       "\t1 & HITId &  & 301KG0KX9BKTP2L7XD15P8Y69GP2HK & $\\dots$ \\\\\n",
       "\t2 & HITTypeId &  & 36ENCJ709J8WC06EPA4JOHGF537KEH & $\\dots$ \\\\\n",
       "\t3 & Title &  & Is this a tech job? & $\\dots$ \\\\\n",
       "\t4 & Description &  & Classify job ads as tech/non-tech & $\\dots$ \\\\\n",
       "\t5 & Keywords &  & jobs, occupations, classification, text & $\\dots$ \\\\\n",
       "\t6 & Reward &  & \\$0.04 & $\\dots$ \\\\\n",
       "\t7 & CreationTime &  & Mon Aug 17 14:01:11 PDT 2020 & $\\dots$ \\\\\n",
       "\t8 & MaxAssignments & 10.0 & 10 & $\\dots$ \\\\\n",
       "\t9 & RequesterAnnotation &  & BatchId:4154922;OriginalHitTemplateId:928390860; & $\\dots$ \\\\\n",
       "\t10 & AssignmentDurationInSeconds & 120.0 & 120 & $\\dots$ \\\\\n",
       "\t11 & AutoApprovalDelayInSeconds & 86400.0 & 86400 & $\\dots$ \\\\\n",
       "\t12 & Expiration &  & Mon Aug 24 14:01:11 PDT 2020 & $\\dots$ \\\\\n",
       "\t13 & NumberOfSimilarHITs &  &  & $\\dots$ \\\\\n",
       "\t14 & LifetimeInSeconds &  &  & $\\dots$ \\\\\n",
       "\t15 & AssignmentId &  & 3018Q3ZVOIPY6JS8WZBGXEFWI80RAE & $\\dots$ \\\\\n",
       "\t16 & WorkerId &  & A10RGQAO923MIA & $\\dots$ \\\\\n",
       "\t17 & AssignmentStatus &  & Approved & $\\dots$ \\\\\n",
       "\t18 & AcceptTime &  & Mon Aug 17 14:01:37 PDT 2020 & $\\dots$ \\\\\n",
       "\t19 & SubmitTime &  & Mon Aug 17 14:02:02 PDT 2020 & $\\dots$ \\\\\n",
       "\t20 & AutoApprovalTime &  & Tue Aug 18 14:02:02 PDT 2020 & $\\dots$ \\\\\n",
       "\t21 & ApprovalTime &  & Mon Aug 17 14:23:30 PDT 2020 & $\\dots$ \\\\\n",
       "\t22 & RejectionTime &  &  & $\\dots$ \\\\\n",
       "\t23 & RequesterFeedback &  &  & $\\dots$ \\\\\n",
       "\t24 & WorkTimeInSeconds & 28.6028 & 3 & $\\dots$ \\\\\n",
       "\t25 & LifetimeApprovalRate &  & 0\\% (0/0) & $\\dots$ \\\\\n",
       "\t26 & Last30DaysApprovalRate &  & 0\\% (0/0) & $\\dots$ \\\\\n",
       "\t27 & Last7DaysApprovalRate &  & 0\\% (0/0) & $\\dots$ \\\\\n",
       "\t28 & Input.document\\_url &  & https://s3.eu-central-1.amazonaws.com/com.radbrt.wfh/html\\_jobs/job0101-2019-11-20.html & $\\dots$ \\\\\n",
       "\t29 & Answer.category.label &  & No & $\\dots$ \\\\\n",
       "\t30 & Approve &  &  & $\\dots$ \\\\\n",
       "\t$\\dots$ & $\\dots$ & $\\dots$ & $\\dots$ &  \\\\\n",
       "\\end{tabular}\n"
      ],
      "text/plain": [
       "31×8 DataFrame. Omitted printing of 6 columns\n",
       "│ Row │ variable                    │ mean    │\n",
       "│     │ \u001b[90mSymbol\u001b[39m                      │ \u001b[90mUnion…\u001b[39m  │\n",
       "├─────┼─────────────────────────────┼─────────┤\n",
       "│ 1   │ HITId                       │         │\n",
       "│ 2   │ HITTypeId                   │         │\n",
       "│ 3   │ Title                       │         │\n",
       "│ 4   │ Description                 │         │\n",
       "│ 5   │ Keywords                    │         │\n",
       "│ 6   │ Reward                      │         │\n",
       "│ 7   │ CreationTime                │         │\n",
       "│ 8   │ MaxAssignments              │ 10.0    │\n",
       "│ 9   │ RequesterAnnotation         │         │\n",
       "│ 10  │ AssignmentDurationInSeconds │ 120.0   │\n",
       "⋮\n",
       "│ 21  │ ApprovalTime                │         │\n",
       "│ 22  │ RejectionTime               │         │\n",
       "│ 23  │ RequesterFeedback           │         │\n",
       "│ 24  │ WorkTimeInSeconds           │ 28.6028 │\n",
       "│ 25  │ LifetimeApprovalRate        │         │\n",
       "│ 26  │ Last30DaysApprovalRate      │         │\n",
       "│ 27  │ Last7DaysApprovalRate       │         │\n",
       "│ 28  │ Input.document_url          │         │\n",
       "│ 29  │ Answer.category.label       │         │\n",
       "│ 30  │ Approve                     │         │\n",
       "│ 31  │ Reject                      │         │"
      ]
     },
     "execution_count": 8,
     "metadata": {},
     "output_type": "execute_result"
    }
   ],
   "source": [
    "describe(df)"
   ]
  },
  {
   "cell_type": "markdown",
   "metadata": {},
   "source": [
    "Better. We're still nowhere near where we need to be, but at least we now have a feeling for what is categorical and what is numeric, which is good enough. I want to group and summarize, the de-facto \"hello, world\" of data. And I heard rumor that there is a pipe operator that is pretty sweet."
   ]
  },
  {
   "cell_type": "code",
   "execution_count": 9,
   "metadata": {},
   "outputs": [
    {
     "data": {
      "text/html": [
       "<table class=\"data-frame\"><thead><tr><th></th><th>LifetimeApprovalRate</th><th>WorkTimeInSeconds_mean</th><th>LifetimeApprovalRate_length</th></tr><tr><th></th><th>String</th><th>Float64</th><th>Int64</th></tr></thead><tbody><p>6 rows × 3 columns</p><tr><th>1</th><td>100% (5/5)</td><td>9.232</td><td>125</td></tr><tr><th>2</th><td>100% (1/1)</td><td>28.3122</td><td>490</td></tr><tr><th>3</th><td>100% (2/2)</td><td>30.8978</td><td>137</td></tr><tr><th>4</th><td>100% (3/3)</td><td>31.6377</td><td>265</td></tr><tr><th>5</th><td>100% (4/4)</td><td>23.9587</td><td>242</td></tr><tr><th>6</th><td>0% (0/0)</td><td>33.7305</td><td>501</td></tr></tbody></table>"
      ],
      "text/latex": [
       "\\begin{tabular}{r|ccc}\n",
       "\t& LifetimeApprovalRate & WorkTimeInSeconds\\_mean & LifetimeApprovalRate\\_length\\\\\n",
       "\t\\hline\n",
       "\t& String & Float64 & Int64\\\\\n",
       "\t\\hline\n",
       "\t1 & 100\\% (5/5) & 9.232 & 125 \\\\\n",
       "\t2 & 100\\% (1/1) & 28.3122 & 490 \\\\\n",
       "\t3 & 100\\% (2/2) & 30.8978 & 137 \\\\\n",
       "\t4 & 100\\% (3/3) & 31.6377 & 265 \\\\\n",
       "\t5 & 100\\% (4/4) & 23.9587 & 242 \\\\\n",
       "\t6 & 0\\% (0/0) & 33.7305 & 501 \\\\\n",
       "\\end{tabular}\n"
      ],
      "text/plain": [
       "6×3 DataFrame. Omitted printing of 1 columns\n",
       "│ Row │ LifetimeApprovalRate │ WorkTimeInSeconds_mean │\n",
       "│     │ \u001b[90mString\u001b[39m               │ \u001b[90mFloat64\u001b[39m                │\n",
       "├─────┼──────────────────────┼────────────────────────┤\n",
       "│ 1   │ 100% (5/5)           │ 9.232                  │\n",
       "│ 2   │ 100% (1/1)           │ 28.3122                │\n",
       "│ 3   │ 100% (2/2)           │ 30.8978                │\n",
       "│ 4   │ 100% (3/3)           │ 31.6377                │\n",
       "│ 5   │ 100% (4/4)           │ 23.9587                │\n",
       "│ 6   │ 0% (0/0)             │ 33.7305                │"
      ]
     },
     "execution_count": 9,
     "metadata": {},
     "output_type": "execute_result"
    }
   ],
   "source": [
    "@pipe df |> \n",
    "    groupby(_, :LifetimeApprovalRate) |> \n",
    "    combine(_, :WorkTimeInSeconds => mean, :LifetimeApprovalRate => length)"
   ]
  },
  {
   "cell_type": "markdown",
   "metadata": {},
   "source": [
    "Works. Two surprises: \n",
    "- the `@pipe` decorator (I'm assuming that's what it is) is less elegant than R\n",
    "- having to do a count using `length` is... somehow both unnatural and very logical. I hope I'm not doing it right.\n",
    "\n",
    "That being said, we have now performed the \"Hello, World\" of data. Let's get down to more business.\n",
    "\n",
    "Next things do do:\n",
    "- I want to regex the shit out of some of these variables.\n",
    "- Not a lot of fan of the column names after aggregation\n",
    "\n",
    "It seems substring works almost like in Python, except leaving it blank on one side of the colon gives weird results. I guess that's a basic function of how stuff/arrays work in Julia."
   ]
  },
  {
   "cell_type": "code",
   "execution_count": 10,
   "metadata": {},
   "outputs": [
    {
     "data": {
      "text/plain": [
       "'l': ASCII/Unicode U+006C (category Ll: Letter, lowercase)"
      ]
     },
     "execution_count": 10,
     "metadata": {},
     "output_type": "execute_result"
    }
   ],
   "source": [
    "\"Hello\"[:4]"
   ]
  },
  {
   "cell_type": "code",
   "execution_count": 11,
   "metadata": {},
   "outputs": [
    {
     "data": {
      "text/plain": [
       "\"Hell\""
      ]
     },
     "execution_count": 11,
     "metadata": {},
     "output_type": "execute_result"
    }
   ],
   "source": [
    "\"Hello\"[1:4]"
   ]
  },
  {
   "cell_type": "code",
   "execution_count": 12,
   "metadata": {},
   "outputs": [
    {
     "data": {
      "text/plain": [
       "5"
      ]
     },
     "execution_count": 12,
     "metadata": {},
     "output_type": "execute_result"
    }
   ],
   "source": [
    "length(\"Hello\")"
   ]
  },
  {
   "cell_type": "markdown",
   "metadata": {},
   "source": [
    "I have no idea what is going on with negative indexes. It's definetely not like python, and why it doesn't give an error on `\"Hello\"[2:-2]` is beyond me."
   ]
  },
  {
   "cell_type": "code",
   "execution_count": 13,
   "metadata": {},
   "outputs": [
    {
     "ename": "BoundsError",
     "evalue": "BoundsError: attempt to access String\n  at index [-2]",
     "output_type": "error",
     "traceback": [
      "BoundsError: attempt to access String\n  at index [-2]",
      "",
      "Stacktrace:",
      " [1] checkbounds at ./strings/basic.jl:194 [inlined]",
      " [2] codeunit at ./strings/string.jl:89 [inlined]",
      " [3] getindex(::String, ::Int64) at ./strings/string.jl:210",
      " [4] top-level scope at In[13]:1"
     ]
    }
   ],
   "source": [
    "print(\"Hello\"[-2])"
   ]
  },
  {
   "cell_type": "code",
   "execution_count": 14,
   "metadata": {},
   "outputs": [
    {
     "ename": "BoundsError",
     "evalue": "BoundsError: attempt to access String\n  at index [-2:2]",
     "output_type": "error",
     "traceback": [
      "BoundsError: attempt to access String\n  at index [-2:2]",
      "",
      "Stacktrace:",
      " [1] checkbounds at ./strings/basic.jl:194 [inlined]",
      " [2] getindex(::String, ::UnitRange{Int64}) at ./strings/string.jl:248",
      " [3] top-level scope at In[14]:1"
     ]
    }
   ],
   "source": [
    "print(\"Hello\"[-2:2])"
   ]
  },
  {
   "cell_type": "code",
   "execution_count": 15,
   "metadata": {},
   "outputs": [],
   "source": [
    "print(\"Hello\"[2:-2])"
   ]
  },
  {
   "cell_type": "markdown",
   "metadata": {},
   "source": [
    "It seems there are some other functions that can help."
   ]
  },
  {
   "cell_type": "code",
   "execution_count": 16,
   "metadata": {},
   "outputs": [
    {
     "name": "stdout",
     "output_type": "stream",
     "text": [
      "1, 5"
     ]
    }
   ],
   "source": [
    "print(firstindex(\"Hello\"), \", \", lastindex(\"Hello\"))"
   ]
  },
  {
   "cell_type": "code",
   "execution_count": 17,
   "metadata": {},
   "outputs": [
    {
     "data": {
      "text/plain": [
       "\"ell\""
      ]
     },
     "execution_count": 17,
     "metadata": {},
     "output_type": "execute_result"
    }
   ],
   "source": [
    "SubString(\"Hello\", 2, 4)"
   ]
  },
  {
   "cell_type": "code",
   "execution_count": 18,
   "metadata": {},
   "outputs": [
    {
     "data": {
      "text/plain": [
       "\"lo\""
      ]
     },
     "execution_count": 18,
     "metadata": {},
     "output_type": "execute_result"
    }
   ],
   "source": [
    "\"Hello\"[end-1:end]"
   ]
  },
  {
   "cell_type": "markdown",
   "metadata": {},
   "source": [
    "So... this is fairly unusual: There is a special value, `end`, that seems to denote end of string, and that can be used as a helper when subsetting. And there is a `SubString` function that takes takes start-position and end-position (my least favorite arguments). The documentation suggest substring might be a good friend once you venture outside of ASCII territory, because the subsetting is a little too simple-minded. I know it's a detour, but I want to try it:"
   ]
  },
  {
   "cell_type": "code",
   "execution_count": 19,
   "metadata": {},
   "outputs": [
    {
     "name": "stdout",
     "output_type": "stream",
     "text": [
      "🐰,\n"
     ]
    }
   ],
   "source": [
    "a = \"🐰, how are you?\"\n",
    "\n",
    "println(a[1:5])"
   ]
  },
  {
   "cell_type": "markdown",
   "metadata": {},
   "source": [
    "OK, so the first four characters are a rabbit, which makes sense. Last try:"
   ]
  },
  {
   "cell_type": "code",
   "execution_count": 20,
   "metadata": {},
   "outputs": [
    {
     "ename": "StringIndexError",
     "evalue": "StringIndexError(\" Hi ÆØÅ\", 6)",
     "output_type": "error",
     "traceback": [
      "StringIndexError(\" Hi ÆØÅ\", 6)",
      "",
      "Stacktrace:",
      " [1] string_index_err(::String, ::Int64) at ./strings/string.jl:12",
      " [2] getindex(::String, ::UnitRange{Int64}) at ./strings/string.jl:250",
      " [3] top-level scope at In[20]:2"
     ]
    }
   ],
   "source": [
    "b = \" Hi ÆØÅ\"\n",
    "\n",
    "println(b[1:6])"
   ]
  },
  {
   "cell_type": "code",
   "execution_count": 21,
   "metadata": {},
   "outputs": [
    {
     "ename": "StringIndexError",
     "evalue": "StringIndexError(\" Hi ÆØÅ\", 6)",
     "output_type": "error",
     "traceback": [
      "StringIndexError(\" Hi ÆØÅ\", 6)",
      "",
      "Stacktrace:",
      " [1] string_index_err(::String, ::Int64) at ./strings/string.jl:12",
      " [2] SubString at ./strings/substring.jl:32 [inlined]",
      " [3] SubString(::String, ::Int64, ::Int64) at ./strings/substring.jl:38",
      " [4] top-level scope at In[21]:1"
     ]
    }
   ],
   "source": [
    "println(SubString(b, 1, 6))"
   ]
  },
  {
   "cell_type": "code",
   "execution_count": 22,
   "metadata": {},
   "outputs": [
    {
     "name": "stdout",
     "output_type": "stream",
     "text": [
      " Hi Æ\n"
     ]
    }
   ],
   "source": [
    "println(SubString(b, 1, 5))"
   ]
  },
  {
   "cell_type": "markdown",
   "metadata": {},
   "source": [
    "That's the spirit! Everything crashes if you slice an overlong byte. I'm sure there's a way to get around it.\n",
    "\n",
    "So, to the regex stuff. There doesn't seem to be any separate regex library like python's `re`, and regex-patterns can be defined suspiciously simply:"
   ]
  },
  {
   "cell_type": "code",
   "execution_count": 23,
   "metadata": {},
   "outputs": [
    {
     "data": {
      "text/plain": [
       "r\"^[0-9]{1,3}\\%\""
      ]
     },
     "execution_count": 23,
     "metadata": {},
     "output_type": "execute_result"
    }
   ],
   "source": [
    "ptn = r\"^[0-9]{1,3}\\%\""
   ]
  },
  {
   "cell_type": "code",
   "execution_count": 24,
   "metadata": {},
   "outputs": [
    {
     "data": {
      "text/plain": [
       "RegexMatch(\"100%\")"
      ]
     },
     "execution_count": 24,
     "metadata": {},
     "output_type": "execute_result"
    }
   ],
   "source": [
    "m = match(ptn, \"100% (2/2)\")"
   ]
  },
  {
   "cell_type": "code",
   "execution_count": 25,
   "metadata": {},
   "outputs": [
    {
     "ename": "BoundsError",
     "evalue": "BoundsError: attempt to access 0-element Array{Union{Nothing, SubString{String}},1} at index [1]",
     "output_type": "error",
     "traceback": [
      "BoundsError: attempt to access 0-element Array{Union{Nothing, SubString{String}},1} at index [1]",
      "",
      "Stacktrace:",
      " [1] getindex at ./array.jl:788 [inlined]",
      " [2] getindex(::RegexMatch, ::Int64) at ./regex.jl:163",
      " [3] top-level scope at In[25]:1"
     ]
    }
   ],
   "source": [
    "m[1]"
   ]
  },
  {
   "cell_type": "code",
   "execution_count": 26,
   "metadata": {},
   "outputs": [
    {
     "ename": "MethodError",
     "evalue": "MethodError: no method matching names(::RegexMatch)\nClosest candidates are:\n  names(!Matched::DataFrames.Index) at /opt/julia/packages/DataFrames/cdZCk/src/other/index.jl:34\n  names(!Matched::Module; all, imported) at reflection.jl:98\n  names(!Matched::DataFrames.SubIndex) at /opt/julia/packages/DataFrames/cdZCk/src/other/index.jl:421\n  ...",
     "output_type": "error",
     "traceback": [
      "MethodError: no method matching names(::RegexMatch)\nClosest candidates are:\n  names(!Matched::DataFrames.Index) at /opt/julia/packages/DataFrames/cdZCk/src/other/index.jl:34\n  names(!Matched::Module; all, imported) at reflection.jl:98\n  names(!Matched::DataFrames.SubIndex) at /opt/julia/packages/DataFrames/cdZCk/src/other/index.jl:421\n  ...",
      "",
      "Stacktrace:",
      " [1] top-level scope at In[26]:1"
     ]
    }
   ],
   "source": [
    "names(m)"
   ]
  },
  {
   "cell_type": "markdown",
   "metadata": {},
   "source": [
    "This looked so simple, but how to get our wonderful match out of the regex object. Subsetting did not work, and trying to be fancy interrogating the object with `names` similar to what I love to do in Python with `dir`, threw an error.\n",
    "\n",
    "Anyways, maybe we can do something else, using, say, `matchall`."
   ]
  },
  {
   "cell_type": "code",
   "execution_count": 27,
   "metadata": {},
   "outputs": [
    {
     "ename": "UndefVarError",
     "evalue": "UndefVarError: matchall not defined",
     "output_type": "error",
     "traceback": [
      "UndefVarError: matchall not defined",
      "",
      "Stacktrace:",
      " [1] top-level scope at In[27]:1"
     ]
    }
   ],
   "source": [
    "m2 = matchall(ptn, \"100% (2/2)\")"
   ]
  },
  {
   "cell_type": "markdown",
   "metadata": {},
   "source": [
    "OK, the function found on stackoverflow isn't defined, maybe because the post was from 2014. New languages are a bitch. It seems the `RegexMatch` object has methods like `match` and `captures` and `offset`."
   ]
  },
  {
   "cell_type": "code",
   "execution_count": 28,
   "metadata": {},
   "outputs": [
    {
     "data": {
      "text/plain": [
       "\"100%\""
      ]
     },
     "execution_count": 28,
     "metadata": {},
     "output_type": "execute_result"
    }
   ],
   "source": [
    "m.match"
   ]
  },
  {
   "cell_type": "code",
   "execution_count": 29,
   "metadata": {},
   "outputs": [
    {
     "data": {
      "text/plain": [
       "0-element Array{Union{Nothing, SubString{String}},1}"
      ]
     },
     "execution_count": 29,
     "metadata": {},
     "output_type": "execute_result"
    }
   ],
   "source": [
    "m.captures"
   ]
  },
  {
   "cell_type": "code",
   "execution_count": 30,
   "metadata": {},
   "outputs": [
    {
     "data": {
      "text/plain": [
       "1"
      ]
     },
     "execution_count": 30,
     "metadata": {},
     "output_type": "execute_result"
    }
   ],
   "source": [
    "m.offset"
   ]
  },
  {
   "cell_type": "markdown",
   "metadata": {},
   "source": [
    "OK, whatevs, match is what I want for now. But seriously, if matchall isn't a function, what do you use when you want to capture more than one result? There can be two things in a string.\n",
    "\n",
    "So we want to assign a new variable using an existing variable. This takes two things (in addition to the function): Accessing the existing variable, and assigning the new one."
   ]
  },
  {
   "cell_type": "code",
   "execution_count": 31,
   "metadata": {},
   "outputs": [
    {
     "data": {
      "text/plain": [
       "120"
      ]
     },
     "execution_count": 31,
     "metadata": {},
     "output_type": "execute_result"
    }
   ],
   "source": [
    "first(df.AssignmentDurationInSeconds)"
   ]
  },
  {
   "cell_type": "code",
   "execution_count": 32,
   "metadata": {},
   "outputs": [
    {
     "name": "stderr",
     "output_type": "stream",
     "text": [
      "┌ Warning: `setproperty!(df::DataFrame, col_ind::Symbol, v)` is deprecated, use `df[!, col_ind] .= v` instead.\n",
      "│   caller = top-level scope at In[32]:1\n",
      "└ @ Core In[32]:1\n"
     ]
    },
    {
     "data": {
      "text/plain": [
       "\"abcd\""
      ]
     },
     "execution_count": 32,
     "metadata": {},
     "output_type": "execute_result"
    }
   ],
   "source": [
    "df.newvariable = \"abcd\""
   ]
  },
  {
   "cell_type": "markdown",
   "metadata": {},
   "source": [
    "Hmmm... interesting, some new syntax here. The `.=` is peculiar. Let's try."
   ]
  },
  {
   "cell_type": "code",
   "execution_count": 33,
   "metadata": {},
   "outputs": [
    {
     "data": {
      "text/plain": [
       "1760-element Array{String,1}:\n",
       " \"abc\"\n",
       " \"abc\"\n",
       " \"abc\"\n",
       " \"abc\"\n",
       " \"abc\"\n",
       " \"abc\"\n",
       " \"abc\"\n",
       " \"abc\"\n",
       " \"abc\"\n",
       " \"abc\"\n",
       " \"abc\"\n",
       " \"abc\"\n",
       " \"abc\"\n",
       " ⋮\n",
       " \"abc\"\n",
       " \"abc\"\n",
       " \"abc\"\n",
       " \"abc\"\n",
       " \"abc\"\n",
       " \"abc\"\n",
       " \"abc\"\n",
       " \"abc\"\n",
       " \"abc\"\n",
       " \"abc\"\n",
       " \"abc\"\n",
       " \"abc\""
      ]
     },
     "execution_count": 33,
     "metadata": {},
     "output_type": "execute_result"
    }
   ],
   "source": [
    "df[!, \"newvar\"] .= \"abc\""
   ]
  },
  {
   "cell_type": "code",
   "execution_count": 34,
   "metadata": {},
   "outputs": [
    {
     "data": {
      "text/plain": [
       "33-element Array{String,1}:\n",
       " \"HITId\"\n",
       " \"HITTypeId\"\n",
       " \"Title\"\n",
       " \"Description\"\n",
       " \"Keywords\"\n",
       " \"Reward\"\n",
       " \"CreationTime\"\n",
       " \"MaxAssignments\"\n",
       " \"RequesterAnnotation\"\n",
       " \"AssignmentDurationInSeconds\"\n",
       " \"AutoApprovalDelayInSeconds\"\n",
       " \"Expiration\"\n",
       " \"NumberOfSimilarHITs\"\n",
       " ⋮\n",
       " \"RejectionTime\"\n",
       " \"RequesterFeedback\"\n",
       " \"WorkTimeInSeconds\"\n",
       " \"LifetimeApprovalRate\"\n",
       " \"Last30DaysApprovalRate\"\n",
       " \"Last7DaysApprovalRate\"\n",
       " \"Input.document_url\"\n",
       " \"Answer.category.label\"\n",
       " \"Approve\"\n",
       " \"Reject\"\n",
       " \"newvariable\"\n",
       " \"newvar\""
      ]
     },
     "execution_count": 34,
     "metadata": {},
     "output_type": "execute_result"
    }
   ],
   "source": [
    "names(df)"
   ]
  },
  {
   "cell_type": "markdown",
   "metadata": {},
   "source": [
    "So far so good. Let's try putting it together."
   ]
  },
  {
   "cell_type": "code",
   "execution_count": 35,
   "metadata": {},
   "outputs": [
    {
     "data": {
      "text/plain": [
       "33-element Array{Type,1}:\n",
       " String\n",
       " String\n",
       " String\n",
       " String\n",
       " String\n",
       " String\n",
       " String\n",
       " Int64\n",
       " String\n",
       " Int64\n",
       " Int64\n",
       " String\n",
       " Missing\n",
       " ⋮\n",
       " Missing\n",
       " Missing\n",
       " Int64\n",
       " String\n",
       " String\n",
       " String\n",
       " String\n",
       " String\n",
       " Missing\n",
       " Missing\n",
       " String\n",
       " String"
      ]
     },
     "execution_count": 35,
     "metadata": {},
     "output_type": "execute_result"
    }
   ],
   "source": [
    "[eltype(col) for col = eachcol(df)]"
   ]
  },
  {
   "cell_type": "code",
   "execution_count": 36,
   "metadata": {},
   "outputs": [
    {
     "ename": "ErrorException",
     "evalue": "type Array has no field match",
     "output_type": "error",
     "traceback": [
      "type Array has no field match",
      "",
      "Stacktrace:",
      " [1] getproperty(::Array{RegexMatch,1}, ::Symbol) at ./Base.jl:33",
      " [2] top-level scope at In[36]:1"
     ]
    }
   ],
   "source": [
    "df[!, \"pctapproval\"] .= match.(r\"^[0-9]{1,3}\\%\", df[!, \"LifetimeApprovalRate\"]).match"
   ]
  },
  {
   "cell_type": "markdown",
   "metadata": {},
   "source": [
    "So, probably got some broadcasting issue going on here, thought that was what the dot after the function was for, but whatever. Googling how to assign variable in julia should return something, I presume.\n",
    "\n",
    "OK lets take a step back:"
   ]
  },
  {
   "cell_type": "code",
   "execution_count": 37,
   "metadata": {},
   "outputs": [],
   "source": [
    "#Pkg.add(\"DataFramesMeta\")"
   ]
  },
  {
   "cell_type": "code",
   "execution_count": 38,
   "metadata": {},
   "outputs": [],
   "source": [
    "using DataFramesMeta"
   ]
  },
  {
   "cell_type": "code",
   "execution_count": 39,
   "metadata": {},
   "outputs": [
    {
     "ename": "MethodError",
     "evalue": "MethodError: no method matching transform(::Nothing; worktimeinminutes=var\"#3#4\"())\nClosest candidates are:\n  transform(!Matched::AbstractDataFrame; kwargs...) at /opt/julia/packages/DataFramesMeta/c67UK/src/DataFramesMeta.jl:377\n  transform(!Matched::GroupedDataFrame; kwargs...) at /opt/julia/packages/DataFramesMeta/c67UK/src/DataFramesMeta.jl:385",
     "output_type": "error",
     "traceback": [
      "MethodError: no method matching transform(::Nothing; worktimeinminutes=var\"#3#4\"())\nClosest candidates are:\n  transform(!Matched::AbstractDataFrame; kwargs...) at /opt/julia/packages/DataFramesMeta/c67UK/src/DataFramesMeta.jl:377\n  transform(!Matched::GroupedDataFrame; kwargs...) at /opt/julia/packages/DataFramesMeta/c67UK/src/DataFramesMeta.jl:385",
      "",
      "Stacktrace:",
      " [1] top-level scope at /opt/julia/packages/DataFramesMeta/c67UK/src/DataFramesMeta.jl:2",
      " [2] top-level scope at In[39]:1"
     ]
    }
   ],
   "source": [
    "df2 = @linq df |>\n",
    "    @transform(worktimeinminutes = :LifetimeApprovalRate ./ 60)"
   ]
  },
  {
   "cell_type": "markdown",
   "metadata": {},
   "source": [
    "It's fun to copy-paste internet code because internet code is the best code. Somehow internet code gave errors though. But don't worry, we found more internet code! This time functional, which is much promising."
   ]
  },
  {
   "cell_type": "code",
   "execution_count": 40,
   "metadata": {},
   "outputs": [
    {
     "data": {
      "text/plain": [
       "1760-element PooledArrays.PooledArray{SubString{String},UInt32,1,Array{UInt32,1}}:\n",
       " \"100%\"\n",
       " \"100%\"\n",
       " \"100%\"\n",
       " \"100%\"\n",
       " \"100%\"\n",
       " \"100%\"\n",
       " \"100%\"\n",
       " \"100%\"\n",
       " \"100%\"\n",
       " \"100%\"\n",
       " \"100%\"\n",
       " \"100%\"\n",
       " \"100%\"\n",
       " ⋮\n",
       " \"0%\"\n",
       " \"100%\"\n",
       " \"100%\"\n",
       " \"100%\"\n",
       " \"100%\"\n",
       " \"100%\"\n",
       " \"100%\"\n",
       " \"0%\"\n",
       " \"100%\"\n",
       " \"0%\"\n",
       " \"100%\"\n",
       " \"100%\""
      ]
     },
     "execution_count": 40,
     "metadata": {},
     "output_type": "execute_result"
    }
   ],
   "source": [
    "df.somethingsomething = map( x -> match(r\"^[0-9]{1,3}\\%\", x).match, df[!,:LifetimeApprovalRate] )"
   ]
  },
  {
   "cell_type": "markdown",
   "metadata": {},
   "source": [
    "OK apparantly that works now when I didn't try to somehow pass the regex in as y, so yeab basically a lambda function because it works. But I'll own up to it, I did have a few other trys."
   ]
  },
  {
   "cell_type": "code",
   "execution_count": 41,
   "metadata": {},
   "outputs": [
    {
     "ename": "ErrorException",
     "evalue": "type Array has no field match",
     "output_type": "error",
     "traceback": [
      "type Array has no field match",
      "",
      "Stacktrace:",
      " [1] getproperty(::Array{RegexMatch,1}, ::Symbol) at ./Base.jl:33",
      " [2] top-level scope at In[41]:1"
     ]
    }
   ],
   "source": [
    "df.newstuff = match.(r\"^[0-9]{1,3}\\%\", df[!, :LifetimeApprovalRate]).match"
   ]
  },
  {
   "cell_type": "code",
   "execution_count": 42,
   "metadata": {},
   "outputs": [
    {
     "data": {
      "text/plain": [
       "2-element Array{SubString{String},1}:\n",
       " \"4%\"\n",
       " \"5%\""
      ]
     },
     "execution_count": 42,
     "metadata": {},
     "output_type": "execute_result"
    }
   ],
   "source": [
    "[thing.match for thing in match.(r\"^[0-9]{1,3}\\%\", [\"4%blah\", \"5%blah\"])]"
   ]
  },
  {
   "cell_type": "markdown",
   "metadata": {},
   "source": [
    "OK, we could probably use a list comprehension, to apply the match property on the match function, but better to just make our own short function"
   ]
  },
  {
   "cell_type": "code",
   "execution_count": 43,
   "metadata": {},
   "outputs": [
    {
     "data": {
      "text/plain": [
       "1760-element Array{SubString{String},1}:\n",
       " \"100%\"\n",
       " \"100%\"\n",
       " \"100%\"\n",
       " \"100%\"\n",
       " \"100%\"\n",
       " \"100%\"\n",
       " \"100%\"\n",
       " \"100%\"\n",
       " \"100%\"\n",
       " \"100%\"\n",
       " \"100%\"\n",
       " \"100%\"\n",
       " \"100%\"\n",
       " ⋮\n",
       " \"0%\"\n",
       " \"100%\"\n",
       " \"100%\"\n",
       " \"100%\"\n",
       " \"100%\"\n",
       " \"100%\"\n",
       " \"100%\"\n",
       " \"0%\"\n",
       " \"100%\"\n",
       " \"0%\"\n",
       " \"100%\"\n",
       " \"100%\""
      ]
     },
     "execution_count": 43,
     "metadata": {},
     "output_type": "execute_result"
    }
   ],
   "source": [
    "function getrx(txt)\n",
    "    match(r\"^[0-9]{1,3}\\%\", txt).match\n",
    "end\n",
    "\n",
    "df.anotherthing = getrx.(df[!, :LifetimeApprovalRate])"
   ]
  },
  {
   "cell_type": "code",
   "execution_count": 44,
   "metadata": {},
   "outputs": [
    {
     "data": {
      "text/plain": [
       "3-element Array{SubString{String},1}:\n",
       " \"100%\"\n",
       " \"100%\"\n",
       " \"100%\""
      ]
     },
     "execution_count": 44,
     "metadata": {},
     "output_type": "execute_result"
    }
   ],
   "source": [
    "df.anotherthing[1:3]"
   ]
  },
  {
   "cell_type": "markdown",
   "metadata": {},
   "source": [
    "Really wanted to use `first` or `head`, but apparantly that doesn't work on singe columns. Luckily, I totally forgot that a column is an array and I could just have subsetted it like normal humans.\n",
    "\n",
    "At least you didn't have to sit and watch me. Let's just say I deleted some cells.\n",
    "\n",
    "So OK we have created a new variable that's not just something trivial like `a+1` or something. Let's try the aggregation again."
   ]
  },
  {
   "cell_type": "code",
   "execution_count": 57,
   "metadata": {},
   "outputs": [
    {
     "data": {
      "text/html": [
       "<table class=\"data-frame\"><thead><tr><th></th><th>anotherthing</th><th>WorkTimeInSeconds_mean</th><th>LifetimeApprovalRate_length</th></tr><tr><th></th><th>SubStri…</th><th>Float64</th><th>Int64</th></tr></thead><tbody><p>2 rows × 3 columns</p><tr><th>1</th><td>100%</td><td>26.5624</td><td>1259</td></tr><tr><th>2</th><td>0%</td><td>33.7305</td><td>501</td></tr></tbody></table>"
      ],
      "text/latex": [
       "\\begin{tabular}{r|ccc}\n",
       "\t& anotherthing & WorkTimeInSeconds\\_mean & LifetimeApprovalRate\\_length\\\\\n",
       "\t\\hline\n",
       "\t& SubStri… & Float64 & Int64\\\\\n",
       "\t\\hline\n",
       "\t1 & 100\\% & 26.5624 & 1259 \\\\\n",
       "\t2 & 0\\% & 33.7305 & 501 \\\\\n",
       "\\end{tabular}\n"
      ],
      "text/plain": [
       "2×3 DataFrame\n",
       "│ Row │ anotherthing │ WorkTimeInSeconds_mean │ LifetimeApprovalRate_length │\n",
       "│     │ \u001b[90mSubString…\u001b[39m   │ \u001b[90mFloat64\u001b[39m                │ \u001b[90mInt64\u001b[39m                       │\n",
       "├─────┼──────────────┼────────────────────────┼─────────────────────────────┤\n",
       "│ 1   │ 100%         │ 26.5624                │ 1259                        │\n",
       "│ 2   │ 0%           │ 33.7305                │ 501                         │"
      ]
     },
     "execution_count": 57,
     "metadata": {},
     "output_type": "execute_result"
    }
   ],
   "source": [
    "df2 = @pipe df |>\n",
    "    groupby(_, :anotherthing) |>\n",
    "    combine(_, :WorkTimeInSeconds => mean, :LifetimeApprovalRate => length)"
   ]
  },
  {
   "cell_type": "markdown",
   "metadata": {},
   "source": [
    "Lastly, we want to write the data out again. And because we are civilized people we desperately don't want to stoop to the level of writing CSVs. Julia has a HDF5 library, and HDF5 is the best file format you haven't heard about."
   ]
  },
  {
   "cell_type": "code",
   "execution_count": 47,
   "metadata": {},
   "outputs": [],
   "source": [
    "using Pkg"
   ]
  },
  {
   "cell_type": "code",
   "execution_count": 48,
   "metadata": {},
   "outputs": [
    {
     "name": "stderr",
     "output_type": "stream",
     "text": [
      "\u001b[32m\u001b[1m   Updating\u001b[22m\u001b[39m registry at `/opt/julia/registries/General`\n"
     ]
    },
    {
     "name": "stdout",
     "output_type": "stream",
     "text": [
      "\u001b[?25l    "
     ]
    },
    {
     "name": "stderr",
     "output_type": "stream",
     "text": [
      "\u001b[32m\u001b[1m   Updating\u001b[22m\u001b[39m git-repo `https://github.com/JuliaRegistries/General.git`\n"
     ]
    },
    {
     "name": "stdout",
     "output_type": "stream",
     "text": [
      "\u001b[36m\u001b[1mFetching:\u001b[22m\u001b[39m [>                                        ]  0.0 %\r",
      "    \u001b[36m\u001b[1mFetching:\u001b[22m\u001b[39m [====>                                    ]  10.0 %\r",
      "    \u001b[36m\u001b[1mFetching:\u001b[22m\u001b[39m [========>                                ]  20.0 %\r",
      "    \u001b[36m\u001b[1mFetching:\u001b[22m\u001b[39m [============>                            ]  30.0 %\r",
      "    \u001b[36m\u001b[1mFetching:\u001b[22m\u001b[39m [================>                        ]  40.0 %\r",
      "    \u001b[36m\u001b[1mFetching:\u001b[22m\u001b[39m [====================>                    ]  50.0 %\r",
      "    \u001b[36m\u001b[1mFetching:\u001b[22m\u001b[39m [========================>                ]  60.0 %\r",
      "    \u001b[36m\u001b[1mFetching:\u001b[22m\u001b[39m [============================>            ]  70.0 %\r",
      "    \u001b[36m\u001b[1mFetching:\u001b[22m\u001b[39m [================================>        ]  80.0 %\r",
      "    \u001b[36m\u001b[1mFetching:\u001b[22m\u001b[39m [====================================>    ]  90.0 %\r",
      "    \u001b[36m\u001b[1mFetching:\u001b[22m\u001b[39m [========================================>]  100.0 %\r",
      "\u001b[2K\u001b[?25h"
     ]
    },
    {
     "name": "stderr",
     "output_type": "stream",
     "text": [
      "\u001b[32m\u001b[1m  Resolving\u001b[22m\u001b[39m package versions...\n",
      "\u001b[32m\u001b[1m   Updating\u001b[22m\u001b[39m `/opt/julia/environments/v1.4/Project.toml`\n",
      "\u001b[90m [no changes]\u001b[39m\n",
      "\u001b[32m\u001b[1m   Updating\u001b[22m\u001b[39m `/opt/julia/environments/v1.4/Manifest.toml`\n",
      "\u001b[90m [no changes]\u001b[39m\n"
     ]
    }
   ],
   "source": [
    "Pkg.add(\"HDF5\")"
   ]
  },
  {
   "cell_type": "code",
   "execution_count": 62,
   "metadata": {},
   "outputs": [],
   "source": [
    "using HDF5"
   ]
  },
  {
   "cell_type": "code",
   "execution_count": 68,
   "metadata": {},
   "outputs": [
    {
     "ename": "MethodError",
     "evalue": "MethodError: no method matching write(::HDF5File, ::String, ::DataFrame)\nClosest candidates are:\n  write(::Union{HDF5File, HDF5Group}, ::String, ::Any, !Matched::String, !Matched::Any, !Matched::Any...) at /opt/julia/packages/HDF5/ECBXn/src/HDF5.jl:1649\n  write(!Matched::AbstractString, ::Any, ::Any...) at io.jl:367\n  write(!Matched::IO, ::Any, ::Any...) at io.jl:584\n  ...",
     "output_type": "error",
     "traceback": [
      "MethodError: no method matching write(::HDF5File, ::String, ::DataFrame)\nClosest candidates are:\n  write(::Union{HDF5File, HDF5Group}, ::String, ::Any, !Matched::String, !Matched::Any, !Matched::Any...) at /opt/julia/packages/HDF5/ECBXn/src/HDF5.jl:1649\n  write(!Matched::AbstractString, ::Any, ::Any...) at io.jl:367\n  write(!Matched::IO, ::Any, ::Any...) at io.jl:584\n  ...",
      "",
      "Stacktrace:",
      " [1] h5write(::String, ::String, ::DataFrame) at /opt/julia/packages/HDF5/ECBXn/src/HDF5.jl:718",
      " [2] top-level scope at In[68]:1"
     ]
    }
   ],
   "source": [
    "HDF5::h5write(\"./summary.h5\", \"data\", df2)\n",
    "\n",
    "#h5open(\"summary.h5\", \"w\") do file\n",
    "#    write(file, \"data\", df2)\n",
    "#end"
   ]
  },
  {
   "cell_type": "markdown",
   "metadata": {},
   "source": [
    "This is priceless. MethodError and stacktrace all pretty much screaming out loud that nah, this is not working. But I'm finding a summary.h5 file, with a size greater than zero. Let's check."
   ]
  },
  {
   "cell_type": "code",
   "execution_count": 71,
   "metadata": {},
   "outputs": [
    {
     "name": "stderr",
     "output_type": "stream",
     "text": [
      "HDF5-DIAG: Error detected in HDF5 (1.10.4) thread 0:\n",
      "  #000: H5O.c line 120 in H5Oopen(): unable to open object\n",
      "    major: Object header\n",
      "    minor: Can't open object\n",
      "  #001: H5Oint.c line 596 in H5O__open_name(): unable to open object\n",
      "    major: Object header\n",
      "    minor: Can't open object\n",
      "  #002: H5Oint.c line 551 in H5O_open_name(): object not found\n",
      "    major: Object header\n",
      "    minor: Object not found\n",
      "  #003: H5Gloc.c line 422 in H5G_loc_find(): can't find object\n",
      "    major: Symbol table\n",
      "    minor: Object not found\n",
      "  #004: H5Gtraverse.c line 851 in H5G_traverse(): internal path traversal failed\n",
      "    major: Symbol table\n",
      "    minor: Object not found\n",
      "  #005: H5Gtraverse.c line 627 in H5G__traverse_real(): traversal operator failed\n",
      "    major: Symbol table\n",
      "    minor: Callback failed\n",
      "  #006: H5Gloc.c line 378 in H5G__loc_find_cb(): object 'data' doesn't exist\n",
      "    major: Symbol table\n",
      "    minor: Object not found\n"
     ]
    },
    {
     "ename": "ErrorException",
     "evalue": "Error opening object //data",
     "output_type": "error",
     "traceback": [
      "Error opening object //data",
      "",
      "Stacktrace:",
      " [1] error(::String, ::String, ::String, ::String) at ./error.jl:42",
      " [2] h5o_open at /opt/julia/packages/HDF5/ECBXn/src/HDF5.jl:2304 [inlined]",
      " [3] h5o_open at /opt/julia/packages/HDF5/ECBXn/src/HDF5.jl:2088 [inlined]",
      " [4] o_open(::HDF5File, ::String) at /opt/julia/packages/HDF5/ECBXn/src/HDF5.jl:873",
      " [5] getindex at /opt/julia/packages/HDF5/ECBXn/src/HDF5.jl:884 [inlined]",
      " [6] h5read(::String, ::String) at /opt/julia/packages/HDF5/ECBXn/src/HDF5.jl:728",
      " [7] top-level scope at In[71]:1"
     ]
    }
   ],
   "source": [
    "dfread = h5read(\"summary.h5\", \"data\")"
   ]
  },
  {
   "cell_type": "code",
   "execution_count": 72,
   "metadata": {},
   "outputs": [
    {
     "ename": "UndefVarError",
     "evalue": "UndefVarError: dfread not defined",
     "output_type": "error",
     "traceback": [
      "UndefVarError: dfread not defined",
      "",
      "Stacktrace:",
      " [1] top-level scope at In[72]:1"
     ]
    }
   ],
   "source": [
    "first(dfread)"
   ]
  },
  {
   "cell_type": "markdown",
   "metadata": {},
   "source": [
    "Damn it. OK I'm a pragmatist, not messing around with julia anytime soon. We have two candidates left before submitting to the csv-hellhole: feather and parquet.\n",
    "\n",
    "Let's do Parquet first, because Parquet is becoming fairly popular. The Parquet library is named... Parquet."
   ]
  },
  {
   "cell_type": "code",
   "execution_count": 73,
   "metadata": {},
   "outputs": [
    {
     "name": "stderr",
     "output_type": "stream",
     "text": [
      "\u001b[32m\u001b[1m  Resolving\u001b[22m\u001b[39m package versions...\n",
      "\u001b[32m\u001b[1m  Installed\u001b[22m\u001b[39m CodecZlib ─────────────── v0.7.0\n",
      "\u001b[32m\u001b[1m  Installed\u001b[22m\u001b[39m Zstd_jll ──────────────── v1.4.5+1\n",
      "\u001b[32m\u001b[1m  Installed\u001b[22m\u001b[39m MemPool ───────────────── v0.2.0\n",
      "\u001b[32m\u001b[1m  Installed\u001b[22m\u001b[39m LittleEndianBase128 ───── v0.3.0\n",
      "\u001b[32m\u001b[1m  Installed\u001b[22m\u001b[39m CodecZstd ─────────────── v0.7.0\n",
      "\u001b[32m\u001b[1m  Installed\u001b[22m\u001b[39m Snappy ────────────────── v0.3.0\n",
      "\u001b[32m\u001b[1m  Installed\u001b[22m\u001b[39m Parquet ───────────────── v0.6.1\n",
      "\u001b[32m\u001b[1m  Installed\u001b[22m\u001b[39m TranscodingStreams ────── v0.9.5\n",
      "\u001b[32m\u001b[1m  Installed\u001b[22m\u001b[39m ThriftJuliaCompiler_jll ─ v0.11.0+0\n",
      "\u001b[32m\u001b[1m  Installed\u001b[22m\u001b[39m Thrift ────────────────── v0.7.0\n",
      "######################################################################### 100.0%##O#- #                                                                        \n",
      "######################################################################### 100.0%##O=#  #                                                                       \n",
      "\u001b[32m\u001b[1m   Updating\u001b[22m\u001b[39m `/opt/julia/environments/v1.4/Project.toml`\n",
      " \u001b[90m [626c502c]\u001b[39m\u001b[92m + Parquet v0.6.1\u001b[39m\n",
      "\u001b[32m\u001b[1m   Updating\u001b[22m\u001b[39m `/opt/julia/environments/v1.4/Manifest.toml`\n",
      " \u001b[90m [944b1d66]\u001b[39m\u001b[92m + CodecZlib v0.7.0\u001b[39m\n",
      " \u001b[90m [6b39b394]\u001b[39m\u001b[92m + CodecZstd v0.7.0\u001b[39m\n",
      " \u001b[90m [1724a1d5]\u001b[39m\u001b[92m + LittleEndianBase128 v0.3.0\u001b[39m\n",
      " \u001b[90m [f9f48841]\u001b[39m\u001b[92m + MemPool v0.2.0\u001b[39m\n",
      " \u001b[90m [626c502c]\u001b[39m\u001b[92m + Parquet v0.6.1\u001b[39m\n",
      " \u001b[90m [59d4ed8c]\u001b[39m\u001b[92m + Snappy v0.3.0\u001b[39m\n",
      " \u001b[90m [8d9c9c80]\u001b[39m\u001b[92m + Thrift v0.7.0\u001b[39m\n",
      " \u001b[90m [815b9798]\u001b[39m\u001b[92m + ThriftJuliaCompiler_jll v0.11.0+0\u001b[39m\n",
      " \u001b[90m [3bb67fe8]\u001b[39m\u001b[92m + TranscodingStreams v0.9.5\u001b[39m\n",
      " \u001b[90m [3161d3a3]\u001b[39m\u001b[92m + Zstd_jll v1.4.5+1\u001b[39m\n",
      "\u001b[32m\u001b[1m   Building\u001b[22m\u001b[39m Snappy → `/opt/julia/packages/Snappy/O2CHr/deps/build.log`\n"
     ]
    }
   ],
   "source": [
    "Pkg.add(\"Parquet\")"
   ]
  },
  {
   "cell_type": "code",
   "execution_count": 74,
   "metadata": {},
   "outputs": [
    {
     "name": "stderr",
     "output_type": "stream",
     "text": [
      "┌ Info: Precompiling Parquet [626c502c-15b0-58ad-a749-f091afb673ae]\n",
      "└ @ Base loading.jl:1260\n"
     ]
    }
   ],
   "source": [
    "using Parquet"
   ]
  },
  {
   "cell_type": "code",
   "execution_count": 75,
   "metadata": {},
   "outputs": [
    {
     "ename": "String",
     "evalue": "\"Column whose `eltype` is SubString{String} is not supported at this stage. \\n\"",
     "output_type": "error",
     "traceback": [
      "\"Column whose `eltype` is SubString{String} is not supported at this stage. \\n\"",
      "",
      "Stacktrace:",
      " [1] write_parquet(::String, ::DataFrame; compression_codec::String) at /opt/julia/packages/Parquet/2HfNB/src/writer.jl:479",
      " [2] write_parquet(::String, ::DataFrame) at /opt/julia/packages/Parquet/2HfNB/src/writer.jl:464",
      " [3] top-level scope at In[75]:1"
     ]
    }
   ],
   "source": [
    "write_parquet(\"summary.parquet\", df2)"
   ]
  },
  {
   "cell_type": "markdown",
   "metadata": {},
   "source": [
    "Ah OK cool, this is not really surprising when I think about it, the first column is still that weird substring datatype and naturally parquet is not participating in the weirdness. Let's try to coerce it."
   ]
  },
  {
   "cell_type": "code",
   "execution_count": 78,
   "metadata": {},
   "outputs": [
    {
     "data": {
      "text/plain": [
       "2-element Array{String,1}:\n",
       " \"[\\\"SubString{String}[\\\\\\\"100%\\\\\\\", \\\\\\\"0%\\\\\\\"]\\\", \\\"SubString{String}[\\\\\\\"100%\\\\\\\", \\\\\\\"0%\\\\\\\"]\\\"]\"\n",
       " \"[\\\"SubString{String}[\\\\\\\"100%\\\\\\\", \\\\\\\"0%\\\\\\\"]\\\", \\\"SubString{String}[\\\\\\\"100%\\\\\\\", \\\\\\\"0%\\\\\\\"]\\\"]\""
      ]
     },
     "execution_count": 78,
     "metadata": {},
     "output_type": "execute_result"
    }
   ],
   "source": [
    "df2.anotherthing .= string(df2.anotherthing)"
   ]
  },
  {
   "cell_type": "markdown",
   "metadata": {},
   "source": [
    "Ah, now I've done it, totally ruined the column. OK on the one hand I really want to fix it, on the other hand I really don't care because what I wanted to do was to write this file. Let's do the last first, and maybe do a little substring type-exploration later."
   ]
  },
  {
   "cell_type": "code",
   "execution_count": 93,
   "metadata": {},
   "outputs": [],
   "source": [
    "write_parquet(\"summary.parquet\", df2)"
   ]
  },
  {
   "cell_type": "markdown",
   "metadata": {},
   "source": [
    "OK, so far so good. Manual inspections says the file is there as well. Let's try to read it again."
   ]
  },
  {
   "cell_type": "code",
   "execution_count": 94,
   "metadata": {},
   "outputs": [
    {
     "data": {
      "text/plain": [
       "Parquet file: summary.parquet\n",
       "    version: 1\n",
       "    nrows: 2\n",
       "    created by: Parquet.jl 0.6.0\n",
       "    cached: 0 column chunks\n"
      ]
     },
     "execution_count": 94,
     "metadata": {},
     "output_type": "execute_result"
    }
   ],
   "source": [
    "summary_parquet = ParFile(\"summary.parquet\")"
   ]
  },
  {
   "cell_type": "code",
   "execution_count": 95,
   "metadata": {},
   "outputs": [
    {
     "ename": "MethodError",
     "evalue": "MethodError: no method matching iterate(::ParFile)\nClosest candidates are:\n  iterate(!Matched::Core.SimpleVector) at essentials.jl:603\n  iterate(!Matched::Core.SimpleVector, !Matched::Any) at essentials.jl:603\n  iterate(!Matched::ExponentialBackOff) at error.jl:253\n  ...",
     "output_type": "error",
     "traceback": [
      "MethodError: no method matching iterate(::ParFile)\nClosest candidates are:\n  iterate(!Matched::Core.SimpleVector) at essentials.jl:603\n  iterate(!Matched::Core.SimpleVector, !Matched::Any) at essentials.jl:603\n  iterate(!Matched::ExponentialBackOff) at error.jl:253\n  ...",
      "",
      "Stacktrace:",
      " [1] first(::ParFile) at ./abstractarray.jl:341",
      " [2] top-level scope at In[95]:1"
     ]
    }
   ],
   "source": [
    "first(summary_parquet)"
   ]
  },
  {
   "cell_type": "code",
   "execution_count": 96,
   "metadata": {},
   "outputs": [
    {
     "ename": "ArgumentError",
     "evalue": "ArgumentError: no default `Tables.columns` implementation for type: ParFile",
     "output_type": "error",
     "traceback": [
      "ArgumentError: no default `Tables.columns` implementation for type: ParFile",
      "",
      "Stacktrace:",
      " [1] columns at /opt/julia/packages/Tables/Eti9i/src/fallbacks.jl:239 [inlined]",
      " [2] DataFrame(::ParFile; copycols::Bool) at /opt/julia/packages/DataFrames/cdZCk/src/other/tables.jl:43",
      " [3] DataFrame(::ParFile) at /opt/julia/packages/DataFrames/cdZCk/src/other/tables.jl:34",
      " [4] |>(::ParFile, ::Type{T} where T) at ./operators.jl:823",
      " [5] top-level scope at In[96]:1"
     ]
    }
   ],
   "source": [
    "summary_parquet |> DataFrame"
   ]
  },
  {
   "cell_type": "markdown",
   "metadata": {},
   "source": [
    "OK so this becomes something other than a dataframe. I'm sure it's possible to beat it into submission, but I seriously don't have the patience for that. Let's try feather instead. There is a Feather library it seems, it looks a lot younger, but the little documentation I found does suggest it hasn't tried to create its own dataframe format. In other words, possibly less nihilistic."
   ]
  },
  {
   "cell_type": "code",
   "execution_count": 97,
   "metadata": {},
   "outputs": [
    {
     "name": "stderr",
     "output_type": "stream",
     "text": [
      "\u001b[32m\u001b[1m  Resolving\u001b[22m\u001b[39m package versions...\n",
      "\u001b[32m\u001b[1m  Installed\u001b[22m\u001b[39m Arrow ─────── v0.2.4\n",
      "\u001b[32m\u001b[1m  Installed\u001b[22m\u001b[39m FlatBuffers ─ v0.5.4\n",
      "\u001b[32m\u001b[1m  Installed\u001b[22m\u001b[39m Feather ───── v0.5.6\n",
      "\u001b[32m\u001b[1m   Updating\u001b[22m\u001b[39m `/opt/julia/environments/v1.4/Project.toml`\n",
      " \u001b[90m [becb17da]\u001b[39m\u001b[92m + Feather v0.5.6\u001b[39m\n",
      "\u001b[32m\u001b[1m   Updating\u001b[22m\u001b[39m `/opt/julia/environments/v1.4/Manifest.toml`\n",
      " \u001b[90m [69666777]\u001b[39m\u001b[92m + Arrow v0.2.4\u001b[39m\n",
      " \u001b[90m [becb17da]\u001b[39m\u001b[92m + Feather v0.5.6\u001b[39m\n",
      " \u001b[90m [53afe959]\u001b[39m\u001b[92m + FlatBuffers v0.5.4\u001b[39m\n"
     ]
    }
   ],
   "source": [
    "Pkg.add(\"Feather\")"
   ]
  },
  {
   "cell_type": "code",
   "execution_count": 98,
   "metadata": {},
   "outputs": [
    {
     "name": "stderr",
     "output_type": "stream",
     "text": [
      "┌ Info: Precompiling Feather [becb17da-46f6-5d3c-ad1b-1c5fe96bc73c]\n",
      "└ @ Base loading.jl:1260\n"
     ]
    }
   ],
   "source": [
    "using Feather"
   ]
  },
  {
   "cell_type": "code",
   "execution_count": 99,
   "metadata": {},
   "outputs": [
    {
     "data": {
      "text/plain": [
       "\"summary.feather\""
      ]
     },
     "execution_count": 99,
     "metadata": {},
     "output_type": "execute_result"
    }
   ],
   "source": [
    "Feather.write(\"summary.feather\", df2)"
   ]
  },
  {
   "cell_type": "code",
   "execution_count": 100,
   "metadata": {},
   "outputs": [
    {
     "data": {
      "text/html": [
       "<table class=\"data-frame\"><thead><tr><th></th><th>anotherthing</th></tr><tr><th></th><th>String</th></tr></thead><tbody><p>2 rows × 3 columns (omitted printing of 2 columns)</p><tr><th>1</th><td>[\"SubString{String}[\\\\\"100%\\\\\", \\\\\"0%\\\\\"]\", \"SubString{String}[\\\\\"100%\\\\\", \\\\\"0%\\\\\"]\"]</td></tr><tr><th>2</th><td>[\"SubString{String}[\\\\\"100%\\\\\", \\\\\"0%\\\\\"]\", \"SubString{String}[\\\\\"100%\\\\\", \\\\\"0%\\\\\"]\"]</td></tr></tbody></table>"
      ],
      "text/latex": [
       "\\begin{tabular}{r|cc}\n",
       "\t& anotherthing & \\\\\n",
       "\t\\hline\n",
       "\t& String & \\\\\n",
       "\t\\hline\n",
       "\t1 & [\"SubString\\{String\\}[\\textbackslash{}\\textbackslash{}\"100\\%\\textbackslash{}\\textbackslash{}\", \\textbackslash{}\\textbackslash{}\"0\\%\\textbackslash{}\\textbackslash{}\"]\", \"SubString\\{String\\}[\\textbackslash{}\\textbackslash{}\"100\\%\\textbackslash{}\\textbackslash{}\", \\textbackslash{}\\textbackslash{}\"0\\%\\textbackslash{}\\textbackslash{}\"]\"] & $\\dots$ \\\\\n",
       "\t2 & [\"SubString\\{String\\}[\\textbackslash{}\\textbackslash{}\"100\\%\\textbackslash{}\\textbackslash{}\", \\textbackslash{}\\textbackslash{}\"0\\%\\textbackslash{}\\textbackslash{}\"]\", \"SubString\\{String\\}[\\textbackslash{}\\textbackslash{}\"100\\%\\textbackslash{}\\textbackslash{}\", \\textbackslash{}\\textbackslash{}\"0\\%\\textbackslash{}\\textbackslash{}\"]\"] & $\\dots$ \\\\\n",
       "\\end{tabular}\n"
      ],
      "text/plain": [
       "2×3 DataFrame. Omitted printing of 3 columns\n",
       "│ Row │ │     │ ├─────┼\n",
       "│ 1   │ │ 2   │ "
      ]
     },
     "execution_count": 100,
     "metadata": {},
     "output_type": "execute_result"
    }
   ],
   "source": [
    "summary_feather = Feather.read(\"summary.feather\")"
   ]
  },
  {
   "cell_type": "code",
   "execution_count": 101,
   "metadata": {},
   "outputs": [
    {
     "data": {
      "text/html": [
       "<p>DataFrameRow (3 columns)</p><table class=\"data-frame\"><thead><tr><th></th><th>anotherthing</th></tr><tr><th></th><th>String</th></tr></thead><tbody><tr><th>1</th><td>[\"SubString{String}[\\\\\"100%\\\\\", \\\\\"0%\\\\\"]\", \"SubString{String}[\\\\\"100%\\\\\", \\\\\"0%\\\\\"]\"]</td></tr></tbody></table>"
      ],
      "text/latex": [
       "\\begin{tabular}{r|cc}\n",
       "\t& anotherthing & \\\\\n",
       "\t\\hline\n",
       "\t& String & \\\\\n",
       "\t\\hline\n",
       "\t1 & [\"SubString\\{String\\}[\\textbackslash{}\\textbackslash{}\"100\\%\\textbackslash{}\\textbackslash{}\", \\textbackslash{}\\textbackslash{}\"0\\%\\textbackslash{}\\textbackslash{}\"]\", \"SubString\\{String\\}[\\textbackslash{}\\textbackslash{}\"100\\%\\textbackslash{}\\textbackslash{}\", \\textbackslash{}\\textbackslash{}\"0\\%\\textbackslash{}\\textbackslash{}\"]\"] & $\\dots$ \\\\\n",
       "\\end{tabular}\n"
      ],
      "text/plain": [
       "DataFrameRow. Omitted printing of 3 columns\n",
       "│ Row │ │     │ ├─────┼\n",
       "│ 1   │ "
      ]
     },
     "execution_count": 101,
     "metadata": {},
     "output_type": "execute_result"
    }
   ],
   "source": [
    "first(summary_feather)"
   ]
  },
  {
   "cell_type": "code",
   "execution_count": 102,
   "metadata": {},
   "outputs": [
    {
     "data": {
      "text/plain": [
       "3-element Array{String,1}:\n",
       " \"anotherthing\"\n",
       " \"WorkTimeInSeconds_mean\"\n",
       " \"LifetimeApprovalRate_length\""
      ]
     },
     "execution_count": 102,
     "metadata": {},
     "output_type": "execute_result"
    }
   ],
   "source": [
    "names(summary_feather)"
   ]
  },
  {
   "cell_type": "code",
   "execution_count": 104,
   "metadata": {},
   "outputs": [
    {
     "data": {
      "text/plain": [
       "2-element Arrow.Primitive{Float64}:\n",
       " 26.562351072279586\n",
       " 33.73053892215569"
      ]
     },
     "execution_count": 104,
     "metadata": {},
     "output_type": "execute_result"
    }
   ],
   "source": [
    "summary_feather.WorkTimeInSeconds_mean"
   ]
  },
  {
   "cell_type": "markdown",
   "metadata": {},
   "source": [
    "OK, it looks like we found a winner."
   ]
  },
  {
   "cell_type": "markdown",
   "metadata": {},
   "source": [
    "**As promised, a small foray into the weird substring datatype**"
   ]
  },
  {
   "cell_type": "code",
   "execution_count": 81,
   "metadata": {},
   "outputs": [
    {
     "data": {
      "text/plain": [
       "3-element Array{SubString{String},1}:\n",
       " \"100%\"\n",
       " \"100%\"\n",
       " \"100%\""
      ]
     },
     "execution_count": 81,
     "metadata": {},
     "output_type": "execute_result"
    }
   ],
   "source": [
    "sbst = df.anotherthing[1:3]"
   ]
  },
  {
   "cell_type": "code",
   "execution_count": 84,
   "metadata": {},
   "outputs": [
    {
     "data": {
      "text/plain": [
       "SubString{String}"
      ]
     },
     "execution_count": 84,
     "metadata": {},
     "output_type": "execute_result"
    }
   ],
   "source": [
    "typeof(sbst[1])"
   ]
  },
  {
   "cell_type": "code",
   "execution_count": 85,
   "metadata": {},
   "outputs": [
    {
     "data": {
      "text/plain": [
       "\"100%\""
      ]
     },
     "execution_count": 85,
     "metadata": {},
     "output_type": "execute_result"
    }
   ],
   "source": [
    "sst = sbst[1]"
   ]
  },
  {
   "cell_type": "code",
   "execution_count": 105,
   "metadata": {},
   "outputs": [
    {
     "data": {
      "text/plain": [
       "\"100% (5/5)\""
      ]
     },
     "execution_count": 105,
     "metadata": {},
     "output_type": "execute_result"
    }
   ],
   "source": [
    "sst.string"
   ]
  },
  {
   "cell_type": "code",
   "execution_count": 106,
   "metadata": {},
   "outputs": [
    {
     "data": {
      "text/plain": [
       "0"
      ]
     },
     "execution_count": 106,
     "metadata": {},
     "output_type": "execute_result"
    }
   ],
   "source": [
    "sst.offset"
   ]
  },
  {
   "cell_type": "code",
   "execution_count": 107,
   "metadata": {},
   "outputs": [
    {
     "data": {
      "text/plain": [
       "4"
      ]
     },
     "execution_count": 107,
     "metadata": {},
     "output_type": "execute_result"
    }
   ],
   "source": [
    "sst.ncodeunits"
   ]
  },
  {
   "cell_type": "markdown",
   "metadata": {},
   "source": [
    "This is really weird, there only 3 methods that I can find and no \"just get the damn text\" method, but it is happy to return the entire string (not the subsstring) and some offsets even 0-indexed so when doing substring stuff I have to add 1. Still when printing this shit, it gives me the actual, real value. There has to be a better way, but..."
   ]
  },
  {
   "cell_type": "code",
   "execution_count": 108,
   "metadata": {},
   "outputs": [
    {
     "data": {
      "text/plain": [
       "\"100%\""
      ]
     },
     "execution_count": 108,
     "metadata": {},
     "output_type": "execute_result"
    }
   ],
   "source": [
    "sst.string[sst.offset+1:sst.ncodeunits]"
   ]
  },
  {
   "cell_type": "markdown",
   "metadata": {},
   "source": [
    "OK, We're going to stop there for now, let's take a look at visualizations next. At the end, maybe we can even combine dataframes and visualizations, so that we are visualizing data we read from a CSV file. Or some other type of file."
   ]
  },
  {
   "cell_type": "code",
   "execution_count": null,
   "metadata": {},
   "outputs": [],
   "source": []
  }
 ],
 "metadata": {
  "kernelspec": {
   "display_name": "Julia 1.4.1",
   "language": "julia",
   "name": "julia-1.4"
  },
  "language_info": {
   "file_extension": ".jl",
   "mimetype": "application/julia",
   "name": "julia",
   "version": "1.4.1"
  }
 },
 "nbformat": 4,
 "nbformat_minor": 4
}
